{
 "cells": [
  {
   "cell_type": "markdown",
   "id": "d979bc43-2f49-45dc-8680-ddecfc753b4c",
   "metadata": {},
   "source": [
    "1. Write a Python function that takes a list of numbers as input and returns the sum of all even numbers in \n",
    "the list."
   ]
  },
  {
   "cell_type": "code",
   "execution_count": 10,
   "id": "16774f65-3c02-4acb-9931-d250b36a329f",
   "metadata": {},
   "outputs": [
    {
     "name": "stdout",
     "output_type": "stream",
     "text": [
      "20\n"
     ]
    }
   ],
   "source": [
    "num=[1,2,3,4,5,6,7,8,9]\n",
    "add=sum(i for i in num if i%2==0)\n",
    "print(add)"
   ]
  },
  {
   "cell_type": "markdown",
   "id": "8e3a3099-80c7-4a8f-a928-05bb62f13998",
   "metadata": {},
   "source": [
    "2. Create a Python function that accepts a string and returns the reverse of that string"
   ]
  },
  {
   "cell_type": "code",
   "execution_count": 12,
   "id": "a5575681-faa4-4d65-8edd-322751d64722",
   "metadata": {},
   "outputs": [
    {
     "name": "stdout",
     "output_type": "stream",
     "text": [
      "!!!olleh\n"
     ]
    }
   ],
   "source": [
    "text='hello!!!'\n",
    "re=text[::-1]\n",
    "print(re)"
   ]
  },
  {
   "cell_type": "markdown",
   "id": "cd2d0781-23ba-48e8-8715-cf74baac90fb",
   "metadata": {},
   "source": [
    "3. Implement a Python function that takes a list of integers and returns a new list containing the squares of \n",
    "each number."
   ]
  },
  {
   "cell_type": "code",
   "execution_count": 16,
   "id": "44c1cb1c-90e5-48d6-b744-651ec5b556b7",
   "metadata": {},
   "outputs": [
    {
     "name": "stdout",
     "output_type": "stream",
     "text": [
      "[1, 4, 9, 16]\n"
     ]
    }
   ],
   "source": [
    "num=[1,2,3,4]\n",
    "squared=list(map(lambda x:x**2,num))\n",
    "print(squared)"
   ]
  },
  {
   "cell_type": "markdown",
   "id": "75d75b34-94bc-45f5-b0dc-26c4e8675d70",
   "metadata": {},
   "source": [
    "4. Write a Python function that checks if a given number is prime or not from 1 to 200."
   ]
  },
  {
   "cell_type": "code",
   "execution_count": 24,
   "id": "7f39be75-1880-4e02-9e63-daaf8aa30a8b",
   "metadata": {},
   "outputs": [],
   "source": [
    "import numpy as np"
   ]
  },
  {
   "cell_type": "code",
   "execution_count": 35,
   "id": "fc3f183b-87ed-4955-90e2-3b99f21d08f6",
   "metadata": {},
   "outputs": [],
   "source": [
    "def prime(n):\n",
    "    for i in range(2,int(n**0.5)+1):\n",
    "        if n%i==0:\n",
    "            return False\n",
    "    return True"
   ]
  },
  {
   "cell_type": "code",
   "execution_count": 36,
   "id": "85c27c85-deed-4ffc-9ad0-6ff636a2673b",
   "metadata": {},
   "outputs": [
    {
     "name": "stdout",
     "output_type": "stream",
     "text": [
      "2\n",
      "3\n",
      "5\n",
      "7\n",
      "11\n",
      "13\n",
      "17\n",
      "19\n",
      "23\n",
      "29\n",
      "31\n",
      "37\n",
      "41\n",
      "43\n",
      "47\n",
      "53\n",
      "59\n",
      "61\n",
      "67\n",
      "71\n",
      "73\n",
      "79\n",
      "83\n",
      "89\n",
      "97\n",
      "101\n",
      "103\n",
      "107\n",
      "109\n",
      "113\n",
      "127\n",
      "131\n",
      "137\n",
      "139\n",
      "149\n",
      "151\n",
      "157\n",
      "163\n",
      "167\n",
      "173\n",
      "179\n",
      "181\n",
      "191\n",
      "193\n",
      "197\n",
      "199\n"
     ]
    }
   ],
   "source": [
    "for i in range(2,201):\n",
    "    if prime(i):\n",
    "        print(i)"
   ]
  },
  {
   "cell_type": "markdown",
   "id": "1ac8a463-e6b1-416f-826a-8572b5664c17",
   "metadata": {},
   "source": [
    "5. Create an iterator class in Python that generates the Fibonacci sequence up to a specified number of \n",
    "terms."
   ]
  },
  {
   "cell_type": "code",
   "execution_count": 38,
   "id": "e8f271fb-1467-493a-8624-c8aade7a0bdd",
   "metadata": {},
   "outputs": [
    {
     "name": "stdout",
     "output_type": "stream",
     "text": [
      "0 1 1 2 3 5 8 13 21 34 "
     ]
    }
   ],
   "source": [
    "class Fibona:\n",
    "    def __init__(self, num):\n",
    "        self.num = num  \n",
    "        self.current = 0 \n",
    "        self.next = 1  \n",
    "        self.count = 0  \n",
    "\n",
    "    def __iter__(self):\n",
    "        return self \n",
    "\n",
    "    def __next__(self):\n",
    "        if self.count >= self.num:  \n",
    "            raise StopIteration\n",
    "        \n",
    "        result = self.current  \n",
    "        self.current, self.next = self.next, self.current + self.next  \n",
    "        self.count += 1\n",
    "        return result  \n",
    "\n",
    "\n",
    "for fib in Fibona(10): \n",
    "    print(fib, end=\" \")"
   ]
  },
  {
   "cell_type": "markdown",
   "id": "427931e1-b2b0-4ace-a8b0-d819bc130516",
   "metadata": {},
   "source": [
    "6. Write a generator function in Python that yields the powers of 2 up to a given exponent."
   ]
  },
  {
   "cell_type": "code",
   "execution_count": 53,
   "id": "d0ad2b4f-ac7f-4170-8d8e-46c65ef36cdc",
   "metadata": {},
   "outputs": [
    {
     "name": "stdout",
     "output_type": "stream",
     "text": [
      "1\n",
      "2\n",
      "4\n",
      "8\n",
      "16\n",
      "32\n"
     ]
    }
   ],
   "source": [
    "def power(n):\n",
    "    for i in range(n+1):\n",
    "        yield 2**i\n",
    "for i in power(5):\n",
    "    print(i)"
   ]
  },
  {
   "cell_type": "markdown",
   "id": "fc9a77e5-c6ff-4196-ad83-d25020e3797d",
   "metadata": {},
   "source": [
    "7. Implement a generator function that reads a file line by line and yields each line as a string."
   ]
  },
  {
   "cell_type": "code",
   "execution_count": 40,
   "id": "3925e5f6-e41f-4abb-b19b-f9ff2c15b757",
   "metadata": {},
   "outputs": [],
   "source": [
    "def reading(file):\n",
    "    with open(file,'r') as txt:\n",
    "        for line in txt:\n",
    "            yield line.strip()"
   ]
  },
  {
   "cell_type": "markdown",
   "id": "46e9c7ba-2814-4626-b95f-7c2315122e74",
   "metadata": {},
   "source": [
    "8. Use a lambda function in Python to sort a list of tuples based on the second element of each tuple."
   ]
  },
  {
   "cell_type": "code",
   "execution_count": 41,
   "id": "d4d28097-8b1b-4825-a752-0ee623bc806b",
   "metadata": {},
   "outputs": [
    {
     "name": "stdout",
     "output_type": "stream",
     "text": [
      "[(3, 2), (1, 5), (2, 6)]\n"
     ]
    }
   ],
   "source": [
    "tuple=[(1,5),(3,2),(2,6)]\n",
    "sort=sorted(tuple,key=lambda x:x[1])\n",
    "print(sort)"
   ]
  },
  {
   "cell_type": "markdown",
   "id": "6120af14-ccf6-45b5-bda9-55ec362fcf4a",
   "metadata": {},
   "source": [
    "9. Write a Python program that uses `map()` to convert a list of temperatures from Celsius to Fahrenheit."
   ]
  },
  {
   "cell_type": "code",
   "execution_count": 1,
   "id": "de046427-085a-4312-9f78-5076c1249ec4",
   "metadata": {},
   "outputs": [
    {
     "name": "stdout",
     "output_type": "stream",
     "text": [
      "[50.0, 68.0, 104.0, 113.0]\n"
     ]
    }
   ],
   "source": [
    "tem=[10,20,40,45]\n",
    "con=list(map(lambda c:(c * 9/5) +32,tem))\n",
    "print(con)"
   ]
  },
  {
   "cell_type": "markdown",
   "id": "2732b5b3-b8a5-412d-a842-8773f68351f9",
   "metadata": {},
   "source": [
    "10. Create a Python program that uses `filter()` to remove all the vowels from a given string"
   ]
  },
  {
   "cell_type": "code",
   "execution_count": 4,
   "id": "76209c82-14e2-4d1e-b2f3-0835be0fefe9",
   "metadata": {},
   "outputs": [
    {
     "name": "stdout",
     "output_type": "stream",
     "text": [
      "my nm s smt\n"
     ]
    }
   ],
   "source": [
    "def filters(t):\n",
    "    vowel='aeiouAEIOU'\n",
    "    final=''.join(filter(lambda x:x not in vowel,t))\n",
    "    return final\n",
    "t='my name is smit'\n",
    "fil=filters(t)\n",
    "print(fil)"
   ]
  },
  {
   "cell_type": "markdown",
   "id": "4b667b4c-925e-41ea-a798-6e8b0a9d310f",
   "metadata": {},
   "source": [
    "11) Imagine an accounting routine used in a book shop. It works on a list with sublists, which look like this:\n",
    "Write a Python program, which returns a list with 2-tuples. Each tuple consists of the order number and the \n",
    "product of the price per item and the quantity. The product should be increased by 10,- € if the value of the \n",
    "order is smaller than 100,00 €.\n",
    "\n",
    "Write a Python program using lambda and map."
   ]
  },
  {
   "cell_type": "code",
   "execution_count": 6,
   "id": "883d9bd2-7dec-4d34-9e19-f3277c84ca44",
   "metadata": {},
   "outputs": [],
   "source": [
    "orders = [\n",
    "    [34587, \"Learning Python, Mark Lutz\", 4, 40.95],\n",
    "    [98762, \"Programming Python, Mark Lutz\", 5, 56.80],\n",
    "    [77226, \"Head First Python, Paul Barry\", 3, 32.95],\n",
    "    [88112, \"Einführung in Python3, Bernd Klein\", 3, 24.99]]"
   ]
  },
  {
   "cell_type": "code",
   "execution_count": 7,
   "id": "ef6becfc-1b91-427b-a5ee-23e626647da0",
   "metadata": {},
   "outputs": [
    {
     "name": "stdout",
     "output_type": "stream",
     "text": [
      "[(34587, 163.8), (98762, 284.0), (77226, 108.85000000000001), (88112, 84.97)]\n"
     ]
    }
   ],
   "source": [
    "tuples=list(map(lambda x:(x[0],x[2]*x[3]+(10 if x[2]*x[3]<100 else 0)),orders))\n",
    "print(tuples)"
   ]
  }
 ],
 "metadata": {
  "kernelspec": {
   "display_name": "Python 3 (ipykernel)",
   "language": "python",
   "name": "python3"
  },
  "language_info": {
   "codemirror_mode": {
    "name": "ipython",
    "version": 3
   },
   "file_extension": ".py",
   "mimetype": "text/x-python",
   "name": "python",
   "nbconvert_exporter": "python",
   "pygments_lexer": "ipython3",
   "version": "3.12.0"
  }
 },
 "nbformat": 4,
 "nbformat_minor": 5
}
