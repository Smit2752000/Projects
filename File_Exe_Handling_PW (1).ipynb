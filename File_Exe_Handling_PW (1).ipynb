{
 "cells": [
  {
   "cell_type": "markdown",
   "id": "489217de-0a1d-4445-be90-692aa293cfa4",
   "metadata": {},
   "source": [
    "\n",
    "Files, exceptional handling, \n",
    "logging and memory \n",
    "management\n"
   ]
  },
  {
   "cell_type": "code",
   "execution_count": null,
   "id": "99b0be31-63e2-4157-a24e-17437fa58b6e",
   "metadata": {},
   "outputs": [],
   "source": [
    "1. What is the difference between interpreted and compiled languages.\n",
    "Ans= Compiled Languages: Translated to machine code before execution (faster).\n",
    "Interpreted Languages: Executed line-by-line at runtime (slower)."
   ]
  },
  {
   "cell_type": "code",
   "execution_count": null,
   "id": "d3d895bf-64c7-468b-8c97-d1dfdfa6e6ee",
   "metadata": {},
   "outputs": [],
   "source": [
    "2.What is exception handling in Python.\n",
    "Ans=Exception handling in Python manages runtime errors gracefully using \n",
    "try, except, else, and finally blocks, preventing crashes and allowing recovery."
   ]
  },
  {
   "cell_type": "code",
   "execution_count": null,
   "id": "cc670911-67af-435d-8743-c1a919e435ff",
   "metadata": {},
   "outputs": [],
   "source": [
    "3. What is the purpose of the finally block in exception handling.\n",
    "Ans=The finally block ensures that code within it always executes, regardless of whether an exception occurs, typically for cleanup tasks."
   ]
  },
  {
   "cell_type": "code",
   "execution_count": null,
   "id": "b48cf375-e04f-4873-9270-d5c7b969ec6e",
   "metadata": {},
   "outputs": [],
   "source": [
    "4. What is logging in Python?\n",
    "Ans=Logging in Python is a way to track events that happen during program execution, using the logging module.\n",
    "It helps record messages of different severity levels (e.g., INFO, WARNING, ERROR) for debugging and monitoring."
   ]
  },
  {
   "cell_type": "code",
   "execution_count": null,
   "id": "9206d90b-b273-4e8c-8cb7-421fbdfd0f62",
   "metadata": {},
   "outputs": [],
   "source": [
    "5. What is the significance of the __del__ method in Python?\n",
    "Ans=The __del__ method in Python is a destructor that is automatically called when an object is about to be destroyed,\n",
    "allowing for cleanup tasks (e.g., closing files or releasing resources)."
   ]
  },
  {
   "cell_type": "code",
   "execution_count": null,
   "id": "61323495-8f10-4e58-bbcd-f69c0f86f652",
   "metadata": {},
   "outputs": [],
   "source": [
    "6. What is the difference between import and from ... import in Python?\n",
    "Ans=import module: Imports the entire module, and you access its functions or variables using the module name (e.g., module.function()).\n",
    "from module import something: Imports specific functions, classes, or variables from a module directly,\n",
    "so you can use them without the module name prefix (e.g., function())."
   ]
  },
  {
   "cell_type": "code",
   "execution_count": null,
   "id": "df07ee82-ed31-42e1-8cc8-fa1b79479778",
   "metadata": {},
   "outputs": [],
   "source": [
    "7. How can you handle multiple exceptions in Python?\n",
    "Ans=we can handle multiple exceptions in Python using multiple except blocks or by specifying multiple exceptions in a single except block."
   ]
  },
  {
   "cell_type": "code",
   "execution_count": null,
   "id": "54ddb240-6ec2-485d-a8e4-be7507b8ff8a",
   "metadata": {},
   "outputs": [],
   "source": [
    "8. What is the purpose of the with statement when handling files in Python?\n",
    "Ans=The with statement automatically manages file opening and closing, ensuring that the file is properly closed even if an error occurs, \n",
    "preventing resource leaks. It's commonly used for file handling."
   ]
  },
  {
   "cell_type": "code",
   "execution_count": null,
   "id": "f480dbdf-4be9-45bd-a0cd-c71450cb39de",
   "metadata": {},
   "outputs": [],
   "source": [
    "9.What is the difference between multithreading and multiprocessing?\n",
    "Ans=Multithreading: Involves running multiple threads within a single process. It shares memory space, \n",
    "making it efficient for I/O-bound tasks but less effective for CPU-bound tasks due to the Global Interpreter Lock (GIL) in Python.\n",
    "\n",
    "Multiprocessing: Involves running multiple processes, each with its own memory space. \n",
    "It is more efficient for CPU-bound tasks as each process runs independently, bypassing the GIL."
   ]
  },
  {
   "cell_type": "code",
   "execution_count": null,
   "id": "41fec75a-6fa8-49fb-8a3c-9518ac90fd2d",
   "metadata": {},
   "outputs": [],
   "source": [
    "10. What are the advantages of using logging in a program?\n",
    "Ans=The advantages of using logging in a program include:\n",
    "\n",
    "Error tracking: Helps identify and track issues and errors in the code.\n",
    "Debugging: Provides insights into program flow and variable values for debugging.\n",
    "Monitoring: Allows ongoing monitoring of program behavior and performance in production.\n",
    "Customization: Offers different logging levels (e.g., DEBUG, INFO, WARNING, ERROR) to filter and manage logs.\n",
    "Persistence: Logs can be saved to files for later analysis, unlike print statements which disappear after execution."
   ]
  },
  {
   "cell_type": "code",
   "execution_count": null,
   "id": "ef58e316-1ba2-4956-b981-6c0b00ea8882",
   "metadata": {},
   "outputs": [],
   "source": [
    "Q-11 What is memory management in Python?\n",
    "Ans=Memory management in Python involves automatically allocating and deallocating memory to ensure efficient use of resources. It includes:  \n",
    "\n",
    "1. Automatic Garbage Collection: Removes unused objects from memory.  \n",
    "2. Dynamic Memory Allocation: Allocates memory for objects when created.  \n",
    "3. Memory Pools: Uses private heaps for object storage, managed by the Python Memory Manager.  \n",
    "\n",
    "This ensures smooth execution without manual intervention."
   ]
  },
  {
   "cell_type": "code",
   "execution_count": null,
   "id": "be893b2a-078d-4fba-ad37-ad9225aa758f",
   "metadata": {},
   "outputs": [],
   "source": [
    "Q-12 What are the basic steps involved in exception handling in Python?\n",
    "Ans=The basic steps in exception handling in Python are:\n",
    "\n",
    "Try Block: Encapsulates code that might raise an exception.\n",
    "Except Block: Catches and handles specific exceptions.\n",
    "Else Block: Executes code if no exceptions occur (optional).\n",
    "Finally Block: Executes cleanup code, regardless of the exception (optional)."
   ]
  },
  {
   "cell_type": "code",
   "execution_count": null,
   "id": "35b8aeff-c860-4dbe-a8a3-7b9e85b0cba8",
   "metadata": {},
   "outputs": [],
   "source": [
    "Q-13 Why is memory management important in Python?\n",
    "Ans=Memory management is important in Python to ensure efficient use of system resources, prevent memory leaks, and maintain application performance.\n",
    "It automates allocation and deallocation, allowing developers to focus on coding without manual memory handling."
   ]
  },
  {
   "cell_type": "code",
   "execution_count": null,
   "id": "ade5547b-ae9d-4615-a4f8-bea334876b43",
   "metadata": {},
   "outputs": [],
   "source": [
    "Q-14 What is the role of try and except in exception handling?\n",
    "Ans=In exception handling:  \n",
    "- try: Contains code that might raise an exception.  \n",
    "- except: Catches and handles the exception if it occurs, preventing program crashes."
   ]
  },
  {
   "cell_type": "code",
   "execution_count": null,
   "id": "aa2e5706-2498-41b4-8f63-7c4fae84092c",
   "metadata": {},
   "outputs": [],
   "source": [
    "Q-15 How does Python's garbage collection system work?\n",
    "Ans=Python's garbage collection system automatically frees up memory by identifying and removing objects no longer in use. \n",
    "It uses reference counting and a cyclic garbage collector to manage memory efficiently and handle circular references."
   ]
  },
  {
   "cell_type": "code",
   "execution_count": null,
   "id": "02be6c07-47af-490d-bb7a-5e0c01261681",
   "metadata": {},
   "outputs": [],
   "source": [
    "Q-16 What is the purpose of the else block in exception handling?\n",
    "Ans=The else block in exception handling executes code only if no exceptions occur in the try block. \n",
    "It is used for code that should run when the try block is successful."
   ]
  },
  {
   "cell_type": "code",
   "execution_count": null,
   "id": "b212dbe8-f317-4417-b513-9ce2135c6be0",
   "metadata": {},
   "outputs": [],
   "source": [
    "Q-17 What are the common logging levels in Python?\n",
    "Ans=The common logging levels in Python are:\n",
    "\n",
    "DEBUG: Detailed information for diagnosing problems.\n",
    "INFO: Confirmation that things are working as expected.\n",
    "WARNING: Indicates potential issues or important events.\n",
    "ERROR: Records errors that prevent program execution.\n",
    "CRITICAL: Logs serious errors causing a program crash."
   ]
  },
  {
   "cell_type": "code",
   "execution_count": null,
   "id": "fecddd58-5232-4c0d-80bd-418f25d8f8f4",
   "metadata": {},
   "outputs": [],
   "source": [
    "Q-18 What is the difference between os.fork() and multiprocessing in Python?\n",
    "Ans=os.fork(): Creates a child process by duplicating the current process. It's low-level and available only on Unix-like systems.\n",
    "multiprocessing: Provides a high-level interface for creating and managing processes, works across all platforms, \n",
    "and supports inter-process communication."
   ]
  },
  {
   "cell_type": "code",
   "execution_count": null,
   "id": "5a63f9dd-0752-4409-b8b9-418d2ef1a4d6",
   "metadata": {},
   "outputs": [],
   "source": [
    "Q-19 What is the importance of closing a file in Python?\n",
    "Ans=Closing a file in Python is important to:\n",
    "Free up system resources: Ensures that file handles are released.\n",
    "Save data: Guarantees that any changes made to the file are written and saved.\n",
    "Prevent file corruption: Avoids data loss or corruption by properly closing the file."
   ]
  },
  {
   "cell_type": "code",
   "execution_count": null,
   "id": "e2e78391-8c78-4328-9f51-0e2367e1135e",
   "metadata": {},
   "outputs": [],
   "source": [
    "Q-20 What is the difference between file.read() and file.readline() in Python?\n",
    "Ans=file.read(): Reads the entire content of the file as a single string.\n",
    "file.readline(): Reads one line at a time from the file."
   ]
  },
  {
   "cell_type": "code",
   "execution_count": null,
   "id": "67d2ab9c-591f-4d24-8a93-c8efbfd6f1e5",
   "metadata": {},
   "outputs": [],
   "source": [
    "Q-21 What is the logging module in Python used for?\n",
    "Ans=The logging module in Python is used for tracking and recording events, errors, and other runtime information in a program. \n",
    "It allows developers to log messages at different severity levels \n",
    "(e.g., DEBUG, INFO, ERROR) for debugging, monitoring, and auditing purposes."
   ]
  },
  {
   "cell_type": "code",
   "execution_count": null,
   "id": "b96de048-dadd-492a-b102-49100a294a3f",
   "metadata": {},
   "outputs": [],
   "source": [
    "Q-22 What is the os module in Python used for in file handling?\n",
    "Ans=The os module in Python provides functions for interacting with the operating system, including file handling. It allows operations like:\n",
    "\n",
    "Creating, deleting, and renaming files (os.rename(), os.remove())\n",
    "Navigating directories (os.chdir(), os.getcwd(), os.mkdir(), os.rmdir())\n",
    "Checking file status (os.path.exists(), os.path.getsize())\n",
    "Getting environment variables (os.environ)"
   ]
  },
  {
   "cell_type": "code",
   "execution_count": null,
   "id": "2e312aac-03f8-4c90-a0c8-de5217cebeb0",
   "metadata": {},
   "outputs": [],
   "source": [
    "Q-23 What are the challenges associated with memory management in Python?\n",
    "Ans=Challenges with memory management in Python include:\n",
    "\n",
    "Garbage Collection: Handling circular references can be complex, as the garbage collector may not always immediately clean up unused objects.\n",
    "Memory Leaks: Unused objects may not be deallocated due to lingering references, causing memory to be consumed over time.\n",
    "Reference Counting: Excessive use of references can delay memory release, leading to increased memory usage.\n",
    "Large Objects: Managing large data structures or objects can lead to memory fragmentation or inefficiency in memory usage."
   ]
  },
  {
   "cell_type": "code",
   "execution_count": null,
   "id": "7eaac754-f87e-4c7a-a520-9fe4116757e4",
   "metadata": {},
   "outputs": [],
   "source": [
    "Q-24 How do you raise an exception manually in Python?\n",
    "Ans=You can raise an exception manually in Python using the raise keyword followed by the exception type and an optional error message"
   ]
  },
  {
   "cell_type": "code",
   "execution_count": null,
   "id": "6c4050df-5372-4ef0-8cc8-f1cd41281839",
   "metadata": {},
   "outputs": [],
   "source": [
    "Q-25 Why is it important to use multithreading in certain applications?\n",
    "Ans=Multithreading is important in certain applications because it allows for concurrent execution of tasks, improving efficiency by:\n",
    "\n",
    "Parallelizing I/O-bound tasks: Such as reading from files, network operations, or waiting for user input, without blocking other operations.\n",
    "Better resource utilization: Enables the use of idle CPU time during waiting periods, improving application performance.\n",
    "Improving responsiveness: Especially in GUI applications, where one thread can handle user interaction while others perform background tasks."
   ]
  },
  {
   "cell_type": "code",
   "execution_count": null,
   "id": "5384fbe7-5880-4977-8eec-4cda61ef5ff4",
   "metadata": {},
   "outputs": [],
   "source": []
  },
  {
   "cell_type": "code",
   "execution_count": null,
   "id": "838c5343-7caf-4525-9714-cb2aefde5e42",
   "metadata": {},
   "outputs": [],
   "source": [
    "\n",
    "Practical Questions\n"
   ]
  },
  {
   "cell_type": "code",
   "execution_count": null,
   "id": "59684067-b181-477f-bbb6-af969a1aad42",
   "metadata": {},
   "outputs": [],
   "source": [
    "Q-1 How can you open a file for writing in Python and write a string to it?"
   ]
  },
  {
   "cell_type": "code",
   "execution_count": 1,
   "id": "31f5f1ad-6676-442c-af5f-29e301f9d007",
   "metadata": {},
   "outputs": [],
   "source": [
    "with open('file.txt','w') as file:\n",
    "    file.write('Hello PWSkills!!')"
   ]
  },
  {
   "cell_type": "code",
   "execution_count": null,
   "id": "79b531bb-2cc2-4476-8d45-cb9164d8fb68",
   "metadata": {},
   "outputs": [],
   "source": [
    "Q-2 Write a Python program to read the contents of a file and print each line?"
   ]
  },
  {
   "cell_type": "code",
   "execution_count": 2,
   "id": "ca6ad022-8beb-4ed8-92d5-cdcb9f7f1c6c",
   "metadata": {},
   "outputs": [
    {
     "name": "stdout",
     "output_type": "stream",
     "text": [
      "Hello PWSkills!!\n"
     ]
    }
   ],
   "source": [
    "with open('file.txt','r') as file:\n",
    "    for i in file:\n",
    "        print(i.strip())"
   ]
  },
  {
   "cell_type": "code",
   "execution_count": null,
   "id": "e296ea77-9c20-4807-acde-fd5b1dcf17cf",
   "metadata": {},
   "outputs": [],
   "source": [
    "Q-3 How would you handle a case where the file doesn't exist while trying to open it for reading?"
   ]
  },
  {
   "cell_type": "code",
   "execution_count": null,
   "id": "dca500a2-fb2f-47f0-bcff-a1fd7c6b3083",
   "metadata": {},
   "outputs": [],
   "source": [
    "try:\n",
    "    with open('new_file.txt', 'r') as file:\n",
    "        content = file.read()\n",
    "        print(content)\n",
    "except FileNotFoundError:\n",
    "    print(\"Error: The file does not exist.\")"
   ]
  },
  {
   "cell_type": "code",
   "execution_count": null,
   "id": "4411edad-da6e-4137-9a3d-4e611153f510",
   "metadata": {},
   "outputs": [],
   "source": [
    "Q-4 Write a Python script that reads from one file and writes its content to another file"
   ]
  },
  {
   "cell_type": "code",
   "execution_count": 4,
   "id": "beff5234-1ba9-4195-99db-13dc17af1230",
   "metadata": {},
   "outputs": [],
   "source": [
    "with open('file.txt','r') as f:\n",
    "    F=f.read()\n",
    "with open('a.txt','w') as a:\n",
    "    a.write(F)"
   ]
  },
  {
   "cell_type": "code",
   "execution_count": null,
   "id": "5c99acab-385d-401f-a876-205f97ff55f7",
   "metadata": {},
   "outputs": [],
   "source": [
    "Q-5 How would you catch and handle division by zero error in Python?"
   ]
  },
  {
   "cell_type": "code",
   "execution_count": 9,
   "id": "67c9c8d1-02d2-4f2f-a285-52dd93b15973",
   "metadata": {},
   "outputs": [
    {
     "name": "stdin",
     "output_type": "stream",
     "text": [
      "Enter a digit here 5\n",
      "Enter another digit 0\n"
     ]
    },
    {
     "name": "stdout",
     "output_type": "stream",
     "text": [
      "Division by zero is not allowed.\n"
     ]
    }
   ],
   "source": [
    "no=int(input('Enter a digit here'))\n",
    "di=int(input('Enter another digit'))\n",
    "try:\n",
    "    result = no / di\n",
    "    print(result)\n",
    "except ZeroDivisionError:\n",
    "    print(\"Division by zero is not allowed.\")"
   ]
  },
  {
   "cell_type": "code",
   "execution_count": null,
   "id": "6b970b1f-e81d-4c0f-9a22-021c42a7e5ac",
   "metadata": {},
   "outputs": [],
   "source": [
    "Q-6 Write a Python program that logs an error message to a log file when a division by zero exception occurs."
   ]
  },
  {
   "cell_type": "code",
   "execution_count": 10,
   "id": "2205cb90-dad0-46a4-b81e-2c00ea080176",
   "metadata": {},
   "outputs": [
    {
     "name": "stdout",
     "output_type": "stream",
     "text": [
      "Error logged to 'error.log'\n"
     ]
    }
   ],
   "source": [
    "import logging\n",
    "\n",
    "\n",
    "logging.basicConfig(filename='error.log', level=logging.ERROR, format='%(asctime)s - %(message)s')\n",
    "\n",
    "try:\n",
    "    result = 10 / 0\n",
    "except ZeroDivisionError:\n",
    "    logging.error(\"Division by zero occurred.\")\n",
    "    print(\"Error logged to 'error.log'\")"
   ]
  },
  {
   "cell_type": "code",
   "execution_count": null,
   "id": "a037b557-d046-440a-ade7-d9ac4b78840b",
   "metadata": {},
   "outputs": [],
   "source": [
    "Q-7 How do you log information at different levels (INFO, ERROR, WARNING) in Python using the logging module?"
   ]
  },
  {
   "cell_type": "code",
   "execution_count": 11,
   "id": "737a3fb6-d1b8-4f9b-b2f4-49d7519308a7",
   "metadata": {},
   "outputs": [],
   "source": [
    "logging.basicConfig(filename='app.log', level=logging.DEBUG, format='%(levelname)s - %(message)s')\n",
    "logging.info(\"This is an INFO msg.\")\n",
    "logging.warning(\"This is a WARNING msg.\")\n",
    "logging.error(\"This is an ERROR msg.\")"
   ]
  },
  {
   "cell_type": "code",
   "execution_count": null,
   "id": "131fdeff-0cfa-40cb-9c04-3b783cb3447d",
   "metadata": {},
   "outputs": [],
   "source": [
    "Q-8 Write a program to handle a file opening error using exception handling."
   ]
  },
  {
   "cell_type": "code",
   "execution_count": 12,
   "id": "5e1eb51e-daef-420e-a812-251aef9fcf5b",
   "metadata": {},
   "outputs": [
    {
     "name": "stdout",
     "output_type": "stream",
     "text": [
      "Error: The file does not exist.\n"
     ]
    }
   ],
   "source": [
    "try:\n",
    "    with open('new_file.txt', 'r') as file:\n",
    "        content = file.read()\n",
    "        print(content)\n",
    "except FileNotFoundError:\n",
    "    print(\"Error: The file does not exist.\")"
   ]
  },
  {
   "cell_type": "code",
   "execution_count": null,
   "id": "74c54905-ac3c-4826-a5a6-d1c7c8779ada",
   "metadata": {},
   "outputs": [],
   "source": [
    "Q-9 How can you read a file line by line and store its content in a list in Python?"
   ]
  },
  {
   "cell_type": "code",
   "execution_count": 15,
   "id": "a417b9d7-9ca7-4430-87d5-6587e7cde615",
   "metadata": {},
   "outputs": [],
   "source": [
    "FILE=[]\n",
    "with open('file.txt','r') as file:\n",
    "    for i in file:\n",
    "        content=i.strip()\n",
    "        FILE.append(content)"
   ]
  },
  {
   "cell_type": "code",
   "execution_count": null,
   "id": "234b9782-d5bc-430d-8228-19ece2cfd8df",
   "metadata": {},
   "outputs": [],
   "source": [
    "Q-10 How can you append data to an existing file in Python?"
   ]
  },
  {
   "cell_type": "code",
   "execution_count": null,
   "id": "77af4735-591b-4dbf-8dad-de5d56741b9e",
   "metadata": {},
   "outputs": [],
   "source": [
    "with open('file.txt', 'a') as file:\n",
    "    file.write(\"This is new content.\\n\")"
   ]
  },
  {
   "cell_type": "code",
   "execution_count": null,
   "id": "4cdf50b8-cc02-4e95-a58a-4c5b3ba79fbc",
   "metadata": {},
   "outputs": [],
   "source": [
    "Q-11 Write a Python program that uses a try-except block to handle an error when attempting to access a \n",
    "dictionary key that doesn't exist."
   ]
  },
  {
   "cell_type": "code",
   "execution_count": 16,
   "id": "843b1671-4153-4c56-ad32-c2dcf6c7177e",
   "metadata": {},
   "outputs": [
    {
     "name": "stdout",
     "output_type": "stream",
     "text": [
      "Key is not found in demo\n"
     ]
    }
   ],
   "source": [
    "demo={'name':'smit','age':25}\n",
    "try:\n",
    "    result=demo['goal']\n",
    "except KeyError:\n",
    "    print('Key is not found in demo')"
   ]
  },
  {
   "cell_type": "code",
   "execution_count": null,
   "id": "cba48c4e-fd87-4d48-b6ea-36d69a15cfa3",
   "metadata": {},
   "outputs": [],
   "source": [
    "Q-12 Write a program that demonstrates using multiple except blocks to handle different types of exceptions"
   ]
  },
  {
   "cell_type": "code",
   "execution_count": 17,
   "id": "458b3629-ed74-4ad4-8643-5edd96542dc7",
   "metadata": {},
   "outputs": [
    {
     "name": "stdin",
     "output_type": "stream",
     "text": [
      "Enter a number:  hello\n"
     ]
    },
    {
     "name": "stdout",
     "output_type": "stream",
     "text": [
      "Error: Invalid input. Please enter a valid number.\n"
     ]
    }
   ],
   "source": [
    "try:\n",
    "    x = int(input(\"Enter a number: \"))  \n",
    "    result = 10 / x \n",
    "except ValueError:\n",
    "    print(\"Error: Invalid input. Please enter a valid number.\")\n",
    "except ZeroDivisionError:\n",
    "    print(\"Error: Cannot divide by zero.\")\n",
    "except Exception as e:\n",
    "    print(f\"An unexpected error occurred: {e}\")"
   ]
  },
  {
   "cell_type": "code",
   "execution_count": null,
   "id": "8b449517-ab69-45b3-9fc9-3c188164df7f",
   "metadata": {},
   "outputs": [],
   "source": [
    "Q-13 How would you check if a file exists before attempting to read it in Python?"
   ]
  },
  {
   "cell_type": "code",
   "execution_count": 20,
   "id": "5d051920-b685-4de0-8ad2-57ce3f580571",
   "metadata": {},
   "outputs": [
    {
     "name": "stdout",
     "output_type": "stream",
     "text": [
      "Hello PWSkills!!\n"
     ]
    }
   ],
   "source": [
    "import os\n",
    "\n",
    "if os.path.exists('file.txt'):\n",
    "    with open('file.txt', 'r') as file:\n",
    "        content = file.read()\n",
    "        print(content)\n",
    "else:\n",
    "    print(\"Error: The file does not exist.\")"
   ]
  },
  {
   "cell_type": "code",
   "execution_count": null,
   "id": "f6e7390a-5a18-4ee5-8f00-597c96b8e703",
   "metadata": {},
   "outputs": [],
   "source": [
    "Q-14 Write a program that uses the logging module to log both informational and error messages."
   ]
  },
  {
   "cell_type": "code",
   "execution_count": 22,
   "id": "1c501a2f-8de4-4935-80c7-0d7773b608fa",
   "metadata": {},
   "outputs": [],
   "source": [
    "import logging\n",
    "\n",
    "logging.basicConfig(filename='app.log', level=logging.INFO, format='%(asctime)s - %(levelname)s - %(message)s')\n",
    "\n",
    "logging.info(\"Program started successfully.\")\n",
    "\n",
    "try:\n",
    "    result = 10 / 0  \n",
    "except ZeroDivisionError:\n",
    "    logging.error(\"Division by zero occurred.\")\n",
    "\n",
    "logging.info(\"Program completed execution.\")"
   ]
  },
  {
   "cell_type": "code",
   "execution_count": null,
   "id": "9d5a9ade-bcc3-41c8-8353-9c7c6bfa7f0c",
   "metadata": {},
   "outputs": [],
   "source": [
    "Q-15 Write a Python program that prints the content of a file and handles the case when the file is empty."
   ]
  },
  {
   "cell_type": "code",
   "execution_count": 23,
   "id": "748aa81f-4f84-4359-b42d-f20ad335edca",
   "metadata": {},
   "outputs": [
    {
     "name": "stdout",
     "output_type": "stream",
     "text": [
      "File Content:\n",
      "Hello PWSkills!!\n"
     ]
    }
   ],
   "source": [
    "try:\n",
    "    with open('file.txt', 'r') as file:\n",
    "        content = file.read().strip()\n",
    "        if content:\n",
    "            print(\"File Content:\")\n",
    "            print(content)\n",
    "        else:\n",
    "            print(\"The file is empty.\")\n",
    "except FileNotFoundError:\n",
    "    print(\"Error: The file does not exist.\")"
   ]
  },
  {
   "cell_type": "code",
   "execution_count": null,
   "id": "c7b733c5-9daf-4b1d-80f8-9a22c7e74996",
   "metadata": {},
   "outputs": [],
   "source": [
    "Q-16 Demonstrate how to use memory profiling to check the memory usage of a small program."
   ]
  },
  {
   "cell_type": "code",
   "execution_count": null,
   "id": "adcbc8ed-cf06-49b0-8d65-e1e0c49d0a56",
   "metadata": {},
   "outputs": [],
   "source": [
    "pip install memory-profiler"
   ]
  },
  {
   "cell_type": "code",
   "execution_count": null,
   "id": "296be60a-8fde-44f3-8674-e3161238d353",
   "metadata": {},
   "outputs": [],
   "source": [
    "from memory_profiler import profile\n",
    "\n",
    "@profile\n",
    "def example_function():\n",
    "    numbers = list(range(1_000_000))  # Creates a large list\n",
    "    total = sum(numbers)  # Calculates the sum\n",
    "    return total\n",
    "\n",
    "if __name__ == \"__main__\":\n",
    "    result = example_function()\n",
    "    print(f\"Result: {result}\")"
   ]
  },
  {
   "cell_type": "code",
   "execution_count": null,
   "id": "e0f3efbb-7213-490c-9456-9d5c183db91b",
   "metadata": {},
   "outputs": [],
   "source": [
    "python -m memory_profiler your_script.py"
   ]
  },
  {
   "cell_type": "code",
   "execution_count": null,
   "id": "29daecb8-0ae0-4bca-aa56-bb177dfdf1a8",
   "metadata": {},
   "outputs": [],
   "source": [
    "Q-17 Write a Python program to create and write a list of numbers to a file, one number per line"
   ]
  },
  {
   "cell_type": "code",
   "execution_count": 24,
   "id": "a23556a9-b11c-4281-8f90-345773a7b5f4",
   "metadata": {},
   "outputs": [],
   "source": [
    "numbers = [1, 2, 3, 4, 5]\n",
    "\n",
    "with open('numbers.txt', 'w') as file:\n",
    "    for number in numbers:\n",
    "        file.write(f\"{number}\\n\")"
   ]
  },
  {
   "cell_type": "code",
   "execution_count": null,
   "id": "9081ab97-1489-4fcd-96f9-d957dcaa956a",
   "metadata": {},
   "outputs": [],
   "source": [
    "Q-18 How would you implement a basic logging setup that logs to a file with rotation after 1MB?"
   ]
  },
  {
   "cell_type": "code",
   "execution_count": 25,
   "id": "12817c4f-9a60-4abf-a612-b61cefe96246",
   "metadata": {},
   "outputs": [],
   "source": [
    "from logging.handlers import RotatingFileHandler\n",
    "\n",
    "logger = logging.getLogger('MyLogger')\n",
    "logger.setLevel(logging.INFO)\n",
    "\n",
    "handler = RotatingFileHandler('app.log', maxBytes=1_000_000, backupCount=3)\n",
    "formatter = logging.Formatter('%(asctime)s - %(levelname)s - %(message)s')\n",
    "handler.setFormatter(formatter)\n",
    "logger.addHandler(handler)\n",
    "\n",
    "logger.info(\"This is an informational message.\")\n",
    "logger.error(\"This is an error message.\")"
   ]
  },
  {
   "cell_type": "code",
   "execution_count": null,
   "id": "a5e97c75-7326-4385-ad1b-89c9596b7aca",
   "metadata": {},
   "outputs": [],
   "source": [
    "Q-19 Write a program that handles both IndexError and KeyError using a try-except block."
   ]
  },
  {
   "cell_type": "code",
   "execution_count": 26,
   "id": "4150530d-f2e6-48f4-b9e5-4d66f2304d5b",
   "metadata": {},
   "outputs": [
    {
     "name": "stdout",
     "output_type": "stream",
     "text": [
      "Error: List index is out of range.\n"
     ]
    }
   ],
   "source": [
    "try:\n",
    "    my_list = [1, 2, 3]\n",
    "    my_dict = {'a': 10, 'b': 20}\n",
    "    print(my_list[5])  \n",
    "    print(my_dict['c'])  \n",
    "except IndexError:\n",
    "    print(\"Error: List index is out of range.\")\n",
    "except KeyError:\n",
    "    print(\"Error: Key not found in dictionary.\")"
   ]
  },
  {
   "cell_type": "code",
   "execution_count": null,
   "id": "0a364ea1-dfbf-443e-ae46-dd69a4ee6413",
   "metadata": {},
   "outputs": [],
   "source": [
    "Q-20 How would you open a file and read its contents using a context manager in Python?"
   ]
  },
  {
   "cell_type": "code",
   "execution_count": 27,
   "id": "22943a4e-6609-452b-82d6-0d8b8b5c2728",
   "metadata": {},
   "outputs": [
    {
     "name": "stdout",
     "output_type": "stream",
     "text": [
      "Hello PWSkills!!\n"
     ]
    }
   ],
   "source": [
    "with open('file.txt', 'r') as file:\n",
    "    content = file.read()\n",
    "    print(content)"
   ]
  },
  {
   "cell_type": "code",
   "execution_count": null,
   "id": "8d3a58f2-64c7-4ad9-ad04-14c1a66eff58",
   "metadata": {},
   "outputs": [],
   "source": [
    "Q-21 Write a Python program that reads a file and prints the number of occurrences of a specific word."
   ]
  },
  {
   "cell_type": "code",
   "execution_count": 31,
   "id": "33a880e6-965f-4960-941a-1fa9ce04a269",
   "metadata": {},
   "outputs": [
    {
     "name": "stdout",
     "output_type": "stream",
     "text": [
      "0\n"
     ]
    }
   ],
   "source": [
    "word='Hello PWSkills!!'\n",
    "with open('file.txt', 'r') as file:\n",
    "    content = file.read()\n",
    "    word_count = content.lower().split().count(word.lower())\n",
    "print(word_count)"
   ]
  },
  {
   "cell_type": "code",
   "execution_count": null,
   "id": "21f94e46-3468-4149-b1bd-f11b199553ba",
   "metadata": {},
   "outputs": [],
   "source": [
    "Q-22 How can you check if a file is empty before attempting to read its contents?"
   ]
  },
  {
   "cell_type": "code",
   "execution_count": 32,
   "id": "4afb9ccb-377e-4ad9-8865-feacc8562e1d",
   "metadata": {},
   "outputs": [
    {
     "name": "stdout",
     "output_type": "stream",
     "text": [
      "Hello PWSkills!!\n"
     ]
    }
   ],
   "source": [
    "if os.stat('file.txt').st_size == 0:\n",
    "    print(\"The file is empty.\")\n",
    "else:\n",
    "    with open('file.txt', 'r') as file:\n",
    "        content = file.read()\n",
    "        print(content)"
   ]
  },
  {
   "cell_type": "code",
   "execution_count": null,
   "id": "3a5a6d79-ea80-410d-8252-8f8ccee2a886",
   "metadata": {},
   "outputs": [],
   "source": [
    "Q-23 Write a Python program that writes to a log file when an error occurs during file handling."
   ]
  },
  {
   "cell_type": "code",
   "execution_count": 33,
   "id": "b1b6885a-37e2-45d5-aba5-4f59a9c907c1",
   "metadata": {},
   "outputs": [
    {
     "name": "stdout",
     "output_type": "stream",
     "text": [
      "Error logged to 'error.log'.\n"
     ]
    }
   ],
   "source": [
    "logging.basicConfig(filename='error.log', level=logging.ERROR,\n",
    "                    format='%(asctime)s - %(levelname)s - %(message)s')\n",
    "\n",
    "try:\n",
    "    with open('non_file.txt', 'r') as file:\n",
    "        content = file.read()\n",
    "except Exception as e:\n",
    "    logging.error(f\"Error occurred: {str(e)}\")\n",
    "print(\"Error logged to 'error.log'.\")"
   ]
  }
 ],
 "metadata": {
  "kernelspec": {
   "display_name": "Python 3 (ipykernel)",
   "language": "python",
   "name": "python3"
  },
  "language_info": {
   "codemirror_mode": {
    "name": "ipython",
    "version": 3
   },
   "file_extension": ".py",
   "mimetype": "text/x-python",
   "name": "python",
   "nbconvert_exporter": "python",
   "pygments_lexer": "ipython3",
   "version": "3.12.0"
  }
 },
 "nbformat": 4,
 "nbformat_minor": 5
}
