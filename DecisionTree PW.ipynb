{
 "cells": [
  {
   "cell_type": "markdown",
   "id": "d7b35f98-59cd-406e-9167-875fc66896c6",
   "metadata": {},
   "source": [
    "\n",
    "Pracical Questions\n"
   ]
  },
  {
   "cell_type": "code",
   "execution_count": 1,
   "id": "a3fe90d6",
   "metadata": {},
   "outputs": [
    {
     "name": "stdout",
     "output_type": "stream",
     "text": [
      "Accuracy: 0.9444444444444444\n"
     ]
    }
   ],
   "source": [
    "# Train a Decision Tree Classifier and print accuracy\n",
    "from sklearn.datasets import load_wine\n",
    "from sklearn.model_selection import train_test_split\n",
    "from sklearn.tree import DecisionTreeClassifier\n",
    "from sklearn.metrics import accuracy_score\n",
    "\n",
    "wine = load_wine()\n",
    "X_train_cls, X_test_cls, y_train_cls, y_test_cls = train_test_split(wine.data, wine.target, test_size=0.2, random_state=42)\n",
    "y_train_cls = y_train_cls.ravel()\n",
    "\n",
    "clf = DecisionTreeClassifier()\n",
    "clf.fit(X_train_cls, y_train_cls)\n",
    "print(\"Accuracy:\", accuracy_score(y_test_cls, clf.predict(X_test_cls)))"
   ]
  },
  {
   "cell_type": "code",
   "execution_count": 2,
   "id": "d6065f0b",
   "metadata": {},
   "outputs": [
    {
     "name": "stdout",
     "output_type": "stream",
     "text": [
      "Feature Importances (Gini): [0.         0.01899507 0.02094206 0.         0.         0.\n",
      " 0.41105326 0.         0.         0.38493424 0.         0.\n",
      " 0.16407537]\n"
     ]
    }
   ],
   "source": [
    "# Train using Gini Impurity and print feature importances\n",
    "clf_gini = DecisionTreeClassifier(criterion=\"gini\")\n",
    "clf_gini.fit(X_train_cls, y_train_cls)\n",
    "print(\"Feature Importances (Gini):\", clf_gini.feature_importances_)"
   ]
  },
  {
   "cell_type": "code",
   "execution_count": 3,
   "id": "470196e4",
   "metadata": {},
   "outputs": [
    {
     "name": "stdout",
     "output_type": "stream",
     "text": [
      "Accuracy (Entropy): 0.9166666666666666\n"
     ]
    }
   ],
   "source": [
    "# Train using Entropy and print accuracy\n",
    "clf_entropy = DecisionTreeClassifier(criterion=\"entropy\")\n",
    "clf_entropy.fit(X_train_cls, y_train_cls)\n",
    "print(\"Accuracy (Entropy):\", accuracy_score(y_test_cls, clf_entropy.predict(X_test_cls)))"
   ]
  },
  {
   "cell_type": "code",
   "execution_count": 4,
   "id": "99bd5162",
   "metadata": {},
   "outputs": [
    {
     "name": "stdout",
     "output_type": "stream",
     "text": [
      "MSE: 0.4916629546987403\n"
     ]
    }
   ],
   "source": [
    "# Train a Decision Tree Regressor and evaluate with MSE\n",
    "from sklearn.datasets import fetch_california_housing\n",
    "from sklearn.tree import DecisionTreeRegressor\n",
    "from sklearn.metrics import mean_squared_error\n",
    "\n",
    "housing = fetch_california_housing()\n",
    "X_train_reg, X_test_reg, y_train_reg, y_test_reg = train_test_split(housing.data, housing.target, test_size=0.2, random_state=42)\n",
    "\n",
    "reg = DecisionTreeRegressor()\n",
    "reg.fit(X_train_reg, y_train_reg)\n",
    "print(\"MSE:\", mean_squared_error(y_test_reg, reg.predict(X_test_reg)))"
   ]
  },
  {
   "cell_type": "code",
   "execution_count": null,
   "id": "665201e0-49cd-42ef-b206-97c68143cde1",
   "metadata": {},
   "outputs": [],
   "source": [
    "# Visualize the Decision Tree\n",
    "import graphviz\n",
    "from sklearn.tree import export_graphviz\n",
    "\n",
    "dot_data = export_graphviz(clf, out_file=None, feature_names=wine.feature_names, class_names=[str(c) for c in wine.target_names], filled=True)\n",
    "graph = graphviz.Source(dot_data)\n",
    "graph.view()"
   ]
  },
  {
   "cell_type": "code",
   "execution_count": 6,
   "id": "b7e46d3d",
   "metadata": {},
   "outputs": [
    {
     "name": "stdout",
     "output_type": "stream",
     "text": [
      "Accuracy (Max Depth=3): 0.9444444444444444\n"
     ]
    }
   ],
   "source": [
    "# Train with max depth of 3 and compare accuracy\n",
    "clf_depth3 = DecisionTreeClassifier(max_depth=3)\n",
    "clf_depth3.fit(X_train_cls, y_train_cls)\n",
    "print(\"Accuracy (Max Depth=3):\", accuracy_score(y_test_cls, clf_depth3.predict(X_test_cls)))"
   ]
  },
  {
   "cell_type": "code",
   "execution_count": 7,
   "id": "f8f67100",
   "metadata": {},
   "outputs": [
    {
     "name": "stdout",
     "output_type": "stream",
     "text": [
      "Accuracy (min_samples_split=5): 0.9444444444444444\n"
     ]
    }
   ],
   "source": [
    "# Train with min_samples_split=5 and compare accuracy\n",
    "clf_min_samples = DecisionTreeClassifier(min_samples_split=5)\n",
    "clf_min_samples.fit(X_train_cls, y_train_cls)\n",
    "print(\"Accuracy (min_samples_split=5):\", accuracy_score(y_test_cls, clf_min_samples.predict(X_test_cls)))"
   ]
  },
  {
   "cell_type": "code",
   "execution_count": 8,
   "id": "6ba3d4d2",
   "metadata": {},
   "outputs": [
    {
     "name": "stdout",
     "output_type": "stream",
     "text": [
      "Accuracy (Scaled Features): 0.9444444444444444\n"
     ]
    }
   ],
   "source": [
    "# Apply feature scaling and compare accuracy\n",
    "from sklearn.preprocessing import StandardScaler\n",
    "\n",
    "scaler = StandardScaler()\n",
    "X_train_scaled = scaler.fit_transform(X_train_cls)\n",
    "X_test_scaled = scaler.transform(X_test_cls)\n",
    "\n",
    "clf_scaled = DecisionTreeClassifier()\n",
    "clf_scaled.fit(X_train_scaled, y_train_cls)\n",
    "print(\"Accuracy (Scaled Features):\", accuracy_score(y_test_cls, clf_scaled.predict(X_test_scaled)))"
   ]
  },
  {
   "cell_type": "code",
   "execution_count": 9,
   "id": "b7c0b70f",
   "metadata": {},
   "outputs": [
    {
     "name": "stdout",
     "output_type": "stream",
     "text": [
      "Accuracy (OvR Strategy): 0.9444444444444444\n"
     ]
    }
   ],
   "source": [
    "# Train using One-vs-Rest (OvR) strategy\n",
    "from sklearn.multiclass import OneVsRestClassifier\n",
    "\n",
    "ovr_clf = OneVsRestClassifier(DecisionTreeClassifier())\n",
    "ovr_clf.fit(X_train_cls, y_train_cls)\n",
    "print(\"Accuracy (OvR Strategy):\", accuracy_score(y_test_cls, ovr_clf.predict(X_test_cls)))"
   ]
  },
  {
   "cell_type": "code",
   "execution_count": 10,
   "id": "073f6a9c",
   "metadata": {},
   "outputs": [
    {
     "name": "stdout",
     "output_type": "stream",
     "text": [
      "Feature Importances: [0.01899507 0.         0.02094206 0.         0.         0.\n",
      " 0.41105326 0.         0.         0.38493424 0.         0.\n",
      " 0.16407537]\n"
     ]
    }
   ],
   "source": [
    "# Display feature importance scores\n",
    "print(\"Feature Importances:\", clf.feature_importances_)"
   ]
  },
  {
   "cell_type": "code",
   "execution_count": 11,
   "id": "b33d5d75",
   "metadata": {},
   "outputs": [
    {
     "name": "stdout",
     "output_type": "stream",
     "text": [
      "MSE (Max Depth=5): 0.5245146178314736\n"
     ]
    }
   ],
   "source": [
    "# Train a Decision Tree Regressor with max_depth=5\n",
    "reg_depth5 = DecisionTreeRegressor(max_depth=5)\n",
    "reg_depth5.fit(X_train_reg, y_train_reg)\n",
    "print(\"MSE (Max Depth=5):\", mean_squared_error(y_test_reg, reg_depth5.predict(X_test_reg)))"
   ]
  },
  {
   "cell_type": "code",
   "execution_count": 12,
   "id": "6240c52a",
   "metadata": {},
   "outputs": [
    {
     "data": {
      "image/png": "[encoded data removed]",
      "text/plain": [
       "<Figure size 640x480 with 1 Axes>"
      ]
     },
     "metadata": {},
     "output_type": "display_data"
    }
   ],
   "source": [
    "# Apply Cost Complexity Pruning (CCP) and visualize accuracy impact\n",
    "import matplotlib.pyplot as plt\n",
    "\n",
    "ccp_alphas = clf.cost_complexity_pruning_path(X_train_cls, y_train_cls)[\"ccp_alphas\"]\n",
    "accuracies = []\n",
    "for alpha in ccp_alphas:\n",
    "    clf_pruned = DecisionTreeClassifier(ccp_alpha=alpha)\n",
    "    clf_pruned.fit(X_train_cls, y_train_cls)\n",
    "    accuracies.append(accuracy_score(y_test_cls, clf_pruned.predict(X_test_cls)))\n",
    "\n",
    "plt.plot(ccp_alphas, accuracies)\n",
    "plt.xlabel(\"CCP Alpha\")\n",
    "plt.ylabel(\"Accuracy\")\n",
    "plt.title(\"Effect of Cost Complexity Pruning\")\n",
    "plt.show()"
   ]
  },
  {
   "cell_type": "code",
   "execution_count": 13,
   "id": "4a3a87c8",
   "metadata": {},
   "outputs": [
    {
     "name": "stdout",
     "output_type": "stream",
     "text": [
      "              precision    recall  f1-score   support\n",
      "\n",
      "           0       0.93      0.93      0.93        14\n",
      "           1       0.93      1.00      0.97        14\n",
      "           2       1.00      0.88      0.93         8\n",
      "\n",
      "    accuracy                           0.94        36\n",
      "   macro avg       0.95      0.93      0.94        36\n",
      "weighted avg       0.95      0.94      0.94        36\n",
      "\n"
     ]
    }
   ],
   "source": [
    "# Evaluate using Precision, Recall, and F1-Score\n",
    "from sklearn.metrics import classification_report\n",
    "\n",
    "y_pred = clf.predict(X_test_cls)\n",
    "print(classification_report(y_test_cls, y_pred))"
   ]
  },
  {
   "cell_type": "code",
   "execution_count": 14,
   "id": "5f4da813",
   "metadata": {},
   "outputs": [
    {
     "data": {
      "image/png": "[encoded data removed]",
      "text/plain": [
       "<Figure size 640x480 with 2 Axes>"
      ]
     },
     "metadata": {},
     "output_type": "display_data"
    }
   ],
   "source": [
    "# Visualize the confusion matrix using seaborn\n",
    "import seaborn as sns\n",
    "from sklearn.metrics import confusion_matrix\n",
    "\n",
    "conf_matrix = confusion_matrix(y_test_cls, y_pred)\n",
    "sns.heatmap(conf_matrix, annot=True, cmap='Blues', fmt='d')\n",
    "plt.xlabel(\"Predicted\")\n",
    "plt.ylabel(\"Actual\")\n",
    "plt.title(\"Confusion Matrix\")\n",
    "plt.show()"
   ]
  },
  {
   "cell_type": "code",
   "execution_count": 15,
   "id": "073ad9a6",
   "metadata": {},
   "outputs": [
    {
     "name": "stdout",
     "output_type": "stream",
     "text": [
      "Best Parameters: {'max_depth': 3, 'min_samples_split': 5}\n",
      "Best Accuracy: 0.9224137931034484\n"
     ]
    }
   ],
   "source": [
    "# Use GridSearchCV to find optimal max_depth and min_samples_split\n",
    "from sklearn.model_selection import GridSearchCV\n",
    "\n",
    "param_grid = {'max_depth': [3, 5, 10], 'min_samples_split': [2, 5, 10]}\n",
    "grid_search = GridSearchCV(DecisionTreeClassifier(), param_grid, cv=5)\n",
    "grid_search.fit(X_train_cls, y_train_cls)\n",
    "print(\"Best Parameters:\", grid_search.best_params_)\n",
    "print(\"Best Accuracy:\", grid_search.best_score_)"
   ]
  },
  {
   "cell_type": "code",
   "execution_count": null,
   "id": "a04cd206-aab2-4314-9b1b-c1668cb90465",
   "metadata": {},
   "outputs": [],
   "source": [
    "\n",
    "Theory Questions\n"
   ]
  },
  {
   "cell_type": "code",
   "execution_count": null,
   "id": "5652ce10-eb85-405c-8812-9f4f34c2164e",
   "metadata": {},
   "outputs": [],
   "source": [
    "Q1: What is a Decision Tree?\n",
    "A Decision Tree is a supervised learning algorithm used for classification and regression. \n",
    "It splits data based on feature conditions to form a tree-like structure."
   ]
  },
  {
   "cell_type": "code",
   "execution_count": null,
   "id": "bf50a239-2c50-4f61-908b-57d76a25fafa",
   "metadata": {},
   "outputs": [],
   "source": [
    "Q2: What are impurity measures in Decision Trees?\n",
    "Impurity measures (e.g., Gini Impurity, Entropy) help determine how well a split separates the data."
   ]
  },
  {
   "cell_type": "code",
   "execution_count": null,
   "id": "843a56b8-739c-4404-a78b-bff23a722b37",
   "metadata": {},
   "outputs": [],
   "source": [
    "Q3: Gini Impurity Formula\n",
    "Gini = 1 - sum(p^2) for each class probability p."
   ]
  },
  {
   "cell_type": "code",
   "execution_count": null,
   "id": "cfcbddac-7736-4014-9d86-795a2aa4faeb",
   "metadata": {},
   "outputs": [],
   "source": [
    "Q4: Entropy Formula\n",
    "Entropy = -sum(p * log2(p)) for each class probability p."
   ]
  },
  {
   "cell_type": "code",
   "execution_count": null,
   "id": "effcda8b-7072-4a2b-b60d-db27b13ae225",
   "metadata": {},
   "outputs": [],
   "source": [
    "Q5: What is Information Gain?\n",
    "Information Gain measures the reduction in entropy after a split. Higher gain means a better split."
   ]
  },
  {
   "cell_type": "code",
   "execution_count": null,
   "id": "c210d8e6-fefb-49b6-b232-bb01634010cf",
   "metadata": {},
   "outputs": [],
   "source": [
    "Q6: Difference between Gini and Entropy?\n",
    "Gini is computationally simpler, while Entropy considers probability distribution more."
   ]
  },
  {
   "cell_type": "code",
   "execution_count": null,
   "id": "255271b1-6364-4686-901f-ede414aa58c7",
   "metadata": {},
   "outputs": [],
   "source": [
    "Q7: Mathematical Explanation of Decision Trees\n",
    "Decision Trees use recursive binary splitting based on impurity measures to form a structure that minimizes loss."
   ]
  },
  {
   "cell_type": "code",
   "execution_count": null,
   "id": "3ffd2552-a508-4f15-a3f7-eceed9a58be2",
   "metadata": {},
   "outputs": [],
   "source": [
    "Q8: What is Pre-Pruning?\n",
    "Pre-Pruning stops tree growth early based on conditions like depth or node impurity."
   ]
  },
  {
   "cell_type": "code",
   "execution_count": null,
   "id": "80eb611f-b20e-4425-9fb1-79100659c4df",
   "metadata": {},
   "outputs": [],
   "source": [
    "Q9: What is Post-Pruning?\n",
    "Post-Pruning removes weak branches after full tree growth to improve generalization."
   ]
  },
  {
   "cell_type": "code",
   "execution_count": null,
   "id": "d74be64a-68df-42ca-8fe2-f2b4cb019459",
   "metadata": {},
   "outputs": [],
   "source": [
    "Q10: Difference between Pre-Pruning and Post-Pruning?\n",
    "Pre-Pruning halts before overfitting, while Post-Pruning trims overgrown trees."
   ]
  },
  {
   "cell_type": "code",
   "execution_count": null,
   "id": "16a7b7d0-86fb-4435-ab29-ceda3e5695d7",
   "metadata": {},
   "outputs": [],
   "source": [
    "Q11: What is a Decision Tree Regressor?\n",
    "A Decision Tree Regressor predicts continuous values instead of classes by splitting based on minimizing variance."
   ]
  },
  {
   "cell_type": "code",
   "execution_count": null,
   "id": "78625e85-eb95-4eb6-ab98-94a02e186942",
   "metadata": {},
   "outputs": [],
   "source": [
    "Q12: Advantages & Disadvantages of Decision Trees\n",
    "Advantages: Easy interpretation, no scaling required. Disadvantages: Prone to overfitting, sensitive to noisy data."
   ]
  },
  {
   "cell_type": "code",
   "execution_count": null,
   "id": "680432aa-80fb-463e-adc9-e0226c661d4e",
   "metadata": {},
   "outputs": [],
   "source": [
    "Q13: How does a Decision Tree handle missing values?\n",
    "It can use surrogate splits or ignore missing values during training."
   ]
  },
  {
   "cell_type": "code",
   "execution_count": null,
   "id": "9bdac273-fd1d-4420-8580-d2ab3c5b01ba",
   "metadata": {},
   "outputs": [],
   "source": [
    "Q14: How does a Decision Tree handle categorical features?\n",
    "It can use one-hot encoding or split based on categorical values directly."
   ]
  },
  {
   "cell_type": "code",
   "execution_count": null,
   "id": "92122261-7268-4001-8812-fff415c0742d",
   "metadata": {},
   "outputs": [],
   "source": [
    "Q15: Real-world applications of Decision Trees?\n",
    "Used in credit scoring, medical diagnosis, recommendation systems, etc."
   ]
  }
 ],
 "metadata": {
  "kernelspec": {
   "display_name": "Python 3 (ipykernel)",
   "language": "python",
   "name": "python3"
  },
  "language_info": {
   "codemirror_mode": {
    "name": "ipython",
    "version": 3
   },
   "file_extension": ".py",
   "mimetype": "text/x-python",
   "name": "python",
   "nbconvert_exporter": "python",
   "pygments_lexer": "ipython3",
   "version": "3.12.0"
  }
 },
 "nbformat": 4,
 "nbformat_minor": 5
}
