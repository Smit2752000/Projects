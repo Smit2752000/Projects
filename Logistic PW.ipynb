{
 "cells": [
  {
   "cell_type": "markdown",
   "id": "ece35f48-47ce-4e70-8477-d4bd2c22bb5a",
   "metadata": {},
   "source": [
    "\n",
    "Theory Answer\n"
   ]
  },
  {
   "cell_type": "code",
   "execution_count": null,
   "id": "51e08766-0310-493c-a6c6-ac565338a8e0",
   "metadata": {},
   "outputs": [],
   "source": [
    "Q-1=What is Logistic Regression, and how does it differ from Linear Regression?\n",
    "ans=Logistic Regression is a classification algorithm used to predict categorical outcomes (like Yes/No, Spam/Not Spam). It calculates probabilities using the sigmoid function,\n",
    "which outputs values between 0 and 1.Linear Regression is for numerical predictions, while Logistic Regression is for classification tasks."
   ]
  },
  {
   "cell_type": "code",
   "execution_count": null,
   "id": "567b1073-b296-4e4c-b24d-30739876f3ab",
   "metadata": {},
   "outputs": [],
   "source": [
    "Q-2=What is the mathematical equation of Logistic Regression?\n",
    "ans=def logistic_regression(X, b):\n",
    "    return 1 / (1 + np.exp(-(b[0] + np.dot(X, b[1:]))))"
   ]
  },
  {
   "cell_type": "code",
   "execution_count": null,
   "id": "40e45f10-59a6-45a8-a039-fc56d136551f",
   "metadata": {},
   "outputs": [],
   "source": [
    "Q-3=Why do we use the Sigmoid function in Logistic Regression?\n",
    "ans=We use the Sigmoid function in Logistic Regression because it maps any real-valued number to a range between 0 and 1, making it ideal for probability estimation."
   ]
  },
  {
   "cell_type": "code",
   "execution_count": null,
   "id": "4c0cfae3-33d0-4f65-8e45-db1c65f775a2",
   "metadata": {},
   "outputs": [],
   "source": [
    "Q-4=What is the cost function of Logistic Regression?\n",
    "ans=The cost function for Logistic Regression is the Log Loss (Binary Cross-Entropy) function, which measures how well the model's predicted probabilities match the actual labels."
   ]
  },
  {
   "cell_type": "code",
   "execution_count": null,
   "id": "a017860e-8ab2-484b-bd79-bec4214f87dc",
   "metadata": {},
   "outputs": [],
   "source": [
    "Q-5=What is Regularization in Logistic Regression? Why is it needed?\n",
    "ans=Regularization prevents overfitting by adding a penalty to large coefficients.\n",
    "Types:\n",
    "L1 (Lasso) – Shrinks some coefficients to zero (feature selection).\n",
    "L2 (Ridge) – Reduces coefficient values but keeps them nonzero.\n",
    "Why Needed?\n",
    "Improves generalization.\n",
    "Prevents overfitting.\n",
    "Handles multicollinearity."
   ]
  },
  {
   "cell_type": "code",
   "execution_count": null,
   "id": "ef2a8c40-2236-4401-80b0-e52bdc237a24",
   "metadata": {},
   "outputs": [],
   "source": [
    "Q-6=Explain the difference between Lasso, Ridge, and Elastic Net regression?\n",
    "ans=Lasso (L1) adds a penalty that can shrink some coefficients to zero, effectively selecting important features. Ridge (L2) applies a squared penalty, shrinking coefficients but never making them zero, which helps handle multicollinearity.\n",
    "Elastic Net combines both L1 and L2, balancing feature selection and coefficient shrinkage."
   ]
  },
  {
   "cell_type": "code",
   "execution_count": null,
   "id": "89ab339b-ab8d-4fac-99dd-9c6fb999d090",
   "metadata": {},
   "outputs": [],
   "source": [
    "Q-7=When should we use Elastic Net instead of Lasso or Ridge?\n",
    "ans=Use Elastic Net when:\n",
    "Lasso selects too few features (L1 may shrink too many coefficients to zero).\n",
    "Ridge doesn’t eliminate irrelevant features (L2 only shrinks, not removes).\n",
    "Your dataset has correlated features (Elastic Net balances feature selection & shrinkage).\n",
    "You need a flexible model combining benefits of both Lasso (sparsity) and Ridge (stability)."
   ]
  },
  {
   "cell_type": "code",
   "execution_count": null,
   "id": "96838f80-3fe1-4a5a-8b27-9eace66280d1",
   "metadata": {},
   "outputs": [],
   "source": [
    "Q-8=What is the impact of the regularization parameter (λ) in Logistic Regression.\n",
    "ans=The regularization parameter (λ) in Logistic Regression controls the strength of the penalty on large coefficients:\n",
    "High λ (Strong Regularization) → Shrinks coefficients more, reduces overfitting but may underfit.\n",
    "Low λ (Weak Regularization) → Keeps coefficients larger, improves fit but may overfit.\n",
    "λ = 0 → No regularization, behaves like standard Logistic Regression."
   ]
  },
  {
   "cell_type": "code",
   "execution_count": null,
   "id": "fbad0f7c-3a07-47f1-8d26-2647c4acd0b8",
   "metadata": {},
   "outputs": [],
   "source": [
    "Q-9=What are the key assumptions of Logistic Regression?\n",
    "ans=Key Assumptions of Logistic Regression:\n",
    "Linear relationship between independent variables and log-odds.\n",
    "Independent observations (no duplicate or correlated samples).\n",
    "No multicollinearity between independent variables.\n",
    "Large sample size for stable predictions.\n",
    "Binary or ordinal target variable (0/1 or categories).\n",
    "No extreme outliers that can distort predictions."
   ]
  },
  {
   "cell_type": "code",
   "execution_count": null,
   "id": "90022505-219f-44af-be68-ed12f3722fbc",
   "metadata": {},
   "outputs": [],
   "source": [
    "Q-10=What are some alternatives to Logistic Regression for classification tasks?\n",
    "ans=Alternatives to Logistic Regression for Classification:\n",
    "Decision Trees – Handles non-linearity and works well with small datasets.\n",
    "Random Forest – An ensemble of decision trees for better accuracy.\n",
    "Support Vector Machine (SVM) – Effective for high-dimensional data.\n",
    "K-Nearest Neighbors (KNN) – Simple, instance-based learning.\n",
    "Naïve Bayes – Best for text classification and probabilistic modeling.\n",
    "Neural Networks (Deep Learning) – Powerful for complex and large datasets.\n",
    "Gradient Boosting (XGBoost, LightGBM, CatBoost) – High-performance ensemble models."
   ]
  },
  {
   "cell_type": "code",
   "execution_count": null,
   "id": "d49acfdf-000f-4a7d-91ff-f7ca97365dd4",
   "metadata": {},
   "outputs": [],
   "source": [
    "Q-11=What are Classification Evaluation Metrics?\n",
    "ans=Classification Evaluation Metrics:\n",
    "Accuracy – Measures the overall correctness of predictions.\n",
    "Precision – Focuses on how many predicted positives are actually correct.\n",
    "Recall (Sensitivity) – Measures how well the model identifies actual positives.\n",
    "F1-Score – Balances Precision and Recall, useful for imbalanced data.\n",
    "ROC-AUC Score – Evaluates the model’s ability to distinguish between classes.\n",
    "Confusion Matrix – Provides a detailed breakdown of correct and incorrect predictions.\n",
    "Log Loss – Measures the uncertainty of probabilistic predictions (lower is better)"
   ]
  },
  {
   "cell_type": "code",
   "execution_count": null,
   "id": "15d7d0c3-ea0a-4b4d-9715-99836a504efe",
   "metadata": {},
   "outputs": [],
   "source": [
    "Q-12=How does class imbalance affect Logistic Regression?\n",
    "ans=Effect of Class Imbalance on Logistic Regression:\n",
    "Biased Predictions – The model favors the majority class, leading to poor detection of the minority class.\n",
    "High Accuracy Misleading – Accuracy may appear high but fails to capture minority class performance.\n",
    "Poor Recall for Minority Class – The model struggles to correctly identify minority class instances.\n",
    "Skewed Decision Boundary – The learned boundary may not properly separate both classes."
   ]
  },
  {
   "cell_type": "code",
   "execution_count": null,
   "id": "f166f2d5-3b6e-4d80-9c85-25e97ce57200",
   "metadata": {},
   "outputs": [],
   "source": [
    "Q-13=What is Hyperparameter Tuning in Logistic Regression?\n",
    "ans=Hyperparameter tuning is the process of optimizing model parameters to improve performance."
   ]
  },
  {
   "cell_type": "code",
   "execution_count": null,
   "id": "eca31211-1a92-4f5b-891f-468caaf89338",
   "metadata": {},
   "outputs": [],
   "source": [
    "Q-14= What are different solvers in Logistic Regression? Which one should be used?\n",
    "ans=liblinear – Best for small datasets, supports L1 & L2 regularization.\n",
    "lbfgs – Default solver, good for large datasets, supports only L2.\n",
    "newton-cg – Efficient for large datasets, supports only L2.\n",
    "sag – Best for very large datasets, works with only L2.\n",
    "saga – Supports both L1 & L2, best for large-scale problems.\n",
    "Small dataset - liblinear\n",
    "Large dataset - lbfgs, sag, or newton-cg\n",
    "L1 regularization - liblinear or saga\n",
    "Both L1 & L2 - saga (best for large data)"
   ]
  },
  {
   "cell_type": "code",
   "execution_count": null,
   "id": "29ed6b81-c19f-4db5-9e35-8731691a466e",
   "metadata": {},
   "outputs": [],
   "source": [
    "Q-15=How is Logistic Regression extended for multiclass classification?\n",
    "ans=Logistic Regression is naturally for binary classification but can be extended to multiclass classification using two main strategies:\n",
    "One-vs-Rest (OvR) / One-vs-All (OvA)\n",
    "Trains one classifier per class (class vs. all others).\n",
    "Final prediction is the class with the highest probability.\n",
    "Default method in Scikit-Learn (multi_class='ovr').\n",
    "Works well for most cases.\n",
    "One-vs-One (OvO)\n",
    "Trains one classifier per class pair (C(C-1)/2 models).\n",
    "Final prediction is based on majority voting from all models.\n",
    "Used for small datasets with few classes.\n",
    "Softmax Regression (Multinomial Logistic Regression)\n",
    "Directly predicts probabilities for all classes at once.\n",
    "Uses the Softmax function instead of the Sigmoid.\n",
    "More efficient than OvR for truly multiclass problems.\n",
    "Used by setting multi_class='multinomial' in Sklearn."
   ]
  },
  {
   "cell_type": "code",
   "execution_count": null,
   "id": "a5747c9c-789a-4bdf-900c-eeb19792cebb",
   "metadata": {},
   "outputs": [],
   "source": [
    "Q-16=What are the advantages and disadvantages of Logistic Regression?\n",
    "Ans=Advantages:\n",
    "Simple, interpretable, and easy to implement.\n",
    "Works well with small to medium datasets.\n",
    "Fast training with low computational cost.\n",
    "Provides probabilistic predictions.\n",
    "Coefficients show feature importance.\n",
    "Disadvantages:\n",
    "Assumes a linear relationship (log-odds).\n",
    "Sensitive to outliers.\n",
    "Not ideal for large or high-dimensional data.\n",
    "Struggles with complex patterns.\n",
    "Requires good feature engineering."
   ]
  },
  {
   "cell_type": "code",
   "execution_count": null,
   "id": "fbec5020-098b-434d-a312-fd43b52ac472",
   "metadata": {},
   "outputs": [],
   "source": [
    "Q-17=What are some use cases of Logistic Regression?\n",
    "ans=Use Cases of Logistic Regression:\n",
    "Medical Diagnosis – Predicts diseases (e.g., diabetes, cancer detection).\n",
    "Spam Detection – Classifies emails as spam or not spam.\n",
    "Credit Scoring – Determines loan approval based on credit history.\n",
    "Churn Prediction – Identifies customers likely to leave a service.\n",
    "Fraud Detection – Flags fraudulent transactions in banking.\n",
    "Marketing & Customer Segmentation – Predicts customer responses to campaigns.\n",
    "Employee Attrition – Identifies employees likely to leave a company.\n",
    "Sentiment Analysis – Classifies text as positive or negative."
   ]
  },
  {
   "cell_type": "code",
   "execution_count": null,
   "id": "2b12a90b-20ff-4a95-8702-f4450d91a3e4",
   "metadata": {},
   "outputs": [],
   "source": [
    "Q-18=What is the difference between Softmax Regression and Logistic Regression?\n",
    "ans=Usage: Logistic Regression is for binary classification, while Softmax Regression is for multiclass classification (3 or more classes).\n",
    "Output Function: Logistic Regression uses the Sigmoid function, whereas Softmax Regression uses the Softmax function to assign probabilities to multiple classes.\n",
    "Prediction: Logistic Regression predicts the probability of one class (0 or 1), while Softmax Regression predicts probabilities for all classes and selects the one with the highest probability.\n",
    "Decision Rule: Logistic Regression applies a probability threshold (e.g., >0.5), whereas Softmax Regression assigns the class with the highest probability.\n",
    "Implementation: In Scikit-Learn, Logistic Regression uses multi_class='ovr', while Softmax Regression uses multi_class='multinomial'."
   ]
  },
  {
   "cell_type": "code",
   "execution_count": null,
   "id": "73dcbaf2-a71f-416e-897d-16e3f19ede26",
   "metadata": {},
   "outputs": [],
   "source": [
    "Q-19= How do we choose between One-vs-Rest (OvR) and Softmax for multiclass classification?\n",
    "ans=If speed & simplicity are priorities then use OvR\n",
    "If accuracy & proper multiclass probability handling are important then use Softmax"
   ]
  },
  {
   "cell_type": "code",
   "execution_count": null,
   "id": "5ebcdb4e-6f3e-4c22-9a2e-6ec1823880f7",
   "metadata": {},
   "outputs": [],
   "source": [
    "Q-20=How do we interpret coefficients in Logistic Regression?\n",
    "ans=Interpreting Coefficients in Logistic Regression\n",
    "Each coefficient represents the impact of a feature on the log-odds of the target class.\n",
    "A positive coefficient means the feature increases the likelihood of the positive class.\n",
    "A negative coefficient means the feature decreases the likelihood of the positive class.\n",
    "The magnitude of the coefficient indicates the strength of the impact.\n",
    "To interpret in terms of probability, we use exponentiation, which gives the odds ratio."
   ]
  },
  {
   "cell_type": "markdown",
   "id": "c4ec5e94-775d-41da-a2e6-8bf4dd534e07",
   "metadata": {},
   "source": [
    "\n",
    "Practical Answers\n"
   ]
  },
  {
   "cell_type": "code",
   "execution_count": 8,
   "id": "5211de46-e9dd-418d-9f1e-a5b8c7498310",
   "metadata": {},
   "outputs": [],
   "source": [
    "import numpy as np\n",
    "import pandas as pd\n",
    "import matplotlib.pyplot as plt\n",
    "import seaborn as sns\n",
    "from sklearn.model_selection import train_test_split, GridSearchCV, RandomizedSearchCV, StratifiedKFold, cross_val_score\n",
    "from sklearn.preprocessing import StandardScaler\n",
    "from sklearn.linear_model import LogisticRegression\n",
    "from sklearn.metrics import accuracy_score, classification_report, confusion_matrix, roc_auc_score, precision_recall_curve, cohen_kappa_score, matthews_corrcoef\n",
    "import joblib"
   ]
  },
  {
   "cell_type": "code",
   "execution_count": 9,
   "id": "dc8177b6-a69f-412d-9c8c-aedd1c365bc9",
   "metadata": {},
   "outputs": [],
   "source": [
    "from sklearn.datasets import load_iris\n",
    "iris = load_iris()\n",
    "df = pd.DataFrame(data=iris.data, columns=iris.feature_names)\n",
    "df['target'] = iris.target"
   ]
  },
  {
   "cell_type": "code",
   "execution_count": 10,
   "id": "5bb14b7c-e377-49ea-9708-b52bc903bb18",
   "metadata": {},
   "outputs": [],
   "source": [
    "# Question 1 & 8: Train Logistic Regression and print accuracy\n",
    "X = df.drop(columns=['target'])\n",
    "y = df['target']\n",
    "X_train, X_test, y_train, y_test = train_test_split(X, y, test_size=0.2, random_state=42)"
   ]
  },
  {
   "cell_type": "code",
   "execution_count": 11,
   "id": "ae83611b-bf47-4a0f-acda-9db60fb47a30",
   "metadata": {},
   "outputs": [
    {
     "name": "stdout",
     "output_type": "stream",
     "text": [
      "Model Accuracy (Q1 & Q8): 1.0000\n"
     ]
    }
   ],
   "source": [
    "model = LogisticRegression()\n",
    "model.fit(X_train, y_train)\n",
    "print(f'Model Accuracy (Q1 & Q8): {accuracy_score(y_test, model.predict(X_test)):.4f}')"
   ]
  },
  {
   "cell_type": "code",
   "execution_count": 12,
   "id": "1bf125c6-5f8b-4fb2-9c3b-a0f2d0a4aa08",
   "metadata": {},
   "outputs": [
    {
     "name": "stdout",
     "output_type": "stream",
     "text": [
      "Model Accuracy with L1 (Q2): 1.0000\n",
      "Model Accuracy with L2 (Q3): 1.0000\n",
      "Coefficients (Q3): [[-0.39347744  0.96248927 -2.37513361 -0.99874691]\n",
      " [ 0.50844553 -0.2548109  -0.21300984 -0.77574616]\n",
      " [-0.11496809 -0.70767836  2.58814346  1.77449307]]\n"
     ]
    }
   ],
   "source": [
    "# Question 2 & 3: Train Logistic Regression with L1 & L2 Regularization\n",
    "model_l1 = LogisticRegression(penalty='l1', solver='liblinear')\n",
    "model_l1.fit(X_train, y_train)\n",
    "print(f'Model Accuracy with L1 (Q2): {accuracy_score(y_test, model_l1.predict(X_test)):.4f}')\n",
    "\n",
    "model_l2 = LogisticRegression(penalty='l2')\n",
    "model_l2.fit(X_train, y_train)\n",
    "print(f'Model Accuracy with L2 (Q3): {accuracy_score(y_test, model_l2.predict(X_test)):.4f}')\n",
    "print(f'Coefficients (Q3): {model_l2.coef_}')"
   ]
  },
  {
   "cell_type": "code",
   "execution_count": 13,
   "id": "fdccb4ca-5de9-4324-a071-fc6097e18720",
   "metadata": {},
   "outputs": [
    {
     "name": "stdout",
     "output_type": "stream",
     "text": [
      "Model Accuracy with Elastic Net (Q4): 1.0000\n"
     ]
    },
    {
     "name": "stderr",
     "output_type": "stream",
     "text": [
      "C:\\Users\\SMIT KUMAR\\AppData\\Local\\Programs\\Python\\Python312\\Lib\\site-packages\\sklearn\\linear_model\\_sag.py:350: ConvergenceWarning: The max_iter was reached which means the coef_ did not converge\n",
      "  warnings.warn(\n"
     ]
    }
   ],
   "source": [
    "# Question 4: Elastic Net Regularization\n",
    "model_elastic = LogisticRegression(penalty='elasticnet', solver='saga', l1_ratio=0.5)\n",
    "model_elastic.fit(X_train, y_train)\n",
    "print(f'Model Accuracy with Elastic Net (Q4): {accuracy_score(y_test, model_elastic.predict(X_test)):.4f}')"
   ]
  },
  {
   "cell_type": "code",
   "execution_count": 14,
   "id": "57b50fcb-d22a-474c-b6ce-231886a3a266",
   "metadata": {},
   "outputs": [
    {
     "name": "stdout",
     "output_type": "stream",
     "text": [
      "Multiclass OVR Accuracy (Q5): 0.9667\n"
     ]
    }
   ],
   "source": [
    "# Question 5: Multiclass OVR\n",
    "model_ovr = LogisticRegression(multi_class='ovr')\n",
    "model_ovr.fit(X_train, y_train)\n",
    "print(f'Multiclass OVR Accuracy (Q5): {accuracy_score(y_test, model_ovr.predict(X_test)):.4f}')"
   ]
  },
  {
   "cell_type": "code",
   "execution_count": 15,
   "id": "2c5dddf1-a040-4e0f-8df9-86c529712e09",
   "metadata": {},
   "outputs": [
    {
     "name": "stdout",
     "output_type": "stream",
     "text": [
      "Best Parameters (Q6): {'C': 1000.0, 'penalty': 'l2'}\n"
     ]
    },
    {
     "name": "stderr",
     "output_type": "stream",
     "text": [
      "C:\\Users\\SMIT KUMAR\\AppData\\Local\\Programs\\Python\\Python312\\Lib\\site-packages\\sklearn\\svm\\_base.py:1237: ConvergenceWarning: Liblinear failed to converge, increase the number of iterations.\n",
      "  warnings.warn(\n",
      "C:\\Users\\SMIT KUMAR\\AppData\\Local\\Programs\\Python\\Python312\\Lib\\site-packages\\sklearn\\svm\\_base.py:1237: ConvergenceWarning: Liblinear failed to converge, increase the number of iterations.\n",
      "  warnings.warn(\n"
     ]
    }
   ],
   "source": [
    "# Question 6 & 9: Hyperparameter Tuning with GridSearchCV & RandomizedSearchCV\n",
    "param_grid = {'C': np.logspace(-3, 3, 7), 'penalty': ['l1', 'l2']}\n",
    "grid_search = GridSearchCV(LogisticRegression(solver='liblinear'), param_grid, cv=5)\n",
    "grid_search.fit(X_train, y_train)\n",
    "print(f'Best Parameters (Q6): {grid_search.best_params_}')"
   ]
  },
  {
   "cell_type": "code",
   "execution_count": 16,
   "id": "76c495f1-6b21-41f1-83f2-aab74583363c",
   "metadata": {},
   "outputs": [
    {
     "name": "stderr",
     "output_type": "stream",
     "text": [
      "C:\\Users\\SMIT KUMAR\\AppData\\Local\\Programs\\Python\\Python312\\Lib\\site-packages\\sklearn\\linear_model\\_sag.py:350: ConvergenceWarning: The max_iter was reached which means the coef_ did not converge\n",
      "  warnings.warn(\n",
      "C:\\Users\\SMIT KUMAR\\AppData\\Local\\Programs\\Python\\Python312\\Lib\\site-packages\\sklearn\\linear_model\\_sag.py:350: ConvergenceWarning: The max_iter was reached which means the coef_ did not converge\n",
      "  warnings.warn(\n",
      "C:\\Users\\SMIT KUMAR\\AppData\\Local\\Programs\\Python\\Python312\\Lib\\site-packages\\sklearn\\linear_model\\_sag.py:350: ConvergenceWarning: The max_iter was reached which means the coef_ did not converge\n",
      "  warnings.warn(\n",
      "C:\\Users\\SMIT KUMAR\\AppData\\Local\\Programs\\Python\\Python312\\Lib\\site-packages\\sklearn\\linear_model\\_sag.py:350: ConvergenceWarning: The max_iter was reached which means the coef_ did not converge\n",
      "  warnings.warn(\n",
      "C:\\Users\\SMIT KUMAR\\AppData\\Local\\Programs\\Python\\Python312\\Lib\\site-packages\\sklearn\\linear_model\\_sag.py:350: ConvergenceWarning: The max_iter was reached which means the coef_ did not converge\n",
      "  warnings.warn(\n",
      "C:\\Users\\SMIT KUMAR\\AppData\\Local\\Programs\\Python\\Python312\\Lib\\site-packages\\sklearn\\linear_model\\_sag.py:350: ConvergenceWarning: The max_iter was reached which means the coef_ did not converge\n",
      "  warnings.warn(\n",
      "C:\\Users\\SMIT KUMAR\\AppData\\Local\\Programs\\Python\\Python312\\Lib\\site-packages\\sklearn\\linear_model\\_sag.py:350: ConvergenceWarning: The max_iter was reached which means the coef_ did not converge\n",
      "  warnings.warn(\n",
      "C:\\Users\\SMIT KUMAR\\AppData\\Local\\Programs\\Python\\Python312\\Lib\\site-packages\\sklearn\\linear_model\\_sag.py:350: ConvergenceWarning: The max_iter was reached which means the coef_ did not converge\n",
      "  warnings.warn(\n",
      "C:\\Users\\SMIT KUMAR\\AppData\\Local\\Programs\\Python\\Python312\\Lib\\site-packages\\sklearn\\linear_model\\_sag.py:350: ConvergenceWarning: The max_iter was reached which means the coef_ did not converge\n",
      "  warnings.warn(\n",
      "C:\\Users\\SMIT KUMAR\\AppData\\Local\\Programs\\Python\\Python312\\Lib\\site-packages\\sklearn\\linear_model\\_sag.py:350: ConvergenceWarning: The max_iter was reached which means the coef_ did not converge\n",
      "  warnings.warn(\n",
      "C:\\Users\\SMIT KUMAR\\AppData\\Local\\Programs\\Python\\Python312\\Lib\\site-packages\\sklearn\\svm\\_base.py:1237: ConvergenceWarning: Liblinear failed to converge, increase the number of iterations.\n",
      "  warnings.warn(\n"
     ]
    },
    {
     "name": "stdout",
     "output_type": "stream",
     "text": [
      "Best Parameters (Q9): {'solver': 'saga', 'penalty': 'l1', 'C': 1.0}\n"
     ]
    },
    {
     "name": "stderr",
     "output_type": "stream",
     "text": [
      "C:\\Users\\SMIT KUMAR\\AppData\\Local\\Programs\\Python\\Python312\\Lib\\site-packages\\sklearn\\linear_model\\_sag.py:350: ConvergenceWarning: The max_iter was reached which means the coef_ did not converge\n",
      "  warnings.warn(\n"
     ]
    }
   ],
   "source": [
    "param_dist = {'C': np.logspace(-3, 3, 7), 'penalty': ['l1', 'l2'], 'solver': ['liblinear', 'saga']}\n",
    "random_search = RandomizedSearchCV(LogisticRegression(), param_distributions=param_dist, n_iter=10, cv=5)\n",
    "random_search.fit(X_train, y_train)\n",
    "print(f'Best Parameters (Q9): {random_search.best_params_}')"
   ]
  },
  {
   "cell_type": "code",
   "execution_count": 17,
   "id": "cb61b3b2-4fb9-4d7f-a1d5-244d75bf8875",
   "metadata": {},
   "outputs": [
    {
     "name": "stdout",
     "output_type": "stream",
     "text": [
      "Cross-Validation Accuracy (Q7): 0.9733\n"
     ]
    },
    {
     "name": "stderr",
     "output_type": "stream",
     "text": [
      "C:\\Users\\SMIT KUMAR\\AppData\\Local\\Programs\\Python\\Python312\\Lib\\site-packages\\sklearn\\linear_model\\_logistic.py:469: ConvergenceWarning: lbfgs failed to converge (status=1):\n",
      "STOP: TOTAL NO. of ITERATIONS REACHED LIMIT.\n",
      "\n",
      "Increase the number of iterations (max_iter) or scale the data as shown in:\n",
      "    https://scikit-learn.org/stable/modules/preprocessing.html\n",
      "Please also refer to the documentation for alternative solver options:\n",
      "    https://scikit-learn.org/stable/modules/linear_model.html#logistic-regression\n",
      "  n_iter_i = _check_optimize_result(\n"
     ]
    }
   ],
   "source": [
    "# Question 7: Stratified K-Fold Cross Validation\n",
    "skf = StratifiedKFold(n_splits=5)\n",
    "cross_val_acc = cross_val_score(model_l2, X, y, cv=skf).mean()\n",
    "print(f'Cross-Validation Accuracy (Q7): {cross_val_acc:.4f}')"
   ]
  },
  {
   "cell_type": "code",
   "execution_count": 18,
   "id": "3b825186-cef7-4ed8-9b92-11e7b238ec3d",
   "metadata": {},
   "outputs": [
    {
     "name": "stdout",
     "output_type": "stream",
     "text": [
      "One-vs-One Accuracy (Q10): 1.0000\n"
     ]
    }
   ],
   "source": [
    "# Question 10: One-vs-One Multiclass Logistic Regression\n",
    "from sklearn.multiclass import OneVsOneClassifier\n",
    "ovo_model = OneVsOneClassifier(LogisticRegression())\n",
    "ovo_model.fit(X_train, y_train)\n",
    "print(f'One-vs-One Accuracy (Q10): {accuracy_score(y_test, ovo_model.predict(X_test)):.4f}')"
   ]
  },
  {
   "cell_type": "code",
   "execution_count": 19,
   "id": "3d3b1c2a-bb49-4eae-a1ba-52d500a57a36",
   "metadata": {},
   "outputs": [
    {
     "data": {
      "image/png": "[encoded data removed]",
      "text/plain": [
       "<Figure size 640x480 with 2 Axes>"
      ]
     },
     "metadata": {},
     "output_type": "display_data"
    }
   ],
   "source": [
    "# Question 11: Confusion Matrix\n",
    "conf_matrix = confusion_matrix(y_test, model_l2.predict(X_test))\n",
    "sns.heatmap(conf_matrix, annot=True, fmt='d', cmap='Blues')\n",
    "plt.xlabel('Predicted')\n",
    "plt.ylabel('Actual')\n",
    "plt.title('Confusion Matrix (Q11)')\n",
    "plt.show()"
   ]
  },
  {
   "cell_type": "code",
   "execution_count": 20,
   "id": "bb6079e7-2235-47a2-8644-998f8d3e962f",
   "metadata": {},
   "outputs": [
    {
     "name": "stdout",
     "output_type": "stream",
     "text": [
      "Classification Report (Q12):\n",
      "              precision    recall  f1-score   support\n",
      "\n",
      "           0       1.00      1.00      1.00        10\n",
      "           1       1.00      1.00      1.00         9\n",
      "           2       1.00      1.00      1.00        11\n",
      "\n",
      "    accuracy                           1.00        30\n",
      "   macro avg       1.00      1.00      1.00        30\n",
      "weighted avg       1.00      1.00      1.00        30\n",
      "\n"
     ]
    }
   ],
   "source": [
    "# Question 12: Classification Report\n",
    "print(f'Classification Report (Q12):\\n{classification_report(y_test, model_l2.predict(X_test))}')"
   ]
  },
  {
   "cell_type": "code",
   "execution_count": 21,
   "id": "954305f6-5414-43a6-86eb-4b0ca2383b28",
   "metadata": {},
   "outputs": [
    {
     "name": "stdout",
     "output_type": "stream",
     "text": [
      "Titanic Model Accuracy (Q14): 0.7552\n"
     ]
    }
   ],
   "source": [
    "# Question 14: Logistic Regression on Titanic Dataset\n",
    "import seaborn as sns\n",
    "titanic = sns.load_dataset('titanic')\n",
    "titanic.dropna(subset=['age', 'fare', 'sex', 'class', 'survived'], inplace=True)\n",
    "titanic['sex'] = titanic['sex'].map({'male': 0, 'female': 1})\n",
    "titanic['class'] = titanic['class'].map({'Third': 3, 'Second': 2, 'First': 1})\n",
    "X_titanic = titanic[['age', 'fare', 'sex', 'class']]\n",
    "y_titanic = titanic['survived']\n",
    "X_train_t, X_test_t, y_train_t, y_test_t = train_test_split(X_titanic, y_titanic, test_size=0.2, random_state=42)\n",
    "model_titanic = LogisticRegression()\n",
    "model_titanic.fit(X_train_t, y_train_t)\n",
    "print(f'Titanic Model Accuracy (Q14): {accuracy_score(y_test_t, model_titanic.predict(X_test_t)):.4f}')"
   ]
  },
  {
   "cell_type": "code",
   "execution_count": 22,
   "id": "051d73c7-c754-4407-8f4d-b12465ceb154",
   "metadata": {},
   "outputs": [
    {
     "name": "stdout",
     "output_type": "stream",
     "text": [
      "Raw Data Accuracy (Q23): 1.0000\n",
      "Scaled Data Accuracy (Q23): 1.0000\n"
     ]
    }
   ],
   "source": [
    "# Question 23: Compare Raw vs Standardized Data\n",
    "scaler = StandardScaler()\n",
    "X_train_scaled = scaler.fit_transform(X_train)\n",
    "X_test_scaled = scaler.transform(X_test)\n",
    "model_scaled = LogisticRegression()\n",
    "model_scaled.fit(X_train_scaled, y_train)\n",
    "print(f'Raw Data Accuracy (Q23): {accuracy_score(y_test, model.predict(X_test)):.4f}')\n",
    "print(f'Scaled Data Accuracy (Q23): {accuracy_score(y_test, model_scaled.predict(X_test_scaled)):.4f}')"
   ]
  },
  {
   "cell_type": "code",
   "execution_count": 23,
   "id": "3bef263f-b3ba-4e99-9086-dc64199684cd",
   "metadata": {},
   "outputs": [
    {
     "name": "stderr",
     "output_type": "stream",
     "text": [
      "C:\\Users\\SMIT KUMAR\\AppData\\Local\\Programs\\Python\\Python312\\Lib\\site-packages\\sklearn\\linear_model\\_logistic.py:469: ConvergenceWarning: lbfgs failed to converge (status=1):\n",
      "STOP: TOTAL NO. of ITERATIONS REACHED LIMIT.\n",
      "\n",
      "Increase the number of iterations (max_iter) or scale the data as shown in:\n",
      "    https://scikit-learn.org/stable/modules/preprocessing.html\n",
      "Please also refer to the documentation for alternative solver options:\n",
      "    https://scikit-learn.org/stable/modules/linear_model.html#logistic-regression\n",
      "  n_iter_i = _check_optimize_result(\n",
      "C:\\Users\\SMIT KUMAR\\AppData\\Local\\Programs\\Python\\Python312\\Lib\\site-packages\\sklearn\\linear_model\\_logistic.py:469: ConvergenceWarning: lbfgs failed to converge (status=1):\n",
      "STOP: TOTAL NO. of ITERATIONS REACHED LIMIT.\n",
      "\n",
      "Increase the number of iterations (max_iter) or scale the data as shown in:\n",
      "    https://scikit-learn.org/stable/modules/preprocessing.html\n",
      "Please also refer to the documentation for alternative solver options:\n",
      "    https://scikit-learn.org/stable/modules/linear_model.html#logistic-regression\n",
      "  n_iter_i = _check_optimize_result(\n",
      "C:\\Users\\SMIT KUMAR\\AppData\\Local\\Programs\\Python\\Python312\\Lib\\site-packages\\sklearn\\linear_model\\_logistic.py:469: ConvergenceWarning: lbfgs failed to converge (status=1):\n",
      "STOP: TOTAL NO. of ITERATIONS REACHED LIMIT.\n",
      "\n",
      "Increase the number of iterations (max_iter) or scale the data as shown in:\n",
      "    https://scikit-learn.org/stable/modules/preprocessing.html\n",
      "Please also refer to the documentation for alternative solver options:\n",
      "    https://scikit-learn.org/stable/modules/linear_model.html#logistic-regression\n",
      "  n_iter_i = _check_optimize_result(\n",
      "C:\\Users\\SMIT KUMAR\\AppData\\Local\\Programs\\Python\\Python312\\Lib\\site-packages\\sklearn\\linear_model\\_logistic.py:469: ConvergenceWarning: lbfgs failed to converge (status=1):\n",
      "STOP: TOTAL NO. of ITERATIONS REACHED LIMIT.\n",
      "\n",
      "Increase the number of iterations (max_iter) or scale the data as shown in:\n",
      "    https://scikit-learn.org/stable/modules/preprocessing.html\n",
      "Please also refer to the documentation for alternative solver options:\n",
      "    https://scikit-learn.org/stable/modules/linear_model.html#logistic-regression\n",
      "  n_iter_i = _check_optimize_result(\n",
      "C:\\Users\\SMIT KUMAR\\AppData\\Local\\Programs\\Python\\Python312\\Lib\\site-packages\\sklearn\\linear_model\\_logistic.py:469: ConvergenceWarning: lbfgs failed to converge (status=1):\n",
      "STOP: TOTAL NO. of ITERATIONS REACHED LIMIT.\n",
      "\n",
      "Increase the number of iterations (max_iter) or scale the data as shown in:\n",
      "    https://scikit-learn.org/stable/modules/preprocessing.html\n",
      "Please also refer to the documentation for alternative solver options:\n",
      "    https://scikit-learn.org/stable/modules/linear_model.html#logistic-regression\n",
      "  n_iter_i = _check_optimize_result(\n"
     ]
    },
    {
     "name": "stdout",
     "output_type": "stream",
     "text": [
      "Optimal C Value (Q24): 10.0\n"
     ]
    },
    {
     "name": "stderr",
     "output_type": "stream",
     "text": [
      "C:\\Users\\SMIT KUMAR\\AppData\\Local\\Programs\\Python\\Python312\\Lib\\site-packages\\sklearn\\linear_model\\_logistic.py:469: ConvergenceWarning: lbfgs failed to converge (status=1):\n",
      "STOP: TOTAL NO. of ITERATIONS REACHED LIMIT.\n",
      "\n",
      "Increase the number of iterations (max_iter) or scale the data as shown in:\n",
      "    https://scikit-learn.org/stable/modules/preprocessing.html\n",
      "Please also refer to the documentation for alternative solver options:\n",
      "    https://scikit-learn.org/stable/modules/linear_model.html#logistic-regression\n",
      "  n_iter_i = _check_optimize_result(\n"
     ]
    }
   ],
   "source": [
    "# Question 24: Optimal C using Cross-Validation\n",
    "from sklearn.model_selection import cross_val_score\n",
    "c_values = np.logspace(-3, 3, 7)\n",
    "best_c = max(c_values, key=lambda c: np.mean(cross_val_score(LogisticRegression(C=c), X, y, cv=5)))\n",
    "print(f'Optimal C Value (Q24): {best_c}')"
   ]
  },
  {
   "cell_type": "code",
   "execution_count": 24,
   "id": "2d67033d-321f-4389-9856-48c081f2f0d3",
   "metadata": {},
   "outputs": [
    {
     "name": "stdout",
     "output_type": "stream",
     "text": [
      "Model Accuracy after Loading (Q25): 1.0000\n"
     ]
    }
   ],
   "source": [
    "# Question 25: Save and Load Model\n",
    "joblib.dump(model, 'logistic_model.pkl')\n",
    "loaded_model = joblib.load('logistic_model.pkl')\n",
    "predictions = loaded_model.predict(X_test)\n",
    "print(f'Model Accuracy after Loading (Q25): {accuracy_score(y_test, predictions):.4f}')"
   ]
  },
  {
   "cell_type": "code",
   "execution_count": null,
   "id": "185d08e2-b9d1-44d4-8681-6027cf557228",
   "metadata": {},
   "outputs": [],
   "source": []
  }
 ],
 "metadata": {
  "kernelspec": {
   "display_name": "Python 3 (ipykernel)",
   "language": "python",
   "name": "python3"
  },
  "language_info": {
   "codemirror_mode": {
    "name": "ipython",
    "version": 3
   },
   "file_extension": ".py",
   "mimetype": "text/x-python",
   "name": "python",
   "nbconvert_exporter": "python",
   "pygments_lexer": "ipython3",
   "version": "3.12.0"
  }
 },
 "nbformat": 4,
 "nbformat_minor": 5
}
