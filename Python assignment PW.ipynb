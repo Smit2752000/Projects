{
 "cells": [
  {
   "cell_type": "markdown",
   "id": "7b01482d-2e83-4b45-b2c5-39a010b759fb",
   "metadata": {},
   "source": [
    "#1 Explain the key features of Python that make it a popular choice for programming\n",
    "Ans= Simplicity,Interpreted Language,Dynamically Typed,Cross-Platform,OOPS,Extensive Libraries(Numpy,pandas,etc)"
   ]
  },
  {
   "cell_type": "markdown",
   "id": "c876f391-e7aa-4cc4-9f12-2c7373a8b41c",
   "metadata": {},
   "source": [
    "#2 Describe the role of predefined keywords in Python and provide examples of how they are used in a program"
   ]
  },
  {
   "cell_type": "markdown",
   "id": "2551ecee-2b3d-4c2a-a2b3-221542025260",
   "metadata": {},
   "source": [
    "Ans= Predefined keywords are reserved words in Python that cannot be used as identifiers.\n",
    "They serve specific purposes in the language, like control flow, data handling, etc.\n",
    "Example of keywords= [if,else=[Conditional statement]],[for,while=[Loops]],[def=[Function defination]],[class=[class defination]]"
   ]
  },
  {
   "cell_type": "markdown",
   "id": "2c517209-e009-4c23-8cf2-b9fb71513655",
   "metadata": {},
   "source": [
    "#3 Compare and contrast mutable and immutable objects in Python with examples.\n",
    "Ans=Mutable Objects: Can be modified after creation=[list,set,dict] and mmutable Objects: Cannot be modified after creation=[tuple,int,float,str]"
   ]
  },
  {
   "cell_type": "code",
   "execution_count": 10,
   "id": "447e7779-15e8-4c61-bdde-22735aaa23a3",
   "metadata": {},
   "outputs": [
    {
     "name": "stdout",
     "output_type": "stream",
     "text": [
      "this is mutable object['A', 2, 3]\n",
      "(1, 2, 3) is immutable object\n"
     ]
    }
   ],
   "source": [
    "ex=[1,2,3]\n",
    "type(ex)\n",
    "ex[0]='A'\n",
    "print(f'this is mutable object{ex}')\n",
    "ex=(1,2,3)\n",
    "type(ex)\n",
    "print(f'{ex} is immutable object')"
   ]
  },
  {
   "cell_type": "markdown",
   "id": "818085e0-d00c-4c4a-968d-6171b458f1d5",
   "metadata": {},
   "source": [
    "#4 Discuss the different types of operators in Python and provide examples of how they are used."
   ]
  },
  {
   "cell_type": "markdown",
   "id": "9bf39fb4-d8d8-43d8-b983-2a2ac0f47d8c",
   "metadata": {},
   "source": [
    "Ans = Arithmetic Operators: +, -, *, /, %, **, //\n",
    "Comparison Operators: ==, !=, >, <, >=, <=\n",
    "Logical Operators: and, or, not\n",
    "Assignment Operators: =, +=, -=, *=, /="
   ]
  },
  {
   "cell_type": "code",
   "execution_count": 12,
   "id": "6ed95355-1c14-4626-bd58-0f3a47c9bec1",
   "metadata": {},
   "outputs": [
    {
     "name": "stdout",
     "output_type": "stream",
     "text": [
      "[3] [-1] [2]\n"
     ]
    }
   ],
   "source": [
    "#example\n",
    "x=1\n",
    "y=2\n",
    "print([x+y],[x-y],[x*y])"
   ]
  },
  {
   "cell_type": "markdown",
   "id": "38cc10b0-1780-4dbb-959b-3a89e5a51835",
   "metadata": {},
   "source": [
    "#5 Explain the concept of type casting in Python with examples\n",
    "Ans=Implicit Casting: Done automatically by Python.\n",
    "Explicit Casting: Done manually using functions like int(), float(), str()."
   ]
  },
  {
   "cell_type": "code",
   "execution_count": 18,
   "id": "59f7d3f7-9e55-4796-b51f-ecfb375ede4b",
   "metadata": {},
   "outputs": [
    {
     "name": "stdout",
     "output_type": "stream",
     "text": [
      "Here x is convert into float automatically=(3.5)\n",
      "Here we convert manually str to int=(12)\n"
     ]
    }
   ],
   "source": [
    "#example\n",
    "x=1\n",
    "y=2.5\n",
    "print(f'Here x is convert into float automatically=({x+y})')\n",
    "x='10'\n",
    "y=int(x)\n",
    "print(f'Here we convert manually str to int=({y+2})')"
   ]
  },
  {
   "cell_type": "markdown",
   "id": "857930a3-88a8-40f8-ab89-95a5458c66f4",
   "metadata": {},
   "source": [
    "#6 How do conditional statements work in Python? Illustrate with examples\n",
    "Ans=Conditional statements execute blocks of code based on conditions.\n",
    "Syntax: if, elif, else"
   ]
  },
  {
   "cell_type": "code",
   "execution_count": 23,
   "id": "4ae2f444-5e32-4e91-9742-216a255b97a0",
   "metadata": {},
   "outputs": [
    {
     "name": "stdin",
     "output_type": "stream",
     "text": [
      " 2\n"
     ]
    },
    {
     "name": "stdout",
     "output_type": "stream",
     "text": [
      "Two\n"
     ]
    }
   ],
   "source": [
    "x=int(input())\n",
    "if x==1:\n",
    "    print('One')\n",
    "elif x==2:\n",
    "    print('Two')\n",
    "else:\n",
    "    print('Random')"
   ]
  },
  {
   "cell_type": "markdown",
   "id": "153133a0-5900-4363-aacb-62e110eba414",
   "metadata": {},
   "source": [
    "#7 Describe the different types of loops in Python and their use cases with examples\n",
    "Ans= for Loop: Iterates over a sequence.\n",
    "Use case: Traversing lists, strings, or ranges.\n",
    "while Loop: Repeats as long as a condition is true.\n",
    "Use case: Indeterminate iterations."
   ]
  },
  {
   "cell_type": "code",
   "execution_count": 27,
   "id": "0c5b531e-c745-4adf-b4c3-56d459da700a",
   "metadata": {},
   "outputs": [
    {
     "name": "stdout",
     "output_type": "stream",
     "text": [
      "0\n",
      "1\n",
      "2\n",
      "3\n",
      "4\n",
      "5\n",
      "6\n",
      "7\n",
      "8\n",
      "9\n",
      "***\n",
      "0\n",
      "1\n",
      "2\n",
      "3\n",
      "4\n",
      "5\n",
      "6\n",
      "7\n",
      "8\n",
      "9\n"
     ]
    }
   ],
   "source": [
    "for i in range(10):\n",
    "    print(i)\n",
    "print('***')\n",
    "count=0\n",
    "while count<10:\n",
    "    print(count)\n",
    "    count+=1"
   ]
  }
 ],
 "metadata": {
  "kernelspec": {
   "display_name": "Python 3 (ipykernel)",
   "language": "python",
   "name": "python3"
  },
  "language_info": {
   "codemirror_mode": {
    "name": "ipython",
    "version": 3
   },
   "file_extension": ".py",
   "mimetype": "text/x-python",
   "name": "python",
   "nbconvert_exporter": "python",
   "pygments_lexer": "ipython3",
   "version": "3.12.0"
  }
 },
 "nbformat": 4,
 "nbformat_minor": 5
}
