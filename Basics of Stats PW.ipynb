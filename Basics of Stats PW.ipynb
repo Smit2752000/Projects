{
 "cells": [
  {
   "cell_type": "code",
   "execution_count": null,
   "id": "68a31d5b-52fc-4ddc-b578-2d7be708e713",
   "metadata": {},
   "outputs": [],
   "source": [
    "1. Explain the different types of data (qualitative and quantitative) and provide examples of each. Discuss \n",
    "nominal, ordinal, interval, and ratio scales"
   ]
  },
  {
   "cell_type": "code",
   "execution_count": null,
   "id": "b336e042-7093-4b80-8638-77033a5ed048",
   "metadata": {},
   "outputs": [],
   "source": [
    "Ans = \n",
    "1. Qualitative Data (Categorical Data):\n",
    "This data represents categories or groups and is not numerical in nature. It describes qualities or attributes.\n",
    "\n",
    "Examples:\n",
    "Gender (Male, Female)\n",
    "Eye color (Blue, Brown)\n",
    "Types of fruits (Apple, Orange)\n",
    "2. Quantitative Data (Numerical Data):\n",
    "This data represents numbers and can be measured. It describes quantities.\n",
    "\n",
    "Examples:\n",
    "Age (25 years)\n",
    "Height (170 cm)\n",
    "Temperature (35°C)\n",
    "\n",
    "Nominal Scale (Qualitative):\n",
    "\n",
    "Categories with no inherent order.\n",
    "Examples: Blood type (A, B, AB, O), Nationality (Indian, American).\n",
    "Ordinal Scale (Qualitative):\n",
    "\n",
    "Categories with a meaningful order but without consistent intervals.\n",
    "Examples: Education level (Primary, Secondary, Tertiary), Customer satisfaction (Satisfied, Neutral, Dissatisfied).\n",
    "Interval Scale (Quantitative):\n",
    "\n",
    "Numeric scale with equal intervals but no true zero point.\n",
    "Examples: Temperature in Celsius, IQ scores.\n",
    "Ratio Scale (Quantitative):\n",
    "\n",
    "Numeric scale with equal intervals and a true zero point, allowing ratios to be calculated.\n",
    "Examples: Weight (50 kg), Salary (₹40,000), Distance (5 km)."
   ]
  },
  {
   "cell_type": "code",
   "execution_count": null,
   "id": "c21c300f-ec05-492f-9451-ffe95b15d344",
   "metadata": {},
   "outputs": [],
   "source": [
    "2. What are the measures of central tendency, and when should you use each? Discuss the mean, median, \n",
    "and mode with examples and situations where each is appropriate."
   ]
  },
  {
   "cell_type": "code",
   "execution_count": null,
   "id": "cf15099d-e766-40d9-adb1-92cac3e1af4a",
   "metadata": {},
   "outputs": [],
   "source": [
    "Ans=\n",
    "Central tendency describes the center or typical value of a dataset. The three main measures are mean, median, and mode.\n",
    "--Mean (Arithmetic Average):\n",
    "Definition: The sum of all values divided by the total number of values.\n",
    "example: \n",
    "A=1+2+3+4+2\n",
    "Mean of A is 12/4=3\n",
    "When to Use:\n",
    "When the data is continuous or discrete.\n",
    "When the data is symmetrical and has no extreme outliers. \n",
    "--Median (Middle Value):\n",
    "Definition: The middle value when the data is ordered. If there is an even number of values, take the average of the two middle values.\n",
    "example:\n",
    "Median of A is 3\n",
    "When to Use:\n",
    "When the data is skewed or has outliers (e.g., income data).\n",
    "For ordinal data where the order matters.\n",
    "-- Mode (Most Frequent Value):\n",
    "Definition: The value that appears most frequently in the dataset. A dataset may have one mode, more than one mode (bimodal or multimodal), or no mode.\n",
    "example:\n",
    "Mode of A is 2\n",
    "When to Use:\n",
    "For categorical data to identify the most common category (e.g., favorite color).\n",
    "For datasets where identifying frequency is important."
   ]
  },
  {
   "cell_type": "code",
   "execution_count": null,
   "id": "3b64f58f-e2e9-48b2-a769-f362ef348a7c",
   "metadata": {},
   "outputs": [],
   "source": [
    "3. Explain the concept of dispersion. How do variance and standard deviation measure the spread of data?"
   ]
  },
  {
   "cell_type": "code",
   "execution_count": null,
   "id": "240b9644-faf8-43db-8e3e-2e374b7a7828",
   "metadata": {},
   "outputs": [],
   "source": [
    "Ans =\n",
    "Dispersion refers to the extent to which data points in a dataset spread out or deviate from the central value (mean, median, or mode). \n",
    "It helps understand the variability and reliability of the data.\n",
    "Variance:\n",
    "Measures how far each data point is from the mean, squared to emphasize larger deviations.\n",
    "Higher variance = greater spread of data.\n",
    "Standard Deviation:\n",
    "Measures the average distance of data points from the mean.\n",
    "Easier to interpret than variance as it is in the same units as the data."
   ]
  },
  {
   "cell_type": "code",
   "execution_count": null,
   "id": "e8be0366-4a24-4b66-9141-962a72dc7b4b",
   "metadata": {},
   "outputs": [],
   "source": [
    "4. What is a box plot, and what can it tell you about the distribution of data?"
   ]
  },
  {
   "cell_type": "code",
   "execution_count": null,
   "id": "5bbffbe3-1a1a-4520-8d74-7ff1e2a84f3e",
   "metadata": {},
   "outputs": [],
   "source": [
    "Ans =\n",
    "A box plot, also known as a box-and-whisker plot, is a graphical representation of the distribution of a dataset.\n",
    "It provides a visual summary of key statistical measures: median, quartiles, and potential outliers.\n",
    "What a Box Plot Tells Us is:\n",
    "Spread and Variability: The width of the box and length of whiskers show how spread out the data is.\n",
    "Central Tendency: The median line indicates the central value.\n",
    "Skewness: If the median is closer to Q1 or Q3, the data may be skewed left or right.\n",
    "Outliers: Identifies data points that deviate significantly from the rest."
   ]
  },
  {
   "cell_type": "code",
   "execution_count": null,
   "id": "5b9ca175-444a-49e3-9519-aff0bf068ba0",
   "metadata": {},
   "outputs": [],
   "source": [
    "5. Discuss the role of random sampling in making inferences about populations."
   ]
  },
  {
   "cell_type": "code",
   "execution_count": null,
   "id": "59bd0711-7ec0-434a-a267-dc18e8b59c4d",
   "metadata": {},
   "outputs": [],
   "source": [
    "Ans =\n",
    "Random sampling is a statistical technique where every individual in a population has an equal chance of being selected.\n",
    "It is essential for making accurate and reliable inferences about a population without surveying every individual."
   ]
  },
  {
   "cell_type": "code",
   "execution_count": null,
   "id": "5c2c8031-fe57-4f44-97c0-0fb962fdfacb",
   "metadata": {},
   "outputs": [],
   "source": [
    "6. Explain the concept of skewness and its types. How does skewness affect the interpretation of data?"
   ]
  },
  {
   "cell_type": "code",
   "execution_count": null,
   "id": "53386da3-c63c-4db5-b413-b7c47ff3ce2b",
   "metadata": {},
   "outputs": [],
   "source": [
    "Ans =\n",
    "Skewness is a measure of the asymmetry of a dataset’s distribution.\n",
    "It indicates whether the data points are symmetrically distributed around the mean or if they are skewed to one side.\n",
    "Types of Skewness\n",
    "-Symmetrical Distribution (Zero Skewness):\n",
    "Data is evenly distributed around the mean.\n",
    "-Positive Skew (Right Skew):\n",
    "The tail on the right side is longer or more stretched out.\n",
    "Most data values are concentrated on the lower side.\n",
    "Mean > Median > Mode.\n",
    "-Negative Skew (Left Skew):\n",
    "The tail on the left side is longer or more stretched out.\n",
    "Most data values are concentrated on the higher side.\n",
    "Mean < Median < Mode."
   ]
  },
  {
   "cell_type": "code",
   "execution_count": null,
   "id": "059db59d-e6f8-45de-94b6-98a3d8c9af35",
   "metadata": {},
   "outputs": [],
   "source": [
    "7. What is the interquartile range (IQR), and how is it used to detect outliers?"
   ]
  },
  {
   "cell_type": "code",
   "execution_count": null,
   "id": "1505fc4f-3d7e-47b2-b10f-6a6a0f60fdd9",
   "metadata": {},
   "outputs": [],
   "source": [
    "Ans =\n",
    "IQR is a measure of statistical dispersion that shows the range of the middle 50% of data in a dataset. It is calculated as:\n",
    "IQR=Q3−Q1\n",
    "Q1 (First Quartile): The value below which 25% of the data falls.\n",
    "Q3 (Third Quartile): The value below which 75% of the data falls.\n",
    "Outliers are data points that fall significantly outside the normal range. They are detected using the following rule:\n",
    "Lower Bound: Q1−1.5×IQR\n",
    "Upper Bound:Q3+1.5×IQR\n",
    "Outliers: Any data point outside this range is considered an outlier."
   ]
  },
  {
   "cell_type": "code",
   "execution_count": null,
   "id": "bbd77864-e427-4d3c-b1fa-b9e70b7068a4",
   "metadata": {},
   "outputs": [],
   "source": [
    "8. Discuss the conditions under which the binomial distribution is used."
   ]
  },
  {
   "cell_type": "code",
   "execution_count": null,
   "id": "1ebd7d94-6957-4970-8d81-4cda953d12ec",
   "metadata": {},
   "outputs": [],
   "source": [
    "Ans= \n",
    "The binomial distribution is a discrete probability distribution that models the number of successes in a fixed number of \n",
    "independent trials of a binary experiment.Each trial has only two possible outcomes: success or failure.\n",
    "-Fixed Number of Trials (n): The experiment is performed a set number of times.\n",
    "-Independent Trials: The outcome of one trial does not affect the outcome of another.\n",
    "-Binary Outcomes: Each trial has exactly two possible outcomes, typically labeled as success (p) and failure (1−p).\n",
    "-Constant Probability of Success (p): The probability of success remains the same across all trials."
   ]
  },
  {
   "cell_type": "code",
   "execution_count": null,
   "id": "99ef4f89-80fa-4a56-91f6-96b7e382f373",
   "metadata": {},
   "outputs": [],
   "source": [
    "9. Explain the properties of the normal distribution and the empirical rule (68-95-99.7 rule)."
   ]
  },
  {
   "cell_type": "code",
   "execution_count": null,
   "id": "dbcfb5ce-20e7-45e6-93fc-c017b57ba642",
   "metadata": {},
   "outputs": [],
   "source": [
    "Ans= \n",
    "The normal distribution is a bell-shaped, symmetric probability distribution where most data points cluster around the mean,\n",
    "and the probabilities taper off equally on both sides.\n",
    "Properties of Normal Distribution:\n",
    "-Symmetry, Bell Shape ,Asymptotic ,Defined by Parameters ,Area Under the Curve\n",
    "\n",
    "The empirical rule provides a quick estimate of the data spread in a normal distribution:\n",
    "\n",
    "68% of Data:\n",
    "Falls within 1 standard deviation of the mean.\n",
    "95% of Data:\n",
    "Falls within 2 standard deviations of the mean.\n",
    "99.7% of Data:\n",
    "Falls within 3 standard deviations of the mean."
   ]
  },
  {
   "cell_type": "code",
   "execution_count": null,
   "id": "894461aa-fb37-4ce5-9e70-f78db7f87440",
   "metadata": {},
   "outputs": [],
   "source": [
    "10. Provide a real-life example of a Poisson process and calculate the probability for a specific event."
   ]
  },
  {
   "cell_type": "code",
   "execution_count": null,
   "id": "8b1f6962-357e-42f6-93df-ced610afdcdb",
   "metadata": {},
   "outputs": [],
   "source": [
    "Ans=\n",
    "A restaurant receives an average of λ=10 online orders per hour. What is the probability that the restaurant receives exactly k=7 orders in an hour?\n",
    "The probability of receiving exactly 7 online orders in an hour is approximately 0.089 (8.9%)."
   ]
  },
  {
   "cell_type": "code",
   "execution_count": null,
   "id": "8e90a470-4b6a-47ed-a18d-e78f51d6d862",
   "metadata": {},
   "outputs": [],
   "source": [
    "11. Explain what a random variable is and differentiate between discrete and continuous random variables."
   ]
  },
  {
   "cell_type": "code",
   "execution_count": null,
   "id": "a54d670c-56c5-4a4d-9a9c-487d50e6ff49",
   "metadata": {},
   "outputs": [],
   "source": [
    "Ans=\n",
    "A random variable is a numerical outcome of a random process or experiment. It maps the outcomes of a random event to real numbers,\n",
    "allowing for mathematical analysis of random phenomena.\n",
    "A discrete random variable takes countable values (e.g., number of heads in coin flips) and uses a probability mass function (PMF). A continuous random variable takes infinite values within a range (e.g., height or time) and uses a probability density function (PDF). \n",
    "Discrete variables are countable, while continuous variables are uncountable."
   ]
  },
  {
   "cell_type": "code",
   "execution_count": null,
   "id": "11e1a409-c24c-4fbf-a3b0-6e590fb39615",
   "metadata": {},
   "outputs": [],
   "source": [
    "12. Provide an example dataset, calculate both covariance and correlation, and interpret the results."
   ]
  },
  {
   "cell_type": "code",
   "execution_count": 1,
   "id": "e306a398-d982-4834-8b8c-dccf43ed9a4f",
   "metadata": {},
   "outputs": [],
   "source": [
    "import numpy as np"
   ]
  },
  {
   "cell_type": "code",
   "execution_count": 2,
   "id": "0e668fdb-fa73-4ffb-bdd2-2d93334828d7",
   "metadata": {},
   "outputs": [
    {
     "name": "stdout",
     "output_type": "stream",
     "text": [
      "Covariance: 12.5\n",
      "Correlation: 1.0\n"
     ]
    }
   ],
   "source": [
    "X = np.array([1, 2, 3, 4, 5])  # Hours studied\n",
    "Y = np.array([50, 55, 60, 65, 70])  # Marks obtained\n",
    "mean_X = np.mean(X)\n",
    "mean_Y = np.mean(Y)\n",
    "cov_XY = np.sum((X - mean_X) * (Y - mean_Y)) / (len(X) - 1)\n",
    "std_X = np.std(X, ddof=1)\n",
    "std_Y = np.std(Y, ddof=1)\n",
    "correlation = cov_XY / (std_X * std_Y)\n",
    "print(f\"Covariance: {cov_XY}\")\n",
    "print(f\"Correlation: {correlation}\")"
   ]
  }
 ],
 "metadata": {
  "kernelspec": {
   "display_name": "Python 3 (ipykernel)",
   "language": "python",
   "name": "python3"
  },
  "language_info": {
   "codemirror_mode": {
    "name": "ipython",
    "version": 3
   },
   "file_extension": ".py",
   "mimetype": "text/x-python",
   "name": "python",
   "nbconvert_exporter": "python",
   "pygments_lexer": "ipython3",
   "version": "3.12.0"
  }
 },
 "nbformat": 4,
 "nbformat_minor": 5
}
