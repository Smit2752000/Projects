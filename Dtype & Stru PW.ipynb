{
 "cells": [
  {
   "cell_type": "markdown",
   "id": "435514c9-7dda-4244-bf59-7e6f01e442c8",
   "metadata": {},
   "source": [
    "1. What are data structures, and why are they important\n",
    "ans= Data structures are ways to organize and store data for efficient access and modification. They are important because they optimize operations like searching, sorting, and managing data, which improves program performance."
   ]
  },
  {
   "cell_type": "markdown",
   "id": "bb0c0985-b443-4b9a-a34a-d5ac92abb735",
   "metadata": {},
   "source": [
    "2.Explain the difference between mutable and immutable data types with examples\n",
    "ans=If we can make changes the value of data types after assigning the value it is called mutable and opposite of this called immuatble.\n",
    "list,set,dict is mutable and tuple is immutable "
   ]
  },
  {
   "cell_type": "markdown",
   "id": "6eb960fa-a560-4f0a-9dd3-d39d6cbbd7ec",
   "metadata": {},
   "source": [
    "3. What are the main differences between lists and tuples in Python\n",
    "ans=lists is mutable and tuples is immutable data types in python"
   ]
  },
  {
   "cell_type": "markdown",
   "id": "15525c45-0a29-4df8-a6c4-c306d1e47d21",
   "metadata": {},
   "source": [
    "4.Describe how dictionaries store data\n",
    "ans= In dictionaries we need to give key and value pair for assigning the value and it is store in curly bracket .key and value is saperated by colun(:).\n",
    "ex- A={'key':value}"
   ]
  },
  {
   "cell_type": "markdown",
   "id": "7f9395c5-ee6d-4a6b-a16c-27de567c7cf8",
   "metadata": {},
   "source": [
    "5. Why might you use a set instead of a list in Python\n",
    "ans=We might use set instead of list because if we want only unique value then we use set. set will remove duplicate value."
   ]
  },
  {
   "cell_type": "markdown",
   "id": "106dccef-b14c-4b22-9937-1aa3f27c1414",
   "metadata": {},
   "source": [
    "6.What is a string in Python, and how is it different from a list\n",
    "ans=string is sequence of character enclosed with quotes in python and it is immutable.we can not change it after assign value to it.\n",
    "while list is mutable collection of data that are saperated by commas."
   ]
  },
  {
   "cell_type": "markdown",
   "id": "24768725-0426-4c25-b62d-d2af3d33a382",
   "metadata": {},
   "source": [
    "7.How do tuples ensure data integrity in Python\n",
    "ans= tuple is immutable data types so after storeing the value in tuple it is remain same."
   ]
  },
  {
   "cell_type": "markdown",
   "id": "6e45e4ee-740e-4d08-981e-faadbc1b6fb4",
   "metadata": {},
   "source": [
    "8.What is a hash table, and how does it relate to dictionaries in Python\n",
    "ans=A hash table is a data structure that maps keys to values using a hash function, allowing fast data retrieval.\n",
    "In Python, dictionaries are implemented using hash tables, enabling quick access to values based on their keys."
   ]
  },
  {
   "cell_type": "markdown",
   "id": "b9259de9-7125-4e4c-8c12-8b4947659ef8",
   "metadata": {},
   "source": [
    "9.Can lists contain different data types in Python\n",
    "ans= yes lists can contain different data types in python"
   ]
  },
  {
   "cell_type": "markdown",
   "id": "cd485968-cbba-4283-b62a-2a76d2481158",
   "metadata": {},
   "source": [
    "10.Explain why strings are immutable in Python\n",
    "ans= strings is immutable in python because  we can not change any letter of that character."
   ]
  },
  {
   "cell_type": "markdown",
   "id": "fa0a590c-f535-4e2d-baad-957e4b8fafdd",
   "metadata": {},
   "source": [
    "11.What advantages do dictionaries offer over lists for certain tasks\n",
    "ans=Dictionaries offer several advantages over lists for certain tasks like Faster lookups,uniquness of key,direct access of value using key."
   ]
  },
  {
   "cell_type": "markdown",
   "id": "ca4f600e-170a-425b-82b8-63129476104f",
   "metadata": {},
   "source": [
    "12. Describe a scenario where using a tuple would be preferable over a list\n",
    "ans=suppose we need to make data of birth date and blood group and it is confidencial for some reason then we use \n",
    "tuple over list because tuple is immutable so no one can change the original value that store."
   ]
  },
  {
   "cell_type": "markdown",
   "id": "d6b4677e-5317-474b-9a29-46b361845791",
   "metadata": {},
   "source": [
    "13. How do sets handle duplicate values in Python\n",
    "ans=if there is any duplicate values that store in sets then set will remove duplicate values in python."
   ]
  },
  {
   "cell_type": "markdown",
   "id": "a663444b-ddd6-4b0f-a743-28c3465ea3e5",
   "metadata": {},
   "source": [
    "14. How does the “in” keyword work differently for lists and dictionaries.\n",
    "ans= In key word will check each element in list as per condition and in key for dictionaries will check that the key is present in dict or not."
   ]
  },
  {
   "cell_type": "markdown",
   "id": "75379850-bd34-42c9-a77d-f75b2dd00818",
   "metadata": {},
   "source": [
    "15. Can you modify the elements of a tuple? Explain why or why not.\n",
    "ans=no we can not modify the elements of a tuple because it is immutable data types."
   ]
  },
  {
   "cell_type": "markdown",
   "id": "b872b306-e14a-4f1d-95a1-6969c121bdd7",
   "metadata": {},
   "source": [
    "16. What is a nested dictionary, and give an example of its use case\n",
    "ans=nested dictionary is basicaly a dictionary that is value for key .ex={'a':{'b':25}} here b is nested dict. and {'b':25} is value for key a."
   ]
  },
  {
   "cell_type": "markdown",
   "id": "2ffcb674-974f-4c64-b7e9-06e7fd5ba083",
   "metadata": {},
   "source": [
    "17. Describe the time complexity of accessing elements in a dictionary.\n",
    "ans=The time complexity of accessing elements in a dictionary in Python is O(1) on average. This means that retrieving a\n",
    "value from a dictionary using its key is a constant-time operation, regardless of the size of the dictionary."
   ]
  },
  {
   "cell_type": "markdown",
   "id": "04ac4532-f531-4a79-9d1a-7ddf02309370",
   "metadata": {},
   "source": [
    "18. In what situations are lists preferred over dictionaries\n",
    "ans=if we want to store multiple data types we can use lists over dictionaries .also we want to perform task line slicing and all that in list."
   ]
  },
  {
   "cell_type": "markdown",
   "id": "17c5aade-6cbe-4634-b23c-9680c4dfb991",
   "metadata": {},
   "source": [
    "19. Why are dictionaries considered unordered, and how does that affect data retrieval\n",
    "ans=Dictionaries are considered unordered in Python because the elements are stored based on a hash table implementation. This means that the order of elements in a dictionary is not guaranteed,\n",
    "and the position of the keys can change over time as the dictionary grows or shrinks. and also they affect data retrival because dict not support indexing.\n",
    "dictionaries are optimized for fast access by key but are unordered in terms of how they store the keys and values, which affects how data is presented or iterated over but not the speed of lookups."
   ]
  },
  {
   "cell_type": "markdown",
   "id": "a5b4bbd0-973b-45b3-8a39-0a81f4aac825",
   "metadata": {},
   "source": [
    "20.Explain the difference between a list and a dictionary in terms of data retrieval.\n",
    "ans=in list we can retrival data using indexing and in dictionary we can not do that. in dict we need to give key for retriving the values."
   ]
  },
  {
   "cell_type": "markdown",
   "id": "c5696ae0-6dc1-473f-a913-5f30a0189436",
   "metadata": {},
   "source": []
  },
  {
   "cell_type": "raw",
   "id": "ff4ef083-9ddc-4490-9757-f24a8a346fa2",
   "metadata": {},
   "source": [
    "Data Types and Structures Practical questions"
   ]
  },
  {
   "cell_type": "raw",
   "id": "a71310b5-d710-4048-bf91-f114a5cc0e23",
   "metadata": {},
   "source": []
  },
  {
   "cell_type": "markdown",
   "id": "0692b07b-53ca-4d62-a97f-b90737906ccb",
   "metadata": {},
   "source": [
    "1. Write a code to create a string with your name and print it."
   ]
  },
  {
   "cell_type": "code",
   "execution_count": 1,
   "id": "b97b634c-dc90-4531-bfa4-023ac282f6bf",
   "metadata": {},
   "outputs": [
    {
     "name": "stdout",
     "output_type": "stream",
     "text": [
      "smit\n"
     ]
    }
   ],
   "source": [
    "a='smit'\n",
    "print(a)"
   ]
  },
  {
   "cell_type": "markdown",
   "id": "451b94cd-3117-46ca-af1e-b6a1eb66e9b4",
   "metadata": {},
   "source": [
    "2. Write a code to find the length of the string \"Hello World\"."
   ]
  },
  {
   "cell_type": "code",
   "execution_count": 2,
   "id": "4f49a7de-0c4c-4444-963c-88914814eb70",
   "metadata": {},
   "outputs": [
    {
     "data": {
      "text/plain": [
       "11"
      ]
     },
     "execution_count": 2,
     "metadata": {},
     "output_type": "execute_result"
    }
   ],
   "source": [
    "a='hello world'\n",
    "len(a)"
   ]
  },
  {
   "cell_type": "markdown",
   "id": "66485f8e-a069-4468-9764-3f7639e1ad2a",
   "metadata": {},
   "source": [
    "3.Write a code to slice the first 3 characters from the string \"Python Programming\""
   ]
  },
  {
   "cell_type": "code",
   "execution_count": 3,
   "id": "24555d42-67d6-4f31-b923-b96ed50dc3f0",
   "metadata": {},
   "outputs": [
    {
     "data": {
      "text/plain": [
       "'pyt'"
      ]
     },
     "execution_count": 3,
     "metadata": {},
     "output_type": "execute_result"
    }
   ],
   "source": [
    "a='python programing'\n",
    "a[:3]"
   ]
  },
  {
   "cell_type": "markdown",
   "id": "4f6deb8e-f76f-4ba0-8395-fee123db09d8",
   "metadata": {},
   "source": [
    "4. Write a code to convert the string \"hello\" to uppercase."
   ]
  },
  {
   "cell_type": "code",
   "execution_count": 4,
   "id": "3ec096ea-e12b-45d6-8b89-c9b99221c799",
   "metadata": {},
   "outputs": [
    {
     "data": {
      "text/plain": [
       "'HELLO'"
      ]
     },
     "execution_count": 4,
     "metadata": {},
     "output_type": "execute_result"
    }
   ],
   "source": [
    "a='hello'\n",
    "a.upper()"
   ]
  },
  {
   "cell_type": "markdown",
   "id": "b65eaa12-c52f-450f-abec-6610609d4847",
   "metadata": {},
   "source": [
    "5. Write a code to replace the word \"apple\" with \"orange\" in the string \"I like apple\"."
   ]
  },
  {
   "cell_type": "code",
   "execution_count": 14,
   "id": "c25bce5f-9f86-4c2e-b557-721e12dd15d0",
   "metadata": {},
   "outputs": [
    {
     "data": {
      "text/plain": [
       "'i like orange'"
      ]
     },
     "execution_count": 14,
     "metadata": {},
     "output_type": "execute_result"
    }
   ],
   "source": [
    "aa='i like apple'\n",
    "b=aa.replace('apple','orange')\n",
    "b"
   ]
  },
  {
   "cell_type": "markdown",
   "id": "f909580e-c972-40f3-a7b8-d1d8b4b2c581",
   "metadata": {},
   "source": [
    "6. Write a code to create a list with numbers 1 to 5 and print it."
   ]
  },
  {
   "cell_type": "code",
   "execution_count": 22,
   "id": "31514a0b-dd96-4967-9d24-44229a5c84d0",
   "metadata": {},
   "outputs": [
    {
     "data": {
      "text/plain": [
       "[1, 2, 3, 4, 5]"
      ]
     },
     "execution_count": 22,
     "metadata": {},
     "output_type": "execute_result"
    }
   ],
   "source": [
    "a=[]\n",
    "for i in range(1,6):\n",
    "    a.append(i)\n",
    "a"
   ]
  },
  {
   "cell_type": "markdown",
   "id": "74c81367-ac50-4e23-bff4-aae2dfeee341",
   "metadata": {},
   "source": [
    "7.write a code to append the number 10 to the list [1, 2, 3, 4]"
   ]
  },
  {
   "cell_type": "code",
   "execution_count": 23,
   "id": "936056cf-24c8-4219-bdf6-aa3b0965af68",
   "metadata": {},
   "outputs": [
    {
     "data": {
      "text/plain": [
       "[1, 2, 3, 4, 10]"
      ]
     },
     "execution_count": 23,
     "metadata": {},
     "output_type": "execute_result"
    }
   ],
   "source": [
    "l=[1,2,3,4]\n",
    "l.append(10)\n",
    "l"
   ]
  },
  {
   "cell_type": "markdown",
   "id": "31481f5f-828f-447b-8e8f-81cd8d3f18ee",
   "metadata": {},
   "source": [
    "8. Write a code to remove the number 3 from the list [1, 2, 3, 4, 5]"
   ]
  },
  {
   "cell_type": "code",
   "execution_count": 26,
   "id": "9bcd2bc5-f3b4-4c7f-9bf2-e0cb1e6f751f",
   "metadata": {},
   "outputs": [
    {
     "data": {
      "text/plain": [
       "[1, 2, 4, 5]"
      ]
     },
     "execution_count": 26,
     "metadata": {},
     "output_type": "execute_result"
    }
   ],
   "source": [
    "l=[1,2,3,4,5]\n",
    "l.pop(2)\n",
    "l"
   ]
  },
  {
   "cell_type": "markdown",
   "id": "da63c383-f0a2-4f79-bd56-3b250c986bde",
   "metadata": {},
   "source": [
    "9. Write a code to access the second element in the list ['a', 'b', 'c', 'd']"
   ]
  },
  {
   "cell_type": "code",
   "execution_count": 30,
   "id": "69988a3b-e211-4218-89cd-860223efd504",
   "metadata": {},
   "outputs": [
    {
     "data": {
      "text/plain": [
       "['b']"
      ]
     },
     "execution_count": 30,
     "metadata": {},
     "output_type": "execute_result"
    }
   ],
   "source": [
    "l=['a','b','c','d']\n",
    "l[1:2]"
   ]
  },
  {
   "cell_type": "markdown",
   "id": "d9fcbf5a-f414-49d7-abac-5d7d545c3dc6",
   "metadata": {},
   "source": [
    "10. Write a code to reverse the list [10, 20, 30, 40, 50]"
   ]
  },
  {
   "cell_type": "code",
   "execution_count": 34,
   "id": "a1e0975e-c541-4fdb-bc1c-4e1e3adb8556",
   "metadata": {},
   "outputs": [
    {
     "data": {
      "text/plain": [
       "[50, 40, 30, 20, 10]"
      ]
     },
     "execution_count": 34,
     "metadata": {},
     "output_type": "execute_result"
    }
   ],
   "source": [
    "l=[10,20,30,40,50]\n",
    "l[::-1]"
   ]
  },
  {
   "cell_type": "markdown",
   "id": "bc70789a-ea8a-42e6-bfc8-a24559f12fe8",
   "metadata": {},
   "source": [
    "11.Write a code to create a tuple with the elements 10, 20, 30 and print it"
   ]
  },
  {
   "cell_type": "code",
   "execution_count": 37,
   "id": "a27a7270-a70e-49c3-98fe-22d2abf84ed7",
   "metadata": {},
   "outputs": [
    {
     "data": {
      "text/plain": [
       "(10, 20, 30)"
      ]
     },
     "execution_count": 37,
     "metadata": {},
     "output_type": "execute_result"
    }
   ],
   "source": [
    "l=(10,20,30)\n",
    "l"
   ]
  },
  {
   "cell_type": "markdown",
   "id": "7118afdb-31d2-4f32-b554-cb295be958d1",
   "metadata": {},
   "source": [
    "12. Write a code to access the first element of the tuple ('apple', 'banana', 'cherry')"
   ]
  },
  {
   "cell_type": "code",
   "execution_count": 38,
   "id": "04b0e3d9-3c0f-4128-bfce-97175e30f08f",
   "metadata": {},
   "outputs": [
    {
     "data": {
      "text/plain": [
       "'apple'"
      ]
     },
     "execution_count": 38,
     "metadata": {},
     "output_type": "execute_result"
    }
   ],
   "source": [
    "l=('apple','banana','cherry')\n",
    "l[0]"
   ]
  },
  {
   "cell_type": "markdown",
   "id": "2f4af537-756b-4107-ad10-ce0bcb0723ce",
   "metadata": {},
   "source": [
    "13.Write a code to count how many times the number 2 appears in the tuple (1, 2, 3, 2, 4, 2)"
   ]
  },
  {
   "cell_type": "code",
   "execution_count": 43,
   "id": "9096e2fa-0c69-4c66-a0ce-8e281c62cbd8",
   "metadata": {},
   "outputs": [
    {
     "data": {
      "text/plain": [
       "3"
      ]
     },
     "execution_count": 43,
     "metadata": {},
     "output_type": "execute_result"
    }
   ],
   "source": [
    "l=(1,2,3,2,4,2)\n",
    "l.count(2)"
   ]
  },
  {
   "cell_type": "markdown",
   "id": "a4ffd7b7-0ec0-499b-90f5-ffae34dc21a6",
   "metadata": {},
   "source": [
    "14. Write a code to find the index of the element \"cat\" in the tuple ('dog', 'cat', 'rabbit')"
   ]
  },
  {
   "cell_type": "code",
   "execution_count": 49,
   "id": "f0f19aa9-de8e-411f-9361-dc568582de55",
   "metadata": {},
   "outputs": [
    {
     "data": {
      "text/plain": [
       "1"
      ]
     },
     "execution_count": 49,
     "metadata": {},
     "output_type": "execute_result"
    }
   ],
   "source": [
    "l=('dog','cat','rabbit')\n",
    "ll=l.index('cat')\n",
    "ll"
   ]
  },
  {
   "cell_type": "markdown",
   "id": "24c5c40f-dcdd-4800-8993-aa1af3b5c226",
   "metadata": {},
   "source": [
    "15. Write a code to check if the element \"banana\" is in the tuple ('apple', 'orange', 'banana')"
   ]
  },
  {
   "cell_type": "code",
   "execution_count": 53,
   "id": "3126b309-b088-4368-a243-78260830daba",
   "metadata": {},
   "outputs": [
    {
     "name": "stdout",
     "output_type": "stream",
     "text": [
      "True\n"
     ]
    }
   ],
   "source": [
    "l=('apple','orange','banana')\n",
    "for i in l:\n",
    "    if i=='banana':\n",
    "        print('True')"
   ]
  },
  {
   "cell_type": "markdown",
   "id": "565d0a65-afb7-4f7f-a0dc-9f20d8f6ab74",
   "metadata": {},
   "source": [
    "16.Write a code to create a set with the elements 1, 2, 3, 4, 5 and print it"
   ]
  },
  {
   "cell_type": "code",
   "execution_count": 59,
   "id": "fc1343da-7bf0-46ce-b3f2-19639cecabf6",
   "metadata": {},
   "outputs": [
    {
     "data": {
      "text/plain": [
       "{1, 2, 3, 4, 5}"
      ]
     },
     "execution_count": 59,
     "metadata": {},
     "output_type": "execute_result"
    }
   ],
   "source": [
    "l=[]\n",
    "for i in range(1,6):\n",
    "    l.append(i)\n",
    "ll=set(l)\n",
    "ll"
   ]
  },
  {
   "cell_type": "markdown",
   "id": "f001b82a-01ce-4ec6-804f-2ef8402d6ca3",
   "metadata": {},
   "source": [
    "17. Write a code to add the element 6 to the set {1, 2, 3, 4}"
   ]
  },
  {
   "cell_type": "code",
   "execution_count": 61,
   "id": "5de94f86-fdcc-4bb2-8d29-7136778e8432",
   "metadata": {},
   "outputs": [
    {
     "data": {
      "text/plain": [
       "{1, 2, 3, 4, 6}"
      ]
     },
     "execution_count": 61,
     "metadata": {},
     "output_type": "execute_result"
    }
   ],
   "source": [
    "l={1,2,3,4}\n",
    "l.add(6)\n",
    "l"
   ]
  },
  {
   "cell_type": "markdown",
   "id": "6a9eb387-fa52-4e55-b28f-9f00f0855453",
   "metadata": {},
   "source": [
    "18. Write a code to create a tuple with the elements 10, 20, 30 and print it"
   ]
  },
  {
   "cell_type": "code",
   "execution_count": 64,
   "id": "ee40ac1d-0469-4427-891e-49e8160daae3",
   "metadata": {},
   "outputs": [
    {
     "data": {
      "text/plain": [
       "(10, 20, 30)"
      ]
     },
     "execution_count": 64,
     "metadata": {},
     "output_type": "execute_result"
    }
   ],
   "source": [
    "l=[]\n",
    "for i in range(10,40,10):\n",
    "    l.append(i)\n",
    "ll=tuple(l)\n",
    "ll"
   ]
  },
  {
   "cell_type": "markdown",
   "id": "84c100ed-c7a0-4cb5-96ee-46d830a6fa47",
   "metadata": {},
   "source": [
    "Question 19 to 24 is repeated."
   ]
  },
  {
   "cell_type": "code",
   "execution_count": null,
   "id": "96483067-7c2c-4178-b27e-1a95cf424968",
   "metadata": {},
   "outputs": [],
   "source": []
  }
 ],
 "metadata": {
  "kernelspec": {
   "display_name": "Python 3 (ipykernel)",
   "language": "python",
   "name": "python3"
  },
  "language_info": {
   "codemirror_mode": {
    "name": "ipython",
    "version": 3
   },
   "file_extension": ".py",
   "mimetype": "text/x-python",
   "name": "python",
   "nbconvert_exporter": "python",
   "pygments_lexer": "ipython3",
   "version": "3.12.0"
  }
 },
 "nbformat": 4,
 "nbformat_minor": 5
}
