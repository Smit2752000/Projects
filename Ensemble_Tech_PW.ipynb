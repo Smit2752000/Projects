{
 "cells": [
  {
   "cell_type": "code",
   "execution_count": 1,
   "id": "7e70c932-1b48-4655-be2c-e270c97deef5",
   "metadata": {},
   "outputs": [],
   "source": [
    "# 1. Can we use Bagging for regression problems?\n",
    "# Yes, Bagging can be used for regression to reduce variance by averaging predictions."
   ]
  },
  {
   "cell_type": "code",
   "execution_count": 2,
   "id": "efbf124e-48f7-464d-8031-8a0e2fea4d82",
   "metadata": {},
   "outputs": [],
   "source": [
    "# 2. What is the difference between multiple model training and single model training?\n",
    "# Multiple model training (ensemble learning) improves generalization and reduces overfitting,\n",
    "# while single model training is simpler but may overfit or underperform."
   ]
  },
  {
   "cell_type": "code",
   "execution_count": 3,
   "id": "d5e0bd84-0a4f-4645-972e-0b633a280893",
   "metadata": {},
   "outputs": [],
   "source": [
    "# 3. Explain the concept of feature randomness in Random Forest.\n",
    "# In Random Forest, each tree is trained on a random subset of features,\n",
    "# increasing model diversity and reducing correlation among trees."
   ]
  },
  {
   "cell_type": "code",
   "execution_count": 4,
   "id": "dfdd0714-b6ad-4614-a8fe-f4abd669f949",
   "metadata": {},
   "outputs": [],
   "source": [
    "# 5. How can you measure the importance of features in a Random Forest model?\n",
    "# Feature importance is measured using Gini impurity decrease or permutation importance."
   ]
  },
  {
   "cell_type": "code",
   "execution_count": 5,
   "id": "2f987ada-eb3a-42a6-8452-f4dc17f40c33",
   "metadata": {},
   "outputs": [],
   "source": [
    "# 6. Explain the working principle of a Bagging Classifier.\n",
    "# Bagging trains multiple models on different bootstrap samples and averages their predictions."
   ]
  },
  {
   "cell_type": "code",
   "execution_count": 6,
   "id": "3e87ff07-0443-493d-8d72-2d7696022816",
   "metadata": {},
   "outputs": [],
   "source": [
    "# 7. How do you evaluate a Bagging Classifier’s performance?\n",
    "# Use accuracy, precision, recall, F1-score, and AUC score."
   ]
  },
  {
   "cell_type": "code",
   "execution_count": 7,
   "id": "136e43b3-dc34-4b6a-9fcc-8224a259bfb6",
   "metadata": {},
   "outputs": [],
   "source": [
    "# 8. How does a Bagging Regressor work?\n",
    "# It trains multiple regression models on different samples and averages their outputs."
   ]
  },
  {
   "cell_type": "code",
   "execution_count": 8,
   "id": "e0f69e8c-4583-4ced-aeeb-04b28c1ef6ee",
   "metadata": {},
   "outputs": [],
   "source": [
    "# 9. What is the main advantage of ensemble techniques?\n",
    "# They improve accuracy and reduce overfitting."
   ]
  },
  {
   "cell_type": "code",
   "execution_count": 9,
   "id": "8ec7a285-2646-433c-88d3-d574e76df118",
   "metadata": {},
   "outputs": [],
   "source": [
    "# 10. What is the main challenge of ensemble methods?\n",
    "# They are computationally expensive and harder to interpret."
   ]
  },
  {
   "cell_type": "code",
   "execution_count": 10,
   "id": "694e41d8-8a5f-4c66-b0b2-d0c6884f4ca6",
   "metadata": {},
   "outputs": [],
   "source": [
    "# 11. Explain the key idea behind ensemble techniques.\n",
    "# Combining multiple weak models to form a strong model."
   ]
  },
  {
   "cell_type": "code",
   "execution_count": 11,
   "id": "f780d124-79fa-4d90-825c-e324fbf75116",
   "metadata": {},
   "outputs": [],
   "source": [
    "# 12. What is a Random Forest Classifier?\n",
    "# A Random Forest Classifier is an ensemble of decision trees that use bagging and feature randomness."
   ]
  },
  {
   "cell_type": "code",
   "execution_count": 12,
   "id": "6a2ad39c-8869-4db4-8cdd-91c03c953a3f",
   "metadata": {},
   "outputs": [],
   "source": [
    "# 13. What are the main types of ensemble techniques?\n",
    "# 1. Bagging\n",
    "# 2. Boosting\n",
    "# 3. Stacking"
   ]
  },
  {
   "cell_type": "code",
   "execution_count": 13,
   "id": "ce4c469d-c7e5-4c66-9da5-cf26f3b274dd",
   "metadata": {},
   "outputs": [],
   "source": [
    "# 14. What is ensemble learning in machine learning?\n",
    "# It is a technique that combines multiple models to improve predictions."
   ]
  },
  {
   "cell_type": "code",
   "execution_count": 14,
   "id": "af9f294d-1e66-40b4-be13-7b99ef8bca9a",
   "metadata": {},
   "outputs": [],
   "source": [
    "# 15. When should we avoid using ensemble methods?\n",
    "# When interpretability, computation cost, or data availability is a concern."
   ]
  },
  {
   "cell_type": "code",
   "execution_count": 15,
   "id": "e335ac4a-f811-4e13-8dc4-cd3cdbb79c07",
   "metadata": {},
   "outputs": [],
   "source": [
    "# 16. How does Bagging help in reducing overfitting?\n",
    "# It reduces variance by training models on different subsets of data."
   ]
  },
  {
   "cell_type": "code",
   "execution_count": 16,
   "id": "556367b1-bf93-4ce4-bc40-9315edec30a9",
   "metadata": {},
   "outputs": [],
   "source": [
    "# 17. Why is Random Forest better than a single Decision Tree?\n",
    "# It reduces overfitting and provides more robust predictions."
   ]
  },
  {
   "cell_type": "code",
   "execution_count": 17,
   "id": "f1425208-1606-46dd-ab70-b1ad39f58c82",
   "metadata": {},
   "outputs": [],
   "source": [
    "# 18. What is the role of bootstrap sampling in Bagging?\n",
    "# It creates diverse training sets, improving model robustness."
   ]
  },
  {
   "cell_type": "code",
   "execution_count": 18,
   "id": "0a64d400-3fa4-466f-9d17-3fa3216eef4b",
   "metadata": {},
   "outputs": [],
   "source": [
    "# 19. What are some real-world applications of ensemble techniques?\n",
    "# Fraud detection, recommendation systems, and medical diagnosis."
   ]
  },
  {
   "cell_type": "code",
   "execution_count": 19,
   "id": "e2e8eeb8-b98a-4351-9837-d81c4266311f",
   "metadata": {},
   "outputs": [],
   "source": [
    "# 20. What is the difference between Bagging and Boosting?\n",
    "# - Bagging reduces variance (Random Forest).\n",
    "# - Boosting reduces bias by sequentially improving weak models (XGBoost, AdaBoost)."
   ]
  },
  {
   "cell_type": "code",
   "execution_count": null,
   "id": "6bbc909e-6920-4457-8064-f768cbd69483",
   "metadata": {},
   "outputs": [],
   "source": [
    "#practical ans and i mention question number with 1 to 25 so keep in note."
   ]
  },
  {
   "cell_type": "code",
   "execution_count": 21,
   "id": "1e59f884-4b86-435c-8f63-46ae21795997",
   "metadata": {},
   "outputs": [
    {
     "name": "stdout",
     "output_type": "stream",
     "text": [
      "Bagging Classifier Accuracy: 1.0\n"
     ]
    }
   ],
   "source": [
    "# 1. Train a Bagging Classifier using Decision Trees on a sample dataset and print model accuracy\n",
    "\n",
    "from sklearn.ensemble import BaggingClassifier\n",
    "from sklearn.tree import DecisionTreeClassifier\n",
    "from sklearn.datasets import load_iris\n",
    "from sklearn.model_selection import train_test_split\n",
    "from sklearn.metrics import accuracy_score\n",
    "\n",
    "# Load dataset\n",
    "X, y = load_iris(return_X_y=True)\n",
    "X_train, X_test, y_train, y_test = train_test_split(X, y, test_size=0.2, random_state=42)\n",
    "\n",
    "# Train model\n",
    "bagging_clf = BaggingClassifier(estimator=DecisionTreeClassifier(), n_estimators=10)\n",
    "bagging_clf.fit(X_train, y_train)\n",
    "\n",
    "# Evaluate\n",
    "y_pred = bagging_clf.predict(X_test)\n",
    "print(\"Bagging Classifier Accuracy:\", accuracy_score(y_test, y_pred))"
   ]
  },
  {
   "cell_type": "code",
   "execution_count": 22,
   "id": "c122b0cf-b99c-4697-a750-776983a38ff0",
   "metadata": {},
   "outputs": [
    {
     "name": "stdout",
     "output_type": "stream",
     "text": [
      "Bagging Regressor MSE: 3329.483370786517\n"
     ]
    }
   ],
   "source": [
    "# 2. Train a Bagging Regressor using Decision Trees and evaluate using Mean Squared Error (MSE)\n",
    "\n",
    "from sklearn.ensemble import BaggingRegressor\n",
    "from sklearn.tree import DecisionTreeRegressor\n",
    "from sklearn.metrics import mean_squared_error\n",
    "from sklearn.datasets import load_diabetes\n",
    "\n",
    "# Load dataset\n",
    "X, y = load_diabetes(return_X_y=True)\n",
    "X_train, X_test, y_train, y_test = train_test_split(X, y, test_size=0.2, random_state=42)\n",
    "\n",
    "# Train model\n",
    "bagging_reg = BaggingRegressor(estimator=DecisionTreeRegressor(), n_estimators=10)\n",
    "bagging_reg.fit(X_train, y_train)\n",
    "\n",
    "# Evaluate\n",
    "y_pred = bagging_reg.predict(X_test)\n",
    "print(\"Bagging Regressor MSE:\", mean_squared_error(y_test, y_pred))"
   ]
  },
  {
   "cell_type": "code",
   "execution_count": 23,
   "id": "773cecb0-4b63-43bc-8fb0-adb67b3fa094",
   "metadata": {},
   "outputs": [
    {
     "name": "stdout",
     "output_type": "stream",
     "text": [
      "                 Feature  Importance\n",
      "27  worst concave points    0.135668\n",
      "7    mean concave points    0.125306\n",
      "22       worst perimeter    0.106854\n",
      "20          worst radius    0.105790\n",
      "23            worst area    0.088837\n"
     ]
    }
   ],
   "source": [
    "# 3. Train a Random Forest Classifier on the Breast Cancer dataset and print feature importance scores\n",
    "\n",
    "from sklearn.ensemble import RandomForestClassifier\n",
    "from sklearn.datasets import load_breast_cancer\n",
    "\n",
    "# Load dataset\n",
    "X, y = load_breast_cancer(return_X_y=True)\n",
    "X_train, X_test, y_train, y_test = train_test_split(X, y, test_size=0.2, random_state=42)\n",
    "\n",
    "# Train model\n",
    "rf_clf = RandomForestClassifier(n_estimators=100)\n",
    "rf_clf.fit(X_train, y_train)\n",
    "\n",
    "# Feature Importance\n",
    "import pandas as pd\n",
    "feature_importance = pd.DataFrame({'Feature': load_breast_cancer().feature_names, 'Importance': rf_clf.feature_importances_})\n",
    "print(feature_importance.sort_values(by='Importance', ascending=False).head(5))"
   ]
  },
  {
   "cell_type": "code",
   "execution_count": 24,
   "id": "aca9cfe2-7f1f-4da0-873d-819c76807282",
   "metadata": {},
   "outputs": [
    {
     "name": "stdout",
     "output_type": "stream",
     "text": [
      "OOB Score: 0.9582417582417583\n"
     ]
    }
   ],
   "source": [
    "# 4. Compute the Out-of-Bag (OOB) Score for a Random Forest Classifier\n",
    "\n",
    "rf_clf = RandomForestClassifier(n_estimators=100, oob_score=True)\n",
    "rf_clf.fit(X_train, y_train)\n",
    "\n",
    "# OOB Score\n",
    "print(\"OOB Score:\", rf_clf.oob_score_)"
   ]
  },
  {
   "cell_type": "code",
   "execution_count": 25,
   "id": "b001d5a8-f441-4e47-92cd-0fac0c755d0b",
   "metadata": {},
   "outputs": [
    {
     "name": "stdout",
     "output_type": "stream",
     "text": [
      "Stacking Classifier Accuracy: 0.956140350877193\n"
     ]
    }
   ],
   "source": [
    "# 5. Train a Stacking Classifier using Decision Trees, SVM, and Logistic Regression, and compare accuracy\n",
    "\n",
    "from sklearn.ensemble import StackingClassifier\n",
    "from sklearn.svm import SVC\n",
    "from sklearn.linear_model import LogisticRegression\n",
    "\n",
    "# Define base models\n",
    "base_models = [\n",
    "    ('decision_tree', DecisionTreeClassifier()),\n",
    "    ('svm', SVC(probability=True)),\n",
    "]\n",
    "\n",
    "# Define Stacking model\n",
    "stacking_clf = StackingClassifier(estimators=base_models, final_estimator=LogisticRegression())\n",
    "\n",
    "# Train model\n",
    "stacking_clf.fit(X_train, y_train)\n",
    "\n",
    "# Evaluate\n",
    "y_pred = stacking_clf.predict(X_test)\n",
    "print(\"Stacking Classifier Accuracy:\", accuracy_score(y_test, y_pred))"
   ]
  },
  {
   "cell_type": "code",
   "execution_count": 26,
   "id": "33ec8f0d-e9c0-4c48-bfef-956cf2ceda64",
   "metadata": {},
   "outputs": [
    {
     "name": "stdout",
     "output_type": "stream",
     "text": [
      "Stacking Classifier Accuracy: 0.9649122807017544\n"
     ]
    }
   ],
   "source": [
    "# 5. Train a Stacking Classifier using Decision Trees, SVM, and Logistic Regression, and compare accuracy\n",
    "\n",
    "from sklearn.ensemble import StackingClassifier\n",
    "from sklearn.svm import SVC\n",
    "from sklearn.linear_model import LogisticRegression\n",
    "\n",
    "# Define base models\n",
    "base_models = [\n",
    "    ('decision_tree', DecisionTreeClassifier()),\n",
    "    ('svm', SVC(probability=True)),\n",
    "]\n",
    "\n",
    "# Define Stacking model\n",
    "stacking_clf = StackingClassifier(estimators=base_models, final_estimator=LogisticRegression())\n",
    "\n",
    "# Train model\n",
    "stacking_clf.fit(X_train, y_train)\n",
    "\n",
    "# Evaluate\n",
    "y_pred = stacking_clf.predict(X_test)\n",
    "print(\"Stacking Classifier Accuracy:\", accuracy_score(y_test, y_pred))"
   ]
  },
  {
   "cell_type": "code",
   "execution_count": 27,
   "id": "b2a24f2a-2f70-488d-80be-227075734123",
   "metadata": {},
   "outputs": [
    {
     "name": "stdout",
     "output_type": "stream",
     "text": [
      "Decision Tree MSE: 0.06140350877192982\n",
      "Random Forest MSE: 0.032881578947368414\n"
     ]
    }
   ],
   "source": [
    "# 6. Train a Random Forest Regressor and compare its performance with a single Decision Tree\n",
    "\n",
    "from sklearn.ensemble import RandomForestRegressor\n",
    "from sklearn.tree import DecisionTreeRegressor\n",
    "\n",
    "# Train Decision Tree Regressor\n",
    "dt_reg = DecisionTreeRegressor()\n",
    "dt_reg.fit(X_train, y_train)\n",
    "dt_pred = dt_reg.predict(X_test)\n",
    "\n",
    "# Train Random Forest Regressor\n",
    "rf_reg = RandomForestRegressor(n_estimators=100)\n",
    "rf_reg.fit(X_train, y_train)\n",
    "rf_pred = rf_reg.predict(X_test)\n",
    "\n",
    "# Compare Performance using Mean Squared Error (MSE)\n",
    "print(\"Decision Tree MSE:\", mean_squared_error(y_test, dt_pred))\n",
    "print(\"Random Forest MSE:\", mean_squared_error(y_test, rf_pred))"
   ]
  },
  {
   "cell_type": "code",
   "execution_count": 29,
   "id": "8bc1f673-2b11-4df2-9a3d-2a3178fdb6a4",
   "metadata": {},
   "outputs": [
    {
     "name": "stdout",
     "output_type": "stream",
     "text": [
      "Bagging Classifier (SVM) Accuracy: 0.9473684210526315\n"
     ]
    }
   ],
   "source": [
    "# 7. Train a Bagging Classifier using SVM as a base estimator and print accuracy\n",
    "\n",
    "svm_bagging = BaggingClassifier(estimator=SVC(probability=True), n_estimators=10)\n",
    "svm_bagging.fit(X_train, y_train)\n",
    "\n",
    "y_pred = svm_bagging.predict(X_test)\n",
    "print(\"Bagging Classifier (SVM) Accuracy:\", accuracy_score(y_test, y_pred))"
   ]
  },
  {
   "cell_type": "code",
   "execution_count": 30,
   "id": "18d10745-d174-4de3-8d0c-0b3b20e99f0d",
   "metadata": {},
   "outputs": [
    {
     "name": "stdout",
     "output_type": "stream",
     "text": [
      "Random Forest Accuracy with 10 trees: 0.956140350877193\n",
      "Random Forest Accuracy with 50 trees: 0.9649122807017544\n",
      "Random Forest Accuracy with 100 trees: 0.956140350877193\n",
      "Random Forest Accuracy with 200 trees: 0.9649122807017544\n"
     ]
    }
   ],
   "source": [
    "# 8. Train a Random Forest Classifier with different numbers of trees and compare accuracy\n",
    "\n",
    "n_trees = [10, 50, 100, 200]\n",
    "for n in n_trees:\n",
    "    rf_clf = RandomForestClassifier(n_estimators=n)\n",
    "    rf_clf.fit(X_train, y_train)\n",
    "    y_pred = rf_clf.predict(X_test)\n",
    "    print(f\"Random Forest Accuracy with {n} trees:\", accuracy_score(y_test, y_pred))"
   ]
  },
  {
   "cell_type": "code",
   "execution_count": 32,
   "id": "5a4ac39a-7fc1-4476-97bc-4bc136343fff",
   "metadata": {},
   "outputs": [
    {
     "name": "stderr",
     "output_type": "stream",
     "text": [
      "C:\\Users\\SMIT KUMAR\\AppData\\Local\\Programs\\Python\\Python312\\Lib\\site-packages\\sklearn\\linear_model\\_logistic.py:469: ConvergenceWarning: lbfgs failed to converge (status=1):\n",
      "STOP: TOTAL NO. of ITERATIONS REACHED LIMIT.\n",
      "\n",
      "Increase the number of iterations (max_iter) or scale the data as shown in:\n",
      "    https://scikit-learn.org/stable/modules/preprocessing.html\n",
      "Please also refer to the documentation for alternative solver options:\n",
      "    https://scikit-learn.org/stable/modules/linear_model.html#logistic-regression\n",
      "  n_iter_i = _check_optimize_result(\n",
      "C:\\Users\\SMIT KUMAR\\AppData\\Local\\Programs\\Python\\Python312\\Lib\\site-packages\\sklearn\\linear_model\\_logistic.py:469: ConvergenceWarning: lbfgs failed to converge (status=1):\n",
      "STOP: TOTAL NO. of ITERATIONS REACHED LIMIT.\n",
      "\n",
      "Increase the number of iterations (max_iter) or scale the data as shown in:\n",
      "    https://scikit-learn.org/stable/modules/preprocessing.html\n",
      "Please also refer to the documentation for alternative solver options:\n",
      "    https://scikit-learn.org/stable/modules/linear_model.html#logistic-regression\n",
      "  n_iter_i = _check_optimize_result(\n",
      "C:\\Users\\SMIT KUMAR\\AppData\\Local\\Programs\\Python\\Python312\\Lib\\site-packages\\sklearn\\linear_model\\_logistic.py:469: ConvergenceWarning: lbfgs failed to converge (status=1):\n",
      "STOP: TOTAL NO. of ITERATIONS REACHED LIMIT.\n",
      "\n",
      "Increase the number of iterations (max_iter) or scale the data as shown in:\n",
      "    https://scikit-learn.org/stable/modules/preprocessing.html\n",
      "Please also refer to the documentation for alternative solver options:\n",
      "    https://scikit-learn.org/stable/modules/linear_model.html#logistic-regression\n",
      "  n_iter_i = _check_optimize_result(\n",
      "C:\\Users\\SMIT KUMAR\\AppData\\Local\\Programs\\Python\\Python312\\Lib\\site-packages\\sklearn\\linear_model\\_logistic.py:469: ConvergenceWarning: lbfgs failed to converge (status=1):\n",
      "STOP: TOTAL NO. of ITERATIONS REACHED LIMIT.\n",
      "\n",
      "Increase the number of iterations (max_iter) or scale the data as shown in:\n",
      "    https://scikit-learn.org/stable/modules/preprocessing.html\n",
      "Please also refer to the documentation for alternative solver options:\n",
      "    https://scikit-learn.org/stable/modules/linear_model.html#logistic-regression\n",
      "  n_iter_i = _check_optimize_result(\n",
      "C:\\Users\\SMIT KUMAR\\AppData\\Local\\Programs\\Python\\Python312\\Lib\\site-packages\\sklearn\\linear_model\\_logistic.py:469: ConvergenceWarning: lbfgs failed to converge (status=1):\n",
      "STOP: TOTAL NO. of ITERATIONS REACHED LIMIT.\n",
      "\n",
      "Increase the number of iterations (max_iter) or scale the data as shown in:\n",
      "    https://scikit-learn.org/stable/modules/preprocessing.html\n",
      "Please also refer to the documentation for alternative solver options:\n",
      "    https://scikit-learn.org/stable/modules/linear_model.html#logistic-regression\n",
      "  n_iter_i = _check_optimize_result(\n",
      "C:\\Users\\SMIT KUMAR\\AppData\\Local\\Programs\\Python\\Python312\\Lib\\site-packages\\sklearn\\linear_model\\_logistic.py:469: ConvergenceWarning: lbfgs failed to converge (status=1):\n",
      "STOP: TOTAL NO. of ITERATIONS REACHED LIMIT.\n",
      "\n",
      "Increase the number of iterations (max_iter) or scale the data as shown in:\n",
      "    https://scikit-learn.org/stable/modules/preprocessing.html\n",
      "Please also refer to the documentation for alternative solver options:\n",
      "    https://scikit-learn.org/stable/modules/linear_model.html#logistic-regression\n",
      "  n_iter_i = _check_optimize_result(\n",
      "C:\\Users\\SMIT KUMAR\\AppData\\Local\\Programs\\Python\\Python312\\Lib\\site-packages\\sklearn\\linear_model\\_logistic.py:469: ConvergenceWarning: lbfgs failed to converge (status=1):\n",
      "STOP: TOTAL NO. of ITERATIONS REACHED LIMIT.\n",
      "\n",
      "Increase the number of iterations (max_iter) or scale the data as shown in:\n",
      "    https://scikit-learn.org/stable/modules/preprocessing.html\n",
      "Please also refer to the documentation for alternative solver options:\n",
      "    https://scikit-learn.org/stable/modules/linear_model.html#logistic-regression\n",
      "  n_iter_i = _check_optimize_result(\n",
      "C:\\Users\\SMIT KUMAR\\AppData\\Local\\Programs\\Python\\Python312\\Lib\\site-packages\\sklearn\\linear_model\\_logistic.py:469: ConvergenceWarning: lbfgs failed to converge (status=1):\n",
      "STOP: TOTAL NO. of ITERATIONS REACHED LIMIT.\n",
      "\n",
      "Increase the number of iterations (max_iter) or scale the data as shown in:\n",
      "    https://scikit-learn.org/stable/modules/preprocessing.html\n",
      "Please also refer to the documentation for alternative solver options:\n",
      "    https://scikit-learn.org/stable/modules/linear_model.html#logistic-regression\n",
      "  n_iter_i = _check_optimize_result(\n",
      "C:\\Users\\SMIT KUMAR\\AppData\\Local\\Programs\\Python\\Python312\\Lib\\site-packages\\sklearn\\linear_model\\_logistic.py:469: ConvergenceWarning: lbfgs failed to converge (status=1):\n",
      "STOP: TOTAL NO. of ITERATIONS REACHED LIMIT.\n",
      "\n",
      "Increase the number of iterations (max_iter) or scale the data as shown in:\n",
      "    https://scikit-learn.org/stable/modules/preprocessing.html\n",
      "Please also refer to the documentation for alternative solver options:\n",
      "    https://scikit-learn.org/stable/modules/linear_model.html#logistic-regression\n",
      "  n_iter_i = _check_optimize_result(\n",
      "C:\\Users\\SMIT KUMAR\\AppData\\Local\\Programs\\Python\\Python312\\Lib\\site-packages\\sklearn\\linear_model\\_logistic.py:469: ConvergenceWarning: lbfgs failed to converge (status=1):\n",
      "STOP: TOTAL NO. of ITERATIONS REACHED LIMIT.\n",
      "\n",
      "Increase the number of iterations (max_iter) or scale the data as shown in:\n",
      "    https://scikit-learn.org/stable/modules/preprocessing.html\n",
      "Please also refer to the documentation for alternative solver options:\n",
      "    https://scikit-learn.org/stable/modules/linear_model.html#logistic-regression\n",
      "  n_iter_i = _check_optimize_result(\n"
     ]
    },
    {
     "name": "stdout",
     "output_type": "stream",
     "text": [
      "Bagging Classifier (Logistic Regression) AUC Score: 0.9980347199475925\n"
     ]
    }
   ],
   "source": [
    "# 9. Train a Bagging Classifier using Logistic Regression as a base estimator and print AUC score\n",
    "\n",
    "from sklearn.metrics import roc_auc_score\n",
    "\n",
    "log_bagging = BaggingClassifier(estimator=LogisticRegression(), n_estimators=10)\n",
    "log_bagging.fit(X_train, y_train)\n",
    "\n",
    "y_prob = log_bagging.predict_proba(X_test)[:, 1]\n",
    "print(\"Bagging Classifier (Logistic Regression) AUC Score:\", roc_auc_score(y_test, y_prob))"
   ]
  },
  {
   "cell_type": "code",
   "execution_count": 34,
   "id": "d8d1f18f-5ed7-4f00-a196-d69f8a61375c",
   "metadata": {},
   "outputs": [
    {
     "name": "stdout",
     "output_type": "stream",
     "text": [
      "  Feature  Importance\n",
      "8      s5    0.315629\n",
      "2     bmi    0.276249\n",
      "3      bp    0.087085\n",
      "9      s6    0.070775\n",
      "0     age    0.057496\n",
      "5      s2    0.055368\n",
      "6      s3    0.051191\n",
      "4      s1    0.047251\n",
      "7      s4    0.027056\n",
      "1     sex    0.011901\n"
     ]
    }
   ],
   "source": [
    "# 10. Train a Random Forest Regressor and analyze feature importance scores\n",
    "\n",
    "# Load dataset\n",
    "from sklearn.datasets import load_diabetes\n",
    "\n",
    "data = load_diabetes()\n",
    "X, y = data.data, data.target\n",
    "feature_names = data.feature_names  # Extract feature names\n",
    "\n",
    "# Train Random Forest Regressor\n",
    "rf_reg = RandomForestRegressor(n_estimators=100, random_state=42)\n",
    "rf_reg.fit(X, y)\n",
    "\n",
    "# Ensure feature importance matches the number of features\n",
    "feature_importance = pd.DataFrame({\n",
    "    'Feature': feature_names[:len(rf_reg.feature_importances_)],  # Match length\n",
    "    'Importance': rf_reg.feature_importances_\n",
    "})\n",
    "\n",
    "# Print sorted feature importance\n",
    "print(feature_importance.sort_values(by='Importance', ascending=False))\n"
   ]
  },
  {
   "cell_type": "code",
   "execution_count": 36,
   "id": "180894d1-08fd-482b-b7b2-6091d88fdf0a",
   "metadata": {},
   "outputs": [
    {
     "name": "stdout",
     "output_type": "stream",
     "text": [
      "Bagging Accuracy: 0.956140350877193\n",
      "Random Forest Accuracy: 0.9649122807017544\n"
     ]
    }
   ],
   "source": [
    "# 11. Train an ensemble model using both Bagging and Random Forest and compare accuracy\n",
    "\n",
    "bagging = BaggingClassifier(estimator=DecisionTreeClassifier(), n_estimators=10)\n",
    "random_forest = RandomForestClassifier(n_estimators=100)\n",
    "\n",
    "# Train models\n",
    "bagging.fit(X_train, y_train)\n",
    "random_forest.fit(X_train, y_train)\n",
    "\n",
    "# Predict and compare accuracy\n",
    "y_pred_bagging = bagging.predict(X_test)\n",
    "y_pred_rf = random_forest.predict(X_test)\n",
    "\n",
    "print(\"Bagging Accuracy:\", accuracy_score(y_test, y_pred_bagging))\n",
    "print(\"Random Forest Accuracy:\", accuracy_score(y_test, y_pred_rf))"
   ]
  },
  {
   "cell_type": "code",
   "execution_count": 37,
   "id": "390ca152-2d9f-401f-b5b6-db9647cbdefe",
   "metadata": {},
   "outputs": [
    {
     "name": "stdout",
     "output_type": "stream",
     "text": [
      "Best parameters: {'max_depth': None, 'n_estimators': 200}\n",
      "Best accuracy: 0.9626373626373625\n"
     ]
    }
   ],
   "source": [
    "# 12. Train a Random Forest Classifier and tune hyperparameters using GridSearchCV\n",
    "\n",
    "from sklearn.model_selection import GridSearchCV\n",
    "\n",
    "param_grid = {'n_estimators': [50, 100, 200], 'max_depth': [5, 10, None]}\n",
    "grid_search = GridSearchCV(RandomForestClassifier(), param_grid, cv=5, scoring='accuracy')\n",
    "grid_search.fit(X_train, y_train)\n",
    "\n",
    "print(\"Best parameters:\", grid_search.best_params_)\n",
    "print(\"Best accuracy:\", grid_search.best_score_)"
   ]
  },
  {
   "cell_type": "code",
   "execution_count": 38,
   "id": "2ca821ed-a375-4ec7-a596-0593308c3a86",
   "metadata": {},
   "outputs": [
    {
     "name": "stdout",
     "output_type": "stream",
     "text": [
      "Bagging Regressor MSE with 5 estimators: 0.03649122807017544\n",
      "Bagging Regressor MSE with 10 estimators: 0.03552631578947369\n",
      "Bagging Regressor MSE with 50 estimators: 0.028543859649122812\n",
      "Bagging Regressor MSE with 100 estimators: 0.03493947368421053\n"
     ]
    }
   ],
   "source": [
    "# 13. Train a Bagging Regressor with different numbers of base estimators and compare performance\n",
    "\n",
    "n_estimators = [5, 10, 50, 100]\n",
    "for n in n_estimators:\n",
    "    bag_reg = BaggingRegressor(estimator=DecisionTreeRegressor(), n_estimators=n)\n",
    "    bag_reg.fit(X_train, y_train)\n",
    "    y_pred = bag_reg.predict(X_test)\n",
    "    print(f\"Bagging Regressor MSE with {n} estimators:\", mean_squared_error(y_test, y_pred))"
   ]
  },
  {
   "cell_type": "code",
   "execution_count": 39,
   "id": "44ccf6ec-2772-4e46-833a-41488e6cceda",
   "metadata": {},
   "outputs": [
    {
     "name": "stderr",
     "output_type": "stream",
     "text": [
      "C:\\Users\\SMIT KUMAR\\AppData\\Local\\Programs\\Python\\Python312\\Lib\\site-packages\\sklearn\\linear_model\\_logistic.py:469: ConvergenceWarning: lbfgs failed to converge (status=1):\n",
      "STOP: TOTAL NO. of ITERATIONS REACHED LIMIT.\n",
      "\n",
      "Increase the number of iterations (max_iter) or scale the data as shown in:\n",
      "    https://scikit-learn.org/stable/modules/preprocessing.html\n",
      "Please also refer to the documentation for alternative solver options:\n",
      "    https://scikit-learn.org/stable/modules/linear_model.html#logistic-regression\n",
      "  n_iter_i = _check_optimize_result(\n"
     ]
    },
    {
     "name": "stdout",
     "output_type": "stream",
     "text": [
      "Stacking Classifier Accuracy: 0.9649122807017544\n"
     ]
    },
    {
     "name": "stderr",
     "output_type": "stream",
     "text": [
      "C:\\Users\\SMIT KUMAR\\AppData\\Local\\Programs\\Python\\Python312\\Lib\\site-packages\\sklearn\\linear_model\\_logistic.py:469: ConvergenceWarning: lbfgs failed to converge (status=1):\n",
      "STOP: TOTAL NO. of ITERATIONS REACHED LIMIT.\n",
      "\n",
      "Increase the number of iterations (max_iter) or scale the data as shown in:\n",
      "    https://scikit-learn.org/stable/modules/preprocessing.html\n",
      "Please also refer to the documentation for alternative solver options:\n",
      "    https://scikit-learn.org/stable/modules/linear_model.html#logistic-regression\n",
      "  n_iter_i = _check_optimize_result(\n",
      "C:\\Users\\SMIT KUMAR\\AppData\\Local\\Programs\\Python\\Python312\\Lib\\site-packages\\sklearn\\linear_model\\_logistic.py:469: ConvergenceWarning: lbfgs failed to converge (status=1):\n",
      "STOP: TOTAL NO. of ITERATIONS REACHED LIMIT.\n",
      "\n",
      "Increase the number of iterations (max_iter) or scale the data as shown in:\n",
      "    https://scikit-learn.org/stable/modules/preprocessing.html\n",
      "Please also refer to the documentation for alternative solver options:\n",
      "    https://scikit-learn.org/stable/modules/linear_model.html#logistic-regression\n",
      "  n_iter_i = _check_optimize_result(\n",
      "C:\\Users\\SMIT KUMAR\\AppData\\Local\\Programs\\Python\\Python312\\Lib\\site-packages\\sklearn\\linear_model\\_logistic.py:469: ConvergenceWarning: lbfgs failed to converge (status=1):\n",
      "STOP: TOTAL NO. of ITERATIONS REACHED LIMIT.\n",
      "\n",
      "Increase the number of iterations (max_iter) or scale the data as shown in:\n",
      "    https://scikit-learn.org/stable/modules/preprocessing.html\n",
      "Please also refer to the documentation for alternative solver options:\n",
      "    https://scikit-learn.org/stable/modules/linear_model.html#logistic-regression\n",
      "  n_iter_i = _check_optimize_result(\n",
      "C:\\Users\\SMIT KUMAR\\AppData\\Local\\Programs\\Python\\Python312\\Lib\\site-packages\\sklearn\\linear_model\\_logistic.py:469: ConvergenceWarning: lbfgs failed to converge (status=1):\n",
      "STOP: TOTAL NO. of ITERATIONS REACHED LIMIT.\n",
      "\n",
      "Increase the number of iterations (max_iter) or scale the data as shown in:\n",
      "    https://scikit-learn.org/stable/modules/preprocessing.html\n",
      "Please also refer to the documentation for alternative solver options:\n",
      "    https://scikit-learn.org/stable/modules/linear_model.html#logistic-regression\n",
      "  n_iter_i = _check_optimize_result(\n",
      "C:\\Users\\SMIT KUMAR\\AppData\\Local\\Programs\\Python\\Python312\\Lib\\site-packages\\sklearn\\linear_model\\_logistic.py:469: ConvergenceWarning: lbfgs failed to converge (status=1):\n",
      "STOP: TOTAL NO. of ITERATIONS REACHED LIMIT.\n",
      "\n",
      "Increase the number of iterations (max_iter) or scale the data as shown in:\n",
      "    https://scikit-learn.org/stable/modules/preprocessing.html\n",
      "Please also refer to the documentation for alternative solver options:\n",
      "    https://scikit-learn.org/stable/modules/linear_model.html#logistic-regression\n",
      "  n_iter_i = _check_optimize_result(\n"
     ]
    }
   ],
   "source": [
    "# 15. Train a Stacking Classifier with Random Forest and Logistic Regression and compare accuracy\n",
    "\n",
    "stacking_clf = StackingClassifier(estimators=[\n",
    "    ('random_forest', RandomForestClassifier(n_estimators=100)),\n",
    "    ('log_reg', LogisticRegression())\n",
    "], final_estimator=LogisticRegression())\n",
    "\n",
    "stacking_clf.fit(X_train, y_train)\n",
    "y_pred = stacking_clf.predict(X_test)\n",
    "print(\"Stacking Classifier Accuracy:\", accuracy_score(y_test, y_pred))"
   ]
  },
  {
   "cell_type": "code",
   "execution_count": 41,
   "id": "5676d88a-d389-4e2a-aea5-bbfbb4fa9d1e",
   "metadata": {},
   "outputs": [
    {
     "name": "stdout",
     "output_type": "stream",
     "text": [
      "Bagging Regressor MSE with 50.0% bootstrap samples: 0.030175438596491227\n",
      "Bagging Regressor MSE with 70.0% bootstrap samples: 0.034210526315789476\n",
      "Bagging Regressor MSE with 100.0% bootstrap samples: 0.041842105263157896\n"
     ]
    }
   ],
   "source": [
    "# 16. Train a Bagging Regressor with different levels of bootstrap samples and compare performance\n",
    "\n",
    "bootstrap_samples = [0.5, 0.7, 1.0]\n",
    "for bs in bootstrap_samples:\n",
    "    bag_reg = BaggingRegressor(estimator=DecisionTreeRegressor(), n_estimators=10, max_samples=bs)\n",
    "    bag_reg.fit(X_train, y_train)\n",
    "    y_pred = bag_reg.predict(X_test)\n",
    "    print(f\"Bagging Regressor MSE with {bs*100}% bootstrap samples:\", mean_squared_error(y_test, y_pred))"
   ]
  },
  {
   "cell_type": "code",
   "execution_count": 42,
   "id": "47944b16-4f73-4e73-8611-c9d5645d655d",
   "metadata": {},
   "outputs": [
    {
     "name": "stdout",
     "output_type": "stream",
     "text": [
      "Top 5 Important Features in Random Forest:\n",
      "                 Feature  Importance\n",
      "20          worst radius    0.129299\n",
      "22       worst perimeter    0.120378\n",
      "23            worst area    0.110846\n",
      "27  worst concave points    0.105682\n",
      "7    mean concave points    0.087796\n"
     ]
    }
   ],
   "source": [
    "# 17. Train a Random Forest Classifier and print the top 5 most important features\n",
    "\n",
    "rf_clf.fit(X_train, y_train)\n",
    "\n",
    "# Get feature importance\n",
    "feature_importance = pd.DataFrame({'Feature': load_breast_cancer().feature_names, 'Importance': rf_clf.feature_importances_})\n",
    "feature_importance = feature_importance.sort_values(by='Importance', ascending=False)\n",
    "\n",
    "# Print top 5 features\n",
    "print(\"Top 5 Important Features in Random Forest:\")\n",
    "print(feature_importance.head(5))"
   ]
  },
  {
   "cell_type": "code",
   "execution_count": 44,
   "id": "7bb9a30c-2f34-4268-a462-cdc746652d0d",
   "metadata": {},
   "outputs": [
    {
     "name": "stdout",
     "output_type": "stream",
     "text": [
      "Precision: 0.9561\n",
      "Recall: 0.9561\n",
      "F1-Score: 0.9560\n"
     ]
    }
   ],
   "source": [
    "# 18. Train a Bagging Classifier and evaluate performance using Precision, Recall, and F1-score\n",
    "\n",
    "from sklearn.metrics import precision_score, recall_score, f1_score\n",
    "\n",
    "# Train Bagging Classifier\n",
    "bagging_clf.fit(X_train, y_train)\n",
    "y_pred = bagging_clf.predict(X_test)\n",
    "\n",
    "# Compute metrics\n",
    "precision = precision_score(y_test, y_pred, average='weighted')\n",
    "recall = recall_score(y_test, y_pred, average='weighted')\n",
    "f1 = f1_score(y_test, y_pred, average='weighted')\n",
    "\n",
    "print(f\"Precision: {precision:.4f}\")\n",
    "print(f\"Recall: {recall:.4f}\")\n",
    "print(f\"F1-Score: {f1:.4f}\")"
   ]
  },
  {
   "cell_type": "code",
   "execution_count": 45,
   "id": "063825a1-22d7-42a2-a47b-fae4235f1a3d",
   "metadata": {},
   "outputs": [
    {
     "name": "stdout",
     "output_type": "stream",
     "text": [
      "Random Forest Accuracy with max_depth=3: 0.9649122807017544\n",
      "Random Forest Accuracy with max_depth=5: 0.9649122807017544\n",
      "Random Forest Accuracy with max_depth=10: 0.9649122807017544\n",
      "Random Forest Accuracy with max_depth=None: 0.956140350877193\n"
     ]
    }
   ],
   "source": [
    "# 19. Train a Random Forest Classifier and analyze the effect of max_depth on accuracy\n",
    "\n",
    "max_depth_values = [3, 5, 10, None]\n",
    "for depth in max_depth_values:\n",
    "    rf_clf = RandomForestClassifier(n_estimators=100, max_depth=depth)\n",
    "    rf_clf.fit(X_train, y_train)\n",
    "    y_pred = rf_clf.predict(X_test)\n",
    "    print(f\"Random Forest Accuracy with max_depth={depth}:\", accuracy_score(y_test, y_pred))"
   ]
  },
  {
   "cell_type": "code",
   "execution_count": 46,
   "id": "092b3818-5ffe-4c4a-a79f-8f0671d17d40",
   "metadata": {},
   "outputs": [
    {
     "name": "stdout",
     "output_type": "stream",
     "text": [
      "Bagging Regressor MSE with DecisionTreeRegressor: 0.03657894736842106\n",
      "Bagging Regressor MSE with KNeighborsRegressor: 0.03813333333333333\n"
     ]
    }
   ],
   "source": [
    "# 20. Train a Bagging Regressor using different base estimators (DecisionTree and KNeighbors) and compare performance\n",
    "\n",
    "from sklearn.neighbors import KNeighborsRegressor\n",
    "\n",
    "base_estimators = [DecisionTreeRegressor(), KNeighborsRegressor()]\n",
    "for estimator in base_estimators:\n",
    "    bag_reg = BaggingRegressor(estimator=estimator, n_estimators=10)\n",
    "    bag_reg.fit(X_train, y_train)\n",
    "    y_pred = bag_reg.predict(X_test)\n",
    "    print(f\"Bagging Regressor MSE with {estimator.__class__.__name__}:\", mean_squared_error(y_test, y_pred))"
   ]
  },
  {
   "cell_type": "code",
   "execution_count": 47,
   "id": "d3efa55f-d143-4219-b496-e413deb2aba2",
   "metadata": {},
   "outputs": [
    {
     "name": "stdout",
     "output_type": "stream",
     "text": [
      "Random Forest ROC-AUC Score: 0.995250573206682\n"
     ]
    }
   ],
   "source": [
    "# 21. Train a Random Forest Classifier and evaluate its performance using ROC-AUC Score\n",
    "\n",
    "from sklearn.metrics import roc_auc_score\n",
    "\n",
    "rf_clf.fit(X_train, y_train)\n",
    "y_prob = rf_clf.predict_proba(X_test)[:, 1]\n",
    "print(\"Random Forest ROC-AUC Score:\", roc_auc_score(y_test, y_prob))"
   ]
  },
  {
   "cell_type": "code",
   "execution_count": 48,
   "id": "be157cd5-85b8-4a7d-8ffa-ac7aaad5cec5",
   "metadata": {},
   "outputs": [
    {
     "name": "stderr",
     "output_type": "stream",
     "text": [
      "C:\\Users\\SMIT KUMAR\\AppData\\Local\\Programs\\Python\\Python312\\Lib\\site-packages\\sklearn\\model_selection\\_split.py:737: UserWarning: The least populated class in y has only 1 members, which is less than n_splits=5.\n",
      "  warnings.warn(\n"
     ]
    },
    {
     "name": "stdout",
     "output_type": "stream",
     "text": [
      "Bagging Classifier Cross-Validation Accuracy: 0.0045199182839632274\n"
     ]
    }
   ],
   "source": [
    "# 22. Train a Bagging Classifier and evaluate its performance using cross-validation\n",
    "\n",
    "from sklearn.model_selection import cross_val_score\n",
    "\n",
    "scores = cross_val_score(bagging_clf, X, y, cv=5, scoring='accuracy')\n",
    "print(\"Bagging Classifier Cross-Validation Accuracy:\", scores.mean())"
   ]
  },
  {
   "cell_type": "code",
   "execution_count": 51,
   "id": "040f7fba-e10c-42fc-9604-6eb23b718f05",
   "metadata": {},
   "outputs": [
    {
     "data": {
      "image/png": "[encoded data removed]",
      "text/plain": [
       "<Figure size 640x480 with 1 Axes>"
      ]
     },
     "metadata": {},
     "output_type": "display_data"
    }
   ],
   "source": [
    "# 23. Train a Random Forest Classifier and plot the Precision-Recall curve\n",
    "\n",
    "from sklearn.metrics import precision_recall_curve\n",
    "import matplotlib.pyplot as plt\n",
    "y_prob = rf_clf.predict_proba(X_test)[:, 1]\n",
    "precision, recall, _ = precision_recall_curve(y_test, y_prob)\n",
    "\n",
    "plt.plot(recall, precision, marker='.')\n",
    "plt.xlabel(\"Recall\")\n",
    "plt.ylabel(\"Precision\")\n",
    "plt.title(\"Precision-Recall Curve for Random Forest\")\n",
    "plt.show()"
   ]
  },
  {
   "cell_type": "code",
   "execution_count": 52,
   "id": "31d22907-3a78-4131-b161-c364140ea1d2",
   "metadata": {},
   "outputs": [
    {
     "name": "stderr",
     "output_type": "stream",
     "text": [
      "C:\\Users\\SMIT KUMAR\\AppData\\Local\\Programs\\Python\\Python312\\Lib\\site-packages\\sklearn\\linear_model\\_logistic.py:469: ConvergenceWarning: lbfgs failed to converge (status=1):\n",
      "STOP: TOTAL NO. of ITERATIONS REACHED LIMIT.\n",
      "\n",
      "Increase the number of iterations (max_iter) or scale the data as shown in:\n",
      "    https://scikit-learn.org/stable/modules/preprocessing.html\n",
      "Please also refer to the documentation for alternative solver options:\n",
      "    https://scikit-learn.org/stable/modules/linear_model.html#logistic-regression\n",
      "  n_iter_i = _check_optimize_result(\n"
     ]
    },
    {
     "name": "stdout",
     "output_type": "stream",
     "text": [
      "Stacking Classifier Accuracy: 0.956140350877193\n"
     ]
    },
    {
     "name": "stderr",
     "output_type": "stream",
     "text": [
      "C:\\Users\\SMIT KUMAR\\AppData\\Local\\Programs\\Python\\Python312\\Lib\\site-packages\\sklearn\\linear_model\\_logistic.py:469: ConvergenceWarning: lbfgs failed to converge (status=1):\n",
      "STOP: TOTAL NO. of ITERATIONS REACHED LIMIT.\n",
      "\n",
      "Increase the number of iterations (max_iter) or scale the data as shown in:\n",
      "    https://scikit-learn.org/stable/modules/preprocessing.html\n",
      "Please also refer to the documentation for alternative solver options:\n",
      "    https://scikit-learn.org/stable/modules/linear_model.html#logistic-regression\n",
      "  n_iter_i = _check_optimize_result(\n",
      "C:\\Users\\SMIT KUMAR\\AppData\\Local\\Programs\\Python\\Python312\\Lib\\site-packages\\sklearn\\linear_model\\_logistic.py:469: ConvergenceWarning: lbfgs failed to converge (status=1):\n",
      "STOP: TOTAL NO. of ITERATIONS REACHED LIMIT.\n",
      "\n",
      "Increase the number of iterations (max_iter) or scale the data as shown in:\n",
      "    https://scikit-learn.org/stable/modules/preprocessing.html\n",
      "Please also refer to the documentation for alternative solver options:\n",
      "    https://scikit-learn.org/stable/modules/linear_model.html#logistic-regression\n",
      "  n_iter_i = _check_optimize_result(\n",
      "C:\\Users\\SMIT KUMAR\\AppData\\Local\\Programs\\Python\\Python312\\Lib\\site-packages\\sklearn\\linear_model\\_logistic.py:469: ConvergenceWarning: lbfgs failed to converge (status=1):\n",
      "STOP: TOTAL NO. of ITERATIONS REACHED LIMIT.\n",
      "\n",
      "Increase the number of iterations (max_iter) or scale the data as shown in:\n",
      "    https://scikit-learn.org/stable/modules/preprocessing.html\n",
      "Please also refer to the documentation for alternative solver options:\n",
      "    https://scikit-learn.org/stable/modules/linear_model.html#logistic-regression\n",
      "  n_iter_i = _check_optimize_result(\n",
      "C:\\Users\\SMIT KUMAR\\AppData\\Local\\Programs\\Python\\Python312\\Lib\\site-packages\\sklearn\\linear_model\\_logistic.py:469: ConvergenceWarning: lbfgs failed to converge (status=1):\n",
      "STOP: TOTAL NO. of ITERATIONS REACHED LIMIT.\n",
      "\n",
      "Increase the number of iterations (max_iter) or scale the data as shown in:\n",
      "    https://scikit-learn.org/stable/modules/preprocessing.html\n",
      "Please also refer to the documentation for alternative solver options:\n",
      "    https://scikit-learn.org/stable/modules/linear_model.html#logistic-regression\n",
      "  n_iter_i = _check_optimize_result(\n",
      "C:\\Users\\SMIT KUMAR\\AppData\\Local\\Programs\\Python\\Python312\\Lib\\site-packages\\sklearn\\linear_model\\_logistic.py:469: ConvergenceWarning: lbfgs failed to converge (status=1):\n",
      "STOP: TOTAL NO. of ITERATIONS REACHED LIMIT.\n",
      "\n",
      "Increase the number of iterations (max_iter) or scale the data as shown in:\n",
      "    https://scikit-learn.org/stable/modules/preprocessing.html\n",
      "Please also refer to the documentation for alternative solver options:\n",
      "    https://scikit-learn.org/stable/modules/linear_model.html#logistic-regression\n",
      "  n_iter_i = _check_optimize_result(\n"
     ]
    }
   ],
   "source": [
    "# 24. Train a Stacking Classifier with Random Forest and Logistic Regression and compare accuracy\n",
    "\n",
    "stacking_clf = StackingClassifier(estimators=[\n",
    "    ('random_forest', RandomForestClassifier(n_estimators=100)),\n",
    "    ('log_reg', LogisticRegression())\n",
    "], final_estimator=LogisticRegression())\n",
    "\n",
    "stacking_clf.fit(X_train, y_train)\n",
    "y_pred = stacking_clf.predict(X_test)\n",
    "print(\"Stacking Classifier Accuracy:\", accuracy_score(y_test, y_pred))"
   ]
  },
  {
   "cell_type": "code",
   "execution_count": 54,
   "id": "b7821eb8-8482-4ece-b722-b24b56da74ad",
   "metadata": {},
   "outputs": [
    {
     "name": "stdout",
     "output_type": "stream",
     "text": [
      "Bagging Regressor MSE with 50.0% bootstrap samples: 0.031754385964912285\n",
      "Bagging Regressor MSE with 70.0% bootstrap samples: 0.03140350877192982\n",
      "Bagging Regressor MSE with 100.0% bootstrap samples: 0.03578947368421054\n"
     ]
    }
   ],
   "source": [
    "# 25. Train a Bagging Regressor with different levels of bootstrap samples and compare performance\n",
    "\n",
    "bootstrap_samples = [0.5, 0.7, 1.0]\n",
    "for bs in bootstrap_samples:\n",
    "    bag_reg = BaggingRegressor(estimator=DecisionTreeRegressor(), n_estimators=10, max_samples=bs)\n",
    "    bag_reg.fit(X_train, y_train)\n",
    "    y_pred = bag_reg.predict(X_test)\n",
    "    print(f\"Bagging Regressor MSE with {bs*100}% bootstrap samples:\", mean_squared_error(y_test, y_pred))"
   ]
  },
  {
   "cell_type": "code",
   "execution_count": null,
   "id": "6029e7f2-5e3c-4cb7-a7a2-4ce3437d3a0d",
   "metadata": {},
   "outputs": [],
   "source": []
  }
 ],
 "metadata": {
  "kernelspec": {
   "display_name": "Python 3 (ipykernel)",
   "language": "python",
   "name": "python3"
  },
  "language_info": {
   "codemirror_mode": {
    "name": "ipython",
    "version": 3
   },
   "file_extension": ".py",
   "mimetype": "text/x-python",
   "name": "python",
   "nbconvert_exporter": "python",
   "pygments_lexer": "ipython3",
   "version": "3.12.0"
  }
 },
 "nbformat": 4,
 "nbformat_minor": 5
}
