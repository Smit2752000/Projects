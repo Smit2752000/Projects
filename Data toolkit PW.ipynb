{
 "cells": [
  {
   "cell_type": "markdown",
   "id": "15417330-4fbd-48cc-8d8d-180bbf91f475",
   "metadata": {},
   "source": [
    "\n",
    "DATA TOOLKIT\n"
   ]
  },
  {
   "cell_type": "code",
   "execution_count": null,
   "id": "362e6301-334e-4b5f-aafa-efdc41362786",
   "metadata": {},
   "outputs": [],
   "source": [
    "Q-1: Demonstrate three different methods for creating identical 2D arrays in NumPy. \n",
    "Provide the code for each method and the final output after each method."
   ]
  },
  {
   "cell_type": "code",
   "execution_count": 1,
   "id": "d5cb0a75-a5b9-46ff-baaf-8e38a082a685",
   "metadata": {},
   "outputs": [
    {
     "name": "stdout",
     "output_type": "stream",
     "text": [
      "Method one:np.array\n",
      "[[1 2 3]\n",
      " [4 5 6]\n",
      " [7 8 9]]\n",
      "\n",
      "Method 2: np.ones()\n",
      "[[1 1 1]\n",
      " [1 1 1]\n",
      " [1 1 1]]\n",
      "\n",
      "Method 3: np.full()\n",
      "[[1 1 1]\n",
      " [1 1 1]\n",
      " [1 1 1]]\n"
     ]
    }
   ],
   "source": [
    "import numpy as np\n",
    "\n",
    "#method one\n",
    "arr1 = np.array([[1, 2, 3], [4, 5, 6], [7, 8, 9]])\n",
    "print(\"Method one:np.array\")\n",
    "print(arr1)\n",
    "\n",
    "#method two\n",
    "arr2 = np.ones((3, 3), dtype=int) * 1\n",
    "print(\"\\nMethod 2: np.ones()\")\n",
    "print(arr2)\n",
    "\n",
    "#method three\n",
    "arr3 = np.full((3, 3), 1, dtype=int)\n",
    "print(\"\\nMethod 3: np.full()\")\n",
    "print(arr3)"
   ]
  },
  {
   "cell_type": "code",
   "execution_count": null,
   "id": "5656e646-696e-45f3-8073-4caa84b8d600",
   "metadata": {},
   "outputs": [],
   "source": [
    "Q-2: Using the NumPy function, generate an array of 100 evenly spaced numbers \n",
    "between 1 and 10 and reshape that 1D array into a 2D array."
   ]
  },
  {
   "cell_type": "code",
   "execution_count": 4,
   "id": "4d2ae12a-9589-40b1-83e3-1b48eb6b1584",
   "metadata": {},
   "outputs": [
    {
     "data": {
      "text/plain": [
       "array([[ 1.        ,  1.09090909,  1.18181818,  1.27272727,  1.36363636,\n",
       "         1.45454545,  1.54545455,  1.63636364,  1.72727273,  1.81818182],\n",
       "       [ 1.90909091,  2.        ,  2.09090909,  2.18181818,  2.27272727,\n",
       "         2.36363636,  2.45454545,  2.54545455,  2.63636364,  2.72727273],\n",
       "       [ 2.81818182,  2.90909091,  3.        ,  3.09090909,  3.18181818,\n",
       "         3.27272727,  3.36363636,  3.45454545,  3.54545455,  3.63636364],\n",
       "       [ 3.72727273,  3.81818182,  3.90909091,  4.        ,  4.09090909,\n",
       "         4.18181818,  4.27272727,  4.36363636,  4.45454545,  4.54545455],\n",
       "       [ 4.63636364,  4.72727273,  4.81818182,  4.90909091,  5.        ,\n",
       "         5.09090909,  5.18181818,  5.27272727,  5.36363636,  5.45454545],\n",
       "       [ 5.54545455,  5.63636364,  5.72727273,  5.81818182,  5.90909091,\n",
       "         6.        ,  6.09090909,  6.18181818,  6.27272727,  6.36363636],\n",
       "       [ 6.45454545,  6.54545455,  6.63636364,  6.72727273,  6.81818182,\n",
       "         6.90909091,  7.        ,  7.09090909,  7.18181818,  7.27272727],\n",
       "       [ 7.36363636,  7.45454545,  7.54545455,  7.63636364,  7.72727273,\n",
       "         7.81818182,  7.90909091,  8.        ,  8.09090909,  8.18181818],\n",
       "       [ 8.27272727,  8.36363636,  8.45454545,  8.54545455,  8.63636364,\n",
       "         8.72727273,  8.81818182,  8.90909091,  9.        ,  9.09090909],\n",
       "       [ 9.18181818,  9.27272727,  9.36363636,  9.45454545,  9.54545455,\n",
       "         9.63636364,  9.72727273,  9.81818182,  9.90909091, 10.        ]])"
      ]
     },
     "execution_count": 4,
     "metadata": {},
     "output_type": "execute_result"
    }
   ],
   "source": [
    "ary=np.linspace(1,10,num=100)\n",
    "ary\n",
    "rary=ary.reshape(10,10)\n",
    "rary"
   ]
  },
  {
   "cell_type": "code",
   "execution_count": null,
   "id": "eaeee64f-c0dd-4f20-a474-8c7777a75b1d",
   "metadata": {},
   "outputs": [],
   "source": [
    "Q-3Explain the following termsg\n",
    "-The difference in np.array, np.asarray and np.asanyarray\n",
    "-The difference between Deep copy and shallow copy"
   ]
  },
  {
   "cell_type": "code",
   "execution_count": null,
   "id": "0b0dd161-aa82-4bc1-9755-eb3748477781",
   "metadata": {},
   "outputs": [],
   "source": [
    "Ans- np.array():\n",
    "\n",
    "Converts any input (including lists, tuples, etc.) into a NumPy array. It creates a new array, even if the input is already a NumPy array.\n",
    "Example: np.array([1, 2, 3])\n",
    "np.asarray():\n",
    "\n",
    "Converts input into a NumPy array, but if the input is already a NumPy array, it returns the same array (without copying it).\n",
    "Example: np.asarray([1, 2, 3]) or np.asarray(np.array([1, 2, 3]))\n",
    "np.asanyarray():\n",
    "\n",
    "Similar to np.asarray(), but it also returns an array of a specific type if possible. For example, it returns a matrix if the input is a matrix.\n",
    "Example: np.asanyarray([1, 2, 3])\n",
    "\n",
    "-Deep Copy:\n",
    "\n",
    "A deep copy creates a completely independent copy of an object, including all objects referenced by it. \n",
    "Modifications to the copy do not affect the original object.\n",
    "\n",
    "-Shallow Copy:\n",
    "\n",
    "A shallow copy creates a new object but does not create copies of the nested objects. It only copies references to the objects.\n",
    "Modifications to nested objects will affect both the original and copied objects."
   ]
  },
  {
   "cell_type": "code",
   "execution_count": null,
   "id": "ee6faae4-6c35-4050-b115-526256223243",
   "metadata": {},
   "outputs": [],
   "source": [
    "Q-4=Generate a 3x3 array with random floating-point numbers between 5 and 20. Then, round each number in the array to 2 decimal places."
   ]
  },
  {
   "cell_type": "code",
   "execution_count": 7,
   "id": "bdaaf762-eda9-486e-9bb2-9a8b5e5459ef",
   "metadata": {},
   "outputs": [
    {
     "data": {
      "text/plain": [
       "array([[16.53, 19.15, 11.91],\n",
       "       [18.88,  5.66,  7.19],\n",
       "       [ 9.34, 17.07, 12.97]])"
      ]
     },
     "execution_count": 7,
     "metadata": {},
     "output_type": "execute_result"
    }
   ],
   "source": [
    "ar=np.random.uniform(5,20,(3,3))\n",
    "arr=np.round(ar,2)\n",
    "arr"
   ]
  },
  {
   "cell_type": "code",
   "execution_count": null,
   "id": "d35f4d8e-5738-4f14-a6c0-070bcbe9de7b",
   "metadata": {},
   "outputs": [],
   "source": [
    "Q-5 Create a NumPy array with random integers between 1 and 10 of shape (5, 6). After creating the array \n",
    "perform the following operations:\n",
    "\n",
    " a)Extract all even integers from array.\n",
    "\n",
    " b)Extract all odd integers from array"
   ]
  },
  {
   "cell_type": "code",
   "execution_count": 14,
   "id": "8a2ec9fa-54b4-4557-9c61-90917217e543",
   "metadata": {},
   "outputs": [
    {
     "name": "stdout",
     "output_type": "stream",
     "text": [
      "[ 6  2  8 10 10  6  2 10  6  8 10 10]\n",
      "[1 9 3 9 3 3 7 5 9 3 9 7 3 5 7 5 7 3]\n"
     ]
    }
   ],
   "source": [
    "aa=np.random.randint(1,11,(5,6))\n",
    "even=aa[aa%2==0]\n",
    "print(even)\n",
    "odd=aa[aa%2!=0]\n",
    "print(odd)"
   ]
  },
  {
   "cell_type": "code",
   "execution_count": null,
   "id": "03e847f7-8bac-4263-8227-15776160c9fb",
   "metadata": {},
   "outputs": [],
   "source": [
    "Q-6 Create a 3D NumPy array of shape (3, 3, 3) containing random integers between 1 and 10. Perform the \n",
    "following operations:\n",
    "\n",
    " a) Find the indices of the maximum values along each depth level (third axis).\n",
    "\n",
    " b) Perform element-wise multiplication of between both array"
   ]
  },
  {
   "cell_type": "code",
   "execution_count": 16,
   "id": "2a1fbd01-57d2-4340-a922-09a1e069d22c",
   "metadata": {},
   "outputs": [
    {
     "name": "stdout",
     "output_type": "stream",
     "text": [
      "[[2 0 2]\n",
      " [0 0 1]\n",
      " [0 0 1]]\n",
      "[[[ 24 190 144]\n",
      "  [ 64  52  56]\n",
      "  [120   4 112]]\n",
      "\n",
      " [[ 76  20 102]\n",
      "  [144 252  72]\n",
      "  [ 96  38 234]]\n",
      "\n",
      " [[ 72  60 208]\n",
      "  [ 42  12  45]\n",
      "  [196 112   2]]]\n"
     ]
    }
   ],
   "source": [
    "a3=np.random.randint(1,20,(3,3,3))\n",
    "A3=np.argmax(a3,axis=2)\n",
    "print(A3)\n",
    "a4=np.random.randint(1,20,(3,3,3))\n",
    "A4=a3*a4\n",
    "print(A4)"
   ]
  },
  {
   "cell_type": "code",
   "execution_count": null,
   "id": "981555f7-8068-42b5-9146-1c1b38e35cb4",
   "metadata": {},
   "outputs": [],
   "source": [
    "Q-7 Clean and transform the 'Phone' column in the sample dataset to remove non-numeric characters and \n",
    "convert it to a numeric data type. Also display the table attributes and data types of each column."
   ]
  },
  {
   "cell_type": "code",
   "execution_count": 22,
   "id": "00f949ef-bddb-4706-a083-1a8cb9316ebf",
   "metadata": {},
   "outputs": [],
   "source": [
    "import pandas as pd\n",
    "import re"
   ]
  },
  {
   "cell_type": "code",
   "execution_count": 76,
   "id": "348d03b9-874c-4f70-b028-6f4431a0d334",
   "metadata": {},
   "outputs": [
    {
     "data": {
      "text/html": [
       "<div>\n",
       "<style scoped>\n",
       "    .dataframe tbody tr th:only-of-type {\n",
       "        vertical-align: middle;\n",
       "    }\n",
       "\n",
       "    .dataframe tbody tr th {\n",
       "        vertical-align: top;\n",
       "    }\n",
       "\n",
       "    .dataframe thead th {\n",
       "        text-align: right;\n",
       "    }\n",
       "</style>\n",
       "<table border=\"1\" class=\"dataframe\">\n",
       "  <thead>\n",
       "    <tr style=\"text-align: right;\">\n",
       "      <th></th>\n",
       "      <th>Index</th>\n",
       "      <th>User Id</th>\n",
       "      <th>First Name</th>\n",
       "      <th>Last Name</th>\n",
       "      <th>Gender</th>\n",
       "      <th>Email</th>\n",
       "      <th>Phone</th>\n",
       "      <th>Date of birth</th>\n",
       "      <th>Job Title</th>\n",
       "      <th>Salary</th>\n",
       "    </tr>\n",
       "  </thead>\n",
       "  <tbody>\n",
       "    <tr>\n",
       "      <th>0</th>\n",
       "      <td>1</td>\n",
       "      <td>8717bbf45cCDbEe</td>\n",
       "      <td>Shelia</td>\n",
       "      <td>Mahoney</td>\n",
       "      <td>Male</td>\n",
       "      <td>pwarner@example.org</td>\n",
       "      <td>857.139.8239</td>\n",
       "      <td>27-01-2014</td>\n",
       "      <td>Probation officer</td>\n",
       "      <td>90000</td>\n",
       "    </tr>\n",
       "    <tr>\n",
       "      <th>1</th>\n",
       "      <td>2</td>\n",
       "      <td>3d5AD30A4cD38ed</td>\n",
       "      <td>Jo</td>\n",
       "      <td>Rivers</td>\n",
       "      <td>Female</td>\n",
       "      <td>fergusonkatherine@example.net</td>\n",
       "      <td>NaN</td>\n",
       "      <td>26-07-1931</td>\n",
       "      <td>Dancer</td>\n",
       "      <td>80000</td>\n",
       "    </tr>\n",
       "    <tr>\n",
       "      <th>2</th>\n",
       "      <td>3</td>\n",
       "      <td>810Ce0F276Badec</td>\n",
       "      <td>Sheryl</td>\n",
       "      <td>Lowery</td>\n",
       "      <td>Female</td>\n",
       "      <td>fhoward@example.org</td>\n",
       "      <td>(599)782-0605</td>\n",
       "      <td>25-11-2013</td>\n",
       "      <td>Copy</td>\n",
       "      <td>50000</td>\n",
       "    </tr>\n",
       "    <tr>\n",
       "      <th>3</th>\n",
       "      <td>4</td>\n",
       "      <td>BF2a889C00f0cE1</td>\n",
       "      <td>Whitney</td>\n",
       "      <td>Hooper</td>\n",
       "      <td>Male</td>\n",
       "      <td>zjohnston@example.com</td>\n",
       "      <td>NaN</td>\n",
       "      <td>17-11-2012</td>\n",
       "      <td>Counselling psychologist</td>\n",
       "      <td>65000</td>\n",
       "    </tr>\n",
       "    <tr>\n",
       "      <th>4</th>\n",
       "      <td>5</td>\n",
       "      <td>9afFEafAe1CBBB9</td>\n",
       "      <td>Lindsey</td>\n",
       "      <td>Rice</td>\n",
       "      <td>Female</td>\n",
       "      <td>elin@example.net</td>\n",
       "      <td>(390)417-1635x3010</td>\n",
       "      <td>15-04-1923</td>\n",
       "      <td>Biomedical engineer</td>\n",
       "      <td>100000</td>\n",
       "    </tr>\n",
       "  </tbody>\n",
       "</table>\n",
       "</div>"
      ],
      "text/plain": [
       "   Index          User Id First Name Last Name  Gender  \\\n",
       "0      1  8717bbf45cCDbEe     Shelia   Mahoney    Male   \n",
       "1      2  3d5AD30A4cD38ed         Jo    Rivers  Female   \n",
       "2      3  810Ce0F276Badec     Sheryl    Lowery  Female   \n",
       "3      4  BF2a889C00f0cE1    Whitney    Hooper    Male   \n",
       "4      5  9afFEafAe1CBBB9    Lindsey      Rice  Female   \n",
       "\n",
       "                           Email               Phone Date of birth  \\\n",
       "0            pwarner@example.org        857.139.8239    27-01-2014   \n",
       "1  fergusonkatherine@example.net                 NaN    26-07-1931   \n",
       "2            fhoward@example.org       (599)782-0605    25-11-2013   \n",
       "3          zjohnston@example.com                 NaN    17-11-2012   \n",
       "4               elin@example.net  (390)417-1635x3010    15-04-1923   \n",
       "\n",
       "                  Job Title  Salary  \n",
       "0         Probation officer   90000  \n",
       "1                    Dancer   80000  \n",
       "2                      Copy   50000  \n",
       "3  Counselling psychologist   65000  \n",
       "4       Biomedical engineer  100000  "
      ]
     },
     "execution_count": 76,
     "metadata": {},
     "output_type": "execute_result"
    }
   ],
   "source": [
    "df=pd.read_csv('People Data.csv')\n",
    "df.head()"
   ]
  },
  {
   "cell_type": "code",
   "execution_count": 23,
   "id": "6070ca60-b3cb-4c8a-bdae-b1d75e39a08c",
   "metadata": {},
   "outputs": [],
   "source": [
    "df['Phone']=df['Phone'].str.replace(r'\\D','',regex=True)"
   ]
  },
  {
   "cell_type": "code",
   "execution_count": 24,
   "id": "8758a709-b011-4bc3-a4c9-dcc010ebad46",
   "metadata": {},
   "outputs": [],
   "source": [
    "df['Phone']=pd.to_numeric(df['Phone'],errors='coerce')"
   ]
  },
  {
   "cell_type": "code",
   "execution_count": 28,
   "id": "f68db9aa-3acf-449e-870c-78329bb48d4b",
   "metadata": {},
   "outputs": [],
   "source": [
    "df['Phone']=df['Phone'].astype(int)"
   ]
  },
  {
   "cell_type": "code",
   "execution_count": 29,
   "id": "bcbd716b-e3da-4526-93bf-d0722f937f65",
   "metadata": {},
   "outputs": [
    {
     "name": "stdout",
     "output_type": "stream",
     "text": [
      "<class 'pandas.core.frame.DataFrame'>\n",
      "RangeIndex: 1000 entries, 0 to 999\n",
      "Data columns (total 10 columns):\n",
      " #   Column         Non-Null Count  Dtype \n",
      "---  ------         --------------  ----- \n",
      " 0   Index          1000 non-null   int64 \n",
      " 1   User Id        1000 non-null   object\n",
      " 2   First Name     1000 non-null   object\n",
      " 3   Last Name      1000 non-null   object\n",
      " 4   Gender         1000 non-null   object\n",
      " 5   Email          1000 non-null   object\n",
      " 6   Phone          1000 non-null   int32 \n",
      " 7   Date of birth  1000 non-null   object\n",
      " 8   Job Title      1000 non-null   object\n",
      " 9   Salary         1000 non-null   int64 \n",
      "dtypes: int32(1), int64(2), object(7)\n",
      "memory usage: 74.3+ KB\n"
     ]
    }
   ],
   "source": [
    "df.info()"
   ]
  },
  {
   "cell_type": "code",
   "execution_count": null,
   "id": "371f1c7c-ad57-4e2c-9c0a-ae34caa5afdf",
   "metadata": {},
   "outputs": [],
   "source": [
    "Q-8 Perform the following tasks using people dataset:\n",
    "\n",
    " a) Read the 'data.csv' file using pandas, skipping the first 50 rows.\n",
    "\n",
    " b) Only read the columns: 'Last Name', ‘Gender’,’Email’,‘Phone’ and ‘Salary’ from the file.\n",
    "\n",
    " c) Display the first 10 rows of the filtered dataset.\n",
    "\n",
    " d) Extract the ‘Salary’' column as a Series and display its last 5 valuesX"
   ]
  },
  {
   "cell_type": "code",
   "execution_count": 57,
   "id": "404a133d-8671-4fc8-85df-6e93a09c6e77",
   "metadata": {},
   "outputs": [],
   "source": [
    "columns=['Index', 'User Id', 'First Name', 'Last Name', 'Gender', 'Email',\n",
    "       'Phone', 'Date of birth', 'Job Title', 'Salary']"
   ]
  },
  {
   "cell_type": "code",
   "execution_count": 58,
   "id": "badc93d9-7641-40f6-9614-e92b6f5f46eb",
   "metadata": {},
   "outputs": [],
   "source": [
    "df=pd.read_csv('People Data.csv',skiprows=50,header=None,names=columns)"
   ]
  },
  {
   "cell_type": "code",
   "execution_count": 59,
   "id": "116838de-2c1c-4944-96ff-8aee5541a9e6",
   "metadata": {},
   "outputs": [],
   "source": [
    "dff=df[['Last Name','Gender','Email','Phone','Salary']]"
   ]
  },
  {
   "cell_type": "code",
   "execution_count": 61,
   "id": "99e8d9aa-2181-4981-9ac2-66f90cfc3632",
   "metadata": {},
   "outputs": [
    {
     "data": {
      "text/html": [
       "<div>\n",
       "<style scoped>\n",
       "    .dataframe tbody tr th:only-of-type {\n",
       "        vertical-align: middle;\n",
       "    }\n",
       "\n",
       "    .dataframe tbody tr th {\n",
       "        vertical-align: top;\n",
       "    }\n",
       "\n",
       "    .dataframe thead th {\n",
       "        text-align: right;\n",
       "    }\n",
       "</style>\n",
       "<table border=\"1\" class=\"dataframe\">\n",
       "  <thead>\n",
       "    <tr style=\"text-align: right;\">\n",
       "      <th></th>\n",
       "      <th>Last Name</th>\n",
       "      <th>Gender</th>\n",
       "      <th>Email</th>\n",
       "      <th>Phone</th>\n",
       "      <th>Salary</th>\n",
       "    </tr>\n",
       "  </thead>\n",
       "  <tbody>\n",
       "    <tr>\n",
       "      <th>0</th>\n",
       "      <td>Mercer</td>\n",
       "      <td>Female</td>\n",
       "      <td>douglascontreras@example.net</td>\n",
       "      <td>+1-326-669-0118x4341</td>\n",
       "      <td>70000</td>\n",
       "    </tr>\n",
       "    <tr>\n",
       "      <th>1</th>\n",
       "      <td>Zavala</td>\n",
       "      <td>Male</td>\n",
       "      <td>pamela64@example.net</td>\n",
       "      <td>001-859-448-9935x54536</td>\n",
       "      <td>80000</td>\n",
       "    </tr>\n",
       "    <tr>\n",
       "      <th>2</th>\n",
       "      <td>Carey</td>\n",
       "      <td>Female</td>\n",
       "      <td>dianashepherd@example.net</td>\n",
       "      <td>001-274-739-8470x814</td>\n",
       "      <td>70000</td>\n",
       "    </tr>\n",
       "    <tr>\n",
       "      <th>3</th>\n",
       "      <td>Hobbs</td>\n",
       "      <td>Female</td>\n",
       "      <td>ingramtiffany@example.org</td>\n",
       "      <td>241.179.9509x498</td>\n",
       "      <td>60000</td>\n",
       "    </tr>\n",
       "    <tr>\n",
       "      <th>4</th>\n",
       "      <td>Reilly</td>\n",
       "      <td>Male</td>\n",
       "      <td>carriecrawford@example.org</td>\n",
       "      <td>207.797.8345x6177</td>\n",
       "      <td>100000</td>\n",
       "    </tr>\n",
       "    <tr>\n",
       "      <th>5</th>\n",
       "      <td>Conrad</td>\n",
       "      <td>Male</td>\n",
       "      <td>fuentesclaudia@example.net</td>\n",
       "      <td>001-599-042-7428x143</td>\n",
       "      <td>50000</td>\n",
       "    </tr>\n",
       "    <tr>\n",
       "      <th>6</th>\n",
       "      <td>Cole</td>\n",
       "      <td>Male</td>\n",
       "      <td>kaneaudrey@example.org</td>\n",
       "      <td>663-280-5834</td>\n",
       "      <td>85000</td>\n",
       "    </tr>\n",
       "    <tr>\n",
       "      <th>7</th>\n",
       "      <td>Donovan</td>\n",
       "      <td>Male</td>\n",
       "      <td>rebekahsantos@example.net</td>\n",
       "      <td>NaN</td>\n",
       "      <td>65000</td>\n",
       "    </tr>\n",
       "    <tr>\n",
       "      <th>8</th>\n",
       "      <td>Little</td>\n",
       "      <td>Female</td>\n",
       "      <td>craig28@example.com</td>\n",
       "      <td>125.219.3673x0076</td>\n",
       "      <td>60000</td>\n",
       "    </tr>\n",
       "    <tr>\n",
       "      <th>9</th>\n",
       "      <td>Dawson</td>\n",
       "      <td>Female</td>\n",
       "      <td>connercourtney@example.net</td>\n",
       "      <td>650-748-3069x64529</td>\n",
       "      <td>60000</td>\n",
       "    </tr>\n",
       "  </tbody>\n",
       "</table>\n",
       "</div>"
      ],
      "text/plain": [
       "  Last Name  Gender                         Email                   Phone  \\\n",
       "0    Mercer  Female  douglascontreras@example.net    +1-326-669-0118x4341   \n",
       "1    Zavala    Male          pamela64@example.net  001-859-448-9935x54536   \n",
       "2     Carey  Female     dianashepherd@example.net    001-274-739-8470x814   \n",
       "3     Hobbs  Female     ingramtiffany@example.org        241.179.9509x498   \n",
       "4    Reilly    Male    carriecrawford@example.org       207.797.8345x6177   \n",
       "5    Conrad    Male    fuentesclaudia@example.net    001-599-042-7428x143   \n",
       "6      Cole    Male        kaneaudrey@example.org            663-280-5834   \n",
       "7   Donovan    Male     rebekahsantos@example.net                     NaN   \n",
       "8    Little  Female           craig28@example.com       125.219.3673x0076   \n",
       "9    Dawson  Female    connercourtney@example.net      650-748-3069x64529   \n",
       "\n",
       "   Salary  \n",
       "0   70000  \n",
       "1   80000  \n",
       "2   70000  \n",
       "3   60000  \n",
       "4  100000  \n",
       "5   50000  \n",
       "6   85000  \n",
       "7   65000  \n",
       "8   60000  \n",
       "9   60000  "
      ]
     },
     "execution_count": 61,
     "metadata": {},
     "output_type": "execute_result"
    }
   ],
   "source": [
    "dff.head(10)"
   ]
  },
  {
   "cell_type": "code",
   "execution_count": 62,
   "id": "39417344-8e41-49c9-9019-60be74cf9c1f",
   "metadata": {},
   "outputs": [
    {
     "data": {
      "text/plain": [
       "946     90000\n",
       "947     50000\n",
       "948     60000\n",
       "949    100000\n",
       "950     90000\n",
       "Name: Salary, dtype: int64"
      ]
     },
     "execution_count": 62,
     "metadata": {},
     "output_type": "execute_result"
    }
   ],
   "source": [
    "dff['Salary'].tail(5)"
   ]
  },
  {
   "cell_type": "code",
   "execution_count": null,
   "id": "7c8ea733-8800-44da-8c56-8f02c0c252cb",
   "metadata": {},
   "outputs": [],
   "source": [
    "Q-9 Filter and select rows from the People_Dataset, where the “Last Name' column contains the name 'Duke',  \n",
    "'Gender' column contains the word Female and ‘Salary’ should be less than 85000"
   ]
  },
  {
   "cell_type": "code",
   "execution_count": 64,
   "id": "26eafaa7-ba07-4805-86e0-22304938a25e",
   "metadata": {},
   "outputs": [],
   "source": [
    "fs=df[(df['Last Name']=='Duke')&(df['Gender']=='Female')&(df['Salary']<85000)]"
   ]
  },
  {
   "cell_type": "code",
   "execution_count": 65,
   "id": "36e29d4d-edc6-4a8a-8dee-4f3f5a8decaa",
   "metadata": {},
   "outputs": [
    {
     "data": {
      "text/html": [
       "<div>\n",
       "<style scoped>\n",
       "    .dataframe tbody tr th:only-of-type {\n",
       "        vertical-align: middle;\n",
       "    }\n",
       "\n",
       "    .dataframe tbody tr th {\n",
       "        vertical-align: top;\n",
       "    }\n",
       "\n",
       "    .dataframe thead th {\n",
       "        text-align: right;\n",
       "    }\n",
       "</style>\n",
       "<table border=\"1\" class=\"dataframe\">\n",
       "  <thead>\n",
       "    <tr style=\"text-align: right;\">\n",
       "      <th></th>\n",
       "      <th>Index</th>\n",
       "      <th>User Id</th>\n",
       "      <th>First Name</th>\n",
       "      <th>Last Name</th>\n",
       "      <th>Gender</th>\n",
       "      <th>Email</th>\n",
       "      <th>Phone</th>\n",
       "      <th>Date of birth</th>\n",
       "      <th>Job Title</th>\n",
       "      <th>Salary</th>\n",
       "    </tr>\n",
       "  </thead>\n",
       "  <tbody>\n",
       "    <tr>\n",
       "      <th>45</th>\n",
       "      <td>46</td>\n",
       "      <td>99A502C175C4EBd</td>\n",
       "      <td>Olivia</td>\n",
       "      <td>Duke</td>\n",
       "      <td>Female</td>\n",
       "      <td>diana26@example.net</td>\n",
       "      <td>001-366-475-8607x04350</td>\n",
       "      <td>13-10-1934</td>\n",
       "      <td>Dentist</td>\n",
       "      <td>60000</td>\n",
       "    </tr>\n",
       "    <tr>\n",
       "      <th>210</th>\n",
       "      <td>211</td>\n",
       "      <td>DF17975CC0a0373</td>\n",
       "      <td>Katrina</td>\n",
       "      <td>Duke</td>\n",
       "      <td>Female</td>\n",
       "      <td>robin78@example.com</td>\n",
       "      <td>740.434.0212</td>\n",
       "      <td>21-09-1935</td>\n",
       "      <td>Producer, radio</td>\n",
       "      <td>50000</td>\n",
       "    </tr>\n",
       "    <tr>\n",
       "      <th>457</th>\n",
       "      <td>458</td>\n",
       "      <td>dcE1B7DE83c1076</td>\n",
       "      <td>Traci</td>\n",
       "      <td>Duke</td>\n",
       "      <td>Female</td>\n",
       "      <td>perryhoffman@example.org</td>\n",
       "      <td>+1-903-596-0995x489</td>\n",
       "      <td>11-02-1997</td>\n",
       "      <td>Herbalist</td>\n",
       "      <td>50000</td>\n",
       "    </tr>\n",
       "    <tr>\n",
       "      <th>729</th>\n",
       "      <td>730</td>\n",
       "      <td>c9b482D7aa3e682</td>\n",
       "      <td>Lonnie</td>\n",
       "      <td>Duke</td>\n",
       "      <td>Female</td>\n",
       "      <td>kevinkramer@example.net</td>\n",
       "      <td>982.692.6257</td>\n",
       "      <td>12-05-2015</td>\n",
       "      <td>Nurse, adult</td>\n",
       "      <td>70000</td>\n",
       "    </tr>\n",
       "  </tbody>\n",
       "</table>\n",
       "</div>"
      ],
      "text/plain": [
       "     Index          User Id First Name Last Name  Gender  \\\n",
       "45      46  99A502C175C4EBd     Olivia      Duke  Female   \n",
       "210    211  DF17975CC0a0373    Katrina      Duke  Female   \n",
       "457    458  dcE1B7DE83c1076      Traci      Duke  Female   \n",
       "729    730  c9b482D7aa3e682     Lonnie      Duke  Female   \n",
       "\n",
       "                        Email                   Phone Date of birth  \\\n",
       "45        diana26@example.net  001-366-475-8607x04350    13-10-1934   \n",
       "210       robin78@example.com            740.434.0212    21-09-1935   \n",
       "457  perryhoffman@example.org     +1-903-596-0995x489    11-02-1997   \n",
       "729   kevinkramer@example.net            982.692.6257    12-05-2015   \n",
       "\n",
       "           Job Title  Salary  \n",
       "45           Dentist   60000  \n",
       "210  Producer, radio   50000  \n",
       "457        Herbalist   50000  \n",
       "729     Nurse, adult   70000  "
      ]
     },
     "execution_count": 65,
     "metadata": {},
     "output_type": "execute_result"
    }
   ],
   "source": [
    "fs"
   ]
  },
  {
   "cell_type": "code",
   "execution_count": null,
   "id": "bfac74fe-4f6a-4df6-b0ce-c0d62f9fb22b",
   "metadata": {},
   "outputs": [],
   "source": [
    "Q-10 Create two different Series, each of length 50, with the following criteria:\n",
    "\n",
    "a) The first Series should contain random numbers ranging from 10 to 50.\n",
    "\n",
    "b) The second Series should contain random numbers ranging from 100 to 1000.\n",
    "\n",
    "c) Create a DataFrame by joining these Series by column, and, change the names of the columns to 'col1', 'col2', \n",
    "etc&"
   ]
  },
  {
   "cell_type": "code",
   "execution_count": 72,
   "id": "91141353-3fda-4a6f-8c54-98fc087dbf8d",
   "metadata": {},
   "outputs": [],
   "source": [
    "a1=pd.Series(np.random.randint(10,51,50))\n",
    "a2=pd.Series(np.random.randint(100,1000,50))"
   ]
  },
  {
   "cell_type": "code",
   "execution_count": 73,
   "id": "b707c49d-4536-4272-81f8-19b0918d288d",
   "metadata": {},
   "outputs": [],
   "source": [
    "Df=pd.DataFrame({'col1':a1,'col2':a2})"
   ]
  },
  {
   "cell_type": "code",
   "execution_count": null,
   "id": "02a6ab9c-78a1-4af3-937a-7f777e98a09d",
   "metadata": {},
   "outputs": [],
   "source": [
    "Q- Perform the following operations using people data set:\n",
    "\n",
    "a) Delete the 'Email', 'Phone', and 'Date of birth' columns from the dataset.\n",
    "\n",
    "b) Delete the rows containing any missing values.\n",
    "\n",
    "d) Print the final output also&"
   ]
  },
  {
   "cell_type": "code",
   "execution_count": 80,
   "id": "7602731b-d931-4b7c-bdeb-d3fe334cf62d",
   "metadata": {},
   "outputs": [],
   "source": [
    "df=df.drop(['Email','Phone','Date of birth'],axis=1)"
   ]
  },
  {
   "cell_type": "code",
   "execution_count": 85,
   "id": "a0297080-fff7-470b-8344-74b6910ae915",
   "metadata": {},
   "outputs": [
    {
     "data": {
      "text/html": [
       "<div>\n",
       "<style scoped>\n",
       "    .dataframe tbody tr th:only-of-type {\n",
       "        vertical-align: middle;\n",
       "    }\n",
       "\n",
       "    .dataframe tbody tr th {\n",
       "        vertical-align: top;\n",
       "    }\n",
       "\n",
       "    .dataframe thead th {\n",
       "        text-align: right;\n",
       "    }\n",
       "</style>\n",
       "<table border=\"1\" class=\"dataframe\">\n",
       "  <thead>\n",
       "    <tr style=\"text-align: right;\">\n",
       "      <th></th>\n",
       "      <th>Index</th>\n",
       "      <th>User Id</th>\n",
       "      <th>First Name</th>\n",
       "      <th>Last Name</th>\n",
       "      <th>Gender</th>\n",
       "      <th>Job Title</th>\n",
       "      <th>Salary</th>\n",
       "    </tr>\n",
       "  </thead>\n",
       "  <tbody>\n",
       "    <tr>\n",
       "      <th>0</th>\n",
       "      <td>1</td>\n",
       "      <td>8717bbf45cCDbEe</td>\n",
       "      <td>Shelia</td>\n",
       "      <td>Mahoney</td>\n",
       "      <td>Male</td>\n",
       "      <td>Probation officer</td>\n",
       "      <td>90000</td>\n",
       "    </tr>\n",
       "    <tr>\n",
       "      <th>1</th>\n",
       "      <td>2</td>\n",
       "      <td>3d5AD30A4cD38ed</td>\n",
       "      <td>Jo</td>\n",
       "      <td>Rivers</td>\n",
       "      <td>Female</td>\n",
       "      <td>Dancer</td>\n",
       "      <td>80000</td>\n",
       "    </tr>\n",
       "    <tr>\n",
       "      <th>2</th>\n",
       "      <td>3</td>\n",
       "      <td>810Ce0F276Badec</td>\n",
       "      <td>Sheryl</td>\n",
       "      <td>Lowery</td>\n",
       "      <td>Female</td>\n",
       "      <td>Copy</td>\n",
       "      <td>50000</td>\n",
       "    </tr>\n",
       "    <tr>\n",
       "      <th>3</th>\n",
       "      <td>4</td>\n",
       "      <td>BF2a889C00f0cE1</td>\n",
       "      <td>Whitney</td>\n",
       "      <td>Hooper</td>\n",
       "      <td>Male</td>\n",
       "      <td>Counselling psychologist</td>\n",
       "      <td>65000</td>\n",
       "    </tr>\n",
       "    <tr>\n",
       "      <th>4</th>\n",
       "      <td>5</td>\n",
       "      <td>9afFEafAe1CBBB9</td>\n",
       "      <td>Lindsey</td>\n",
       "      <td>Rice</td>\n",
       "      <td>Female</td>\n",
       "      <td>Biomedical engineer</td>\n",
       "      <td>100000</td>\n",
       "    </tr>\n",
       "  </tbody>\n",
       "</table>\n",
       "</div>"
      ],
      "text/plain": [
       "   Index          User Id First Name Last Name  Gender  \\\n",
       "0      1  8717bbf45cCDbEe     Shelia   Mahoney    Male   \n",
       "1      2  3d5AD30A4cD38ed         Jo    Rivers  Female   \n",
       "2      3  810Ce0F276Badec     Sheryl    Lowery  Female   \n",
       "3      4  BF2a889C00f0cE1    Whitney    Hooper    Male   \n",
       "4      5  9afFEafAe1CBBB9    Lindsey      Rice  Female   \n",
       "\n",
       "                  Job Title  Salary  \n",
       "0         Probation officer   90000  \n",
       "1                    Dancer   80000  \n",
       "2                      Copy   50000  \n",
       "3  Counselling psychologist   65000  \n",
       "4       Biomedical engineer  100000  "
      ]
     },
     "execution_count": 85,
     "metadata": {},
     "output_type": "execute_result"
    }
   ],
   "source": [
    "df.head()"
   ]
  },
  {
   "cell_type": "code",
   "execution_count": null,
   "id": "f0338b05-939c-4fc7-9492-119940f538a5",
   "metadata": {},
   "outputs": [],
   "source": [
    "Q-11 Create two NumPy arrays, x and y, each containing 100 random float values between 0 and 1. Perform the \n",
    "following tasks using Matplotlib and NumPy:\n",
    "\n",
    "a) Create a scatter plot using x and y, setting the color of the points to red and the marker style to 'o'.\n",
    "\n",
    "b) Add a horizontal line at y = 0.5 using a dashed line style and label it as 'y = 0.5'.\n",
    "\n",
    "c) Add a vertical line at x = 0.5 using a dotted line style and label it as 'x = 0.5'.\n",
    "\n",
    "d) Label the x-axis as 'X-axis' and the y-axis as 'Y-axis'.\n",
    "\n",
    "e) Set the title of the plot as 'Advanced Scatter Plot of Random Values'.\n",
    "\n",
    "f) Display a legend for the scatter plot, the horizontal line, and the vertical line"
   ]
  },
  {
   "cell_type": "code",
   "execution_count": 89,
   "id": "aecf488f-61c7-4066-823a-e27ae5f88957",
   "metadata": {},
   "outputs": [],
   "source": [
    "x=np.random.uniform(0,1,100)\n",
    "y=np.random.uniform(0,1,100)"
   ]
  },
  {
   "cell_type": "code",
   "execution_count": 92,
   "id": "32b422f0-830b-4c94-be6f-399e61c87f8a",
   "metadata": {},
   "outputs": [],
   "source": [
    "from matplotlib import pyplot as plt"
   ]
  },
  {
   "cell_type": "code",
   "execution_count": 96,
   "id": "76f7ad60-da0f-440d-b0d8-f5f281bcf5bf",
   "metadata": {},
   "outputs": [
    {
     "data": {
      "image/png": "[encoded data removed]",
      "text/plain": [
       "<Figure size 640x480 with 1 Axes>"
      ]
     },
     "metadata": {},
     "output_type": "display_data"
    }
   ],
   "source": [
    "plt.scatter(x,y,marker='o',c='red')\n",
    "plt.title('Advanced Scatter Plot of Random Values')\n",
    "plt.axhline(y=0.5,linestyle='--',label='y=0.5',c='yellow')\n",
    "plt.axvline(x=0.5,linestyle=':',label='x=0.5',c='blue')\n",
    "plt.xlabel('X-axis')\n",
    "plt.ylabel('Y-axis')\n",
    "plt.legend()\n",
    "plt.show()"
   ]
  },
  {
   "cell_type": "code",
   "execution_count": null,
   "id": "0c5fc50c-776b-4074-82b3-f9449006a9a7",
   "metadata": {},
   "outputs": [],
   "source": [
    "Q-14 Create a time-series dataset in a Pandas DataFrame with columns: 'Date', 'Temperature', 'Humidity' and \n",
    "Perform the following tasks using Matplotlib:\n",
    "\n",
    "a) Plot the 'Temperature' and 'Humidity' on the same plot with different y-axes (left y-axis for 'Temperature' and \n",
    "right y-axis for 'Humidity').\n",
    "\n",
    "b) Label the x-axis as 'Date'.\n",
    "\n",
    "c) Set the title of the plot as 'Temperature and Humidity Over Time'."
   ]
  },
  {
   "cell_type": "code",
   "execution_count": 100,
   "id": "cebc1504-ba20-40c1-9a79-42153ee8e02b",
   "metadata": {},
   "outputs": [
    {
     "data": {
      "image/png": "[encoded data removed]",
      "text/plain": [
       "<Figure size 640x480 with 2 Axes>"
      ]
     },
     "metadata": {},
     "output_type": "display_data"
    }
   ],
   "source": [
    "dt=pd.date_range('01/01/2024',periods=30,freq='D')\n",
    "tp=np.random.randint(20,40,30)\n",
    "hd=np.random.randint(30,40,30)\n",
    "\n",
    "data=pd.DataFrame({'Date':dt,'Temp':tp,'Humy':hd})\n",
    "fig,ax1=plt.subplots()\n",
    "ax1.plot(data['Date'],data['Temp'],color='red',label='Temp')\n",
    "ax1.set_ylabel('Temp',color='red')\n",
    "ax1.tick_params(axis='y',labelcolor='red')\n",
    "\n",
    "ax2=ax1.twinx()\n",
    "ax2.plot(data['Date'],data['Humy'],color='blue',label='Humy')\n",
    "ax2.set_ylabel('Humy',color='blue')\n",
    "ax2.tick_params(axis='y',labelcolor='blue')\n",
    "ax1.set_xlabel('Date')\n",
    "plt.title('Temperature and Humidity Over Time')\n",
    "plt.show()"
   ]
  },
  {
   "cell_type": "code",
   "execution_count": null,
   "id": "d8a990c3-77df-4c29-80c7-b25392ea8ba1",
   "metadata": {},
   "outputs": [],
   "source": [
    "Q-15 Create a NumPy array data containing 1000 samples from a normal distribution. Perform the following \n",
    "tasks using Matplotlib:\n",
    "a) Plot a histogram of the data with 30 bins.\n",
    "\n",
    "b) Overlay a line plot representing the normal distribution's probability density function (PDF).\n",
    "\n",
    "c) Label the x-axis as 'Value' and the y-axis as 'Frequency/Probability'.\n",
    "\n",
    "d) Set the title of the plot as 'Histogram with PDF Overlay"
   ]
  },
  {
   "cell_type": "code",
   "execution_count": 101,
   "id": "b939049c-0564-436a-b6c5-a4746dd519c9",
   "metadata": {},
   "outputs": [],
   "source": [
    "from scipy.stats import norm"
   ]
  },
  {
   "cell_type": "code",
   "execution_count": 103,
   "id": "e6991039-b5da-41dd-bd97-1f0cc6f68518",
   "metadata": {},
   "outputs": [
    {
     "data": {
      "image/png": "[encoded data removed]",
      "text/plain": [
       "<Figure size 640x480 with 1 Axes>"
      ]
     },
     "metadata": {},
     "output_type": "display_data"
    }
   ],
   "source": [
    "hi=np.random.rand(1000)\n",
    "plt.hist(hi, bins=30, density=True, alpha=0.6, color='blue', label='Histogram')\n",
    "xmin, xmax = plt.xlim()\n",
    "x = np.linspace(xmin, xmax, 1000)\n",
    "pdf = norm.pdf(x)\n",
    "plt.plot(x, pdf, 'r-', label='PDF')\n",
    "plt.xlabel('Value')\n",
    "plt.ylabel('Frequency/Probability')\n",
    "plt.title('Histogram with PDF Overlay')\n",
    "plt.legend()\n",
    "plt.show()"
   ]
  },
  {
   "cell_type": "code",
   "execution_count": null,
   "id": "82ece86e-0b42-4d7a-a303-f149dcca5f6e",
   "metadata": {},
   "outputs": [],
   "source": [
    "Q-17 Create a Seaborn scatter plot of two random arrays, color points based on their position relative to the \n",
    "origin (quadrants), add a legend, label the axes, and set the title as 'Quadrant-wise Scatter Plot'."
   ]
  },
  {
   "cell_type": "code",
   "execution_count": 104,
   "id": "da3f71a2-759b-43e1-8639-c20625c04cb0",
   "metadata": {},
   "outputs": [],
   "source": [
    "import seaborn as sns"
   ]
  },
  {
   "cell_type": "code",
   "execution_count": 105,
   "id": "415b8a75-233e-4da7-bca5-c110b42ab557",
   "metadata": {},
   "outputs": [
    {
     "data": {
      "image/png": "[encoded data removed]",
      "text/plain": [
       "<Figure size 1000x600 with 1 Axes>"
      ]
     },
     "metadata": {},
     "output_type": "display_data"
    }
   ],
   "source": [
    "np.random.seed(42)\n",
    "x = np.random.uniform(-10, 10, 100)\n",
    "y = np.random.uniform(-10, 10, 100)\n",
    "\n",
    "\n",
    "def quad(x, y):\n",
    "    if x > 0 and y > 0:\n",
    "        return \"Quadrant I\"\n",
    "    elif x < 0 and y > 0:\n",
    "        return \"Quadrant II\"\n",
    "    elif x < 0 and y < 0:\n",
    "        return \"Quadrant III\"\n",
    "    else:\n",
    "        return \"Quadrant IV\"\n",
    "\n",
    "\n",
    "data = pd.DataFrame({'x': x, 'y': y})\n",
    "data['Quadrant'] = data.apply(lambda row: quad(row['x'], row['y']), axis=1)\n",
    "\n",
    "\n",
    "plt.figure(figsize=(10, 6))\n",
    "sns.scatterplot(\n",
    "    data=data, x='x', y='y', hue='Quadrant', style='Quadrant', palette='bright', s=100)\n",
    "\n",
    "\n",
    "plt.axhline(0, color='gray', linestyle='--', linewidth=0.8)\n",
    "plt.axvline(0, color='gray', linestyle='--', linewidth=0.8)\n",
    "\n",
    "\n",
    "plt.xlabel('X-axis')\n",
    "plt.ylabel('Y-axis')\n",
    "plt.title('Quadrant-wise Scatter Plot')\n",
    "plt.legend(title='Quadrants', loc='upper right')\n",
    "plt.show()"
   ]
  },
  {
   "cell_type": "code",
   "execution_count": null,
   "id": "eb7862b8-2fff-4a7b-a1db-f5151b215ade",
   "metadata": {},
   "outputs": [],
   "source": [
    "Q_18 With Bokeh, plot a line chart of a sine wave function, add grid lines, label the axes, and set the title as 'Sine \n",
    "Wave Function."
   ]
  },
  {
   "cell_type": "code",
   "execution_count": null,
   "id": "d1175be6-21e0-413c-beed-093299e1def1",
   "metadata": {},
   "outputs": [],
   "source": [
    "from bokeh.plotting import figure, show\n",
    "from bokeh.models import ColumnDataSource, HoverTool\n",
    "from bokeh.transform import factor_cmap\n",
    "from bokeh.palettes import Viridis256"
   ]
  },
  {
   "cell_type": "code",
   "execution_count": null,
   "id": "6cfd5503-bf16-4da9-b1f4-0e68149535a5",
   "metadata": {},
   "outputs": [],
   "source": [
    "x = np.linspace(0, 10, 500)  \n",
    "y = np.sin(x)  \n",
    "\n",
    "p = figure(\n",
    "    title=\"Sine Wave Function\",\n",
    "    x_axis_label='X-axis',\n",
    "    y_axis_label='Y-axis',\n",
    "    width=800,\n",
    "    height=400)\n",
    "p.line(x, y, legend_label=\"Sine Wave\", line_width=2, color=\"blue\")\n",
    "p.xgrid.grid_line_color = \"gray\"\n",
    "p.ygrid.grid_line_color = \"gray\"\n",
    "p.xgrid.grid_line_alpha = 0.6\n",
    "p.ygrid.grid_line_alpha = 0.6\n",
    "show(p)"
   ]
  },
  {
   "cell_type": "code",
   "execution_count": null,
   "id": "35bf0571-c1da-4424-994f-bdae0c5d0c64",
   "metadata": {},
   "outputs": [],
   "source": [
    "Q-19 Using Bokeh, generate a bar chart of randomly generated categorical data, color bars based on their \n",
    "values, add hover tooltips to display exact values, label the axes, and set the title as 'Random Categorical \n",
    "Bar Chart."
   ]
  },
  {
   "cell_type": "code",
   "execution_count": null,
   "id": "69c6e01a-5455-41f9-b28e-b812e1d4e38b",
   "metadata": {},
   "outputs": [],
   "source": [
    "categories = ['A', 'B', 'C', 'D', 'E']\n",
    "values = np.random.randint(10, 100, size=len(categories))\n",
    "\n",
    "source = ColumnDataSource(data=dict(categories=categories, values=values))\n",
    "p = figure(\n",
    "    x_range=categories,\n",
    "    title=\"Random Categorical Bar Chart\",\n",
    "    x_axis_label=\"Categories\",\n",
    "    y_axis_label=\"Values\",\n",
    "    tools=\"pan,wheel_zoom,box_zoom,reset,save\",\n",
    "    width=800,\n",
    "    height=400)\n",
    "\n",
    "p.vbar(\n",
    "    x='categories',\n",
    "    top='values',\n",
    "    width=0.8,\n",
    "    source=source,\n",
    "    legend_field='categories',\n",
    "    line_color='white',\n",
    "    fill_color=factor_cmap('categories', palette=Viridis256[:len(categories)], factors=categories))\n",
    "\n",
    "hover = HoverTool()\n",
    "hover.tooltips = [(\"Category\", \"@categories\"), (\"Value\", \"@values\")]\n",
    "p.add_tools(hover)\n",
    "\n",
    "p.legend.title = \"Categories\"\n",
    "p.legend.orientation = \"horizontal\"\n",
    "p.legend.location = \"top_center\"\n",
    "p.xgrid.grid_line_color = None\n",
    "\n",
    "show(p)"
   ]
  },
  {
   "cell_type": "code",
   "execution_count": null,
   "id": "5e5d3b9a-13b5-47ac-ac5d-738a0262b912",
   "metadata": {},
   "outputs": [],
   "source": [
    "Q-20 Using Plotly, create a basic line plot of a randomly generated dataset, label the axes, and set the title as \n",
    "'Simple Line Plot'."
   ]
  },
  {
   "cell_type": "code",
   "execution_count": null,
   "id": "1a3178f6-8916-4be6-afbb-2ffeb9289e50",
   "metadata": {},
   "outputs": [],
   "source": [
    "import plotly.graph_objects as go\n",
    "\n",
    "x = np.linspace(0, 10, 50)  \n",
    "y = np.random.rand(50) * 10 \n",
    "fig = go.Figure()\n",
    "\n",
    "fig.add_trace(go.Scatter(x=x, y=y, mode='lines', name='Line'))\n",
    "\n",
    "fig.update_layout(\n",
    "    title='Simple Line Plot',\n",
    "    xaxis_title='X-axis',\n",
    "    yaxis_title='Y-axis',\n",
    "    template='plotly_white' )\n",
    "fig.show()"
   ]
  },
  {
   "cell_type": "code",
   "execution_count": null,
   "id": "cf1b953e-3a23-45b8-9048-627b1379acd9",
   "metadata": {},
   "outputs": [],
   "source": [
    "Q-21 Using Plotly, create an interactive pie chart of randomly generated data, add labels and percentages, set \n",
    "the title as 'Interactive Pie Chart'."
   ]
  },
  {
   "cell_type": "code",
   "execution_count": null,
   "id": "7664ba60-e77b-4373-82e0-1497dd3afd94",
   "metadata": {},
   "outputs": [],
   "source": [
    "import numpy as np\n",
    "\n",
    "np.random.seed(42)\n",
    "values = np.random.randint(10, 100, 5)  \n",
    "labels = ['Category A', 'Category B', 'Category C', 'Category D', 'Category E'] \n",
    "\n",
    "fig = go.Figure(data=[go.Pie(\n",
    "    labels=labels,\n",
    "    values=values,\n",
    "    hole=0,  \n",
    "    hoverinfo='label+percent+value', \n",
    "    textinfo='percent', \n",
    "    textfont_size=14)])\n",
    "\n",
    "fig.update_layout(title='Interactive Pie Chart')\n",
    "fig.show()"
   ]
  }
 ],
 "metadata": {
  "kernelspec": {
   "display_name": "Python 3 (ipykernel)",
   "language": "python",
   "name": "python3"
  },
  "language_info": {
   "codemirror_mode": {
    "name": "ipython",
    "version": 3
   },
   "file_extension": ".py",
   "mimetype": "text/x-python",
   "name": "python",
   "nbconvert_exporter": "python",
   "pygments_lexer": "ipython3",
   "version": "3.12.0"
  }
 },
 "nbformat": 4,
 "nbformat_minor": 5
}
