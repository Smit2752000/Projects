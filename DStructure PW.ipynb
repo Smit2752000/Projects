{
 "cells": [
  {
   "cell_type": "markdown",
   "id": "273d1ead-6a89-4615-9185-118fe022b575",
   "metadata": {},
   "source": [
    "1. Write a code to reverse a string."
   ]
  },
  {
   "cell_type": "code",
   "execution_count": 1,
   "id": "c5f3dfa5-6e4c-4fb9-9268-90b628109bcf",
   "metadata": {},
   "outputs": [
    {
     "name": "stdout",
     "output_type": "stream",
     "text": [
      "sllikSWP olleh\n"
     ]
    }
   ],
   "source": [
    "line='hello PWSkills'\n",
    "result=line[::-1]\n",
    "print(result)"
   ]
  },
  {
   "cell_type": "markdown",
   "id": "fcdf9b76-c995-4e60-bc1f-6db285e73ef4",
   "metadata": {},
   "source": [
    "2. Write a code to count the number of vowels in a string."
   ]
  },
  {
   "cell_type": "code",
   "execution_count": 6,
   "id": "8552ca8c-9862-45ab-8786-e460287733b2",
   "metadata": {},
   "outputs": [
    {
     "name": "stdout",
     "output_type": "stream",
     "text": [
      "3\n"
     ]
    }
   ],
   "source": [
    "vowels='aeiouAEIOU'\n",
    "line='hello PWSkills'\n",
    "count=0\n",
    "for i in line:\n",
    "    if i in vowels:\n",
    "        count +=1\n",
    "print(count)"
   ]
  },
  {
   "cell_type": "markdown",
   "id": "8b10dcbd-37ee-44e3-a71a-5617284d9c54",
   "metadata": {},
   "source": [
    "3. Write a code to check if a given string is a palindrome or not."
   ]
  },
  {
   "cell_type": "code",
   "execution_count": 7,
   "id": "cfbe604b-a6a2-445d-a0a3-e888d0096c9f",
   "metadata": {},
   "outputs": [
    {
     "name": "stdin",
     "output_type": "stream",
     "text": [
      " maDam\n"
     ]
    },
    {
     "name": "stdout",
     "output_type": "stream",
     "text": [
      "madam is palindrome\n"
     ]
    }
   ],
   "source": [
    "line=str(input())\n",
    "line=line.replace(' ','').lower()\n",
    "if line==line[::-1]:\n",
    "    print(f'{line} is palindrome')\n",
    "else:\n",
    "    print(f'{line} is not palindrome')"
   ]
  },
  {
   "cell_type": "markdown",
   "id": "25059d22-0b56-4f42-b7db-ec8301668192",
   "metadata": {},
   "source": [
    "4.Write a code to check if two given strings are anagrams of each other."
   ]
  },
  {
   "cell_type": "code",
   "execution_count": 9,
   "id": "af3970db-f1ee-451f-86b8-f6fd3d6aba92",
   "metadata": {},
   "outputs": [
    {
     "name": "stdin",
     "output_type": "stream",
     "text": [
      " smit\n",
      " mit\n"
     ]
    },
    {
     "name": "stdout",
     "output_type": "stream",
     "text": [
      "No it is not anagrams\n"
     ]
    }
   ],
   "source": [
    "def anagrams(line1,line2):\n",
    "    line1=line1.replace(' ','').lower()\n",
    "    line2=line2.replace(' ','').lower()\n",
    "    return sorted(line1)==sorted(line2)\n",
    "line1=str(input())\n",
    "line2=str(input())\n",
    "if anagrams(line1,line2):\n",
    "    print('yes it is anagrams')\n",
    "else:\n",
    "    print('No it is not anagrams')"
   ]
  },
  {
   "cell_type": "markdown",
   "id": "1332039b-0051-4324-aecf-89818df94ce6",
   "metadata": {},
   "source": [
    "5. Write a code to find all occurrences of a given substring within another string."
   ]
  },
  {
   "cell_type": "code",
   "execution_count": 11,
   "id": "dd614f16-a6c5-4975-92a1-88e0c1363b9c",
   "metadata": {},
   "outputs": [
    {
     "data": {
      "text/plain": [
       "[6, 23, 51]"
      ]
     },
     "execution_count": 11,
     "metadata": {},
     "output_type": "execute_result"
    }
   ],
   "source": [
    "def strings(line,subline):\n",
    "    count=[]\n",
    "    start=0\n",
    "    while True:\n",
    "        result=line.find(subline,start)\n",
    "        if result==-1:\n",
    "            break\n",
    "        count.append(result)\n",
    "        start =result +1\n",
    "    return count\n",
    "line='hello my name is smit, my task is learning, i like my job'\n",
    "subline='my'\n",
    "text=strings(line,subline)\n",
    "text"
   ]
  },
  {
   "cell_type": "markdown",
   "id": "38a75505-43c8-4e08-b1e9-c3a8e86cce30",
   "metadata": {},
   "source": [
    "6. Write a code to perform basic string compression using the counts of repeated characters."
   ]
  },
  {
   "cell_type": "code",
   "execution_count": 18,
   "id": "f5247659-74cc-4bf4-b254-36d6298e70b9",
   "metadata": {},
   "outputs": [],
   "source": [
    "def repeat(s):\n",
    "    com=[]\n",
    "    count=1\n",
    "    for i in range(len(s)-1):\n",
    "        if s[i]==s[i+1]:\n",
    "            count+=1\n",
    "        else:\n",
    "            com.append(s[i]+str(count))\n",
    "            count=1\n",
    "    com.append(s[-1]+str(count))\n",
    "    return ''.join(com)"
   ]
  },
  {
   "cell_type": "code",
   "execution_count": 19,
   "id": "3b98e96e-174f-485c-b7aa-991f6f23ca17",
   "metadata": {},
   "outputs": [
    {
     "name": "stdout",
     "output_type": "stream",
     "text": [
      "a4h3e3\n"
     ]
    }
   ],
   "source": [
    "line='aaaahhheee'\n",
    "print(repeat(line))"
   ]
  },
  {
   "cell_type": "markdown",
   "id": "128ae7d8-dbe5-491b-a0b6-f446b812abfa",
   "metadata": {},
   "source": [
    "7. Write a code to determine if a string has all unique characters."
   ]
  },
  {
   "cell_type": "code",
   "execution_count": 21,
   "id": "2c2aa6e3-c74a-4e35-8939-36749eddf3f1",
   "metadata": {},
   "outputs": [
    {
     "name": "stdout",
     "output_type": "stream",
     "text": [
      "True\n",
      "False\n"
     ]
    }
   ],
   "source": [
    "def unique(s):\n",
    "    line=set(s)\n",
    "    return len(line)==len(s)\n",
    "l1='smit'\n",
    "l2='hello'\n",
    "print(unique(l1))\n",
    "print(unique(l2))"
   ]
  },
  {
   "cell_type": "markdown",
   "id": "3b332bfe-30d9-48cf-a21e-2e8aab2d4d07",
   "metadata": {},
   "source": [
    "8. Write a code to convert a given string to uppercase or lowercase"
   ]
  },
  {
   "cell_type": "code",
   "execution_count": 26,
   "id": "6cdd2746-2caf-4b8f-8223-ab174ec7a9f9",
   "metadata": {},
   "outputs": [
    {
     "name": "stdout",
     "output_type": "stream",
     "text": [
      "hello!! HELLO!!\n"
     ]
    }
   ],
   "source": [
    "line='HELlo!!'\n",
    "l1=line.lower() #line.upper() for upper case\n",
    "l2=line.upper()\n",
    "print(l1,l2)"
   ]
  },
  {
   "cell_type": "markdown",
   "id": "6d50be97-98e6-4f49-8307-ace70ca20eca",
   "metadata": {},
   "source": [
    "9.Write a code to count the number of words in a string."
   ]
  },
  {
   "cell_type": "code",
   "execution_count": 27,
   "id": "7c0f013e-3797-47b3-bb86-869772c1c1ad",
   "metadata": {},
   "outputs": [
    {
     "data": {
      "text/plain": [
       "5"
      ]
     },
     "execution_count": 27,
     "metadata": {},
     "output_type": "execute_result"
    }
   ],
   "source": [
    "line='hello'\n",
    "l=len(line)\n",
    "l"
   ]
  },
  {
   "cell_type": "markdown",
   "id": "07c0b101-6efb-42c6-88a4-fb8fadec2e1b",
   "metadata": {},
   "source": [
    "10. Write a code to concatenate two strings without using the + operator."
   ]
  },
  {
   "cell_type": "code",
   "execution_count": 30,
   "id": "2509d2a7-33fc-498c-bf17-ca440a5c1f22",
   "metadata": {},
   "outputs": [
    {
     "data": {
      "text/plain": [
       "'hello'"
      ]
     },
     "execution_count": 30,
     "metadata": {},
     "output_type": "execute_result"
    }
   ],
   "source": [
    "l1='hel'\n",
    "l2='lo'\n",
    "l3=''.join([l1,l2])\n",
    "l3"
   ]
  },
  {
   "cell_type": "markdown",
   "id": "0e2da49c-3e6a-4413-90fb-861976742b03",
   "metadata": {},
   "source": [
    "11.Write a code to remove all occurrences of a specific element from a list."
   ]
  },
  {
   "cell_type": "code",
   "execution_count": 51,
   "id": "fc6835df-f6c5-418d-bfb5-c5d626c91b74",
   "metadata": {},
   "outputs": [
    {
     "name": "stdout",
     "output_type": "stream",
     "text": [
      "[23, 14, 5, 45]\n"
     ]
    }
   ],
   "source": [
    "lis=[12,23,12,14,5,45,12]\n",
    "l1=12\n",
    "l=[i for i in lis if i!=l1]\n",
    "print(l)"
   ]
  },
  {
   "cell_type": "markdown",
   "id": "e7e14083-dd33-40ca-88d9-faa209d3c3eb",
   "metadata": {},
   "source": [
    "12. Implement a code to find the second largest number in a given list of integers."
   ]
  },
  {
   "cell_type": "code",
   "execution_count": 1,
   "id": "2277fc65-93be-45f8-8369-5354e88d3edf",
   "metadata": {},
   "outputs": [],
   "source": [
    "def large(n):\n",
    "    ints=list(set(n))\n",
    "    if len(ints)<2:\n",
    "        return 'give more then 2 integers'    \n",
    "    ints.sort(reverse=True)\n",
    "    return ints[1]"
   ]
  },
  {
   "cell_type": "code",
   "execution_count": 72,
   "id": "7ade4b61-b4af-457c-ab26-4081c891a51e",
   "metadata": {},
   "outputs": [
    {
     "data": {
      "text/plain": [
       "4"
      ]
     },
     "execution_count": 72,
     "metadata": {},
     "output_type": "execute_result"
    }
   ],
   "source": [
    "li=[1,2,3,4,5]\n",
    "maxx=large(li)\n",
    "maxx"
   ]
  },
  {
   "cell_type": "markdown",
   "id": "e9c02b65-1983-4fa0-a66d-783a4a18eb7d",
   "metadata": {},
   "source": [
    "13. Create a code to count the occurrences of each element in a list and return a dictionary with elements as \n",
    "keys and their counts as values."
   ]
  },
  {
   "cell_type": "code",
   "execution_count": 6,
   "id": "9f5edf7d-a45f-42b1-9874-09faf0b1d7fd",
   "metadata": {},
   "outputs": [],
   "source": [
    " from collections import Counter"
   ]
  },
  {
   "cell_type": "code",
   "execution_count": 7,
   "id": "fe347b99-1fb0-4288-b1d7-63bbe5cc0061",
   "metadata": {},
   "outputs": [
    {
     "name": "stdout",
     "output_type": "stream",
     "text": [
      "{1: 1, 2: 1, 3: 1, 4: 2, 5: 2, 6: 1, 7: 1}\n"
     ]
    }
   ],
   "source": [
    "def element(i):\n",
    "    return dict(Counter(i))\n",
    "i=[1,2,3,4,4,5,5,6,7]\n",
    "print(element(i))"
   ]
  },
  {
   "cell_type": "markdown",
   "id": "f5a6c392-b2bb-4c88-b9f8-6ff0b545daf0",
   "metadata": {},
   "source": [
    "14. Write a code to reverse a list in-place without using any built-in reverse functions."
   ]
  },
  {
   "cell_type": "code",
   "execution_count": 8,
   "id": "7a0237b9-1e5e-477b-bc54-6dbfdf2ac536",
   "metadata": {},
   "outputs": [
    {
     "data": {
      "text/plain": [
       "[5, 4, 3, 2, 1]"
      ]
     },
     "execution_count": 8,
     "metadata": {},
     "output_type": "execute_result"
    }
   ],
   "source": [
    "line=[1,2,3,4,5]\n",
    "l=line[::-1]\n",
    "l"
   ]
  },
  {
   "cell_type": "markdown",
   "id": "8226d756-4167-428d-a24f-4f832c94cff6",
   "metadata": {},
   "source": [
    "15. Implement a code to find and remove duplicates from a list while preserving the original order of \n",
    "elements."
   ]
  },
  {
   "cell_type": "code",
   "execution_count": 16,
   "id": "f23998ef-68c8-4099-9c64-2753d8e36606",
   "metadata": {},
   "outputs": [],
   "source": [
    "def imp(n):\n",
    "    s=set()\n",
    "    l=[]\n",
    "    for i in n:\n",
    "        if i not in s:\n",
    "            l.append(i)\n",
    "            s.add(i)\n",
    "    return l"
   ]
  },
  {
   "cell_type": "code",
   "execution_count": 17,
   "id": "c5a6f001-1296-493c-8fdb-8358b2199bd1",
   "metadata": {},
   "outputs": [
    {
     "name": "stdout",
     "output_type": "stream",
     "text": [
      "[1, 3, 5, 6, 2]\n"
     ]
    }
   ],
   "source": [
    "n=[1,1,3,3,5,6,6,2,2,2]\n",
    "print(imp(n))"
   ]
  },
  {
   "cell_type": "markdown",
   "id": "110d244b-bc4d-4ded-a97b-ffd2176dfcdf",
   "metadata": {},
   "source": [
    "16. Create a code to check if a given list is sorted (either in ascending or descending order) or not."
   ]
  },
  {
   "cell_type": "code",
   "execution_count": 27,
   "id": "a5643fc7-5132-4a31-8fcf-7c035ed2b8b5",
   "metadata": {},
   "outputs": [
    {
     "name": "stdout",
     "output_type": "stream",
     "text": [
      "yes [6, 5, 4, 3, 2, 1] is sorted\n"
     ]
    }
   ],
   "source": [
    "l=[6,5,4,3,2,1]\n",
    "lq=sorted(l,reverse=True)\n",
    "ls=sorted(l)\n",
    "if l==ls or l==lq:\n",
    "    print(f'yes {l} is sorted')\n",
    "else:\n",
    "    print(f'No {l} is not sorted')"
   ]
  },
  {
   "cell_type": "markdown",
   "id": "50ba2cc4-f7a4-44aa-acea-81c55be37490",
   "metadata": {},
   "source": [
    "17. Write a code to merge two sorted lists into a single sorted list."
   ]
  },
  {
   "cell_type": "code",
   "execution_count": 29,
   "id": "2d44f832-0460-4b92-aff7-13a6356d6436",
   "metadata": {},
   "outputs": [
    {
     "data": {
      "text/plain": [
       "[1, 2, 3, 4, 5, 6, 8, 7, 9]"
      ]
     },
     "execution_count": 29,
     "metadata": {},
     "output_type": "execute_result"
    }
   ],
   "source": [
    "a=[1,2,5,4,3]\n",
    "b=[6,8,7,9]\n",
    "c=sorted(a)\n",
    "d=sorted(b)\n",
    "e=c+b\n",
    "e"
   ]
  },
  {
   "cell_type": "markdown",
   "id": "c851b20f-0bf8-4521-9721-4045de3879cf",
   "metadata": {},
   "source": [
    "18.Implement a code to find the intersection of two given lists."
   ]
  },
  {
   "cell_type": "code",
   "execution_count": 30,
   "id": "8bf9bbfd-2de7-49a5-950b-c5f8d566a670",
   "metadata": {},
   "outputs": [
    {
     "data": {
      "text/plain": [
       "[3, 4]"
      ]
     },
     "execution_count": 30,
     "metadata": {},
     "output_type": "execute_result"
    }
   ],
   "source": [
    "x=[1,2,3,4]\n",
    "y=[3,4,5,6]\n",
    "z=list(set(x).intersection(set(y)))\n",
    "z"
   ]
  },
  {
   "cell_type": "markdown",
   "id": "9de9170a-5e09-40aa-8cc1-9d412fe214fe",
   "metadata": {},
   "source": [
    "19. Create a code to find the union of two lists without duplicates."
   ]
  },
  {
   "cell_type": "code",
   "execution_count": 31,
   "id": "6b529a77-67be-49fa-b35a-555baa1b3f6e",
   "metadata": {},
   "outputs": [
    {
     "data": {
      "text/plain": [
       "[1, 2, 3, 4, 5, 6]"
      ]
     },
     "execution_count": 31,
     "metadata": {},
     "output_type": "execute_result"
    }
   ],
   "source": [
    "union=list(set(x+y))\n",
    "union"
   ]
  },
  {
   "cell_type": "markdown",
   "id": "b8729504-33b3-4ddf-be1c-8b03809b76c6",
   "metadata": {},
   "source": [
    "20.Write a code to shuffle a given list randomly without using any built-in shuffle functions."
   ]
  },
  {
   "cell_type": "code",
   "execution_count": 32,
   "id": "a7dad1c5-b8b8-4a26-82a6-847072e7f3f5",
   "metadata": {},
   "outputs": [],
   "source": [
    "import random"
   ]
  },
  {
   "cell_type": "code",
   "execution_count": 34,
   "id": "2aabb546-59c9-494c-978f-6ba4b942904c",
   "metadata": {},
   "outputs": [
    {
     "name": "stdout",
     "output_type": "stream",
     "text": [
      "[4, 5, 3, 2, 1]\n"
     ]
    }
   ],
   "source": [
    "def suf(l):\n",
    "    ls=l[:]\n",
    "    n=len(ls)\n",
    "    for i in range(n):\n",
    "        suff=random.randint(0,n-1)\n",
    "        ls[i],ls[suff]=ls[suff],ls[i]\n",
    "    return ls\n",
    "l=[1,2,3,4,5]\n",
    "print(suf(l))"
   ]
  },
  {
   "cell_type": "markdown",
   "id": "c5d190c0-1032-4c35-b7b9-19ae7198945a",
   "metadata": {},
   "source": [
    "21. Write a code that takes two tuples as input and returns a new tuple containing elements that are \n",
    "common to both input tuples"
   ]
  },
  {
   "cell_type": "code",
   "execution_count": 41,
   "id": "71e36d36-541e-4880-80e3-a789ca3fa3ad",
   "metadata": {},
   "outputs": [
    {
     "name": "stdout",
     "output_type": "stream",
     "text": [
      "(1, 2)\n"
     ]
    }
   ],
   "source": [
    "a=(1,2,3,4)\n",
    "b=(1,2,5,6)\n",
    "c=tuple(set(a) & set(b))\n",
    "print(c)"
   ]
  },
  {
   "cell_type": "markdown",
   "id": "afc1b2a9-fc07-4fd3-9741-9f3a808c8667",
   "metadata": {},
   "source": [
    "22. Create a code that prompts the user to enter two sets of integers separated by commas. Then, print the \n",
    "intersection of these two sets."
   ]
  },
  {
   "cell_type": "code",
   "execution_count": 47,
   "id": "6dc63da6-3c26-4d20-a508-51cdceb31acf",
   "metadata": {},
   "outputs": [
    {
     "name": "stdin",
     "output_type": "stream",
     "text": [
      " 1,2,3,4\n",
      " 2,3,4,6\n"
     ]
    },
    {
     "name": "stdout",
     "output_type": "stream",
     "text": [
      "{2, 3, 4}\n"
     ]
    }
   ],
   "source": [
    "def sets(A,B):\n",
    "    return A & B\n",
    "x=input()\n",
    "y=input()\n",
    "X=set(map(int,x.split(',')))\n",
    "Y=set(map(int,y.split(',')))\n",
    "print(sets(X,Y))"
   ]
  },
  {
   "cell_type": "markdown",
   "id": "bde45a63-d695-4a86-bd23-b63d38d4a22a",
   "metadata": {},
   "source": [
    "23. Write a code to concatenate two tuples. The function should take two tuples as input and return a new \n",
    "tuple containing elements from both input tuples"
   ]
  },
  {
   "cell_type": "code",
   "execution_count": 51,
   "id": "34a2d643-2603-4256-902e-71fd0a49747e",
   "metadata": {},
   "outputs": [
    {
     "name": "stdout",
     "output_type": "stream",
     "text": [
      "(1, 2, 3, 4, 5, 6)\n"
     ]
    }
   ],
   "source": [
    "def con(a,b):\n",
    "    return a+b\n",
    "a=(1,2,3)\n",
    "b=(4,5,6)\n",
    "print(con(a,b))"
   ]
  },
  {
   "cell_type": "markdown",
   "id": "89daf4a8-7701-4b31-b245-5dd5114cf228",
   "metadata": {},
   "source": [
    "24.Develop a code that prompts the user to input two sets of strings. Then, print the elements that are \n",
    "present in the first set but not in the second set."
   ]
  },
  {
   "cell_type": "code",
   "execution_count": 61,
   "id": "06739fd9-9413-476e-9271-54689c4d544b",
   "metadata": {},
   "outputs": [
    {
     "name": "stdin",
     "output_type": "stream",
     "text": [
      " hello,smit,fine\n",
      " yes,im,fine\n"
     ]
    },
    {
     "name": "stdout",
     "output_type": "stream",
     "text": [
      "{'smit', 'hello'}\n"
     ]
    }
   ],
   "source": [
    "def devl(a,b):\n",
    "    return a-b\n",
    "a=set(input().split(','))\n",
    "b=set(input().split(','))\n",
    "print(devl(a,b))"
   ]
  },
  {
   "cell_type": "markdown",
   "id": "f9f76a57-9ee0-4d85-8064-06165c1bff88",
   "metadata": {},
   "source": [
    "25. Create a code that takes a tuple and two integers as input. The function should return a new tuple \n",
    "containing elements from the original tuple within the specified range of indices."
   ]
  },
  {
   "cell_type": "code",
   "execution_count": 63,
   "id": "ff2a636f-ab63-4a93-ba91-5b22de7df939",
   "metadata": {},
   "outputs": [
    {
     "name": "stdin",
     "output_type": "stream",
     "text": [
      " a,b,c,d,e,f\n",
      " 0\n",
      " 6\n"
     ]
    },
    {
     "name": "stdout",
     "output_type": "stream",
     "text": [
      "('a', 'b', 'c', 'd', 'e', 'f')\n"
     ]
    }
   ],
   "source": [
    "def tup(l,a,b):\n",
    "    return l[a:b]\n",
    "l=tuple(input().split(','))\n",
    "a=int(input())\n",
    "b=int(input())\n",
    "print(tup(l,a,b))"
   ]
  },
  {
   "cell_type": "markdown",
   "id": "2274defa-2ff2-4a2a-992d-852105403553",
   "metadata": {},
   "source": [
    "26. Write a code that prompts the user to input two sets of characters. Then, print the union of these two sets."
   ]
  },
  {
   "cell_type": "code",
   "execution_count": 66,
   "id": "a21c944b-1732-43a3-9918-26152b5f6586",
   "metadata": {},
   "outputs": [
    {
     "name": "stdin",
     "output_type": "stream",
     "text": [
      " smit,fine\n",
      " yes,is\n"
     ]
    },
    {
     "name": "stdout",
     "output_type": "stream",
     "text": [
      "{'smit', 'yes', 'fine', 'is'}\n"
     ]
    }
   ],
   "source": [
    "a=set(input().split(','))\n",
    "b=set(input().split(','))\n",
    "c=a.union(b)\n",
    "print(c)"
   ]
  },
  {
   "cell_type": "markdown",
   "id": "c6f69ac3-156b-4f0b-8852-619b222c575c",
   "metadata": {},
   "source": [
    "27. Develop a code that takes a tuple of integers as input. The function should return the maximum and \n",
    "minimum values from the tuple using tuple unpacking."
   ]
  },
  {
   "cell_type": "code",
   "execution_count": 71,
   "id": "dc872145-105b-4812-981a-d8063fca288c",
   "metadata": {},
   "outputs": [
    {
     "data": {
      "text/plain": [
       "int"
      ]
     },
     "execution_count": 71,
     "metadata": {},
     "output_type": "execute_result"
    }
   ],
   "source": [
    "type(max)"
   ]
  },
  {
   "cell_type": "code",
   "execution_count": 2,
   "id": "1dcd1ef3-a56d-46a9-b7f8-0cb4d8444f6b",
   "metadata": {},
   "outputs": [
    {
     "name": "stdin",
     "output_type": "stream",
     "text": [
      " 1,2,3,4\n"
     ]
    },
    {
     "name": "stdout",
     "output_type": "stream",
     "text": [
      "min number is 1 , and maxi number is 4\n"
     ]
    }
   ],
   "source": [
    "a=tuple(map(int,input().split(',')))\n",
    "c=min(a)\n",
    "d=max(a)\n",
    "print(f'min number is {c} , and maxi number is {d}')"
   ]
  },
  {
   "cell_type": "markdown",
   "id": "b18fa63b-5a75-43de-b9c1-65a3ce925b86",
   "metadata": {},
   "source": [
    "28.Create a code that defines two sets of integers. Then, print the union, intersection, and difference of these \n",
    "two sets."
   ]
  },
  {
   "cell_type": "code",
   "execution_count": 7,
   "id": "c2da4559-fbdb-489e-91ff-71445e82f233",
   "metadata": {},
   "outputs": [
    {
     "name": "stdout",
     "output_type": "stream",
     "text": [
      "The union of {1, 2, 3, 4} and {3, 4, 5, 6} is {1, 2, 3, 4, 5, 6},Intersection is {3, 4},difference is {1, 2}\n"
     ]
    }
   ],
   "source": [
    "a={1,2,3,4}\n",
    "b={3,4,5,6}\n",
    "c=a.union(b)\n",
    "d=a.intersection(b)\n",
    "e=a-b\n",
    "print(f'The union of {a} and {b} is {c},Intersection is {d},difference is {e}')"
   ]
  },
  {
   "cell_type": "markdown",
   "id": "8b23fef9-aa66-4508-9184-d3ee59871806",
   "metadata": {},
   "source": [
    "29. Write a code that takes a tuple and an element as input. The function should return the count of \n",
    "occurrences of the given element in the tuple."
   ]
  },
  {
   "cell_type": "code",
   "execution_count": 13,
   "id": "1d993375-57de-4358-88ee-0a57d9acb1cb",
   "metadata": {},
   "outputs": [
    {
     "name": "stdin",
     "output_type": "stream",
     "text": [
      " 1,2,3,4,4,4\n",
      " 4\n"
     ]
    },
    {
     "data": {
      "text/plain": [
       "3"
      ]
     },
     "execution_count": 13,
     "metadata": {},
     "output_type": "execute_result"
    }
   ],
   "source": [
    "a=tuple(map(int,input().split(',')))\n",
    "b=int(input())\n",
    "A=a.count(b)\n",
    "A"
   ]
  },
  {
   "cell_type": "markdown",
   "id": "45007b20-5b29-47de-a713-e40b64143254",
   "metadata": {},
   "source": [
    "30 .Develop a code that prompts the user to input two sets of strings. Then, print the symmetric difference of \n",
    "these two sets."
   ]
  },
  {
   "cell_type": "code",
   "execution_count": 15,
   "id": "954822e1-7ee2-4cdc-bee5-88280e333a39",
   "metadata": {},
   "outputs": [
    {
     "name": "stdin",
     "output_type": "stream",
     "text": [
      " apple,smit,fine\n",
      " apple\n"
     ]
    },
    {
     "data": {
      "text/plain": [
       "{'fine', 'smit'}"
      ]
     },
     "execution_count": 15,
     "metadata": {},
     "output_type": "execute_result"
    }
   ],
   "source": [
    "a=set(input().split(','))\n",
    "b=set(input().split(','))\n",
    "c=a^b\n",
    "c"
   ]
  },
  {
   "cell_type": "markdown",
   "id": "48a7adc0-8ae9-42bf-8dba-47ddbd854d26",
   "metadata": {},
   "source": [
    "31. Write a code that takes a list of words as input and returns a dictionary where the keys are unique words \n",
    "and the values are the frequencies of those words in the input list."
   ]
  },
  {
   "cell_type": "code",
   "execution_count": 50,
   "id": "940de242-cd34-4378-ba37-dfb3886e7d4b",
   "metadata": {},
   "outputs": [
    {
     "name": "stdin",
     "output_type": "stream",
     "text": [
      " hello\n"
     ]
    },
    {
     "name": "stdout",
     "output_type": "stream",
     "text": [
      "{'h': 1, 'e': 1, 'l': 2, 'o': 1}\n"
     ]
    }
   ],
   "source": [
    "A=list(str(input()))\n",
    "a=A\n",
    "dic={}\n",
    "for i in a:\n",
    "    c=a.count(i)\n",
    "    dic[i]=c\n",
    "print(dic)"
   ]
  },
  {
   "cell_type": "markdown",
   "id": "491f0e1e-f742-44e8-8562-6c7b037260a6",
   "metadata": {},
   "source": [
    "32. Write a code that takes two dictionaries as input and merges them into a single dictionary. If there are \n",
    "common keys, the values should be added together."
   ]
  },
  {
   "cell_type": "code",
   "execution_count": 30,
   "id": "37b3c5b9-a88c-4c76-9fa7-709e1347b060",
   "metadata": {},
   "outputs": [
    {
     "name": "stdin",
     "output_type": "stream",
     "text": [
      " {'name':'smit','age':24}\n",
      " {'name':'love priti'}\n"
     ]
    },
    {
     "name": "stdout",
     "output_type": "stream",
     "text": [
      "{'name': 'smitlove priti', 'age': 24}\n"
     ]
    }
   ],
   "source": [
    "a=eval(input())\n",
    "b=eval(input())\n",
    "A=a\n",
    "for key,value in b.items():\n",
    "    if key in A:\n",
    "        A[key]+=value\n",
    "    else:\n",
    "        A[key]=value\n",
    "print(A)"
   ]
  },
  {
   "cell_type": "markdown",
   "id": "671509ce-b1b1-4c23-9162-cd171561bc23",
   "metadata": {},
   "source": [
    "33. Write a code to access a value in a nested dictionary. The function should take the dictionary and a list of \n",
    "keys as input, and return the corresponding value. If any of the keys do not exist in the dictionary, the \n",
    "function should return None."
   ]
  },
  {
   "cell_type": "code",
   "execution_count": 31,
   "id": "9d526da1-7f31-47dd-a526-d861be8aca49",
   "metadata": {},
   "outputs": [],
   "source": [
    "def de(dict1,li):\n",
    "    dc=dict1\n",
    "    for key in li:\n",
    "        if key in dc:\n",
    "            dc=dc[key]\n",
    "        else:\n",
    "            return None\n",
    "    return dc\n",
    "            "
   ]
  },
  {
   "cell_type": "code",
   "execution_count": 34,
   "id": "4cfb2655-20c7-45e3-a78b-7e53b950941d",
   "metadata": {},
   "outputs": [
    {
     "name": "stdout",
     "output_type": "stream",
     "text": [
      "{'b': {'c': 'smit'}}\n"
     ]
    }
   ],
   "source": [
    "d={'a':{'b':{'c':'smit'}}}\n",
    "l={'a'}\n",
    "print(de(d,l))"
   ]
  },
  {
   "cell_type": "markdown",
   "id": "490a84c3-9350-4b45-91f5-0a88ea08674a",
   "metadata": {},
   "source": [
    "34. Write a code that takes a dictionary as input and returns a sorted version of it based on the values. You \n",
    "can choose whether to sort in ascending or descending order."
   ]
  },
  {
   "cell_type": "code",
   "execution_count": 1,
   "id": "121e9d2b-73c6-4dcd-8a83-9cd8a23e5be9",
   "metadata": {},
   "outputs": [
    {
     "name": "stdin",
     "output_type": "stream",
     "text": [
      " {'apple': 10, 'banana': 5, 'cherry': 20}\n"
     ]
    },
    {
     "name": "stdout",
     "output_type": "stream",
     "text": [
      "{'banana': 5, 'apple': 10, 'cherry': 20}\n"
     ]
    }
   ],
   "source": [
    "def order(a):\n",
    "    ordd=dict(sorted(a.items(),key=lambda i:i[1]))\n",
    "    return ordd\n",
    "a=eval(input())\n",
    "print(order(a))"
   ]
  },
  {
   "cell_type": "markdown",
   "id": "d4c04b6c-cdde-4505-954f-1a0e91cab743",
   "metadata": {},
   "source": [
    "35. Write a code that inverts a dictionary, swapping keys and values. Ensure that the inverted dictionary \n",
    "correctly handles cases where multiple keys have the same value by storing the keys as a list in the \n",
    "inverted dictionary."
   ]
  },
  {
   "cell_type": "code",
   "execution_count": 4,
   "id": "1cb97406-3be7-494c-ad6c-d24234610b4a",
   "metadata": {},
   "outputs": [],
   "source": [
    "def inv(a):\n",
    "    d1={}\n",
    "    for key,value in a.items():\n",
    "        if value in d1:\n",
    "            d1[value].append(key)\n",
    "        else:\n",
    "            d1[value]=[key]\n",
    "    return d1"
   ]
  },
  {
   "cell_type": "code",
   "execution_count": 5,
   "id": "76885d1d-585b-4ce4-8c59-82845477f6c0",
   "metadata": {},
   "outputs": [
    {
     "name": "stdout",
     "output_type": "stream",
     "text": [
      "{10: ['apple', 'smit'], 5: ['banana'], 20: ['cherry']}\n"
     ]
    }
   ],
   "source": [
    "a={'apple': 10, 'banana': 5, 'cherry': 20,'smit':10}\n",
    "print(inv(a))"
   ]
  }
 ],
 "metadata": {
  "kernelspec": {
   "display_name": "Python 3 (ipykernel)",
   "language": "python",
   "name": "python3"
  },
  "language_info": {
   "codemirror_mode": {
    "name": "ipython",
    "version": 3
   },
   "file_extension": ".py",
   "mimetype": "text/x-python",
   "name": "python",
   "nbconvert_exporter": "python",
   "pygments_lexer": "ipython3",
   "version": "3.12.0"
  }
 },
 "nbformat": 4,
 "nbformat_minor": 5
}
