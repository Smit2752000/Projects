{
 "cells": [
  {
   "cell_type": "markdown",
   "id": "2991d3c8-5e0c-404a-9e8a-49f5019ba474",
   "metadata": {},
   "source": [
    "1. What are the five key concepts of Object-Oriented Programming (OOP)?"
   ]
  },
  {
   "cell_type": "markdown",
   "id": "9ef4623f-5065-497d-9f67-df30ccdb2e99",
   "metadata": {},
   "source": [
    "Ans= Encapsulation: Bundling data and methods into a single unit (class) and restricting access to certain parts.\n",
    "Abstraction: Hiding implementation details and exposing only essential features.\n",
    "Inheritance: Allowing a class to inherit properties and methods from another class.\n",
    "Polymorphism: Providing multiple forms for methods or operations (e.g., method overloading).\n",
    "Classes and Objects: Using classes as blueprints to create instances (objects)"
   ]
  },
  {
   "cell_type": "markdown",
   "id": "838201bf-875f-4590-b272-714f7421685d",
   "metadata": {},
   "source": [
    "2. Write a Python class for a `Car` with attributes for `make`, `model`, and `year`. Include a method to display \n",
    "the car's information."
   ]
  },
  {
   "cell_type": "code",
   "execution_count": 10,
   "id": "dd980a41-c65b-4a05-abc2-1579aa873bad",
   "metadata": {},
   "outputs": [],
   "source": [
    "class car:\n",
    "    def __init__(self,make,model,year):\n",
    "        self.make=make\n",
    "        self.model=model\n",
    "        self.year=year\n",
    "    def information(self):\n",
    "        print(self.make,self.model,self.year)"
   ]
  },
  {
   "cell_type": "code",
   "execution_count": 11,
   "id": "89ce376a-35e6-48ca-804d-6e65567afa24",
   "metadata": {},
   "outputs": [
    {
     "name": "stdout",
     "output_type": "stream",
     "text": [
      "Renoult Duster 2018\n"
     ]
    }
   ],
   "source": [
    "Car=car('Renoult','Duster',2018)\n",
    "Car.information()"
   ]
  },
  {
   "cell_type": "markdown",
   "id": "682e5b40-dfdc-4d16-8f2f-299b8df8db63",
   "metadata": {},
   "source": [
    "3. Explain the difference between instance methods and class methods. Provide an example of each."
   ]
  },
  {
   "cell_type": "markdown",
   "id": "183e49e7-799e-4e17-a733-574024c54a2a",
   "metadata": {},
   "source": [
    "Instance Methods:\n",
    "These operate on an instance of the class and can access and modify instance attributes. They require self as their first parameter.\n",
    "\n",
    "Class Methods:\n",
    "These operate on the class as a whole and can modify class attributes. They use @classmethod decorator and require cls as their first parameter."
   ]
  },
  {
   "cell_type": "code",
   "execution_count": 12,
   "id": "745e7194-bc1f-406d-81f3-f11f210edc37",
   "metadata": {},
   "outputs": [],
   "source": [
    "class method:\n",
    "    cls_demo='class attribute'\n",
    "    def __init__(self,text):\n",
    "        self.text=text\n",
    "    def instance(self):\n",
    "        print(self.text)\n",
    "    def clas(cls):\n",
    "        print(cls.cls_demo)"
   ]
  },
  {
   "cell_type": "code",
   "execution_count": 13,
   "id": "09b15f8a-a8fd-40da-8e71-2c61514462df",
   "metadata": {},
   "outputs": [],
   "source": [
    "Method=method('Instance method')"
   ]
  },
  {
   "cell_type": "code",
   "execution_count": 15,
   "id": "d5931bdc-f81a-413d-91ea-45dbcda245ff",
   "metadata": {},
   "outputs": [
    {
     "name": "stdout",
     "output_type": "stream",
     "text": [
      "Instance method\n"
     ]
    }
   ],
   "source": [
    "Method.instance()"
   ]
  },
  {
   "cell_type": "code",
   "execution_count": 17,
   "id": "bb1c25a0-ff88-44e4-877e-fe991b2dd186",
   "metadata": {},
   "outputs": [
    {
     "name": "stdout",
     "output_type": "stream",
     "text": [
      "class attribute\n"
     ]
    }
   ],
   "source": [
    "Method.clas()"
   ]
  },
  {
   "cell_type": "markdown",
   "id": "0465a359-8d0d-489d-aabd-6b743c2abe30",
   "metadata": {},
   "source": [
    "4. How does Python implement method overloading? Give an example."
   ]
  },
  {
   "cell_type": "markdown",
   "id": "8bda0096-2400-4c94-bf9e-74cae6b6eb41",
   "metadata": {},
   "source": [
    "Ans=Python does not directly support method overloading (multiple methods with the same name but different arguments). \n",
    "Instead, you can achieve similar functionality using default arguments or *args and **kwargs.\n",
    "The last defined method with the same name will override earlier ones."
   ]
  },
  {
   "cell_type": "code",
   "execution_count": 18,
   "id": "fc6ab039-e8de-43be-a760-1cc701db6516",
   "metadata": {},
   "outputs": [],
   "source": [
    "class over():\n",
    "    def add(self,a,b=1,c=2):\n",
    "        return a+b+c"
   ]
  },
  {
   "cell_type": "code",
   "execution_count": 19,
   "id": "efd2f8a3-ce43-4eaf-a3fb-f1b680cd5529",
   "metadata": {},
   "outputs": [],
   "source": [
    "Over=over()"
   ]
  },
  {
   "cell_type": "code",
   "execution_count": 21,
   "id": "f5962ada-b1e6-4d17-a085-e1dc111520ea",
   "metadata": {},
   "outputs": [
    {
     "data": {
      "text/plain": [
       "5"
      ]
     },
     "execution_count": 21,
     "metadata": {},
     "output_type": "execute_result"
    }
   ],
   "source": [
    "Over.add(1)\n",
    "Over.add(1,2)"
   ]
  },
  {
   "cell_type": "markdown",
   "id": "bd23b7ce-85e7-44f8-bce6-cd427dfef021",
   "metadata": {},
   "source": [
    "5. What are the three types of access modifiers in Python? How are they denoted"
   ]
  },
  {
   "cell_type": "markdown",
   "id": "c9f11d24-1215-48d3-930f-9a100329c3b5",
   "metadata": {},
   "source": [
    "Ans= The three types of access modifiers in Python are:\n",
    "\n",
    "Public:\n",
    "\n",
    "Accessible from anywhere.\n",
    "No special symbol is used.\n",
    "Example: self.attribute.\n",
    "\n",
    "Protected:\n",
    "\n",
    "Accessible within the class and subclasses.\n",
    "Denoted by a single underscore _.\n",
    "Example: self._attribute.\n",
    "\n",
    "Private:\n",
    "\n",
    "Accessible only within the class.\n",
    "Denoted by double underscores __.\n",
    "Example: self.__attribute."
   ]
  },
  {
   "cell_type": "markdown",
   "id": "1375f996-4115-469a-96f6-7fadd24989e9",
   "metadata": {},
   "source": [
    "6. Describe the five types of inheritance in Python. Provide a simple example of multiple inheritance"
   ]
  },
  {
   "cell_type": "markdown",
   "id": "219a6891-1529-4b23-a0ca-384dafea6a2e",
   "metadata": {},
   "source": [
    "Ans= Single Inheritance: A child class inherits from one parent class.\n",
    "Multiple Inheritance: A child class inherits from multiple parent classes.\n",
    "Multilevel Inheritance: A class inherits from a child class, forming a chain.\n",
    "Hierarchical Inheritance: Multiple child classes inherit from a single parent class.\n",
    "Hybrid Inheritance: A combination of two or more types of inheritance."
   ]
  },
  {
   "cell_type": "code",
   "execution_count": 23,
   "id": "85b98c05-908c-4364-a465-f9724052ebc7",
   "metadata": {},
   "outputs": [],
   "source": [
    "class parent1:\n",
    "    def ft1(self):\n",
    "        return 'Hello'\n",
    "class parent2:\n",
    "    def ft2(self):\n",
    "        return 'smit'\n",
    "class child(parent1,parent2):\n",
    "    pass"
   ]
  },
  {
   "cell_type": "code",
   "execution_count": 24,
   "id": "f8470a7a-69aa-4c01-a56d-c39e3a08d789",
   "metadata": {},
   "outputs": [],
   "source": [
    "cl=child()"
   ]
  },
  {
   "cell_type": "code",
   "execution_count": 26,
   "id": "30ad4739-50a2-45ac-a00f-2493c5199995",
   "metadata": {},
   "outputs": [
    {
     "data": {
      "text/plain": [
       "'Hello'"
      ]
     },
     "execution_count": 26,
     "metadata": {},
     "output_type": "execute_result"
    }
   ],
   "source": [
    "cl.ft1()"
   ]
  },
  {
   "cell_type": "markdown",
   "id": "39af442a-effc-4bc1-a61d-b63e6e9c3a78",
   "metadata": {},
   "source": [
    "7. What is the Method Resolution Order (MRO) in Python? How can you retrieve it programmatically?"
   ]
  },
  {
   "cell_type": "markdown",
   "id": "66d02c66-a5bc-41fd-a069-4070e2a6fc91",
   "metadata": {},
   "source": [
    "Ans=MRO defines the order in which Python looks for a method or attribute in a hierarchy of classes.\n",
    "It follows the C3 Linearization algorithm to ensure a consistent order."
   ]
  },
  {
   "cell_type": "code",
   "execution_count": 27,
   "id": "7a19b522-9da6-426d-bdf7-85579d9f8b40",
   "metadata": {},
   "outputs": [
    {
     "name": "stdout",
     "output_type": "stream",
     "text": [
      "(<class '__main__.C'>, <class '__main__.B'>, <class '__main__.A'>, <class 'object'>)\n",
      "[<class '__main__.C'>, <class '__main__.B'>, <class '__main__.A'>, <class 'object'>]\n"
     ]
    }
   ],
   "source": [
    "class A:\n",
    "    pass\n",
    "\n",
    "class B(A):\n",
    "    pass\n",
    "\n",
    "class C(B):\n",
    "    pass\n",
    "\n",
    "print(C.__mro__)\n",
    "print(C.mro())"
   ]
  },
  {
   "cell_type": "markdown",
   "id": "b39053f2-510f-4bec-a63c-37abd308735f",
   "metadata": {},
   "source": [
    "8. Create an abstract base class `Shape` with an abstract method `area()`. Then create two subclasses \n",
    "`Circle` and `Rectangle` that implement the `area()` method."
   ]
  },
  {
   "cell_type": "code",
   "execution_count": 28,
   "id": "1db122b0-0eff-4289-984e-e74ae4b2a3a8",
   "metadata": {},
   "outputs": [],
   "source": [
    "from abc import ABC,abstractmethod"
   ]
  },
  {
   "cell_type": "code",
   "execution_count": 33,
   "id": "d9b1602c-657a-4875-b1b5-a8179f3c2ec8",
   "metadata": {},
   "outputs": [],
   "source": [
    "class shape(ABC):\n",
    "    def area(self):\n",
    "        pass\n",
    "class Circle(shape):\n",
    "    def __init__(self,radius):\n",
    "        self.radius=radius\n",
    "    def area(self):\n",
    "        return 3.14*self.radius*self.radius\n",
    "class Rectangle(shape):\n",
    "    def __init__(self,length,width):\n",
    "        self.length=length\n",
    "        self.width=width\n",
    "    def area(self):\n",
    "        return self.length*self.width"
   ]
  },
  {
   "cell_type": "code",
   "execution_count": 34,
   "id": "08034ecf-cc3e-4e48-b874-1f4d5bd86e53",
   "metadata": {},
   "outputs": [],
   "source": [
    "circle=Circle(10)\n",
    "rec=Rectangle(2,5)"
   ]
  },
  {
   "cell_type": "code",
   "execution_count": 35,
   "id": "5b77431a-65cc-4e33-9dc2-6c86dfa33c08",
   "metadata": {},
   "outputs": [
    {
     "data": {
      "text/plain": [
       "10"
      ]
     },
     "execution_count": 35,
     "metadata": {},
     "output_type": "execute_result"
    }
   ],
   "source": [
    "circle.area()\n",
    "rec.area()"
   ]
  },
  {
   "cell_type": "markdown",
   "id": "5242e3bc-19b1-4ead-ae68-b70e29222466",
   "metadata": {},
   "source": [
    "9. Demonstrate polymorphism by creating a function that can work with different shape objects to calculate \n",
    "and print their areas."
   ]
  },
  {
   "cell_type": "code",
   "execution_count": 36,
   "id": "056a7a85-2990-4dc0-800e-beec4071b625",
   "metadata": {},
   "outputs": [],
   "source": [
    "class shape(ABC):\n",
    "    def area(self):\n",
    "        pass\n",
    "class Circle(shape):\n",
    "    def __init__(self,radius):\n",
    "        self.radius=radius\n",
    "    def area(self):\n",
    "        return 3.14*self.radius*self.radius\n",
    "class Rectangle(shape):\n",
    "    def __init__(self,length,width):\n",
    "        self.length=length\n",
    "        self.width=width\n",
    "    def area(self):\n",
    "        return self.length*self.width\n",
    "def poly(shape):\n",
    "    return shape.area()"
   ]
  },
  {
   "cell_type": "code",
   "execution_count": 39,
   "id": "654bedd3-5bb2-4e69-aa3d-f9515c950016",
   "metadata": {},
   "outputs": [],
   "source": [
    "c=Circle(10)\n",
    "r=Rectangle(5,5)"
   ]
  },
  {
   "cell_type": "code",
   "execution_count": 42,
   "id": "910467fd-9b08-4291-84c4-fe855d9760aa",
   "metadata": {},
   "outputs": [
    {
     "data": {
      "text/plain": [
       "25"
      ]
     },
     "execution_count": 42,
     "metadata": {},
     "output_type": "execute_result"
    }
   ],
   "source": [
    "poly(r)"
   ]
  },
  {
   "cell_type": "markdown",
   "id": "616945b4-4dbf-45fe-94fe-35c4ae7b85a7",
   "metadata": {},
   "source": [
    "10. Implement encapsulation in a `BankAccount` class with private attributes for `balance` and \n",
    "`account_number`. Include methods for deposit, withdrawal, and balance inquiry."
   ]
  },
  {
   "cell_type": "code",
   "execution_count": 46,
   "id": "fc929c38-621e-40e2-9079-e5de293c7dca",
   "metadata": {},
   "outputs": [],
   "source": [
    "class BankAccount:\n",
    "    def __init__(self,acc,balance=0):\n",
    "        self.__balance=balance\n",
    "        self.__acc=acc\n",
    "    def deposit(self,amt):\n",
    "        if amt>0:\n",
    "            self.__balance +=amt\n",
    "        else:\n",
    "            print('enter valid amount')\n",
    "    def withdrawal(self,amt):\n",
    "        if 0<amt<self.__balance:\n",
    "            self.__balance -=amt\n",
    "        else:\n",
    "            print('enter valid amount')\n",
    "    def blc(self):\n",
    "        print(self.__acc,self.__balance)"
   ]
  },
  {
   "cell_type": "code",
   "execution_count": 52,
   "id": "543fd426-2dbf-4e68-b6b9-9163448f1626",
   "metadata": {},
   "outputs": [],
   "source": [
    "bank=BankAccount(2752000)"
   ]
  },
  {
   "cell_type": "code",
   "execution_count": 56,
   "id": "212da0fe-07a4-4c07-b1da-f4baca7c6859",
   "metadata": {},
   "outputs": [
    {
     "name": "stdout",
     "output_type": "stream",
     "text": [
      "2752000 500\n"
     ]
    }
   ],
   "source": [
    "#bank.deposit(1000)\n",
    "bank.withdrawal(500)\n",
    "bank.blc()"
   ]
  },
  {
   "cell_type": "markdown",
   "id": "59ce67f7-bca7-4b16-a701-d0b9ba9fad8c",
   "metadata": {},
   "source": [
    "11. Write a class that overrides the `__str__` and `__add__` magic methods. What will these methods allow \n",
    "you to do?"
   ]
  },
  {
   "cell_type": "markdown",
   "id": "f90a0fec-488a-4871-b897-36e38ff61bac",
   "metadata": {},
   "source": [
    "Ans= Magic Methods:\n",
    "__str__: Allows you to define how an object is represented as a string (e.g., when using print()).\n",
    "__add__: Allows you to define how two objects are added together using the + operator."
   ]
  },
  {
   "cell_type": "code",
   "execution_count": 2,
   "id": "257e79a6-73f8-441c-b9e9-b297b1192f56",
   "metadata": {},
   "outputs": [
    {
     "name": "stdout",
     "output_type": "stream",
     "text": [
      "MyNumber(5)\n",
      "MyNumber(15)\n"
     ]
    }
   ],
   "source": [
    "class MyNumber:\n",
    "    def __init__(self, value):\n",
    "        self.value = value\n",
    "\n",
    "    def __str__(self):\n",
    "        return f\"MyNumber({self.value})\"\n",
    "\n",
    "    def __add__(self, other):\n",
    "        if isinstance(other, MyNumber):\n",
    "            return MyNumber(self.value + other.value)\n",
    "        return NotImplemented\n",
    "\n",
    "\n",
    "num1 = MyNumber(5)\n",
    "num2 = MyNumber(10)\n",
    "\n",
    "print(num1)  \n",
    "\n",
    "result = num1 + num2\n",
    "print(result)"
   ]
  },
  {
   "cell_type": "markdown",
   "id": "be006a9f-640d-43e9-b5dc-f77f17c23f66",
   "metadata": {},
   "source": [
    "12. Create a decorator that measures and prints the execution time of a function"
   ]
  },
  {
   "cell_type": "code",
   "execution_count": 3,
   "id": "dfcb35ec-f64a-400b-aa54-2deb93c79958",
   "metadata": {},
   "outputs": [],
   "source": [
    "import time"
   ]
  },
  {
   "cell_type": "code",
   "execution_count": 9,
   "id": "1dba05af-4e71-4dd3-9120-a49b89f1d9bb",
   "metadata": {},
   "outputs": [],
   "source": [
    "def measure(func):\n",
    "    def wrapper(*args,**kwargs):\n",
    "        start_time=time.time()\n",
    "        result=func(*args,**kwargs)\n",
    "        end_time=time.time()\n",
    "        execution_time=end_time-start_time\n",
    "        print(f\"execution of '{func.__name__}': {execution_time:.4f} seconds\")\n",
    "        return result\n",
    "    return wrapper"
   ]
  },
  {
   "cell_type": "code",
   "execution_count": 16,
   "id": "79456081-6869-4a07-8d62-30e38b1f4492",
   "metadata": {},
   "outputs": [],
   "source": [
    "@measure\n",
    "def cont(n):\n",
    "    num=0\n",
    "    for i in range(n):\n",
    "        num+=i\n",
    "    return num\n"
   ]
  },
  {
   "cell_type": "code",
   "execution_count": 17,
   "id": "6a787556-6c8a-4775-b85a-8916b27fdf7b",
   "metadata": {},
   "outputs": [
    {
     "name": "stdout",
     "output_type": "stream",
     "text": [
      "execution of 'cont': 0.0000 seconds\n",
      "4950\n"
     ]
    }
   ],
   "source": [
    "result=cont(100)\n",
    "print(result)"
   ]
  },
  {
   "cell_type": "markdown",
   "id": "84c13656-111d-433a-abba-7f5e0e58b6f8",
   "metadata": {},
   "source": [
    "13. Explain the concept of the Diamond Problem in multiple inheritance. How does Python resolve it?"
   ]
  },
  {
   "cell_type": "markdown",
   "id": "d44dfcff-cbc6-4088-b938-d13bfa6ce2dd",
   "metadata": {},
   "source": [
    "Ans=The Diamond Problem occurs in multiple inheritance when a class inherits from two or more classes that have a common base class. \n",
    "This can cause ambiguity when methods or attributes from the base class are accessed.\n",
    "Python's Solution: Method Resolution Order (MRO)\n",
    "Python resolves the Diamond Problem using the C3 Linearization Algorithm to determine the Method Resolution Order (MRO).\n",
    "\n",
    "The MRO specifies the order in which Python looks for methods and attributes in a class hierarchy.\n",
    "Python follows this order from left to right as specified in the inheritance list."
   ]
  },
  {
   "cell_type": "markdown",
   "id": "cab58dd0-57f5-44b5-a14f-be6daae761a5",
   "metadata": {},
   "source": [
    "14. Write a class method that keeps track of the number of instances created from a class"
   ]
  },
  {
   "cell_type": "code",
   "execution_count": 18,
   "id": "cc1bf298-d0c9-4895-beda-36482d6526e2",
   "metadata": {},
   "outputs": [
    {
     "name": "stdout",
     "output_type": "stream",
     "text": [
      "Number of instances created: 3\n"
     ]
    }
   ],
   "source": [
    "class InstanceCounter:\n",
    "    count = 0  \n",
    "    def __init__(self):\n",
    "        InstanceCounter.count += 1  \n",
    "\n",
    "    @classmethod\n",
    "    def get_instance_count(cls):\n",
    "        \"\"\"Class method to get the number of instances created.\"\"\"\n",
    "        return f\"Number of instances created: {cls.count}\"\n",
    "\n",
    "\n",
    "\n",
    "one= InstanceCounter()\n",
    "two = InstanceCounter()\n",
    "three = InstanceCounter()\n",
    "print(InstanceCounter.get_instance_count())"
   ]
  },
  {
   "cell_type": "markdown",
   "id": "3bd16045-4e77-4c15-9a26-7a69e8f8fd9b",
   "metadata": {},
   "source": [
    "15. Implement a static method in a class that checks if a given year is a leap year."
   ]
  },
  {
   "cell_type": "code",
   "execution_count": 19,
   "id": "2e15a7da-e531-41e1-9729-e415e92fd367",
   "metadata": {},
   "outputs": [],
   "source": [
    "class year:\n",
    "    @staticmethod\n",
    "    def leap(n):\n",
    "        if (n%4==0 and n%100!=0) or n%400==0:\n",
    "            return True\n",
    "        return False"
   ]
  },
  {
   "cell_type": "code",
   "execution_count": 20,
   "id": "c4bd0dd6-3dd7-49cb-bd70-85b13db3a4f1",
   "metadata": {},
   "outputs": [],
   "source": [
    "yr=year()"
   ]
  },
  {
   "cell_type": "code",
   "execution_count": 25,
   "id": "b07629e9-ca42-4a3c-8ba9-346469d0c2d1",
   "metadata": {},
   "outputs": [
    {
     "data": {
      "text/plain": [
       "True"
      ]
     },
     "execution_count": 25,
     "metadata": {},
     "output_type": "execute_result"
    }
   ],
   "source": [
    "yr.leap(2028)"
   ]
  }
 ],
 "metadata": {
  "kernelspec": {
   "display_name": "Python 3 (ipykernel)",
   "language": "python",
   "name": "python3"
  },
  "language_info": {
   "codemirror_mode": {
    "name": "ipython",
    "version": 3
   },
   "file_extension": ".py",
   "mimetype": "text/x-python",
   "name": "python",
   "nbconvert_exporter": "python",
   "pygments_lexer": "ipython3",
   "version": "3.12.0"
  }
 },
 "nbformat": 4,
 "nbformat_minor": 5
}
