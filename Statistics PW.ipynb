{
 "cells": [
  {
   "cell_type": "code",
   "execution_count": null,
   "id": "c6c16001-8313-4453-ade3-64582c5802d0",
   "metadata": {},
   "outputs": [],
   "source": [
    "Q.1= Generate a list of 100 integers containing values between 90 to 130 and store it in the variable `int_list`. \n",
    "After generating the list, find the following:\n",
    "(i) Write a Python function to calculate the mean of a given list of numbers.Create a function to find the median of a list of numbers.\n",
    "(ii) Develop a program to compute the mode of a list of integers.\n",
    "(iii) Implement a function to calculate the weighted mean of a list of values and their corresponding weights.\n",
    "(iv) Write a Python function to find the geometric mean of a list of positive numbers.\n",
    "(v) Create a program to calculate the harmonic mean of a list of values.\n",
    "(vi) Build a function to determine the midrange of a list of numbers (average of the minimum and maximum).\n",
    "(vii) Implement a Python program to find the trimmed mean of a list, excluding a certain percentage of outliers."
   ]
  },
  {
   "cell_type": "code",
   "execution_count": 8,
   "id": "7cd6b84e-7dbf-4eb3-b4b6-908625027364",
   "metadata": {},
   "outputs": [],
   "source": [
    "import numpy as np\n",
    "import statistics"
   ]
  },
  {
   "cell_type": "code",
   "execution_count": 2,
   "id": "ab114f7c-99d6-4041-b69d-db11e56776cf",
   "metadata": {},
   "outputs": [],
   "source": [
    "int_list=np.random.randint(90,131,100)"
   ]
  },
  {
   "cell_type": "code",
   "execution_count": 6,
   "id": "d4a1abef-bf35-48da-9e9d-a6ab1417f74c",
   "metadata": {},
   "outputs": [],
   "source": [
    "def find(x):\n",
    "    Mean=np.mean(x)\n",
    "    Median=np.median(x)\n",
    "    print(f'The mean of given list is={Mean} and median of given list is={Median}')"
   ]
  },
  {
   "cell_type": "code",
   "execution_count": 7,
   "id": "a32a63a9-2059-4ad0-9eb4-0a75d0d6c4ac",
   "metadata": {},
   "outputs": [
    {
     "name": "stdout",
     "output_type": "stream",
     "text": [
      "The mean of given list is=109.15 and median of given list is=109.0\n"
     ]
    }
   ],
   "source": [
    "Find=find(int_list)\n",
    "Find"
   ]
  },
  {
   "cell_type": "code",
   "execution_count": 9,
   "id": "29be3929-43cd-4f37-847a-4c68defbc176",
   "metadata": {},
   "outputs": [
    {
     "data": {
      "text/plain": [
       "114"
      ]
     },
     "execution_count": 9,
     "metadata": {},
     "output_type": "execute_result"
    }
   ],
   "source": [
    "def Stat(x):\n",
    "    return statistics.mode(x)\n",
    "Mode=Stat(int_list)\n",
    "Mode"
   ]
  },
  {
   "cell_type": "code",
   "execution_count": 10,
   "id": "e49b4097-f1ba-408b-b9bc-ebe7f672affa",
   "metadata": {},
   "outputs": [],
   "source": [
    "w=np.random.randint(1,11,100)"
   ]
  },
  {
   "cell_type": "code",
   "execution_count": 13,
   "id": "6565ed47-9a84-426a-b565-ff68e605fc66",
   "metadata": {},
   "outputs": [
    {
     "data": {
      "text/plain": [
       "108.85806451612903"
      ]
     },
     "execution_count": 13,
     "metadata": {},
     "output_type": "execute_result"
    }
   ],
   "source": [
    "def Weight(x,w):\n",
    "    return np.average(x,weights=w)\n",
    "W=Weight(int_list,w)\n",
    "W"
   ]
  },
  {
   "cell_type": "code",
   "execution_count": 14,
   "id": "2ae43e8c-c83c-4d4c-877a-8ce7fe346767",
   "metadata": {},
   "outputs": [
    {
     "data": {
      "text/plain": [
       "108.62139468336616"
      ]
     },
     "execution_count": 14,
     "metadata": {},
     "output_type": "execute_result"
    }
   ],
   "source": [
    "def geo(x):\n",
    "    return np.exp(np.mean(np.log(x)))\n",
    "Geo=geo(int_list)\n",
    "Geo"
   ]
  },
  {
   "cell_type": "code",
   "execution_count": 15,
   "id": "6dc64092-4194-4fe0-ac6f-c7409c7c7658",
   "metadata": {},
   "outputs": [
    {
     "data": {
      "text/plain": [
       "108.09201696091354"
      ]
     },
     "execution_count": 15,
     "metadata": {},
     "output_type": "execute_result"
    }
   ],
   "source": [
    "def har(x):\n",
    "    return (len(x)/np.sum(1/x))\n",
    "Har=har(int_list)\n",
    "Har"
   ]
  },
  {
   "cell_type": "code",
   "execution_count": 16,
   "id": "a1fb100d-31ad-42c8-901e-7addcaeb6713",
   "metadata": {},
   "outputs": [
    {
     "data": {
      "text/plain": [
       "154.5"
      ]
     },
     "execution_count": 16,
     "metadata": {},
     "output_type": "execute_result"
    }
   ],
   "source": [
    "mid_range=(np.min(int_list)+np.max(int_list)/2)\n",
    "mid_range"
   ]
  },
  {
   "cell_type": "code",
   "execution_count": 18,
   "id": "c99ed969-d4b8-4ae9-ac74-8bb57e20ab35",
   "metadata": {},
   "outputs": [
    {
     "data": {
      "text/plain": [
       "109.05"
      ]
     },
     "execution_count": 18,
     "metadata": {},
     "output_type": "execute_result"
    }
   ],
   "source": [
    "def trim(x,t):\n",
    "    return np.mean(np.trim_zeros(np.sort(x))[int(len(x) * t/ 100):-int(len(x) * t/ 100)])\n",
    "Trim=trim(int_list,10)\n",
    "Trim"
   ]
  },
  {
   "cell_type": "code",
   "execution_count": null,
   "id": "2fcdc089-0a69-459e-9f70-81c9e2d2e710",
   "metadata": {},
   "outputs": [],
   "source": [
    "Q-2= Generate a list of 500 integers containing values between 200 to 300 and store it in the variable `int_list2`. \n",
    "After generating the list, find the following:\n",
    "(i) Compare the given list of visualization for the given data:\n",
    "1. Frequency & Gaussian distribution\n",
    "2. Frequency smoothened KDE plot\n",
    "3. Gaussian distribution & smoothened KDE plot\n",
    "(ii) Write a Python function to calculate the range of a given list of numbers.\n",
    "(iii) Create a program to find the variance and standard deviation of a list of numbers.\n",
    "(iv) Implement a function to compute the interquartile range (IQR) of a list of values.\n",
    "(v) Build a program to calculate the coefficient of variation for a dataset.\n",
    "(vi) Write a Python function to find the mean absolute deviation (MAD) of a list of numbers.\n",
    "(vii) Create a program to calculate the quartile deviation of a list of values.\n",
    "(viii) Implement a function to find the range-based coefficient of dispersion for a dataset"
   ]
  },
  {
   "cell_type": "code",
   "execution_count": 19,
   "id": "05508257-2342-48c0-ae02-3985206f2946",
   "metadata": {},
   "outputs": [],
   "source": [
    "int_list2=np.random.randint(200,301,500)"
   ]
  },
  {
   "cell_type": "code",
   "execution_count": 21,
   "id": "2ac0c2ef-18dd-4cf4-9d6e-d0b198c657e9",
   "metadata": {},
   "outputs": [],
   "source": [
    "import seaborn as sns"
   ]
  },
  {
   "cell_type": "code",
   "execution_count": 22,
   "id": "1043e551-6a51-4aa8-a3bf-c226530c5688",
   "metadata": {},
   "outputs": [],
   "source": [
    "import matplotlib.pyplot as plt"
   ]
  },
  {
   "cell_type": "code",
   "execution_count": 24,
   "id": "2475e575-822e-457c-beed-a77dfb411ccb",
   "metadata": {},
   "outputs": [],
   "source": [
    "import scipy.stats as stats"
   ]
  },
  {
   "cell_type": "code",
   "execution_count": 30,
   "id": "d2f1a36b-600e-46d4-ab1e-604fb65fb264",
   "metadata": {},
   "outputs": [
    {
     "data": {
      "image/png": "[encoded data removed]",
      "text/plain": [
       "<Figure size 600x300 with 1 Axes>"
      ]
     },
     "metadata": {},
     "output_type": "display_data"
    }
   ],
   "source": [
    "plt.figure(figsize=(6,3))\n",
    "sns.histplot(int_list2,kde=True,stat=\"density\", color='blue', label='Frequency')\n",
    "sns.kdeplot(int_list2, color='red', label='Gaussian Distribution')\n",
    "plt.title(\"Frequency & Gaussian Distribution\")\n",
    "plt.legend()\n",
    "plt.show()"
   ]
  },
  {
   "cell_type": "code",
   "execution_count": 32,
   "id": "ac365661-6b1a-4180-8359-00550ba7af9f",
   "metadata": {},
   "outputs": [
    {
     "data": {
      "image/png": "[encoded data removed]",
      "text/plain": [
       "<Figure size 600x300 with 1 Axes>"
      ]
     },
     "metadata": {},
     "output_type": "display_data"
    }
   ],
   "source": [
    "plt.figure(figsize=(6,3))\n",
    "sns.histplot(int_list2, kde=True, stat=\"density\", color='blue', label='Frequency')\n",
    "plt.title(\"Frequency Smoothened KDE Plot\")\n",
    "plt.legend()\n",
    "plt.show()"
   ]
  },
  {
   "cell_type": "code",
   "execution_count": 33,
   "id": "b051fd7a-0d67-4c18-b2b0-aac27bf49d24",
   "metadata": {},
   "outputs": [
    {
     "name": "stderr",
     "output_type": "stream",
     "text": [
      "C:\\Users\\Public\\Documents\\Wondershare\\CreatorTemp\\ipykernel_19280\\3567341345.py:3: FutureWarning: \n",
      "\n",
      "`shade` is now deprecated in favor of `fill`; setting `fill=True`.\n",
      "This will become an error in seaborn v0.14.0; please update your code.\n",
      "\n",
      "  sns.kdeplot(int_list2, color='green', shade=True, label='Smoothened KDE')\n"
     ]
    },
    {
     "data": {
      "image/png": "[encoded data removed]",
      "text/plain": [
       "<Figure size 600x300 with 1 Axes>"
      ]
     },
     "metadata": {},
     "output_type": "display_data"
    }
   ],
   "source": [
    "plt.figure(figsize=(6,3))\n",
    "sns.kdeplot(int_list2, color='red', label='Gaussian Distribution')\n",
    "sns.kdeplot(int_list2, color='green', shade=True, label='Smoothened KDE')\n",
    "plt.title(\"Gaussian Distribution & Smoothened KDE Plot\")\n",
    "plt.legend()\n",
    "plt.show()"
   ]
  },
  {
   "cell_type": "code",
   "execution_count": 34,
   "id": "e8049c9a-ef7a-484f-9920-7c5488a633a6",
   "metadata": {},
   "outputs": [
    {
     "data": {
      "text/plain": [
       "99"
      ]
     },
     "execution_count": 34,
     "metadata": {},
     "output_type": "execute_result"
    }
   ],
   "source": [
    "def r(x):\n",
    "    return np.max(x)-np.min(x)\n",
    "Range=r(int_list2)\n",
    "Range"
   ]
  },
  {
   "cell_type": "code",
   "execution_count": 37,
   "id": "a8f7c85d-5ad7-411f-9cf1-7fd6daa0ac3b",
   "metadata": {},
   "outputs": [
    {
     "name": "stdout",
     "output_type": "stream",
     "text": [
      "756.007744 27.495594992652915\n"
     ]
    }
   ],
   "source": [
    "Var=np.var(int_list2)\n",
    "Std=np.std(int_list2)\n",
    "print(Var,Std)"
   ]
  },
  {
   "cell_type": "code",
   "execution_count": 39,
   "id": "1ee3b222-055b-4cb5-8328-3d23880f73b4",
   "metadata": {},
   "outputs": [
    {
     "data": {
      "text/plain": [
       "44.0"
      ]
     },
     "execution_count": 39,
     "metadata": {},
     "output_type": "execute_result"
    }
   ],
   "source": [
    "def iqr(x):\n",
    "    q3,q1=np.percentile(x,[75,25])\n",
    "    return q3-q1\n",
    "IQR=iqr(int_list2)\n",
    "IQR"
   ]
  },
  {
   "cell_type": "code",
   "execution_count": 40,
   "id": "2a0f194f-eeb6-4354-a24e-12219bd54026",
   "metadata": {},
   "outputs": [
    {
     "data": {
      "text/plain": [
       "10.86851144446009"
      ]
     },
     "execution_count": 40,
     "metadata": {},
     "output_type": "execute_result"
    }
   ],
   "source": [
    "c_v=Std/np.mean(int_list2)*100\n",
    "c_v"
   ]
  },
  {
   "cell_type": "code",
   "execution_count": 41,
   "id": "5d618563-0c1a-41d5-8979-0711733028f2",
   "metadata": {},
   "outputs": [
    {
     "data": {
      "text/plain": [
       "23.300832000000003"
      ]
     },
     "execution_count": 41,
     "metadata": {},
     "output_type": "execute_result"
    }
   ],
   "source": [
    "def mad(x):\n",
    "    m=np.mean(x)\n",
    "    return np.mean(np.abs(x-m))\n",
    "Mad=mad(int_list2)\n",
    "Mad"
   ]
  },
  {
   "cell_type": "code",
   "execution_count": 42,
   "id": "96503fb5-3fbc-4454-a278-3b266d04219b",
   "metadata": {},
   "outputs": [
    {
     "data": {
      "text/plain": [
       "22.0"
      ]
     },
     "execution_count": 42,
     "metadata": {},
     "output_type": "execute_result"
    }
   ],
   "source": [
    "Qd=iqr(int_list2)/2\n",
    "Qd"
   ]
  },
  {
   "cell_type": "code",
   "execution_count": 43,
   "id": "7d2598a1-eb6c-4636-91ea-faad6638683a",
   "metadata": {},
   "outputs": [
    {
     "data": {
      "text/plain": [
       "0.39132909591120385"
      ]
     },
     "execution_count": 43,
     "metadata": {},
     "output_type": "execute_result"
    }
   ],
   "source": [
    "R_cd=(np.max(int_list2)-np.min(int_list2))/np.mean(int_list2)\n",
    "R_cd"
   ]
  },
  {
   "cell_type": "code",
   "execution_count": null,
   "id": "72d7d20a-5f01-4009-a1e6-fdd9d5e72910",
   "metadata": {},
   "outputs": [],
   "source": [
    "Q-3=Write a Python class representing a discrete random variable with methods to calculate its expected \n",
    "value and variance."
   ]
  },
  {
   "cell_type": "code",
   "execution_count": 44,
   "id": "f78ff62d-fe5a-4b61-9241-6f117a9856e7",
   "metadata": {},
   "outputs": [],
   "source": [
    "class DiscreteRandomVariable:\n",
    "    def __init__(self, outcomes, probabilities):\n",
    "        if len(outcomes) != len(probabilities):\n",
    "            raise ValueError(\"The number of outcomes and probabilities must be the same.\")\n",
    "        if not np.isclose(sum(probabilities), 1):\n",
    "            raise ValueError(\"The sum of probabilities must be 1.\")\n",
    "        self.outcomes = np.array(outcomes)\n",
    "        self.probabilities = np.array(probabilities)\n",
    "    def expected_value(self):\n",
    "        return np.sum(self.outcomes * self.probabilities)\n",
    "    def variance(self):\n",
    "        mean = self.expected_value()\n",
    "        return np.sum(self.probabilities * (self.outcomes - mean) ** 2)"
   ]
  },
  {
   "cell_type": "code",
   "execution_count": null,
   "id": "2f0e932c-9090-49dd-af74-c315ad81c72f",
   "metadata": {},
   "outputs": [],
   "source": [
    "Q-4=Implement a program to simulate the rolling of a fair six-sided die and calculate the expected value and \n",
    "variance of the outcomes."
   ]
  },
  {
   "cell_type": "code",
   "execution_count": 45,
   "id": "622a9f25-0d62-413e-99ce-db5b3a7a2816",
   "metadata": {},
   "outputs": [
    {
     "name": "stdout",
     "output_type": "stream",
     "text": [
      "Expected Value: 3.49807\n",
      "Variance: 2.9190962751000002\n"
     ]
    }
   ],
   "source": [
    "def roll_die(num_rolls):\n",
    "    return np.random.randint(1, 7, size=num_rolls)\n",
    "def expected_value(outcomes):\n",
    "    return np.mean(outcomes)\n",
    "def variance(outcomes):\n",
    "    return np.var(outcomes)\n",
    "num_rolls = 100000 \n",
    "outcomes = roll_die(num_rolls)\n",
    "ex_value = expected_value(outcomes)\n",
    "Var = variance(outcomes)\n",
    "\n",
    "print(f\"Expected Value: {ex_value}\")\n",
    "print(f\"Variance: {Var}\")"
   ]
  },
  {
   "cell_type": "code",
   "execution_count": null,
   "id": "ce71bc11-c3bd-4bc4-82a5-b44ced5e27d2",
   "metadata": {},
   "outputs": [],
   "source": [
    "Q-5= Create a Python function to generate random samples from a given probability distribution (e.g., \n",
    "binomial, Poisson) and calculate their mean and variance."
   ]
  },
  {
   "cell_type": "code",
   "execution_count": 46,
   "id": "9eeee674-95aa-44d9-8571-afea7f92d855",
   "metadata": {},
   "outputs": [],
   "source": [
    "def generate_samples(distribution, params, sample_size):\n",
    "    if distribution == 'binomial':\n",
    "        n = params.get('n', 1)\n",
    "        p = params.get('p', 0.5)\n",
    "        samples = np.random.binomial(n, p, sample_size)\n",
    "    elif distribution == 'poisson':\n",
    "        lam = params.get('lam', 1.0)\n",
    "        samples = np.random.poisson(lam, sample_size)\n",
    "    else:\n",
    "        raise ValueError(\"Supported distributions are 'binomial' and 'poisson'.\")\n",
    "    mean = np.mean(samples)\n",
    "    variance = np.var(samples)\n",
    "    return samples, mean, variance"
   ]
  },
  {
   "cell_type": "code",
   "execution_count": null,
   "id": "765e720b-21ea-45e8-9137-358416aaff8e",
   "metadata": {},
   "outputs": [],
   "source": [
    "Q-6.Write a Python script to generate random numbers from a Gaussian (normal) distribution and compute \n",
    "the mean, variance, and standard deviation of the samples."
   ]
  },
  {
   "cell_type": "code",
   "execution_count": 47,
   "id": "dcf0970e-52a2-47c9-a8c1-3d8af78a9171",
   "metadata": {},
   "outputs": [],
   "source": [
    "def gaussian_statistics(mean, std_dev, sample_size):\n",
    "    samples = np.random.normal(loc=mean, scale=std_dev, size=sample_size)\n",
    "    computed_mean = np.mean(samples)\n",
    "    computed_variance = np.var(samples)\n",
    "    computed_std_dev = np.std(samples)  \n",
    "    return samples, computed_mean, computed_variance, computed_std_dev"
   ]
  },
  {
   "cell_type": "code",
   "execution_count": null,
   "id": "e5431dec-e159-4867-9415-107c68c21821",
   "metadata": {},
   "outputs": [],
   "source": [
    "Q-7=Use seaborn library to load tips dataset. Find the following from the dataset for the columns total_bill \n",
    "and tip`:\n",
    "(i) Write a Python function that calculates their skewness.\n",
    "(ii) Create a program that determines whether the columns exhibit positive skewness, negative skewness, or is \n",
    "approximately symmetric.\n",
    "(iii) Write a function that calculates the covariance between two columns.\n",
    "(iv) Implement a Python program that calculates the Pearson correlation coefficient between two columns.\n",
    "(v) Write a script to visualize the correlation between two specific columns in a Pandas DataFrame using \n",
    "scatter plots"
   ]
  },
  {
   "cell_type": "code",
   "execution_count": 48,
   "id": "1c93cfca-8c03-4a7c-996a-ce341c7be677",
   "metadata": {},
   "outputs": [],
   "source": [
    "from scipy.stats import skew, pearsonr"
   ]
  },
  {
   "cell_type": "code",
   "execution_count": 49,
   "id": "78e9fccd-94f1-4706-a72a-cfda248375d2",
   "metadata": {},
   "outputs": [],
   "source": [
    "tips=sns.load_dataset('tips')"
   ]
  },
  {
   "cell_type": "code",
   "execution_count": 50,
   "id": "b63275f6-6739-49e1-9730-0a55984cfc49",
   "metadata": {},
   "outputs": [],
   "source": [
    "def skeww(column):\n",
    "    return skew(column)"
   ]
  },
  {
   "cell_type": "code",
   "execution_count": 51,
   "id": "5ee41006-ff3f-4ea5-ae60-0885d14dea39",
   "metadata": {},
   "outputs": [],
   "source": [
    "def skew_type(value):\n",
    "    if value > 0:\n",
    "        return \"Positive Skewness\"\n",
    "    elif value < 0:\n",
    "        return \"Negative Skewness\"\n",
    "    else:\n",
    "        return \"Approximately Symmetric\""
   ]
  },
  {
   "cell_type": "code",
   "execution_count": 52,
   "id": "0a334ffc-8229-4399-b731-fc29894d69a3",
   "metadata": {},
   "outputs": [],
   "source": [
    "def calculate_covariance(column1, column2):\n",
    "    return np.cov(column1, column2, ddof=0)[0, 1]\n",
    "def calculate_pearson_correlation(column1, column2):\n",
    "    return pearsonr(column1, column2)[0]"
   ]
  },
  {
   "cell_type": "code",
   "execution_count": 53,
   "id": "99721d32-8096-46b1-9d55-6ebbe724fbc4",
   "metadata": {},
   "outputs": [],
   "source": [
    "def visualize_correlation(dataframe, column1, column2):\n",
    "    plt.figure(figsize=(8, 6))\n",
    "    plt.scatter(dataframe[column1], dataframe[column2], alpha=0.7, edgecolors='k')\n",
    "    plt.title(f'Scatter Plot of {column1} vs {column2}')\n",
    "    plt.xlabel(column1)\n",
    "    plt.ylabel(column2)\n",
    "    plt.grid(True)\n",
    "    plt.show()"
   ]
  },
  {
   "cell_type": "code",
   "execution_count": 54,
   "id": "ec8c39af-3f7f-4735-913e-fb5bfb6f1fd3",
   "metadata": {},
   "outputs": [
    {
     "name": "stdout",
     "output_type": "stream",
     "text": [
      "1.1262346334818638 1.4564266884221506 Positive Skewness Positive Skewness 8.289388917629669 0.6757341092113647\n"
     ]
    }
   ],
   "source": [
    "bill = skew(tips[\"total_bill\"])\n",
    "tip= skew(tips[\"tip\"])\n",
    "bill_type = skew_type(bill)\n",
    "tip_type = skew_type(tip)\n",
    "covariance = calculate_covariance(tips[\"total_bill\"], tips[\"tip\"])\n",
    "pearson_corr = calculate_pearson_correlation(tips[\"total_bill\"], tips[\"tip\"])\n",
    "print(bill,tip,bill_type,tip_type,covariance,pearson_corr)"
   ]
  },
  {
   "cell_type": "code",
   "execution_count": 55,
   "id": "64712fd4-5d73-4587-87e9-0778ab6e7501",
   "metadata": {},
   "outputs": [
    {
     "data": {
      "image/png": "[encoded data removed]",
      "text/plain": [
       "<Figure size 800x600 with 1 Axes>"
      ]
     },
     "metadata": {},
     "output_type": "display_data"
    }
   ],
   "source": [
    "visualize_correlation(tips, \"total_bill\", \"tip\")"
   ]
  },
  {
   "cell_type": "code",
   "execution_count": null,
   "id": "c49cbee7-30ca-49ca-b7c6-d29013723b17",
   "metadata": {},
   "outputs": [],
   "source": [
    "Q-8 Write a Python function to calculate the probability density function (PDF) of a continuous random \n",
    "variable for a given normal distribution."
   ]
  },
  {
   "cell_type": "code",
   "execution_count": 56,
   "id": "d318edb1-325d-479f-80fa-7ebf5d117522",
   "metadata": {},
   "outputs": [
    {
     "name": "stdout",
     "output_type": "stream",
     "text": [
      "PDF at x = 1.0: 0.24197072451914337\n"
     ]
    },
    {
     "data": {
      "image/png": "[encoded data removed]",
      "text/plain": [
       "<Figure size 640x480 with 1 Axes>"
      ]
     },
     "metadata": {},
     "output_type": "display_data"
    }
   ],
   "source": [
    "def normal_pdf(x, mean, std_dev):\n",
    "    coefficient = 1 / (std_dev * np.sqrt(2 * np.pi))\n",
    "    exponent = np.exp(-0.5 * ((x - mean) / std_dev) ** 2)\n",
    "    return coefficient * exponent\n",
    "mean = 0\n",
    "std_dev = 1\n",
    "x_value = 1.0\n",
    "pdf_value = normal_pdf(x_value, mean, std_dev)\n",
    "print(f\"PDF at x = {x_value}: {pdf_value}\")\n",
    "x_values = np.linspace(-3, 3, 100)\n",
    "pdf_values = normal_pdf(x_values, mean, std_dev)\n",
    "plt.plot(x_values, pdf_values, label=\"Normal PDF\")\n",
    "plt.title(\"Probability Density Function (PDF) of Normal Distribution\")\n",
    "plt.xlabel(\"x\")\n",
    "plt.ylabel(\"PDF\")\n",
    "plt.legend()\n",
    "plt.grid(True)\n",
    "plt.show()"
   ]
  },
  {
   "cell_type": "code",
   "execution_count": null,
   "id": "2afcb154-fc44-41e5-9048-20fddb0e5799",
   "metadata": {},
   "outputs": [],
   "source": [
    "Q-9. Create a program to calculate the cumulative distribution function (CDF) of exponential distribution."
   ]
  },
  {
   "cell_type": "code",
   "execution_count": 57,
   "id": "bf0d87b9-d8e0-40fa-96bf-e0a78f996f9b",
   "metadata": {},
   "outputs": [],
   "source": [
    "def exponential_cdf(x, lambda_rate):\n",
    "    if lambda_rate <= 0:\n",
    "        raise ValueError(\"The rate parameter (lambda) must be greater than 0.\")\n",
    "    return 1 - np.exp(-lambda_rate * x)"
   ]
  },
  {
   "cell_type": "code",
   "execution_count": null,
   "id": "4bf372cc-60d0-4138-a907-b7493ce45a0b",
   "metadata": {},
   "outputs": [],
   "source": [
    "Q-10 Write a Python function to calculate the probability mass function (PMF) of Poisson distribution."
   ]
  },
  {
   "cell_type": "code",
   "execution_count": 58,
   "id": "4d6ad3c6-403d-44f0-b913-1edb85a75cfb",
   "metadata": {},
   "outputs": [],
   "source": [
    "def poisson_pmf(k, lam):\n",
    "    if lam <= 0:\n",
    "        raise ValueError(\"Lambda (average rate) must be greater than 0.\")\n",
    "    if k < 0 or not isinstance(k, int):\n",
    "        raise ValueError(\"k must be a non-negative integer.\")\n",
    "    return (lam**k * math.exp(-lam)) / math.factorial(k)"
   ]
  },
  {
   "cell_type": "code",
   "execution_count": null,
   "id": "ee543bfc-027f-4138-af2b-542f2f9c24f2",
   "metadata": {},
   "outputs": [],
   "source": [
    "Q-11 =A company wants to test if a new website layout leads to a higher conversion rate (percentage of visitors \n",
    "who make a purchase). They collect data from the old and new layouts to compare."
   ]
  },
  {
   "cell_type": "code",
   "execution_count": 61,
   "id": "c7e4dbde-ee0a-4ace-a5e8-daa0d7cc87fb",
   "metadata": {},
   "outputs": [],
   "source": [
    "from scipy.stats import norm"
   ]
  },
  {
   "cell_type": "code",
   "execution_count": 62,
   "id": "8a1f8fb7-283e-4252-804c-79bbd734645d",
   "metadata": {},
   "outputs": [
    {
     "name": "stdout",
     "output_type": "stream",
     "text": [
      "Old Layout Conversion Rate: 0.05\n",
      "New Layout Conversion Rate: 0.07\n",
      "Z-Statistic: -1.883108942886774\n",
      "P-Value: 0.9701571972337869\n",
      "Fail to reject the null hypothesis: No significant difference.\n"
     ]
    }
   ],
   "source": [
    "old_layout = np.array([1] * 50 + [0] * 950)\n",
    "new_layout = np.array([1] * 70 + [0] * 930)\n",
    "\n",
    "n1 = len(old_layout)\n",
    "n2 = len(new_layout)\n",
    "\n",
    "x1 = old_layout.sum()\n",
    "x2 = new_layout.sum()\n",
    "\n",
    "p1 = x1 / n1\n",
    "p2 = x2 / n2\n",
    "\n",
    "p_pooled = (x1 + x2) / (n1 + n2)\n",
    "z = (p1 - p2) / np.sqrt(p_pooled * (1 - p_pooled) * (1/n1 + 1/n2))\n",
    "\n",
    "p_value = 1 - norm.cdf(z)\n",
    "print(\"Old Layout Conversion Rate:\", p1)\n",
    "print(\"New Layout Conversion Rate:\", p2)\n",
    "print(\"Z-Statistic:\", z)\n",
    "print(\"P-Value:\", p_value)\n",
    "alpha = 0.05\n",
    "if p_value < alpha:\n",
    "    print(\"Reject the null hypothesis: The new layout has a higher conversion rate.\")\n",
    "else:\n",
    "    print(\"Fail to reject the null hypothesis: No significant difference.\")"
   ]
  },
  {
   "cell_type": "code",
   "execution_count": null,
   "id": "ce4b0a8f-5163-48ac-907f-c283c541cd11",
   "metadata": {},
   "outputs": [],
   "source": [
    "Q-12. A tutoring service claims that its program improves students' exam scores. A sample of students who \n",
    "participated in the program was taken, and their scores before and after the program were recorded."
   ]
  },
  {
   "cell_type": "code",
   "execution_count": 64,
   "id": "569dcadc-1e80-4996-a36b-97f9829c675d",
   "metadata": {},
   "outputs": [
    {
     "name": "stdout",
     "output_type": "stream",
     "text": [
      "Mean Difference: 3.8\n",
      "Standard Deviation of Differences: 2.616188916046478\n",
      "Z-Statistic: 4.593190894944668\n",
      "P-Value: 2.182597052646784e-06\n",
      "Reject the null hypothesis: The tutoring program improves scores.\n"
     ]
    }
   ],
   "source": [
    "before_program = np.array([75, 80, 85, 70, 90, 78, 92, 88, 82, 87])\n",
    "after_program = np.array([80, 85, 90, 80, 92, 80, 95, 90, 85, 88])\n",
    "\n",
    "differences = after_program - before_program\n",
    "\n",
    "mean_diff = np.mean(differences)\n",
    "std_diff = np.std(differences, ddof=1)\n",
    "n = len(differences)\n",
    "z = mean_diff / (std_diff / np.sqrt(n))\n",
    "p_value = 1 - norm.cdf(z)\n",
    "\n",
    "print(\"Mean Difference:\", mean_diff)\n",
    "print(\"Standard Deviation of Differences:\", std_diff)\n",
    "print(\"Z-Statistic:\", z)\n",
    "print(\"P-Value:\", p_value)\n",
    "alpha = 0.05\n",
    "if p_value < alpha:\n",
    "    print(\"Reject the null hypothesis: The tutoring program improves scores.\")\n",
    "else:\n",
    "    print(\"Fail to reject the null hypothesis\")"
   ]
  },
  {
   "cell_type": "code",
   "execution_count": null,
   "id": "2029c043-76ce-430c-bd4c-369866598e37",
   "metadata": {},
   "outputs": [],
   "source": [
    "Q-13. A pharmaceutical company wants to determine if a new drug is effective in reducing blood pressure. They \n",
    "conduct a study and record blood pressure measurements before and after administering the drug."
   ]
  },
  {
   "cell_type": "code",
   "execution_count": 65,
   "id": "3ad2a6b7-7978-4086-8ef9-8ecf1e725464",
   "metadata": {},
   "outputs": [
    {
     "name": "stdout",
     "output_type": "stream",
     "text": [
      "Mean Difference: 10.1\n",
      "Standard Deviation of Differences: 3.178049716414141\n",
      "Z-Statistic: 10.049875621120888\n",
      "P-Value: 0.0\n",
      "Reject the null hypothesis: The drug is effective in reducing blood pressure.\n"
     ]
    }
   ],
   "source": [
    "before_drug = np.array([145, 150, 140, 135, 155, 160, 152, 148, 130, 138])\n",
    "after_drug = np.array([130, 140, 132, 128, 145, 148, 138, 136, 125, 130])\n",
    "differences = before_drug - after_drug\n",
    "\n",
    "mean_diff = np.mean(differences)\n",
    "std_diff = np.std(differences, ddof=1)\n",
    "\n",
    "n = len(differences)\n",
    "\n",
    "z = mean_diff / (std_diff / np.sqrt(n))\n",
    "p_value = 1 - norm.cdf(z)\n",
    "\n",
    "print(\"Mean Difference:\", mean_diff)\n",
    "print(\"Standard Deviation of Differences:\", std_diff)\n",
    "print(\"Z-Statistic:\", z)\n",
    "print(\"P-Value:\", p_value)\n",
    "\n",
    "alpha = 0.05\n",
    "if p_value < alpha:\n",
    "    print(\"Reject the null hypothesis: The drug is effective in reducing blood pressure.\")\n",
    "else:\n",
    "    print(\"Fail to reject the null hypothesis\")"
   ]
  },
  {
   "cell_type": "code",
   "execution_count": null,
   "id": "030145a2-0584-4f07-828a-6732306caf7d",
   "metadata": {},
   "outputs": [],
   "source": [
    "Q-14 A customer service department claims that their average response time is less than 5 minutes. A sample \n",
    "of recent customer interactions was taken, and the response times were recorded."
   ]
  },
  {
   "cell_type": "code",
   "execution_count": 66,
   "id": "0a218295-c814-4ff4-93b7-77c4781aa4dd",
   "metadata": {},
   "outputs": [
    {
     "name": "stdout",
     "output_type": "stream",
     "text": [
      "Sample Mean: 4.57\n",
      "Sample Standard Deviation: 0.4270050741306634\n",
      "Z-Statistic: -3.184457226042963\n",
      "P-Value: 0.0007251287113068958\n",
      "Reject the null hypothesis: The average response time is less than 5 minutes.\n"
     ]
    }
   ],
   "source": [
    "response_times = np.array([4.3, 3.8, 5.1, 4.9, 4.7, 4.2, 5.2, 4.5, 4.6, 4.4])\n",
    "mu_0 = 5\n",
    "sample_mean = np.mean(response_times)\n",
    "sample_std = np.std(response_times, ddof=1)\n",
    "n = len(response_times)\n",
    "z = (sample_mean - mu_0) / (sample_std / np.sqrt(n))\n",
    "p_value = norm.cdf(z)\n",
    "print(\"Sample Mean:\", sample_mean)\n",
    "print(\"Sample Standard Deviation:\", sample_std)\n",
    "print(\"Z-Statistic:\", z)\n",
    "print(\"P-Value:\", p_value)\n",
    "\n",
    "alpha = 0.05\n",
    "if p_value < alpha:\n",
    "    print(\"Reject the null hypothesis: The average response time is less than 5 minutes.\")\n",
    "else:\n",
    "    print(\"Fail to reject the null hypothesis\")"
   ]
  },
  {
   "cell_type": "code",
   "execution_count": null,
   "id": "ee04019d-dbd2-415c-ba50-4043e1eee922",
   "metadata": {},
   "outputs": [],
   "source": [
    "Q-15= A company is testing two different website layouts to see which one leads to higher click-through rates. \n",
    "Write a Python function to perform an A/B test analysis, including calculating the t-statistic, degrees of \n",
    "freedom, and p-value."
   ]
  },
  {
   "cell_type": "code",
   "execution_count": 67,
   "id": "c26f06bf-a0ce-48ca-8992-44aaae9d2641",
   "metadata": {},
   "outputs": [
    {
     "name": "stdout",
     "output_type": "stream",
     "text": [
      "Layout A Mean: 32.5\n",
      "Layout B Mean: 42.0\n",
      "T-Statistic: -7.2981\n",
      "Degrees of Freedom: 17.88\n",
      "P-Value: 0.0000\n",
      "Reject the null hypothesis: There is a significant difference between the layouts.\n"
     ]
    }
   ],
   "source": [
    "from scipy.stats import t\n",
    "\n",
    "def ab_test(layout_a_clicks, layout_b_clicks, alpha=0.05):\n",
    "    mean_a = np.mean(layout_a_clicks)\n",
    "    mean_b = np.mean(layout_b_clicks)\n",
    "    std_a = np.std(layout_a_clicks, ddof=1)\n",
    "    std_b = np.std(layout_b_clicks, ddof=1)\n",
    "    n_a = len(layout_a_clicks)\n",
    "    n_b = len(layout_b_clicks)\n",
    "    \n",
    "    pooled_se = np.sqrt((std_a**2 / n_a) + (std_b**2 / n_b))\n",
    "    t_stat = (mean_a - mean_b) / pooled_se\n",
    "    df = ((std_a**2 / n_a) + (std_b**2 / n_b))**2 / (\n",
    "        ((std_a**2 / n_a)**2 / (n_a - 1)) + ((std_b**2 / n_b)**2 / (n_b - 1)))\n",
    "    p_value = 2 * (1 - t.cdf(abs(t_stat), df))\n",
    "\n",
    "    print(f\"Layout A Mean: {mean_a}\")\n",
    "    print(f\"Layout B Mean: {mean_b}\")\n",
    "    print(f\"T-Statistic: {t_stat:.4f}\")\n",
    "    print(f\"Degrees of Freedom: {df:.2f}\")\n",
    "    print(f\"P-Value: {p_value:.4f}\")\n",
    "    \n",
    "    if p_value < alpha:\n",
    "        print(\"Reject the null hypothesis: There is a significant difference between the layouts.\")\n",
    "    else:\n",
    "        print(\"Fail to reject the null hypothesis\")\n",
    "\n",
    "layout_a_clicks = [28, 32, 33, 29, 31, 34, 30, 35, 36, 37]\n",
    "layout_b_clicks = [40, 41, 38, 42, 39, 44, 43, 41, 45, 47]\n",
    "\n",
    "ab_test(layout_a_clicks, layout_b_clicks)"
   ]
  },
  {
   "cell_type": "code",
   "execution_count": null,
   "id": "f9abe88a-4b44-438f-a61f-4815e2c8dfb5",
   "metadata": {},
   "outputs": [],
   "source": [
    "Q-16= A pharmaceutical company wants to determine if a new drug is more effective than an existing drug in \n",
    "reducing cholesterol levels. Create a program to analyze the clinical trial data and calculate the statistic and p-value for the treatment effect."
   ]
  },
  {
   "cell_type": "code",
   "execution_count": 68,
   "id": "2abd96e1-7c2e-405c-bea3-dfca9d3b706f",
   "metadata": {},
   "outputs": [
    {
     "name": "stdout",
     "output_type": "stream",
     "text": [
      "Existing Drug Mean: 179.4\n",
      "New Drug Mean: 171.9\n",
      "T-Statistic: 4.1405\n",
      "Degrees of Freedom: 17.87\n",
      "P-Value: 0.0003\n",
      "Reject the null hypothesis: The new drug is more effective.\n"
     ]
    }
   ],
   "source": [
    "def analyze_treatment_effect(existing_drug_levels, new_drug_levels, alpha=0.05):\n",
    "    mean_existing = np.mean(existing_drug_levels)\n",
    "    mean_new = np.mean(new_drug_levels)\n",
    "    std_existing = np.std(existing_drug_levels, ddof=1)\n",
    "    std_new = np.std(new_drug_levels, ddof=1)\n",
    "    n_existing = len(existing_drug_levels)\n",
    "    n_new = len(new_drug_levels)\n",
    "    pooled_se = np.sqrt((std_existing**2 / n_existing) + (std_new**2 / n_new))\n",
    "    t_stat = (mean_existing - mean_new) / pooled_se\n",
    "    df = ((std_existing**2 / n_existing) + (std_new**2 / n_new))**2 / (\n",
    "        ((std_existing**2 / n_existing)**2 / (n_existing - 1)) + \n",
    "        ((std_new**2 / n_new)**2 / (n_new - 1)))\n",
    "    \n",
    "   \n",
    "    p_value = t.cdf(-t_stat, df)  \n",
    "    print(f\"Existing Drug Mean: {mean_existing}\")\n",
    "    print(f\"New Drug Mean: {mean_new}\")\n",
    "    print(f\"T-Statistic: {t_stat:.4f}\")\n",
    "    print(f\"Degrees of Freedom: {df:.2f}\")\n",
    "    print(f\"P-Value: {p_value:.4f}\")\n",
    "    \n",
    "    if p_value < alpha:\n",
    "        print(\"Reject the null hypothesis: The new drug is more effective.\")\n",
    "    else:\n",
    "        print(\"Fail to reject the null hypothesis\")\n",
    "\n",
    "existing_drug_levels = [180, 182, 175, 185, 178, 176, 172, 184, 179, 183]\n",
    "new_drug_levels = [170, 172, 165, 168, 175, 173, 170, 178, 172, 176]\n",
    "analyze_treatment_effect(existing_drug_levels, new_drug_levels)"
   ]
  },
  {
   "cell_type": "code",
   "execution_count": null,
   "id": "8e77f9f9-7212-4462-b265-a4833392a7f8",
   "metadata": {},
   "outputs": [],
   "source": [
    "Q-17= A school district introduces an educational intervention program to improve math scores. Write a Python \n",
    "function to analyze pre- and post-intervention test scores, calculating the t-statistic and p-value to \n",
    "determine if the intervention had a significant impact."
   ]
  },
  {
   "cell_type": "code",
   "execution_count": 69,
   "id": "444ac4ad-5a23-4528-a374-5ac060e97fcc",
   "metadata": {},
   "outputs": [
    {
     "name": "stdout",
     "output_type": "stream",
     "text": [
      "Mean Difference: 7.70\n",
      "Standard Deviation of Differences: 5.50\n",
      "T-Statistic: 4.4284\n",
      "Degrees of Freedom: 9\n",
      "P-Value: 0.0008\n",
      "Reject the null hypothesis: The intervention had a significant impact on test scores.\n"
     ]
    }
   ],
   "source": [
    "def analyze_intervention_impact(pre_intervention_scores, post_intervention_scores, alpha=0.05):\n",
    "    differences = np.array(post_intervention_scores) - np.array(pre_intervention_scores)\n",
    "    mean_diff = np.mean(differences)\n",
    "    std_diff = np.std(differences, ddof=1)\n",
    "    n = len(differences)\n",
    "    t_stat = mean_diff / (std_diff / np.sqrt(n))\n",
    "    df = n - 1\n",
    "    p_value = 1 - t.cdf(t_stat, df)\n",
    "    print(f\"Mean Difference: {mean_diff:.2f}\")\n",
    "    print(f\"Standard Deviation of Differences: {std_diff:.2f}\")\n",
    "    print(f\"T-Statistic: {t_stat:.4f}\")\n",
    "    print(f\"Degrees of Freedom: {df}\")\n",
    "    print(f\"P-Value: {p_value:.4f}\")\n",
    "    if p_value < alpha:\n",
    "        print(\"Reject the null hypothesis: The intervention had a significant impact on test scores.\")\n",
    "    else:\n",
    "        print(\"Fail to reject the null hypothesis\")\n",
    "pre_intervention_scores = [80, 85, 90, 75, 88, 82, 92, 78, 85, 87]\n",
    "post_intervention_scores = [90, 92, 88, 92, 95, 91, 96, 93, 89, 93]\n",
    "analyze_intervention_impact(pre_intervention_scores, post_intervention_scores)"
   ]
  },
  {
   "cell_type": "code",
   "execution_count": null,
   "id": "fca00c41-d505-4092-99c8-0f692bd6af27",
   "metadata": {},
   "outputs": [],
   "source": [
    "Q-18=An HR department wants to investigate if there's a gender-based salary gap within the company. Develop \n",
    "a program to analyze salary data, calculate the t-statistic, and determine if there's a statistically \n",
    "significant difference between the average salaries of male and female employees."
   ]
  },
  {
   "cell_type": "code",
   "execution_count": 70,
   "id": "0ab0c846-0940-485d-8b71-1ccbc5cf69b5",
   "metadata": {},
   "outputs": [
    {
     "name": "stdout",
     "output_type": "stream",
     "text": [
      "Male Salaries Mean: 55693.345929456365\n",
      "Female Salaries Mean: 55501.753181380416\n",
      "T-Statistic: 0.0611\n",
      "Degrees of Freedom: 36.17\n",
      "P-Value: 0.9516\n",
      "Fail to reject the null hypothesis.\n"
     ]
    }
   ],
   "source": [
    "def analyze_salary_gap(male_salaries, female_salaries, alpha=0.05):\n",
    "    mean_male = np.mean(male_salaries)\n",
    "    mean_female = np.mean(female_salaries)\n",
    "    std_male = np.std(male_salaries, ddof=1)\n",
    "    std_female = np.std(female_salaries, ddof=1)\n",
    "    n_male = len(male_salaries)\n",
    "    n_female = len(female_salaries)\n",
    "\n",
    "    pooled_se = np.sqrt((std_male**2 / n_male) + (std_female**2 / n_female))\n",
    "    t_stat = (mean_male - mean_female) / pooled_se\n",
    "    \n",
    "    df = ((std_male**2 / n_male) + (std_female**2 / n_female))**2 / (\n",
    "        ((std_male**2 / n_male)**2 / (n_male - 1)) + ((std_female**2 / n_female)**2 / (n_female - 1)))\n",
    "    p_value = 2 * (1 - t.cdf(abs(t_stat), df))\n",
    "\n",
    "    print(f\"Male Salaries Mean: {mean_male}\")\n",
    "    print(f\"Female Salaries Mean: {mean_female}\")\n",
    "    print(f\"T-Statistic: {t_stat:.4f}\")\n",
    "    print(f\"Degrees of Freedom: {df:.2f}\")\n",
    "    print(f\"P-Value: {p_value:.4f}\")\n",
    "    \n",
    "    if p_value < alpha:\n",
    "        print(\"Reject the null hypothesis: There is a significant gender-based salary gap.\")\n",
    "    else:\n",
    "        print(\"Fail to reject the null hypothesis.\")\n",
    "\n",
    "np.random.seed(0)\n",
    "\n",
    "male_salaries = np.random.normal(loc=50000, scale=10000, size=20)\n",
    "female_salaries = np.random.normal(loc=55000, scale=9000, size=20)\n",
    "analyze_salary_gap(male_salaries, female_salaries)"
   ]
  },
  {
   "cell_type": "code",
   "execution_count": null,
   "id": "37e5d42b-9c7c-413f-9e8d-5bc707fc2222",
   "metadata": {},
   "outputs": [],
   "source": [
    "Q-19= A manufacturer produces two different versions of a product and wants to compare their quality scores. \n",
    "Create a Python function to analyze quality assessment data, calculate the t-statistic, and decide \n",
    "whether there's a significant difference in quality between the two versions."
   ]
  },
  {
   "cell_type": "code",
   "execution_count": 71,
   "id": "a55fb104-90cc-46e7-89e6-181c91327a89",
   "metadata": {},
   "outputs": [
    {
     "name": "stdout",
     "output_type": "stream",
     "text": [
      "Version 1 Mean: 86.64\n",
      "Version 2 Mean: 79.96\n",
      "T-Statistic: 11.3258\n",
      "Degrees of Freedom: 44.47\n",
      "P-Value: 0.0000\n",
      "Reject the null hypothesis: There is a significant difference in quality between the two versions.\n"
     ]
    }
   ],
   "source": [
    "def analyze_quality_scores(version1_scores, version2_scores, alpha=0.05):\n",
    "    mean_version1 = np.mean(version1_scores)\n",
    "    mean_version2 = np.mean(version2_scores)\n",
    "    std_version1 = np.std(version1_scores, ddof=1)\n",
    "    std_version2 = np.std(version2_scores, ddof=1)\n",
    "    n_version1 = len(version1_scores)\n",
    "    n_version2 = len(version2_scores)\n",
    "    \n",
    "    pooled_se = np.sqrt((std_version1**2 / n_version1) + (std_version2**2 / n_version2))\n",
    "    t_stat = (mean_version1 - mean_version2) / pooled_se\n",
    "    \n",
    "    df = ((std_version1**2 / n_version1) + (std_version2**2 / n_version2))**2 / (\n",
    "        ((std_version1**2 / n_version1)**2 / (n_version1 - 1)) + ((std_version2**2 / n_version2)**2 / (n_version2 - 1)))\n",
    "\n",
    "    p_value = 2 * (1 - t.cdf(abs(t_stat), df))\n",
    "    \n",
    "    print(f\"Version 1 Mean: {mean_version1}\")\n",
    "    print(f\"Version 2 Mean: {mean_version2}\")\n",
    "    print(f\"T-Statistic: {t_stat:.4f}\")\n",
    "    print(f\"Degrees of Freedom: {df:.2f}\")\n",
    "    print(f\"P-Value: {p_value:.4f}\")\n",
    "    \n",
    "    if p_value < alpha:\n",
    "        print(\"Reject the null hypothesis: There is a significant difference in quality between the two versions.\")\n",
    "    else:\n",
    "        print(\"Fail to reject the null hypothesis.\")\n",
    "version1_scores = [85, 88, 82, 89, 87, 84, 90, 88, 85, 86, 91, 83, 87, 84, 89, 86, 84, 88, 85, 86, 89, 90, 87, 88, 85]\n",
    "version2_scores = [80, 78, 83, 81, 79, 82, 76, 80, 78, 81, 77, 82, 80, 79, 82, 79, 80, 81, 79, 82, 79, 78, 80, 81, 82]\n",
    "analyze_quality_scores(version1_scores, version2_scores)"
   ]
  },
  {
   "cell_type": "code",
   "execution_count": null,
   "id": "125825bd-78bf-478b-ab3b-ea8c16d339ec",
   "metadata": {},
   "outputs": [],
   "source": [
    "Q-20. A restaurant chain collects customer satisfaction scores for two different branches. Write a program to \n",
    "analyze the scores, calculate the t-statistic, and determine if there's a statistically significant difference in \n",
    "customer satisfaction between the branches."
   ]
  },
  {
   "cell_type": "code",
   "execution_count": 72,
   "id": "a8abf9d9-230b-430c-a806-72e300192cfc",
   "metadata": {},
   "outputs": [
    {
     "name": "stdout",
     "output_type": "stream",
     "text": [
      "Branch A Mean: 4.129032258064516\n",
      "Branch B Mean: 3.129032258064516\n",
      "T-Statistic: 5.4801\n",
      "Degrees of Freedom: 60.00\n",
      "P-Value: 0.0000\n",
      "Reject the null hypothesis: There is a significant difference in customer satisfaction between the branches.\n"
     ]
    }
   ],
   "source": [
    "def analyze_satisfaction_scores(branch_a_scores, branch_b_scores, alpha=0.05):\n",
    "    mean_a = np.mean(branch_a_scores)\n",
    "    mean_b = np.mean(branch_b_scores)\n",
    "    std_a = np.std(branch_a_scores, ddof=1)\n",
    "    std_b = np.std(branch_b_scores, ddof=1)\n",
    "    n_a = len(branch_a_scores)\n",
    "    n_b = len(branch_b_scores)\n",
    "    pooled_se = np.sqrt((std_a**2 / n_a) + (std_b**2 / n_b))\n",
    "    t_stat = (mean_a - mean_b) / pooled_se\n",
    "    df = ((std_a**2 / n_a) + (std_b**2 / n_b))**2 / (\n",
    "        ((std_a**2 / n_a)**2 / (n_a - 1)) + ((std_b**2 / n_b)**2 / (n_b - 1)))\n",
    "    p_value = 2 * (1 - t.cdf(abs(t_stat), df))\n",
    "\n",
    "    print(f\"Branch A Mean: {mean_a}\")\n",
    "    print(f\"Branch B Mean: {mean_b}\")\n",
    "    print(f\"T-Statistic: {t_stat:.4f}\")\n",
    "    print(f\"Degrees of Freedom: {df:.2f}\")\n",
    "    print(f\"P-Value: {p_value:.4f}\")\n",
    "    \n",
    "    if p_value < alpha:\n",
    "        print(\"Reject the null hypothesis: There is a significant difference in customer satisfaction between the branches.\")\n",
    "    else:\n",
    "        print(\"Fail to reject the null hypothesis.\")\n",
    "\n",
    "branch_a_scores = [4, 5, 3, 4, 5, 4, 5, 3, 4, 4, 5, 4, 4, 3, 4, 5, 5, 4, 3, 4, 5, 4, 3, 5, 4, 4, 5, 3, 4, 5, 4]\n",
    "branch_b_scores = [3, 4, 2, 3, 4, 3, 4, 2, 3, 3, 4, 3, 3, 2, 3, 4, 4, 3, 2, 3, 4, 3, 2, 4, 3, 3, 4, 2, 3, 4, 3]\n",
    "analyze_satisfaction_scores(branch_a_scores, branch_b_scores)"
   ]
  },
  {
   "cell_type": "code",
   "execution_count": null,
   "id": "1400b283-c5d6-4763-894c-9d7459c97da6",
   "metadata": {},
   "outputs": [],
   "source": [
    "Q-21 A political analyst wants to determine if there is a significant association between age groups and voter \n",
    "preferences (Candidate A or Candidate B). They collect data from a sample of 500 voters and classify \n",
    "them into different age groups and candidate preferences. Perform a Chi-Square test to determine if \n",
    "there is a significant association between age groups and voter preferences."
   ]
  },
  {
   "cell_type": "code",
   "execution_count": 75,
   "id": "495dd844-339b-4eb7-b343-4016f58cd621",
   "metadata": {},
   "outputs": [],
   "source": [
    "import pandas as pd"
   ]
  },
  {
   "cell_type": "code",
   "execution_count": 76,
   "id": "a1aba7e6-f6c8-42a7-839f-0bb320f93d8b",
   "metadata": {},
   "outputs": [
    {
     "name": "stdout",
     "output_type": "stream",
     "text": [
      "Contingency Table:\n",
      "Voter Preference  Candidate A  Candidate B\n",
      "Age Group                                 \n",
      "18-30                       4            8\n",
      "31-50                       6            5\n",
      "51+                         4            3\n",
      "\n",
      "Chi-Square Statistic: 1.4402\n",
      "Degrees of Freedom: 2\n",
      "Expected Frequencies:\n",
      "[[5.6        6.4       ]\n",
      " [5.13333333 5.86666667]\n",
      " [3.26666667 3.73333333]]\n",
      "P-Value: 0.4867\n",
      "Fail to reject the null hypothesis.\n"
     ]
    }
   ],
   "source": [
    "from scipy.stats import chi2_contingency\n",
    "np.random.seed(0)\n",
    "\n",
    "age_groups = np.random.choice(['18-30', '31-50', '51+'], size=30)\n",
    "voter_preferences = np.random.choice(['Candidate A', 'Candidate B'], size=30)\n",
    "data = pd.DataFrame({'Age Group': age_groups, 'Voter Preference': voter_preferences})\n",
    "contingency_table = pd.crosstab(data['Age Group'], data['Voter Preference'])\n",
    "chi2_stat, p_value, dof, expected = chi2_contingency(contingency_table)\n",
    "print(f\"Contingency Table:\\n{contingency_table}\")\n",
    "print(f\"\\nChi-Square Statistic: {chi2_stat:.4f}\")\n",
    "print(f\"Degrees of Freedom: {dof}\")\n",
    "print(f\"Expected Frequencies:\\n{expected}\")\n",
    "print(f\"P-Value: {p_value:.4f}\")\n",
    "alpha = 0.05\n",
    "if p_value < alpha:\n",
    "    print(\"Reject the null hypothesis: There is a significant association between age groups and voter preferences.\")\n",
    "else:\n",
    "    print(\"Fail to reject the null hypothesis.\")"
   ]
  },
  {
   "cell_type": "code",
   "execution_count": null,
   "id": "efa34204-a424-4a7f-8b35-d07d3c6953f1",
   "metadata": {},
   "outputs": [],
   "source": [
    " Q-22. A company conducted a customer satisfaction survey to determine if there is a significant relationship \n",
    "between product satisfaction levels (Satisfied, Neutral, Dissatisfied) and the region where customers are \n",
    "located (East, West, North, South). The survey data is summarized in a contingency table. Conduct a Chi\u0002Square test to determine if there is a significant relationship between product satisfaction levels and \n",
    "customer regions."
   ]
  },
  {
   "cell_type": "code",
   "execution_count": 77,
   "id": "1863dd74-e058-4fc4-a6aa-4f2493aacdc9",
   "metadata": {},
   "outputs": [
    {
     "name": "stdout",
     "output_type": "stream",
     "text": [
      "Contingency Table:\n",
      "[[50 30 40 20]\n",
      " [30 40 30 50]\n",
      " [20 30 40 30]]\n",
      "\n",
      "Chi-Square Statistic: 27.7771\n",
      "Degrees of Freedom: 6\n",
      "Expected Frequencies:\n",
      "[[34.14634146 34.14634146 37.56097561 34.14634146]\n",
      " [36.58536585 36.58536585 40.24390244 36.58536585]\n",
      " [29.26829268 29.26829268 32.19512195 29.26829268]]\n",
      "P-Value: 0.0001\n",
      "\n",
      "Reject the null hypothesis: There is a significant relationship between product satisfaction levels and customer regions.\n"
     ]
    }
   ],
   "source": [
    "data = np.array([[50, 30, 40, 20], [30, 40, 30, 50], [20, 30, 40, 30]])\n",
    "chi2_stat, p_value, dof, expected = chi2_contingency(data)\n",
    "print(f\"Contingency Table:\\n{data}\")\n",
    "print(f\"\\nChi-Square Statistic: {chi2_stat:.4f}\")\n",
    "print(f\"Degrees of Freedom: {dof}\")\n",
    "print(f\"Expected Frequencies:\\n{expected}\")\n",
    "print(f\"P-Value: {p_value:.4f}\")\n",
    "alpha = 0.05\n",
    "if p_value < alpha:\n",
    "    print(\"\\nReject the null hypothesis: There is a significant relationship between product satisfaction levels and customer regions.\")\n",
    "else:\n",
    "    print(\"\\nFail to reject the null hypothesis.\")"
   ]
  },
  {
   "cell_type": "code",
   "execution_count": null,
   "id": "839f0fa9-126e-4b87-8d3f-fdbd7a48f8ee",
   "metadata": {},
   "outputs": [],
   "source": [
    "Q-23. A company implemented an employee training program to improve job performance (Effective, Neutral, \n",
    "Ineffective). After the training, they collected data from a sample of employees and classified them based \n",
    "on their job performance before and after the training. Perform a Chi-Square test to determine if there is a \n",
    "significant difference between job performance levels before and after the training."
   ]
  },
  {
   "cell_type": "code",
   "execution_count": 78,
   "id": "3157545a-9abc-4735-838f-75d11a20111f",
   "metadata": {},
   "outputs": [
    {
     "name": "stdout",
     "output_type": "stream",
     "text": [
      "Contingency Table:\n",
      "[[50 30 20]\n",
      " [30 40 30]\n",
      " [20 30 40]]\n",
      "\n",
      "Chi-Square Statistic: 22.1617\n",
      "Degrees of Freedom: 4\n",
      "Expected Frequencies:\n",
      "[[34.48275862 34.48275862 31.03448276]\n",
      " [34.48275862 34.48275862 31.03448276]\n",
      " [31.03448276 31.03448276 27.93103448]]\n",
      "P-Value: 0.0002\n",
      "\n",
      "Reject the null hypothesis: There is a significant difference in job performance levels before and after the training.\n"
     ]
    }
   ],
   "source": [
    "data = np.array([[50, 30, 20], [30, 40, 30], [20, 30, 40]])\n",
    "chi2_stat, p_value, dof, expected = chi2_contingency(data)\n",
    "\n",
    "print(f\"Contingency Table:\\n{data}\")\n",
    "print(f\"\\nChi-Square Statistic: {chi2_stat:.4f}\")\n",
    "print(f\"Degrees of Freedom: {dof}\")\n",
    "print(f\"Expected Frequencies:\\n{expected}\")\n",
    "print(f\"P-Value: {p_value:.4f}\")\n",
    "\n",
    "alpha = 0.05\n",
    "if p_value < alpha:\n",
    "    print(\"\\nReject the null hypothesis: There is a significant difference in job performance levels before and after the training.\")\n",
    "else:\n",
    "    print(\"\\nFail to reject the null hypothesis.\")"
   ]
  },
  {
   "cell_type": "code",
   "execution_count": null,
   "id": "05e52942-e7c0-44b8-8525-48cbb4013f2f",
   "metadata": {},
   "outputs": [],
   "source": [
    "Q-24. A company produces three different versions of a product: Standard, Premium, and Deluxe. The \n",
    "company wants to determine if there is a significant difference in customer satisfaction scores among the \n",
    "three product versions. They conducted a survey and collected customer satisfaction scores for each \n",
    "version from a random sample of customers. Perform an ANOVA test to determine if there is a significant \n",
    "difference in customer satisfaction scores."
   ]
  },
  {
   "cell_type": "code",
   "execution_count": 79,
   "id": "b246d5a4-9a59-4a2d-9b68-c537d95901b5",
   "metadata": {},
   "outputs": [
    {
     "name": "stdout",
     "output_type": "stream",
     "text": [
      "F-Statistic: 27.0356\n",
      "P-Value: 0.0000\n",
      "\n",
      "Reject the null hypothesis: There is a significant difference in customer satisfaction scores among the three product versions.\n"
     ]
    }
   ],
   "source": [
    "standard_scores = [80, 85, 90, 78, 88, 82, 92, 78, 85, 87]\n",
    "premium_scores = [90, 92, 88, 92, 95, 91, 96, 93, 89, 93]\n",
    "deluxe_scores = [95, 98, 92, 97, 96, 94, 98, 97, 92, 99]\n",
    "f_statistic, p_value = stats.f_oneway(standard_scores, premium_scores, deluxe_scores)\n",
    "\n",
    "print(f\"F-Statistic: {f_statistic:.4f}\")\n",
    "print(f\"P-Value: {p_value:.4f}\")\n",
    "\n",
    "alpha = 0.05\n",
    "if p_value < alpha:\n",
    "    print(\"\\nReject the null hypothesis: There is a significant difference in customer satisfaction scores among the three product versions.\")\n",
    "else:\n",
    "    print(\"\\nFail to reject the null hypothesis.\")"
   ]
  }
 ],
 "metadata": {
  "kernelspec": {
   "display_name": "Python 3 (ipykernel)",
   "language": "python",
   "name": "python3"
  },
  "language_info": {
   "codemirror_mode": {
    "name": "ipython",
    "version": 3
   },
   "file_extension": ".py",
   "mimetype": "text/x-python",
   "name": "python",
   "nbconvert_exporter": "python",
   "pygments_lexer": "ipython3",
   "version": "3.12.0"
  }
 },
 "nbformat": 4,
 "nbformat_minor": 5
}
