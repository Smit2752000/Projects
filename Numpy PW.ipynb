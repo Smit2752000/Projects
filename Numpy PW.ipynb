{
 "cells": [
  {
   "cell_type": "markdown",
   "id": "a86ce10f-9935-4521-9eab-8f5c43e91459",
   "metadata": {},
   "source": [
    "\n",
    "Theoretical Questions\n"
   ]
  },
  {
   "cell_type": "markdown",
   "id": "f1e174a7-af17-47c4-a94c-3102dec9f4ea",
   "metadata": {},
   "source": [
    "1. Explain the purpose and advantages of NumPy in scientific computing and data analysis. How does it \n",
    "enhance Python's capabilities for numerical operations?"
   ]
  },
  {
   "cell_type": "markdown",
   "id": "1ad1f4cc-644e-4df8-a4e6-f7ccd8cdee5f",
   "metadata": {},
   "source": [
    "Ans= NumPy (Numerical Python) is a powerful library in Python that provides support for scientific computing and data analysis. \n",
    "It significantly enhances Python's capabilities for numerical operations by offering a variety of functionalities that are efficient, optimized,\n",
    "and easy to use."
   ]
  },
  {
   "cell_type": "markdown",
   "id": "f1a4d681-0dfa-474f-a993-0e1a30464a31",
   "metadata": {},
   "source": [
    "2. Compare and contrast np.mean() and np.average() functions in NumPy. When would you use one over the \n",
    "other?"
   ]
  },
  {
   "cell_type": "markdown",
   "id": "b7d0840a-dca2-4d5b-95c8-11742274b2d5",
   "metadata": {},
   "source": [
    "Ans=np.mean() is simpler and calculates the arithmetic mean with equal weights.\n",
    "np.average() can compute both the arithmetic mean and a weighted average when weights are provided."
   ]
  },
  {
   "cell_type": "markdown",
   "id": "abadad30-10e0-4f25-aa25-1141cf0d9539",
   "metadata": {},
   "source": [
    "3. Describe the methods for reversing a NumPy array along different axes. Provide examples for 1D and 2D \n",
    "arrays"
   ]
  },
  {
   "cell_type": "markdown",
   "id": "eef1b063-8d1b-4ff5-a7ea-30eeede84136",
   "metadata": {},
   "source": [
    "Ans=To reverse elements, slicing with [::-1] can be used.\n",
    "This works for both 1D and 2D arrays."
   ]
  },
  {
   "cell_type": "code",
   "execution_count": 1,
   "id": "a081e4b9-311f-4edf-a653-c2ddb472c38f",
   "metadata": {},
   "outputs": [
    {
     "name": "stdout",
     "output_type": "stream",
     "text": [
      "[[7 8 9]\n",
      " [4 5 6]\n",
      " [1 2 3]]\n"
     ]
    }
   ],
   "source": [
    "import numpy as np\n",
    "#1D array\n",
    "arr = np.array([1, 2, 3, 4, 5])\n",
    "reversed_arr = arr[::-1]\n",
    "#2D array\n",
    "arr = np.array([[1, 2, 3],\n",
    "                [4, 5, 6],\n",
    "                [7, 8, 9]])\n",
    "\n",
    "# Reverse rows\n",
    "reversed_rows = arr[::-1]\n",
    "\n",
    "# Reverse columns\n",
    "reversed_columns = arr[:, ::-1]\n",
    "\n",
    "print(reversed_rows)"
   ]
  },
  {
   "cell_type": "markdown",
   "id": "b3bf23a5-7bfa-4374-b111-41fb27c16ab9",
   "metadata": {},
   "source": [
    "4. How can you determine the data type of elements in a NumPy array? Discuss the importance of data types \n",
    "in memory management and performance."
   ]
  },
  {
   "cell_type": "markdown",
   "id": "03ec51e7-8d41-4cb8-aeab-92fd5cff2148",
   "metadata": {},
   "source": [
    "Ans= In NumPy, the data type (or dtype) of elements in an array can be determined using the dtype attribute.\n",
    "Memory Management:\n",
    "\n",
    "NumPy allows you to specify the data type of an array at the time of creation, optimizing memory usage.\n",
    "For example, an array of int32 takes up less memory compared to int64\n",
    "\n",
    "Performance:\n",
    "\n",
    "NumPy operations are highly optimized for specific data types, ensuring faster computations.\n",
    "Using a smaller data type (e.g., int8 instead of int64) can improve performance when working with large datasets, provided the smaller type fits the data range.\n"
   ]
  },
  {
   "cell_type": "markdown",
   "id": "34c4a5e9-2c8b-4611-88e4-f66983f3d2c4",
   "metadata": {},
   "source": [
    "5. Define ndarrays in NumPy and explain their key features. How do they differ from standard Python lists?"
   ]
  },
  {
   "cell_type": "markdown",
   "id": "ffbace5d-3c0c-4a27-834a-48ea3c314a22",
   "metadata": {},
   "source": [
    "Ans= An ndarray (N-dimensional array) in NumPy is a powerful, multi-dimensional, fixed-size array object designed\n",
    "for efficient numerical computation. It is the core data structure in NumPy.\n",
    "\n",
    "NumPy ndarray\t\n",
    "Elements must have the same data type.\t\n",
    "Faster due to vectorized operations and C backend.\t\n",
    "More memory-efficient (contiguous memory).\t\n",
    "Supports element-wise operations directly.\t\n",
    "Native support for multidimensional arrays.\t\n",
    "Offers rich functionality for numerical tasks.\n",
    "Supports advanced indexing (e.g., slicing, masks).\t\n",
    "\n",
    "\n",
    "Python List\n",
    "        \n",
    "Can store elements of different types.\n",
    "Slower as it uses high-level loops.\n",
    "Less efficient (pointers to objects).\n",
    "Requires loops for such operations.\n",
    "Requires nested lists for dimensions.\n",
    "Lacks built-in numerical capabilities.\n",
    "Limited to basic indexing."
   ]
  },
  {
   "cell_type": "markdown",
   "id": "f6b73f87-eac1-4803-a5ee-ef910e92460c",
   "metadata": {},
   "source": [
    "6. Analyze the performance benefits of NumPy arrays over Python lists for large-scale numerical operations"
   ]
  },
  {
   "cell_type": "markdown",
   "id": "00dc4c30-f903-4027-a093-1b160adf90ab",
   "metadata": {},
   "source": [
    "Ans=NumPy arrays significantly outperform Python lists in large-scale numerical operations due to their optimized design and implementation."
   ]
  },
  {
   "cell_type": "markdown",
   "id": "6981ad01-c474-4840-bc33-86063103478c",
   "metadata": {},
   "source": [
    "7. Compare vstack() and hstack() functions in NumPy. Provide examples demonstrating their usage and \n",
    "output"
   ]
  },
  {
   "cell_type": "markdown",
   "id": "d8349beb-c45b-4ff8-b70d-5611c2c7963f",
   "metadata": {},
   "source": [
    "Ans= Both vstack() and hstack() are functions used to combine arrays, but they differ in how they perform the stacking\n",
    "vstack()\n",
    "Stacks vertically (row-wise).\n",
    "Same number of columns.\n",
    "Adds to the number of rows.\n",
    "\n",
    "hstack()\n",
    "Stacks horizontally (column-wise).\n",
    "Same number of rows.\n",
    "Adds to the number of columns."
   ]
  },
  {
   "cell_type": "markdown",
   "id": "e72c32b0-3de7-49cb-9fbd-6c02adf18117",
   "metadata": {},
   "source": [
    "8. Explain the differences between fliplr() and flipud() methods in NumPy, including their effects on various \n",
    "array dimensions."
   ]
  },
  {
   "cell_type": "markdown",
   "id": "4ea38703-830b-45a6-94ed-be96d92c4a86",
   "metadata": {},
   "source": [
    "Ans=fliplr() (Flip Left to Right)\n",
    "Reverses the order of columns in a 2D array (horizontal flipping).\n",
    "Applicable only to arrays with 2 or more dimensions.\n",
    "The array is flipped along the second axis (columns).\n",
    "\n",
    "flipud() (Flip Up to Down):\n",
    "Reverses the order of rows in a 2D array (vertical flipping).\n",
    "Applicable to arrays of any dimension.\n",
    "The array is flipped along the first axis (rows)."
   ]
  },
  {
   "cell_type": "markdown",
   "id": "8de67f61-ec7b-4433-a6ec-a2bc46b61dc3",
   "metadata": {},
   "source": [
    "9. Discuss the functionality of the array_split() method in NumPy. How does it handle uneven splits?"
   ]
  },
  {
   "cell_type": "markdown",
   "id": "bff37284-4da2-456b-8f1d-e9416514f7e0",
   "metadata": {},
   "source": [
    "Ans=Functionality of array_split() in NumPy The numpy.array_split() method splits an array into multiple sub-arrays along a specified axis.\n",
    "It is similar to split(), but it is more flexible as it can handle uneven splits.\n",
    "\n",
    "Unlike split(), which raises an error for uneven splits, array_split() handles them gracefully.\n",
    "If the array size is not evenly divisible by the number of splits, some sub-arrays will have fewer elements."
   ]
  },
  {
   "cell_type": "markdown",
   "id": "ac1b77e1-0acf-4405-b295-d58d1874e3e5",
   "metadata": {},
   "source": [
    "10. Explain the concepts of vectorization and broadcasting in NumPy. How do they contribute to efficient array \n",
    "operations?"
   ]
  },
  {
   "cell_type": "markdown",
   "id": "fe719745-576c-4a1c-86bf-5a2b80d2e9e3",
   "metadata": {},
   "source": [
    "Ans= Vectorization refers to the process of applying operations directly on entire arrays, avoiding explicit loops in Python. NumPy achieves \n",
    "this by performing operations at the C or Fortran level, which is much faster than Python's interpreted loops.\n",
    "\n",
    "Broadcasting\n",
    "Broadcasting is a method that allows NumPy to perform operations on arrays of different shapes. \n",
    "It automatically expands the smaller array to match the shape of the larger one without explicitly copying the data\n",
    "\n",
    "They Contribute to Efficiency:\n",
    "Vectorization:\n",
    "\n",
    "Speeds up computation by performing operations at the underlying C level.\n",
    "Avoids Python's slow loops, leading to significant performance gains for large arrays.\n",
    "Broadcasting:\n",
    "\n",
    "Minimizes memory usage by avoiding explicit data replication.\n",
    "Simplifies code by enabling operations on arrays with different shapes."
   ]
  },
  {
   "cell_type": "markdown",
   "id": "e4855e71-87c6-4122-9ef1-12b8c3904292",
   "metadata": {},
   "source": [
    "\n",
    "\n",
    "Practical Questions\n",
    "\n"
   ]
  },
  {
   "cell_type": "markdown",
   "id": "04133d8f-f8a5-44d7-9f98-8fabf740838f",
   "metadata": {},
   "source": [
    "1. Create a 3x3 NumPy array with random integers between 1 and 100. Then, interchange its rows and columns"
   ]
  },
  {
   "cell_type": "code",
   "execution_count": 2,
   "id": "425b73ba-a9a4-417c-935b-792d420c12ea",
   "metadata": {},
   "outputs": [],
   "source": [
    "import numpy as np"
   ]
  },
  {
   "cell_type": "code",
   "execution_count": 21,
   "id": "927cd722-7de2-430e-9400-eda59b22230c",
   "metadata": {},
   "outputs": [],
   "source": [
    "A=np.random.randint(1,100,(3,3))"
   ]
  },
  {
   "cell_type": "code",
   "execution_count": 22,
   "id": "7751066f-805c-4c54-bf6d-1d8ce223a2b5",
   "metadata": {},
   "outputs": [],
   "source": [
    "B=A.T"
   ]
  },
  {
   "cell_type": "code",
   "execution_count": 23,
   "id": "22f87536-5769-4732-81a2-1783ccf364ad",
   "metadata": {},
   "outputs": [
    {
     "data": {
      "text/plain": [
       "array([[60, 61, 74],\n",
       "       [75,  2, 67],\n",
       "       [52, 15, 34]])"
      ]
     },
     "execution_count": 23,
     "metadata": {},
     "output_type": "execute_result"
    }
   ],
   "source": [
    "A"
   ]
  },
  {
   "cell_type": "code",
   "execution_count": 24,
   "id": "f15852f5-22a6-4a98-a973-3968dbcc09c0",
   "metadata": {},
   "outputs": [
    {
     "data": {
      "text/plain": [
       "array([[60, 75, 52],\n",
       "       [61,  2, 15],\n",
       "       [74, 67, 34]])"
      ]
     },
     "execution_count": 24,
     "metadata": {},
     "output_type": "execute_result"
    }
   ],
   "source": [
    "B"
   ]
  },
  {
   "cell_type": "markdown",
   "id": "00ae9ee3-f7fd-4f42-9731-f08590360f95",
   "metadata": {},
   "source": [
    "2. Generate a 1D NumPy array with 10 elements. Reshape it into a 2x5 array, then into a 5x2 array"
   ]
  },
  {
   "cell_type": "code",
   "execution_count": 28,
   "id": "ca5d2e68-5934-46ad-8c98-d728fea9ba51",
   "metadata": {},
   "outputs": [],
   "source": [
    "a=np.arange(10)"
   ]
  },
  {
   "cell_type": "code",
   "execution_count": 29,
   "id": "781c8d53-4aa8-420f-bf8a-be21fbd4d6a2",
   "metadata": {},
   "outputs": [],
   "source": [
    "_a=a.reshape(2,5)"
   ]
  },
  {
   "cell_type": "code",
   "execution_count": 30,
   "id": "c069a2ab-4ebe-4ea4-a5cc-656b1a82f713",
   "metadata": {},
   "outputs": [],
   "source": [
    "_A=_a.reshape(5,2)"
   ]
  },
  {
   "cell_type": "markdown",
   "id": "32c59228-355c-46ab-832b-f4e03d774903",
   "metadata": {},
   "source": [
    "3. Create a 4x4 NumPy array with random float values. Add a border of zeros around it, resulting in a 6x6 array"
   ]
  },
  {
   "cell_type": "code",
   "execution_count": 34,
   "id": "833b4208-777a-4357-a7d8-1c6783e02b46",
   "metadata": {},
   "outputs": [],
   "source": [
    "a=np.random.rand(4,4)"
   ]
  },
  {
   "cell_type": "code",
   "execution_count": 35,
   "id": "d88bdab0-2914-4f00-b171-16f606afe818",
   "metadata": {},
   "outputs": [],
   "source": [
    "border=np.pad(a,pad_width=1,mode='constant',constant_values=0)"
   ]
  },
  {
   "cell_type": "code",
   "execution_count": 36,
   "id": "c2b8c1ff-b939-4472-b984-e93b0d55dd0e",
   "metadata": {},
   "outputs": [
    {
     "data": {
      "text/plain": [
       "array([[0.        , 0.        , 0.        , 0.        , 0.        ,\n",
       "        0.        ],\n",
       "       [0.        , 0.30872237, 0.0775789 , 0.95656704, 0.13258254,\n",
       "        0.        ],\n",
       "       [0.        , 0.59012482, 0.66955377, 0.4940176 , 0.06710874,\n",
       "        0.        ],\n",
       "       [0.        , 0.85086652, 0.81720331, 0.70899495, 0.70241167,\n",
       "        0.        ],\n",
       "       [0.        , 0.14014165, 0.0185987 , 0.72768145, 0.58753726,\n",
       "        0.        ],\n",
       "       [0.        , 0.        , 0.        , 0.        , 0.        ,\n",
       "        0.        ]])"
      ]
     },
     "execution_count": 36,
     "metadata": {},
     "output_type": "execute_result"
    }
   ],
   "source": [
    "border"
   ]
  },
  {
   "cell_type": "markdown",
   "id": "c5bc7683-95dd-4779-a7ae-1600aa588ae7",
   "metadata": {},
   "source": [
    "4. Using NumPy, create an array of integers from 10 to 60 with a step of 5"
   ]
  },
  {
   "cell_type": "code",
   "execution_count": 37,
   "id": "81b66027-5ca6-487d-8a99-ebedb1217e33",
   "metadata": {},
   "outputs": [],
   "source": [
    "a=np.arange(10,60,5)"
   ]
  },
  {
   "cell_type": "code",
   "execution_count": 38,
   "id": "dc86c736-7ce2-4578-a28d-4cf82cc36615",
   "metadata": {},
   "outputs": [
    {
     "data": {
      "text/plain": [
       "array([10, 15, 20, 25, 30, 35, 40, 45, 50, 55])"
      ]
     },
     "execution_count": 38,
     "metadata": {},
     "output_type": "execute_result"
    }
   ],
   "source": [
    "a"
   ]
  },
  {
   "cell_type": "markdown",
   "id": "37bcf49f-cc0d-42d0-a01b-602f5aa6d4a5",
   "metadata": {},
   "source": [
    "5. Create a NumPy array of strings ['python', 'numpy', 'pandas']. Apply different case transformations \n",
    "(uppercase, lowercase, title case, etc.) to each element."
   ]
  },
  {
   "cell_type": "code",
   "execution_count": 39,
   "id": "71e17245-0349-4696-be14-f17a8dd23640",
   "metadata": {},
   "outputs": [
    {
     "data": {
      "text/plain": [
       "array(['python', 'numpy', 'pandas'], dtype='<U6')"
      ]
     },
     "execution_count": 39,
     "metadata": {},
     "output_type": "execute_result"
    }
   ],
   "source": [
    "text=np.array(['python','numpy','pandas'])\n",
    "text"
   ]
  },
  {
   "cell_type": "code",
   "execution_count": 42,
   "id": "ed52b2b2-9a38-4fc6-8204-ae523fc83069",
   "metadata": {},
   "outputs": [],
   "source": [
    "upr=np.char.upper(text)\n",
    "lwr=np.char.lower(text)\n",
    "tle=np.char.title(text)"
   ]
  },
  {
   "cell_type": "markdown",
   "id": "03957dcb-0ba7-41e4-989d-73859053972e",
   "metadata": {},
   "source": [
    "6. Generate a NumPy array of words. Insert a space between each character of every word in the array."
   ]
  },
  {
   "cell_type": "code",
   "execution_count": 45,
   "id": "4ac91c11-3d96-433e-b17c-0852f7407f21",
   "metadata": {},
   "outputs": [],
   "source": [
    "aa=np.array(['hello','smit','fine'])"
   ]
  },
  {
   "cell_type": "code",
   "execution_count": 46,
   "id": "77a2bf37-dd70-4e79-a196-68923224c5c2",
   "metadata": {},
   "outputs": [
    {
     "data": {
      "text/plain": [
       "array(['h e l l o', 's m i t', 'f i n e'], dtype='<U9')"
      ]
     },
     "execution_count": 46,
     "metadata": {},
     "output_type": "execute_result"
    }
   ],
   "source": [
    "sp=np.char.join(' ',aa)\n",
    "sp"
   ]
  },
  {
   "cell_type": "code",
   "execution_count": null,
   "id": "b6e49b6a-10d4-4a87-b9c4-d04441c84fcb",
   "metadata": {},
   "outputs": [],
   "source": [
    "7. Create two 2D NumPy arrays and perform element-wise addition, subtraction, multiplication, and division."
   ]
  },
  {
   "cell_type": "code",
   "execution_count": 49,
   "id": "32629a98-5b29-4efc-ae3c-1c4f2fe8811a",
   "metadata": {},
   "outputs": [],
   "source": [
    "a=np.array([[1,2,3],\n",
    "          [4,5,6]])\n",
    "b=np.array([[7,8,9],\n",
    "            [1,3,4]])"
   ]
  },
  {
   "cell_type": "code",
   "execution_count": 52,
   "id": "dc3fd00e-5703-4895-b9dd-8172ab0406af",
   "metadata": {},
   "outputs": [],
   "source": [
    "c=a-b\n",
    "d=a*b\n",
    "e=a+b\n",
    "f=a/b"
   ]
  },
  {
   "cell_type": "code",
   "execution_count": null,
   "id": "9212e41b-5c9a-41ea-9035-b1c8970b943e",
   "metadata": {},
   "outputs": [],
   "source": [
    "8. Use NumPy to create a 5x5 identity matrix, then extract its diagonal elements."
   ]
  },
  {
   "cell_type": "code",
   "execution_count": 57,
   "id": "15e85583-d76b-4c21-a514-17d6f9948878",
   "metadata": {},
   "outputs": [
    {
     "data": {
      "text/plain": [
       "array([[1., 0., 0., 0., 0.],\n",
       "       [0., 1., 0., 0., 0.],\n",
       "       [0., 0., 1., 0., 0.],\n",
       "       [0., 0., 0., 1., 0.],\n",
       "       [0., 0., 0., 0., 1.]])"
      ]
     },
     "execution_count": 57,
     "metadata": {},
     "output_type": "execute_result"
    }
   ],
   "source": [
    "a=np.eye(5)\n",
    "a"
   ]
  },
  {
   "cell_type": "code",
   "execution_count": 58,
   "id": "f02b17e1-9fef-4bf4-b35a-661f7b13cce9",
   "metadata": {},
   "outputs": [
    {
     "data": {
      "text/plain": [
       "array([1., 1., 1., 1., 1.])"
      ]
     },
     "execution_count": 58,
     "metadata": {},
     "output_type": "execute_result"
    }
   ],
   "source": [
    "daigonal=np.diag(a)\n",
    "daigonal"
   ]
  },
  {
   "cell_type": "markdown",
   "id": "3a0df4aa-8549-44c7-9699-12785a1c6cd4",
   "metadata": {},
   "source": [
    "9. Generate a NumPy array of 100 random integers between 0 and 1000. Find and display all prime numbers in \n",
    "this array."
   ]
  },
  {
   "cell_type": "code",
   "execution_count": 59,
   "id": "640bc763-5073-4d5d-a1e4-6e6e39b7243e",
   "metadata": {},
   "outputs": [
    {
     "data": {
      "text/plain": [
       "array([541, 281, 756, 283, 377, 879, 135, 612, 658, 438, 120, 811, 581,\n",
       "       742, 663, 568, 263, 731,  14, 630, 849, 911, 149, 150, 923,  30,\n",
       "       181, 679, 217, 723, 861, 468, 563, 735, 866, 492, 459, 511, 857,\n",
       "       732, 157, 839, 170, 762, 280, 359, 995, 443, 791, 333,  97, 996,\n",
       "       734, 440, 829, 853, 647, 631, 977, 635, 779,  12, 336, 153, 404,\n",
       "       386, 499, 289, 318, 384, 443, 297, 871, 899, 524, 984, 849, 550,\n",
       "       585, 450, 885, 654, 136, 391, 654, 309, 954, 321, 903, 675, 719,\n",
       "       173,  48, 961, 426, 895, 344,  66, 140, 794])"
      ]
     },
     "execution_count": 59,
     "metadata": {},
     "output_type": "execute_result"
    }
   ],
   "source": [
    "aa=np.random.randint(0,1001,100)\n",
    "aa"
   ]
  },
  {
   "cell_type": "code",
   "execution_count": 60,
   "id": "df30d80e-845e-4869-bc4c-1a3b84f61030",
   "metadata": {},
   "outputs": [],
   "source": [
    "def prime(p):\n",
    "    if p<2:\n",
    "        return False\n",
    "    for i in range(2,int(np.sqrt(p))+1):\n",
    "        if p%i==0:\n",
    "            return False\n",
    "    return True"
   ]
  },
  {
   "cell_type": "code",
   "execution_count": 62,
   "id": "b36e9a58-8fdf-47e0-8a30-a0246b34d959",
   "metadata": {},
   "outputs": [
    {
     "data": {
      "text/plain": [
       "array([541, 281, 283, 811, 263, 911, 149, 181, 563, 857, 157, 839, 359,\n",
       "       443,  97, 829, 853, 647, 631, 977, 499, 443, 719, 173])"
      ]
     },
     "execution_count": 62,
     "metadata": {},
     "output_type": "execute_result"
    }
   ],
   "source": [
    "x=np.array([P for P in aa if prime(P)])\n",
    "x"
   ]
  },
  {
   "cell_type": "markdown",
   "id": "1497c087-1b01-4657-ba19-5f858f48df71",
   "metadata": {},
   "source": [
    "10. Create a NumPy array representing daily temperatures for a month. Calculate and display the weekly \n",
    "averages"
   ]
  },
  {
   "cell_type": "code",
   "execution_count": 70,
   "id": "57b973b6-a130-431a-a199-c919006368ca",
   "metadata": {},
   "outputs": [
    {
     "data": {
      "text/plain": [
       "array([22.42857143, 24.28571429, 23.85714286, 29.71428571])"
      ]
     },
     "execution_count": 70,
     "metadata": {},
     "output_type": "execute_result"
    }
   ],
   "source": [
    "w=np.random.randint(10,40,28)\n",
    "ww=w.reshape(4,7)\n",
    "W=np.mean(ww,axis=1)\n",
    "W"
   ]
  }
 ],
 "metadata": {
  "kernelspec": {
   "display_name": "Python 3 (ipykernel)",
   "language": "python",
   "name": "python3"
  },
  "language_info": {
   "codemirror_mode": {
    "name": "ipython",
    "version": 3
   },
   "file_extension": ".py",
   "mimetype": "text/x-python",
   "name": "python",
   "nbconvert_exporter": "python",
   "pygments_lexer": "ipython3",
   "version": "3.12.0"
  }
 },
 "nbformat": 4,
 "nbformat_minor": 5
}
