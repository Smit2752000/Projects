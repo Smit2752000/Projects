{
  "nbformat": 4,
  "nbformat_minor": 0,
  "metadata": {
    "colab": {
      "provenance": []
    },
    "kernelspec": {
      "name": "python3",
      "display_name": "Python 3"
    },
    "language_info": {
      "name": "python"
    }
  },
  "cells": [
    {
      "cell_type": "code",
      "execution_count": null,
      "metadata": {
        "colab": {
          "base_uri": "https://localhost:8080/"
        },
        "id": "aOndk5pe5ebL",
        "outputId": "65554b7f-8c4f-4c54-9a03-36d0021590ea"
      },
      "outputs": [
        {
          "output_type": "stream",
          "name": "stdout",
          "text": [
            "Requirement already satisfied: ipython-sql in /usr/local/lib/python3.11/dist-packages (0.5.0)\n",
            "Requirement already satisfied: sqlalchemy in /usr/local/lib/python3.11/dist-packages (2.0.37)\n",
            "Collecting mysql-connector-python\n",
            "  Downloading mysql_connector_python-9.1.0-cp311-cp311-manylinux_2_28_x86_64.whl.metadata (6.0 kB)\n",
            "Requirement already satisfied: prettytable in /usr/local/lib/python3.11/dist-packages (from ipython-sql) (3.12.0)\n",
            "Requirement already satisfied: ipython in /usr/local/lib/python3.11/dist-packages (from ipython-sql) (7.34.0)\n",
            "Requirement already satisfied: sqlparse in /usr/local/lib/python3.11/dist-packages (from ipython-sql) (0.5.3)\n",
            "Requirement already satisfied: six in /usr/local/lib/python3.11/dist-packages (from ipython-sql) (1.17.0)\n",
            "Requirement already satisfied: ipython-genutils in /usr/local/lib/python3.11/dist-packages (from ipython-sql) (0.2.0)\n",
            "Requirement already satisfied: greenlet!=0.4.17 in /usr/local/lib/python3.11/dist-packages (from sqlalchemy) (3.1.1)\n",
            "Requirement already satisfied: typing-extensions>=4.6.0 in /usr/local/lib/python3.11/dist-packages (from sqlalchemy) (4.12.2)\n",
            "Requirement already satisfied: setuptools>=18.5 in /usr/local/lib/python3.11/dist-packages (from ipython->ipython-sql) (75.1.0)\n",
            "Collecting jedi>=0.16 (from ipython->ipython-sql)\n",
            "  Downloading jedi-0.19.2-py2.py3-none-any.whl.metadata (22 kB)\n",
            "Requirement already satisfied: decorator in /usr/local/lib/python3.11/dist-packages (from ipython->ipython-sql) (4.4.2)\n",
            "Requirement already satisfied: pickleshare in /usr/local/lib/python3.11/dist-packages (from ipython->ipython-sql) (0.7.5)\n",
            "Requirement already satisfied: traitlets>=4.2 in /usr/local/lib/python3.11/dist-packages (from ipython->ipython-sql) (5.7.1)\n",
            "Requirement already satisfied: prompt-toolkit!=3.0.0,!=3.0.1,<3.1.0,>=2.0.0 in /usr/local/lib/python3.11/dist-packages (from ipython->ipython-sql) (3.0.48)\n",
            "Requirement already satisfied: pygments in /usr/local/lib/python3.11/dist-packages (from ipython->ipython-sql) (2.18.0)\n",
            "Requirement already satisfied: backcall in /usr/local/lib/python3.11/dist-packages (from ipython->ipython-sql) (0.2.0)\n",
            "Requirement already satisfied: matplotlib-inline in /usr/local/lib/python3.11/dist-packages (from ipython->ipython-sql) (0.1.7)\n",
            "Requirement already satisfied: pexpect>4.3 in /usr/local/lib/python3.11/dist-packages (from ipython->ipython-sql) (4.9.0)\n",
            "Requirement already satisfied: wcwidth in /usr/local/lib/python3.11/dist-packages (from prettytable->ipython-sql) (0.2.13)\n",
            "Requirement already satisfied: parso<0.9.0,>=0.8.4 in /usr/local/lib/python3.11/dist-packages (from jedi>=0.16->ipython->ipython-sql) (0.8.4)\n",
            "Requirement already satisfied: ptyprocess>=0.5 in /usr/local/lib/python3.11/dist-packages (from pexpect>4.3->ipython->ipython-sql) (0.7.0)\n",
            "Downloading mysql_connector_python-9.1.0-cp311-cp311-manylinux_2_28_x86_64.whl (34.4 MB)\n",
            "\u001b[2K   \u001b[90m━━━━━━━━━━━━━━━━━━━━━━━━━━━━━━━━━━━━━━━━\u001b[0m \u001b[32m34.4/34.4 MB\u001b[0m \u001b[31m30.9 MB/s\u001b[0m eta \u001b[36m0:00:00\u001b[0m\n",
            "\u001b[?25hDownloading jedi-0.19.2-py2.py3-none-any.whl (1.6 MB)\n",
            "\u001b[2K   \u001b[90m━━━━━━━━━━━━━━━━━━━━━━━━━━━━━━━━━━━━━━━━\u001b[0m \u001b[32m1.6/1.6 MB\u001b[0m \u001b[31m42.0 MB/s\u001b[0m eta \u001b[36m0:00:00\u001b[0m\n",
            "\u001b[?25hInstalling collected packages: mysql-connector-python, jedi\n",
            "Successfully installed jedi-0.19.2 mysql-connector-python-9.1.0\n"
          ]
        }
      ],
      "source": [
        "!pip install ipython-sql sqlalchemy mysql-connector-python"
      ]
    },
    {
      "cell_type": "code",
      "source": [
        "%load_ext sql"
      ],
      "metadata": {
        "id": "n-CIoXX66MdU"
      },
      "execution_count": null,
      "outputs": []
    },
    {
      "cell_type": "code",
      "source": [
        "%sql sqlite:///my_database.db"
      ],
      "metadata": {
        "id": "wO6RmkNz-Fgb"
      },
      "execution_count": null,
      "outputs": []
    },
    {
      "cell_type": "code",
      "source": [
        "#Q-1\n",
        "%%sql\n",
        "create table employees(\n",
        "  emp_id int primary key,\n",
        "  emp_name varchar(30) not null,\n",
        "  age int check(age>=18),\n",
        "  email varchar(30) unique,\n",
        "  salary decimal default 30000\n",
        ");"
      ],
      "metadata": {
        "colab": {
          "base_uri": "https://localhost:8080/"
        },
        "cellView": "code",
        "id": "02PWzLmb-Fci",
        "outputId": "77794eb6-d582-41ae-b677-087141c25b64"
      },
      "execution_count": null,
      "outputs": [
        {
          "output_type": "stream",
          "name": "stdout",
          "text": [
            " * sqlite:///my_database.db\n",
            "Done.\n"
          ]
        },
        {
          "output_type": "execute_result",
          "data": {
            "text/plain": [
              "[]"
            ]
          },
          "metadata": {},
          "execution_count": 10
        }
      ]
    },
    {
      "cell_type": "code",
      "source": [
        "#Q-2\n",
        "Constraints are rules that ensure data integrity in a database. They ensure that the data is\n",
        "accurate, consistent, and reliable by preventing invalid or inconsistent data from being entered.\n",
        "NOT NULL: Ensures a column cannot have NULL values.\n",
        "Example: emp_name TEXT NOT NULL\n",
        "PRIMARY KEY: Uniquely identifies each record and cannot be NULL.\n",
        "Example: emp_id INTEGER PRIMARY KEY\n",
        "UNIQUE: Ensures all values in a column are unique.\n",
        "Example: email TEXT UNIQUE\n",
        "FOREIGN KEY: Ensures referential integrity by linking columns in different tables.\n",
        "Example: FOREIGN KEY (dept_id) REFERENCES departments (dept_id)\n",
        "CHECK: Ensures data satisfies a condition.\n",
        "Example: age INTEGER CHECK(age >= 18)\n",
        "DEFAULT: Provides a default value if none is specified.\n",
        "Example: salary DECIMAL DEFAULT 30000"
      ],
      "metadata": {
        "id": "zLJB6EwH-FY9"
      },
      "execution_count": null,
      "outputs": []
    },
    {
      "cell_type": "code",
      "source": [
        "#Q-3\n",
        "To ensure a column always has a value and doesn't allow NULL entries, ensuring data consistency\n",
        "And a primary key cannot contain NULL because it must uniquely identify each record, and NULL is not unique."
      ],
      "metadata": {
        "id": "Xqv_HkWw-FP1"
      },
      "execution_count": null,
      "outputs": []
    },
    {
      "cell_type": "code",
      "source": [
        "#Q-4\n",
        "-To add a constraint to an existing table, you can use the ALTER TABLE statement with the ADD CONSTRAINT clause.\n",
        "ALTER TABLE table_name\n",
        "ADD CONSTRAINT constraint_name constraint_type;\n",
        "-To remove a constraint from an existing table, you can use the ALTER TABLE statement with the DROP CONSTRAINT clause.\n",
        "ALTER TABLE table_name\n",
        "DROP CONSTRAINT constraint_name;"
      ],
      "metadata": {
        "id": "5hu5a0Hg-FAh"
      },
      "execution_count": null,
      "outputs": []
    },
    {
      "cell_type": "code",
      "source": [
        "#Q-5\n",
        "When you attempt to insert, update, or delete data in a way that violates a constraint, the database will reject\n",
        "the operation and return an error. This ensures data integrity is maintained by preventing invalid or inconsistent data.\n",
        "Consequences for Each Operation:\n",
        "Insert:\n",
        "If you try to insert a row with data that violates a constraint (e.g., a NULL value in a NOT NULL column, or a duplicate in a UNIQUE column), the insert operation will fail.\n",
        "Update:\n",
        "If you try to update data in a way that violates constraints (e.g., changing a primary key to NULL or duplicating a UNIQUE value), the update will fail.\n",
        "Delete:\n",
        "If you try to delete a row that is referenced by another table's foreign key (without handling cascading effects), the delete will fail due to referential integrity violation."
      ],
      "metadata": {
        "id": "3vl_JO6l-AnL"
      },
      "execution_count": null,
      "outputs": []
    },
    {
      "cell_type": "code",
      "source": [
        "#Q-6\n",
        "%%sql\n",
        "create table products(\n",
        "  product_id int,\n",
        "  product_name varchar(50),\n",
        "  price decimal(10,2)\n",
        ");"
      ],
      "metadata": {
        "colab": {
          "base_uri": "https://localhost:8080/"
        },
        "id": "xN-srOgNV4v_",
        "outputId": "f673fc52-f722-41fe-b618-e55f3e85e543"
      },
      "execution_count": null,
      "outputs": [
        {
          "output_type": "stream",
          "name": "stdout",
          "text": [
            " * sqlite:///my_database.db\n",
            "Done.\n"
          ]
        },
        {
          "output_type": "execute_result",
          "data": {
            "text/plain": [
              "[]"
            ]
          },
          "metadata": {},
          "execution_count": 11
        }
      ]
    },
    {
      "cell_type": "code",
      "source": [
        "#as we know sqlite does not support direct modification so we need to create new table and rename it."
      ],
      "metadata": {
        "id": "0wLTJFuCV4s9"
      },
      "execution_count": null,
      "outputs": []
    },
    {
      "cell_type": "code",
      "source": [
        "%%sql\n",
        "create table products_new(\n",
        "  product_id int primary key,\n",
        "  product_name varchar(50),\n",
        "  price decimal(10,2) default 50.00\n",
        ");"
      ],
      "metadata": {
        "colab": {
          "base_uri": "https://localhost:8080/"
        },
        "id": "fGn4pM44V4qX",
        "outputId": "5e754f98-210d-481c-8027-82199854c89b"
      },
      "execution_count": null,
      "outputs": [
        {
          "output_type": "stream",
          "name": "stdout",
          "text": [
            " * sqlite:///my_database.db\n",
            "Done.\n"
          ]
        },
        {
          "output_type": "execute_result",
          "data": {
            "text/plain": [
              "[]"
            ]
          },
          "metadata": {},
          "execution_count": 16
        }
      ]
    },
    {
      "cell_type": "code",
      "source": [
        "%%sql\n",
        "drop table products;"
      ],
      "metadata": {
        "colab": {
          "base_uri": "https://localhost:8080/"
        },
        "id": "zWioOE6zV4ns",
        "outputId": "b30e9443-42bc-4934-b7d5-a14088c0df50"
      },
      "execution_count": null,
      "outputs": [
        {
          "output_type": "stream",
          "name": "stdout",
          "text": [
            " * sqlite:///my_database.db\n",
            "Done.\n"
          ]
        },
        {
          "output_type": "execute_result",
          "data": {
            "text/plain": [
              "[]"
            ]
          },
          "metadata": {},
          "execution_count": 20
        }
      ]
    },
    {
      "cell_type": "code",
      "source": [
        "%%sql\n",
        "alter table products_new rename to products;"
      ],
      "metadata": {
        "colab": {
          "base_uri": "https://localhost:8080/"
        },
        "id": "LPglD8PbV4lS",
        "outputId": "629bca0f-051c-4d82-e043-c05f5ffadcc5"
      },
      "execution_count": null,
      "outputs": [
        {
          "output_type": "stream",
          "name": "stdout",
          "text": [
            " * sqlite:///my_database.db\n",
            "Done.\n"
          ]
        },
        {
          "output_type": "execute_result",
          "data": {
            "text/plain": [
              "[]"
            ]
          },
          "metadata": {},
          "execution_count": 21
        }
      ]
    },
    {
      "cell_type": "code",
      "source": [
        "#Q-7\n",
        "#as mention in question there is two table and we need  student_name and class_name using inner join.\n",
        "%%sql\n",
        "select * from studets\n",
        "inner join classes on students.class_id = classes.class_id; # im not run this cell as show only steps of inner join."
      ],
      "metadata": {
        "id": "2fyu89ouV4c2"
      },
      "execution_count": null,
      "outputs": []
    },
    {
      "cell_type": "code",
      "source": [
        "#Q-8\n",
        "%%sql\n",
        "select orders.order_id,customers.customer_name,prodcuts.product_name\n",
        "from customers\n",
        "inner join orders on\n",
        "customers.customer.id=orders.customer_id\n",
        "left join products on\n",
        "orders.order_id=products.order_id;#this is the correct code that we required .it will give order_id, customer_name, and product_name\n"
      ],
      "metadata": {
        "id": "SuXJ8HQhV4Z5"
      },
      "execution_count": null,
      "outputs": []
    },
    {
      "cell_type": "code",
      "source": [
        "#Q-9\n",
        "%%sql\n",
        "select products.prodcut_name,\n",
        "sum(sales.amount) as total_sales_amount\n",
        "from products\n",
        "left join sales on products.product_id=sales.product_id\n",
        "group by products.product_name;"
      ],
      "metadata": {
        "id": "RPq4Ej14V4W6"
      },
      "execution_count": null,
      "outputs": []
    },
    {
      "cell_type": "code",
      "source": [
        "#Q-10\n",
        "%%sql\n",
        "SELECT\n",
        "    orders.order_id,\n",
        "    customers.customer_name,\n",
        "    SUM(order_details.quantity) AS total_quantity\n",
        "FROM\n",
        "    orders\n",
        "INNER JOIN\n",
        "    customers ON orders.customer_id = customers.customer_id\n",
        "INNER JOIN\n",
        "    order_details ON orders.order_id = order_details.order_id\n",
        "GROUP BY\n",
        "    orders.order_id, customers.customer_name;"
      ],
      "metadata": {
        "id": "AzL_Tcp4V4Uu"
      },
      "execution_count": null,
      "outputs": []
    },
    {
      "cell_type": "code",
      "source": [
        "#SQL Commands"
      ],
      "metadata": {
        "id": "ZeatYXKmV4H8"
      },
      "execution_count": null,
      "outputs": []
    },
    {
      "cell_type": "code",
      "source": [
        "#1-Identify the primary keys and foreign keys in maven movies db. Discuss the differences"
      ],
      "metadata": {
        "id": "0Orf5FkIYrqk"
      },
      "execution_count": null,
      "outputs": []
    },
    {
      "cell_type": "code",
      "source": [
        "%%sql\n",
        "--primary key\n",
        "SELECT\n",
        "    TABLE_NAME AS table_name,\n",
        "    COLUMN_NAME AS primary_key_column\n",
        "FROM\n",
        "    INFORMATION_SCHEMA.KEY_COLUMN_USAGE\n",
        "WHERE\n",
        "    CONSTRAINT_NAME = 'PRIMARY'\n",
        "    AND TABLE_SCHEMA = 'maven_movies';\n",
        "\n",
        "--foreign key\n",
        "SELECT\n",
        "    TABLE_NAME AS table_name,\n",
        "    COLUMN_NAME AS foreign_key_column,\n",
        "    REFERENCED_TABLE_NAME AS referenced_table,\n",
        "    REFERENCED_COLUMN_NAME AS referenced_column\n",
        "FROM\n",
        "    INFORMATION_SCHEMA.KEY_COLUMN_USAGE\n",
        "WHERE\n",
        "    REFERENCED_TABLE_NAME IS NOT NULL\n",
        "    AND TABLE_SCHEMA = 'maven_movies';\n",
        "/* Differences Between Primary and Foreign Keys\n",
        "Purpose: Primary Key uniquely identifies rows; Foreign Key links tables.\n",
        "Uniqueness: Primary Key values are unique; Foreign Key values can repeat.\n",
        "Nullability: Primary Key cannot have NULL; Foreign Key can have NULL.\n",
        "Integrity: Primary Key ensures entity integrity; Foreign Key ensures referential integrity.\n",
        "Multiplicity: One Primary Key per table; multiple Foreign Keys allowed.*/"
      ],
      "metadata": {
        "id": "W7hT7SjtYrk3"
      },
      "execution_count": null,
      "outputs": []
    },
    {
      "cell_type": "code",
      "source": [
        "#2- List all details of actors\n",
        "%%sql\n",
        "SELECT *\n",
        "FROM actors;"
      ],
      "metadata": {
        "id": "jXU_FUjAYriZ"
      },
      "execution_count": null,
      "outputs": []
    },
    {
      "cell_type": "code",
      "source": [
        "#3 -List all customer information from DB.\n",
        "%%sql\n",
        "SELECT *\n",
        "FROM customers;"
      ],
      "metadata": {
        "id": "XL0qS004Yrfx"
      },
      "execution_count": null,
      "outputs": []
    },
    {
      "cell_type": "code",
      "source": [
        "#4 -List different countries.\n",
        "%%sql\n",
        "SELECT DISTINCT country\n",
        "FROM country;"
      ],
      "metadata": {
        "id": "taGnOqAwYrde"
      },
      "execution_count": null,
      "outputs": []
    },
    {
      "cell_type": "code",
      "source": [
        "#5 -Display all active customers.\n",
        "%%sql\n",
        "SELECT *\n",
        "FROM customers\n",
        "WHERE active = 1;"
      ],
      "metadata": {
        "id": "oHF1MnhQYrak"
      },
      "execution_count": null,
      "outputs": []
    },
    {
      "cell_type": "code",
      "source": [
        "#6-List of all rental IDs for customer with ID 1.\n",
        "%%sql\n",
        "SELECT rental_id\n",
        "FROM rentals\n",
        "WHERE customer_id = 1;"
      ],
      "metadata": {
        "id": "8AF7RWduYrYF"
      },
      "execution_count": null,
      "outputs": []
    },
    {
      "cell_type": "code",
      "source": [
        "#7 - Display all the films whose rental duration is greater than 5\n",
        "%%sql\n",
        "SELECT *\n",
        "FROM films\n",
        "WHERE rental_duration > 5;"
      ],
      "metadata": {
        "id": "XxIp5ERMYrVd"
      },
      "execution_count": null,
      "outputs": []
    },
    {
      "cell_type": "code",
      "source": [
        "#8 - List the total number of films whose replacement cost is greater than $15 and less than $20\n",
        "%%sql\n",
        "SELECT COUNT(*)\n",
        "FROM films\n",
        "WHERE replacement_cost BETWEEN 15 AND 20;"
      ],
      "metadata": {
        "id": "OIXgn2YvYrSu"
      },
      "execution_count": null,
      "outputs": []
    },
    {
      "cell_type": "code",
      "source": [
        "#9 - Display the count of unique first names of actors.\n",
        "%%sql\n",
        "SELECT COUNT(DISTINCT first_name)\n",
        "FROM actors;"
      ],
      "metadata": {
        "id": "H2lZy3OIYrQH"
      },
      "execution_count": null,
      "outputs": []
    },
    {
      "cell_type": "code",
      "source": [
        "#10- Display the first 10 records from the customer table\n",
        "%%sql\n",
        "SELECT *\n",
        "FROM customers\n",
        "LIMIT 10;"
      ],
      "metadata": {
        "id": "FvL6bfaTYrNo"
      },
      "execution_count": null,
      "outputs": []
    },
    {
      "cell_type": "code",
      "source": [
        "#11 - Display the first 3 records from the customer table whose first name starts with ‘b’.\n",
        "%%sql\n",
        "SELECT *\n",
        "FROM customers\n",
        "WHERE first_name LIKE 'b%'\n",
        "LIMIT 3;"
      ],
      "metadata": {
        "id": "XT-AnOKIYrHo"
      },
      "execution_count": null,
      "outputs": []
    },
    {
      "cell_type": "code",
      "source": [
        "#12 -Display the names of the first 5 movies which are rated as ‘G’.\n",
        "%%sql\n",
        "SELECT title\n",
        "FROM films\n",
        "WHERE rating = 'G'\n",
        "LIMIT 5;"
      ],
      "metadata": {
        "id": "p62VMIpbYq6C"
      },
      "execution_count": null,
      "outputs": []
    },
    {
      "cell_type": "code",
      "source": [
        "#13-Find all customers whose first name starts with \"a\".\n",
        "%%sql\n",
        "SELECT *\n",
        "FROM customers\n",
        "WHERE first_name LIKE 'a%';"
      ],
      "metadata": {
        "id": "TJgiOiXdI8dQ"
      },
      "execution_count": null,
      "outputs": []
    },
    {
      "cell_type": "code",
      "source": [
        "#14- Find all customers whose first name ends with \"a\".\n",
        "%%sql\n",
        "SELECT *\n",
        "FROM customers\n",
        "WHERE first_name LIKE '%a';"
      ],
      "metadata": {
        "id": "WR8LGS7FI8bs"
      },
      "execution_count": null,
      "outputs": []
    },
    {
      "cell_type": "code",
      "source": [
        "#15- Display the list of first 4 cities which start and end with ‘a’\n",
        "%%sql\n",
        "SELECT *\n",
        "FROM cities\n",
        "WHERE city LIKE 'a%a'\n",
        "LIMIT 4;"
      ],
      "metadata": {
        "id": "REA7Fsn-I8aE"
      },
      "execution_count": null,
      "outputs": []
    },
    {
      "cell_type": "code",
      "source": [
        "#16- Find all customers whose first name have \"NI\" in any position\n",
        "%%sql\n",
        "SELECT *\n",
        "FROM customers\n",
        "WHERE first_name LIKE '%NI%';"
      ],
      "metadata": {
        "id": "750C3p1kI8YT"
      },
      "execution_count": null,
      "outputs": []
    },
    {
      "cell_type": "code",
      "source": [
        "#17- Find all customers whose first name have \"r\" in the second position .\n",
        "%%sql\n",
        "SELECT *\n",
        "FROM customers\n",
        "WHERE first_name LIKE '_r%';"
      ],
      "metadata": {
        "id": "j67SGeE4I8Vd"
      },
      "execution_count": null,
      "outputs": []
    },
    {
      "cell_type": "code",
      "source": [
        "#18 - Find all customers whose first name starts with \"a\" and are at least 5 characters in length\n",
        "%%sql\n",
        "SELECT *\n",
        "FROM customers\n",
        "WHERE first_name LIKE 'a%' AND LENGTH(first_name) >= 5;"
      ],
      "metadata": {
        "id": "TKJ9mdT1I8Th"
      },
      "execution_count": null,
      "outputs": []
    },
    {
      "cell_type": "code",
      "source": [
        "#19- Find all customers whose first name starts with \"a\" and ends with \"o\".\n",
        "%%sql\n",
        "SELECT *\n",
        "FROM customers\n",
        "WHERE first_name LIKE 'a%o';"
      ],
      "metadata": {
        "id": "I5lol-k2I8R-"
      },
      "execution_count": null,
      "outputs": []
    },
    {
      "cell_type": "code",
      "source": [
        "#20 - Get the films with pg and pg-13 rating using IN operator\n",
        "%%sql\n",
        "SELECT *\n",
        "FROM films\n",
        "WHERE rating IN ('PG', 'PG-13');"
      ],
      "metadata": {
        "id": "virFcmeHI8Qb"
      },
      "execution_count": null,
      "outputs": []
    },
    {
      "cell_type": "code",
      "source": [
        "#21 - Get the films with length between 50 to 100 using between operator.\n",
        "%%sql\n",
        "SELECT *\n",
        "FROM films\n",
        "WHERE length BETWEEN 50 AND 100;"
      ],
      "metadata": {
        "id": "Nh22MxwxI8O7"
      },
      "execution_count": null,
      "outputs": []
    },
    {
      "cell_type": "code",
      "source": [
        "#22 - Get the top 50 actors using limit operator.\n",
        "%%sql\n",
        "SELECT *\n",
        "FROM actors\n",
        "LIMIT 50;"
      ],
      "metadata": {
        "id": "QdYdPeIZI8Nb"
      },
      "execution_count": null,
      "outputs": []
    },
    {
      "cell_type": "code",
      "source": [
        "#23 - Get the distinct film ids from inventory table\n",
        "%%sql\n",
        "SELECT DISTINCT film_id\n",
        "FROM inventory;"
      ],
      "metadata": {
        "id": "RYwYNh_JI8Lp"
      },
      "execution_count": null,
      "outputs": []
    },
    {
      "cell_type": "code",
      "source": [
        "#Functions\n",
        "\n",
        "#Basic Aggregate Functions"
      ],
      "metadata": {
        "id": "ZWnnlXSiI8KL"
      },
      "execution_count": null,
      "outputs": []
    },
    {
      "cell_type": "code",
      "source": [
        "#1 Retrieve the total number of rentals made in the Sakila database.\n",
        "%%sql\n",
        "SELECT COUNT(*) AS total_rentals\n",
        "FROM rentals;"
      ],
      "metadata": {
        "id": "j17d1LM3I8Ik"
      },
      "execution_count": null,
      "outputs": []
    },
    {
      "cell_type": "code",
      "source": [
        "#2 Find the average rental duration (in days) of movies rented from the Sakila database\n",
        "%%sql\n",
        "SELECT AVG(DATEDIFF(return_date, rental_date)) AS avg_rental_duration\n",
        "FROM rentals;"
      ],
      "metadata": {
        "id": "hqa5mlbpI8Ae"
      },
      "execution_count": null,
      "outputs": []
    },
    {
      "cell_type": "code",
      "source": [
        "#String Functions\n",
        "#3 Display the first name and last name of customers in uppercase\n",
        "%%sql\n",
        "SELECT UPPER(first_name) AS first_name, UPPER(last_name) AS last_name\n",
        "FROM customers;"
      ],
      "metadata": {
        "id": "iBwUGe04I7-e"
      },
      "execution_count": null,
      "outputs": []
    },
    {
      "cell_type": "code",
      "source": [
        "#4 Extract the month from the rental date and display it alongside the rental ID\n",
        "%%sql\n",
        "SELECT rental_id, MONTH(rental_date) AS rental_month\n",
        "FROM rentals;"
      ],
      "metadata": {
        "id": "6WCdhcwEI71D"
      },
      "execution_count": null,
      "outputs": []
    },
    {
      "cell_type": "code",
      "source": [
        "#GROUP BY\n",
        "#5 Retrieve the count of rentals for each customer (display customer ID and the count of rentals).\n",
        "%%sql\n",
        "SELECT customer_id, COUNT(*) AS rental_count\n",
        "FROM rentals\n",
        "GROUP BY customer_id;"
      ],
      "metadata": {
        "id": "qGVLRoa4I7x_"
      },
      "execution_count": null,
      "outputs": []
    },
    {
      "cell_type": "code",
      "source": [
        "#6 Find the total revenue generated by each store\n",
        "%%sql\n",
        "SELECT store_id, SUM(amount) AS total_revenue\n",
        "FROM payments\n",
        "GROUP BY store_id;"
      ],
      "metadata": {
        "id": "AMSsJDgeI7vX"
      },
      "execution_count": null,
      "outputs": []
    },
    {
      "cell_type": "code",
      "source": [
        "#7 Determine the total number of rentals for each category of movies\n",
        "%%sql\n",
        "SELECT category_id, COUNT(*) AS total_rentals\n",
        "FROM rentals\n",
        "GROUP BY category_id;"
      ],
      "metadata": {
        "id": "pV9hLZBVI7so"
      },
      "execution_count": null,
      "outputs": []
    },
    {
      "cell_type": "code",
      "source": [
        "#8 Find the average rental rate of movies in each language.\n",
        "%%sql\n",
        "SELECT language_id, AVG(rental_rate) AS avg_rental_rate\n",
        "FROM films\n",
        "GROUP BY language_id;"
      ],
      "metadata": {
        "id": "xzcbN7FsI7pl"
      },
      "execution_count": null,
      "outputs": []
    },
    {
      "cell_type": "code",
      "source": [
        "#Joins\n",
        "#9 Display the title of the movie, customer s first name, and last name who rented it.\n",
        "%%sql\n",
        "SELECT films.title, customers.first_name, customers.last_name\n",
        "FROM rentals\n",
        "JOIN films ON rentals.film_id = films.film_id\n",
        "JOIN customers ON rentals.customer_id = customers.customer_id;"
      ],
      "metadata": {
        "id": "qCNZBMKQI7mz"
      },
      "execution_count": null,
      "outputs": []
    },
    {
      "cell_type": "code",
      "source": [
        "#10 Retrieve the names of all actors who have appeared in the film \"Gone with the Wind\".\n",
        "%%sql\n",
        "SELECT actors.first_name, actors.last_name\n",
        "FROM actors\n",
        "JOIN film_actor ON actors.actor_id = film_actor.actor_id\n",
        "JOIN films ON film_actor.film_id = films.film"
      ],
      "metadata": {
        "id": "wu8We1vGbvi1"
      },
      "execution_count": null,
      "outputs": []
    },
    {
      "cell_type": "code",
      "source": [
        "#11 Retrieve the customer names along with the total amount they've spent on rentals.\n",
        "%%sql\n",
        "SELECT customers.first_name, customers.last_name, SUM(payments.amount) AS total_spent\n",
        "FROM customers\n",
        "JOIN payments ON customers.customer_id = payments.customer_id\n",
        "GROUP BY customers.customer_id;"
      ],
      "metadata": {
        "id": "6v0klDTGI5wO"
      },
      "execution_count": null,
      "outputs": []
    },
    {
      "cell_type": "code",
      "source": [
        "#12 List the titles of movies rented by each customer in a particular city (e.g., 'London').\n",
        "%%sql\n",
        "SELECT films.title, customers.first_name, customers.last_name\n",
        "FROM rentals\n",
        "JOIN films ON rentals.film_id = films.film_id\n",
        "JOIN customers ON rentals.customer_id = customers.customer"
      ],
      "metadata": {
        "id": "1LFNq01SI5t5"
      },
      "execution_count": null,
      "outputs": []
    },
    {
      "cell_type": "code",
      "source": [
        "#Advanced Joins and GROUP BY\n",
        "#13 Display the top 5 rented movies along with the number of times they've been rented.\n",
        "%%sql\n",
        "SELECT films.title, COUNT(*) AS rental_count\n",
        "FROM rentals\n",
        "JOIN films ON rentals.film_id = films.film_id\n",
        "GROUP BY films.film_id\n",
        "ORDER BY rental_count DESC\n",
        "LIMIT 5;"
      ],
      "metadata": {
        "id": "YlsvVX9ZI5rU"
      },
      "execution_count": null,
      "outputs": []
    },
    {
      "cell_type": "code",
      "source": [
        "#14 Determine the customers who have rented movies from both stores (store ID 1 and store ID 2).\n",
        "%%sql\n",
        "SELECT customers.first_name, customers.last_name\n",
        "FROM customers\n",
        "JOIN rentals ON customers.customer_id = rentals.customer_id\n",
        "WHERE rentals.store_id IN (1, 2)\n",
        "GROUP BY customers.customer"
      ],
      "metadata": {
        "id": "BP6hhJTdI5oi"
      },
      "execution_count": null,
      "outputs": []
    },
    {
      "cell_type": "code",
      "source": [
        "#Windows Function\n",
        "#1. Rank the customers based on the total amount they've spent on rentals\n",
        "%%sql\n",
        "SELECT customers.first_name, customers.last_name, SUM(payments.amount) AS total_spent,\n",
        "       RANK() OVER (ORDER BY SUM(payments.amount) DESC) AS customer_rank\n",
        "FROM customers\n",
        "JOIN payments ON customers.customer_id = payments.customer_id\n",
        "GROUP BY customers"
      ],
      "metadata": {
        "id": "3rpkTjf6I5jb"
      },
      "execution_count": null,
      "outputs": []
    },
    {
      "cell_type": "code",
      "source": [
        "#2. Calculate the cumulative revenue generated by each film over time.\n",
        "%%sql\n",
        "SELECT\n",
        "    film.film_id,\n",
        "    film.title,\n",
        "    payment.payment_date,\n",
        "    SUM(payment.amount) OVER (PARTITION BY film.film_id ORDER BY payment.payment_date) AS cumulative_revenue\n",
        "FROM film\n",
        "JOIN inventory ON film.film_id = inventory.film_id\n",
        "JOIN rental ON inventory.inventory_id = rental.inventory_id\n",
        "JOIN payment ON rental.rental_id = payment.rental_id\n",
        "ORDER BY film.film_id, payment.payment_date;"
      ],
      "metadata": {
        "id": "olYHZf2wcwTT"
      },
      "execution_count": null,
      "outputs": []
    },
    {
      "cell_type": "code",
      "source": [
        "#3. Determine the average rental duration for each film, considering films with similar lengths.\n",
        "%%sql\n",
        "SELECT\n",
        "    film.length AS film_length,\n",
        "    film.film_id,\n",
        "    film.title,\n",
        "    AVG(DATEDIFF(rental.return_date, rental.rental_date)) AS avg_rental_duration\n",
        "FROM film\n",
        "JOIN inventory ON film.film_id = inventory.film_id\n",
        "JOIN rental ON inventory.inventory_id = rental.inventory_id\n",
        "WHERE rental.return_date IS NOT NULL\n",
        "GROUP BY film.length, film.film_id, film.title\n",
        "ORDER BY film.length, avg_rental_duration DESC;"
      ],
      "metadata": {
        "id": "X3CtO63JcwMZ"
      },
      "execution_count": null,
      "outputs": []
    },
    {
      "cell_type": "code",
      "source": [
        "#4. Identify the top 3 films in each category based on their rental counts\n",
        "%%sql\n",
        "SELECT\n",
        "    category.name AS category_name,\n",
        "    film.film_id,\n",
        "    film.title,\n",
        "    COUNT(rental.rental_id) AS rental_count,\n",
        "    RANK() OVER (PARTITION BY category.name ORDER BY COUNT(rental.rental_id) DESC) AS rank_in_category\n",
        "FROM film\n",
        "JOIN film_category ON film.film_id = film_category.film_id\n",
        "JOIN category ON film_category.category_id = category.category_id\n",
        "JOIN inventory ON film.film_id = inventory.film_id\n",
        "JOIN rental ON inventory.inventory_id = rental.inventory_id\n",
        "GROUP BY category.name, film.film_id, film.title\n",
        "HAVING RANK() OVER (PARTITION BY category.name ORDER BY COUNT(rental.rental_id) DESC) <= 3\n",
        "ORDER BY category_name, rank_in_category;"
      ],
      "metadata": {
        "id": "o_cmX-EycwFD"
      },
      "execution_count": null,
      "outputs": []
    },
    {
      "cell_type": "code",
      "source": [
        "#5. Calculate the difference in rental counts between each customer's total rentals and the average rentals across all customers\n",
        "%%sql\n",
        "SELECT\n",
        "    customer.customer_id,\n",
        "    customer.first_name,\n",
        "    customer.last_name,\n",
        "    COUNT(rental.rental_id) AS customer_rental_count,\n",
        "    AVG(COUNT(rental.rental_id)) OVER () AS avg_rental_count,\n",
        "    COUNT(rental.rental_id) - AVG(COUNT(rental.rental_id)) OVER () AS rental_count_difference\n",
        "FROM customer\n",
        "JOIN rental ON customer.customer_id = rental.customer_id\n",
        "GROUP BY customer.customer_id, customer.first_name, customer.last_name\n",
        "ORDER BY rental_count_difference DESC;"
      ],
      "metadata": {
        "id": "35r9LJbCcv2h"
      },
      "execution_count": null,
      "outputs": []
    },
    {
      "cell_type": "code",
      "source": [
        "#6. Find the monthly revenue trend for the entire rental store over time.\n",
        "%%sql\n",
        "SELECT\n",
        "    DATE_FORMAT(payment.payment_date, '%Y-%m') AS month,\n",
        "    SUM(payment.amount) AS monthly_revenue\n",
        "FROM payment\n",
        "GROUP BY month\n",
        "ORDER BY month;"
      ],
      "metadata": {
        "id": "FAbp2ixzhCiB"
      },
      "execution_count": null,
      "outputs": []
    },
    {
      "cell_type": "code",
      "source": [
        "#7. Identify the customers whose total spending on rentals falls within the top 20% of all customers.\n",
        "%%sql\n",
        "WITH CustomerSpending AS (\n",
        "    SELECT\n",
        "        customer_id,\n",
        "        SUM(rental_amount) AS total_spending\n",
        "    FROM\n",
        "        rentals\n",
        "    GROUP BY\n",
        "        customer_id\n",
        ")\n",
        "SELECT\n",
        "    customer_id,\n",
        "    total_spending\n",
        "FROM (\n",
        "    SELECT\n",
        "        customer_id,\n",
        "        total_spending,\n",
        "        NTILE(5) OVER (ORDER BY total_spending DESC) AS spending_quantile\n",
        "    FROM\n",
        "        CustomerSpending\n",
        ") RankedSpending\n",
        "WHERE\n",
        "    spending_quantile = 1; -- Top 20%"
      ],
      "metadata": {
        "id": "CxXmYCTZhCfE"
      },
      "execution_count": null,
      "outputs": []
    },
    {
      "cell_type": "code",
      "source": [
        "#8. Calculate the running total of rentals per category, ordered by rental count.\n",
        "%%sql\n",
        "SELECT\n",
        "    category_id,\n",
        "    COUNT(rental_id) AS rental_count,\n",
        "    SUM(COUNT(rental_id)) OVER (PARTITION BY category_id ORDER BY COUNT(rental_id)) AS running_total\n",
        "FROM\n",
        "    rentals\n",
        "GROUP BY\n",
        "    category_id\n",
        "ORDER BY\n",
        "    category_id, rental_count;"
      ],
      "metadata": {
        "id": "yklwphY2hCYj"
      },
      "execution_count": null,
      "outputs": []
    },
    {
      "cell_type": "code",
      "source": [
        "#9. Find the films that have been rented less than the average rental count for their respective categories.\n",
        "%%sql\n",
        "WITH FilmRentalCounts AS (\n",
        "    SELECT\n",
        "        film_id,\n",
        "        category_id,\n",
        "        COUNT(rental_id) AS rental_count\n",
        "    FROM\n",
        "        rentals\n",
        "    GROUP BY\n",
        "        film_id, category_id\n",
        "),\n",
        "CategoryAverages AS (\n",
        "    SELECT\n",
        "        film_id,\n",
        "        category_id,\n",
        "        rental_count,\n",
        "        AVG(rental_count) OVER (PARTITION BY category_id) AS avg_rental_count\n",
        "    FROM\n",
        "        FilmRentalCounts\n",
        ")\n",
        "SELECT\n",
        "    film_id,\n",
        "    category_id,\n",
        "    rental_count,\n",
        "    avg_rental_count\n",
        "FROM\n",
        "    CategoryAverages\n",
        "WHERE\n",
        "    rental_count < avg_rental_count;"
      ],
      "metadata": {
        "id": "zjGCeko_hCMD"
      },
      "execution_count": null,
      "outputs": []
    },
    {
      "cell_type": "code",
      "source": [
        "#10. Identify the top 5 months with the highest revenue and display the revenue generated in each month.\n",
        "%%sql\n",
        "WITH MonthlyRevenue AS (\n",
        "    SELECT\n",
        "        DATE_FORMAT(rental_date, '%Y-%m') AS month, -- Format the date as 'YYYY-MM'\n",
        "        SUM(rental_amount) AS total_revenue\n",
        "    FROM\n",
        "        rentals\n",
        "    GROUP BY\n",
        "        DATE_FORMAT(rental_date, '%Y-%m')\n",
        ")\n",
        "SELECT\n",
        "    month,\n",
        "    total_revenue\n",
        "FROM (\n",
        "    SELECT\n",
        "        month,\n",
        "        total_revenue,\n",
        "        RANK() OVER (ORDER BY total_revenue DESC) AS revenue_rank\n",
        "    FROM\n",
        "        MonthlyRevenue\n",
        ") RankedMonths\n",
        "WHERE\n",
        "    revenue_rank <= 5\n",
        "ORDER BY\n",
        "    total_revenue DESC;"
      ],
      "metadata": {
        "id": "O-ZAmOHucvqX"
      },
      "execution_count": null,
      "outputs": []
    },
    {
      "cell_type": "code",
      "source": [
        "#Normalisation & CTE\n",
        "#1. First Normal Form (1NF):\n",
        "#Identify a table in the Sakila database that violates 1NF. Explain how you would normalize it to achieve 1NF\n",
        "/*ans= In the Sakila database, the film_text table could be a candidate for violating 1NF if, for example:\n",
        "The description column contains multiple pieces of information in a single field (e.g., a concatenated list of genres, actors, or tags).\n",
        "Steps to Normalize to 1NF\n",
        "To normalize the above table to 1NF:\n",
        "Break Multivalued Columns:\n",
        "Create separate rows for each actor and each category.\n",
        "Create Separate Tables:\n",
        "Break the table into related tables to handle actors and categories in a structured way.\n",
        "Use Relationships:\n",
        "Use foreign keys to establish relationships between the tables.*/"
      ],
      "metadata": {
        "id": "5_eMMoRaKjt6"
      },
      "execution_count": null,
      "outputs": []
    },
    {
      "cell_type": "code",
      "source": [
        "#2. Second Normal Form (2NF):\n",
        "#Choose a table in Sakila and describe how you would determine whether it is in 2NF. If it violates 2NF, explain the steps to normalize it\n",
        "/* ans= Consider the film_actor table in the Sakila database\n",
        "Primary Key:\n",
        "The composite key is (actor_id, film_id).\n",
        "Violation of 2NF:\n",
        "The columns actor_name and film_title are partially dependent on the primary key:\n",
        "actor_name depends only on actor_id.\n",
        "film_title depends only on film_id.\n",
        "These columns do not depend on the entire composite key.\n",
        "Steps to Normalize the Table to 2NF\n",
        "Identify Partial Dependencies:\n",
        "actor_name depends on actor_id.\n",
        "film_title depends on film_id.\n",
        "Remove Partial Dependencies\n",
        "Create separate tables for actor and film to store the data related to actor_id and film_id, respectively.\n",
        "Create a Junction Table:\n",
        "Use the film_actor table as a mapping table to associate actors with films.*/"
      ],
      "metadata": {
        "id": "p4K8R-hjKjqs"
      },
      "execution_count": null,
      "outputs": []
    },
    {
      "cell_type": "code",
      "source": [
        "#3. Third Normal Form (3NF):\n",
        "#Identify a table in Sakila that violates 3NF. Describe the transitive dependencies present and outline the steps to normalize the table to 3NF.\n",
        "/*ans= Consider the payment table in the Sakila database\n",
        "Primary Key:\n",
        "payment_id\n",
        "\n",
        "Violation of 3NF:\n",
        "The customer_email column is a transitive dependency:\n",
        "customer_email depends on customer_id.\n",
        "customer_id depends on payment_id.\n",
        "Therefore, customer_email indirectly depends on the primary key (payment_id) through customer_id, violating 3NF.\n",
        "Steps to Normalize the Table to 3NF\n",
        "Identify Transitive Dependencies:\n",
        "customer_email depends on customer_id, not directly on payment_id.\n",
        "Remove Transitive Dependencies:\n",
        "Create a separate table to store customer details like customer_email.\n",
        "Link the Tables:\n",
        "Use customer_id as a foreign key in the payment table to reference the customer table.*/"
      ],
      "metadata": {
        "id": "nz3GUM0nKjoM"
      },
      "execution_count": null,
      "outputs": []
    },
    {
      "cell_type": "code",
      "source": [
        "#4. Normalization Process:\n",
        "#Take a specific table in Sakila and guide through the process of normalizing it from the initial unnormalized form up to at least 2NF.\n",
        "/*ans= Let's go through the normalization process of a specific table from the Sakila database.\n",
        "We'll start from an unnormalized table and normalize it up to Second Normal Form (2NF).\n",
        "We'll use the film_actor table as an example, which could initially be in an unnormalized form.\n",
        "Step 1: Unnormalized Table (UNF)\n",
        "Problems with UNF:\n",
        "The table contains repeating groups. For example, the film_title is repeated for each actor associated with that film.\n",
        "The actor_name is stored alongside each actor's entry, causing redundancy\n",
        "Step 2: First Normal Form (1NF)\n",
        "Key Changes:\n",
        "Each actor is now listed in a separate row with a unique film_id and actor_id.\n",
        "The table now satisfies 1NF, but there's still some redundancy (film title and actor names are repeated).\n",
        "Step 3: Second Normal Form (2NF)\n",
        "Identify Partial Dependencies:\n",
        "The primary key is a composite key: (film_id, actor_id).\n",
        "film_title depends only on film_id (partial dependency).\n",
        "actor_name depends only on actor_id (partial dependency).*/"
      ],
      "metadata": {
        "id": "5Lqv_xEeKjlV"
      },
      "execution_count": null,
      "outputs": []
    },
    {
      "cell_type": "code",
      "source": [
        "#5. CTE Basics:\n",
        "#Write a query using a CTE to retrieve the distinct list of actor names and the number of films they  have acted in from the actor and film_actor tables\n",
        "%%sql\n",
        "WITH ActorFilmCount AS (\n",
        "    SELECT\n",
        "        actor.actor_id,\n",
        "        actor.first_name,\n",
        "        actor.last_name,\n",
        "        COUNT(DISTINCT film_actor\n",
        "        .film_id) AS film_count\n",
        "    FROM\n",
        "        actor\n",
        "    JOIN\n",
        "        film_actor ON actor.actor_id = film_actor.actor_id\n",
        "    GROUP BY\n",
        "        actor.actor_id, actor.first_name, actor.last_name\n",
        ")\n",
        "SELECT\n",
        "    first_name,\n",
        "    last_name,\n",
        "    film_count\n",
        "FROM\n",
        "    ActorFilmCount\n",
        "ORDER BY\n",
        "    film_count DESC;"
      ],
      "metadata": {
        "id": "QkUbqoNZKji1"
      },
      "execution_count": null,
      "outputs": []
    },
    {
      "cell_type": "code",
      "source": [
        "#6. CTE with Joins:\n",
        "#Create a CTE that combines information from the film and language tables to display the film title,language name, and rental rate\n",
        "%%sql\n",
        "WITH FilmLanguageInfo AS (\n",
        "    SELECT\n",
        "        film.film_id,\n",
        "        film.title AS film_title,\n",
        "        language.name AS language_name,\n",
        "        film.rental_rate\n",
        "    FROM\n",
        "        film\n",
        "    JOIN\n",
        "        language ON film.language_id = language.language_id\n",
        ")\n",
        "SELECT\n",
        "    film_title,\n",
        "    language_name,\n",
        "    rental_rate\n",
        "FROM\n",
        "    FilmLanguageRental;"
      ],
      "metadata": {
        "id": "_HJlLbVBKjf-"
      },
      "execution_count": null,
      "outputs": []
    },
    {
      "cell_type": "code",
      "source": [
        "#7 CTE for Aggregation:\n",
        "#Write a query using a CTE to find the total revenue generated by each customer (sum of payments) from the customer and payment tables.\n",
        "%%sql\n",
        "WITH CustomerRevenue AS (\n",
        "    SELECT\n",
        "        c.customer_id,\n",
        "        c.first_name,\n",
        "        c.last_name,\n",
        "        SUM(p.amount) AS total_revenue\n",
        "    FROM\n",
        "        customer c\n",
        "    JOIN\n",
        "        payment p ON c.customer_id = p.customer_id\n",
        "    GROUP BY\n",
        "        c.customer_id, c.first_name, c.last_name\n",
        ")\n",
        "SELECT\n",
        "    first_name,\n",
        "    last_name,\n",
        "    total_revenue\n",
        "FROM\n",
        "    CustomerRevenue\n",
        "ORDER BY\n",
        "    total_revenue DESC;\n"
      ],
      "metadata": {
        "id": "PUknybefKjd4"
      },
      "execution_count": null,
      "outputs": []
    },
    {
      "cell_type": "code",
      "source": [
        "#8 CTE with Window Functions:\n",
        "#Utilize a CTE with a window function to rank films based on their rental duration from the film table.\n",
        "%%sql\n",
        "WITH FilmRentalDurationRank AS (\n",
        "    SELECT\n",
        "        film_id,\n",
        "        title,\n",
        "        rental_duration,\n",
        "        RANK() OVER (ORDER BY rental_duration DESC) AS rental_duration_rank\n",
        "    FROM\n",
        "        film\n",
        ")\n",
        "SELECT\n",
        "    film_id,\n",
        "    title,\n",
        "    rental_duration,\n",
        "    rental_duration_rank\n",
        "FROM\n",
        "    FilmRentalDurationRank\n",
        "ORDER BY\n",
        "    rental_duration_rank;"
      ],
      "metadata": {
        "id": "_XBz5Kx2Kjbd"
      },
      "execution_count": null,
      "outputs": []
    },
    {
      "cell_type": "code",
      "source": [
        "#9 CTE and Filtering:\n",
        "#Create a CTE to list customers who have made more than two rentals, and then join this CTE with the customer table to retrieve additional customer details\n",
        "%%sql\n",
        "WITH CustomerRentalCount AS (\n",
        "    SELECT\n",
        "        p.customer_id,\n",
        "        COUNT(p.payment_id) AS rental_count\n",
        "    FROM\n",
        "        payment p\n",
        "    GROUP BY\n",
        "        p.customer_id\n",
        "    HAVING\n",
        "        COUNT(p.payment_id) > 2\n",
        ")\n",
        "SELECT\n",
        "    c.customer_id,\n",
        "    c.first_name,\n",
        "    c.last_name,\n",
        "    c.email,\n",
        "    crc.rental_count\n",
        "FROM\n",
        "    CustomerRentalCount crc\n",
        "JOIN\n",
        "    customer c ON crc.customer_id = c.customer_id\n",
        "ORDER BY\n",
        "    crc.rental_count DESC;"
      ],
      "metadata": {
        "id": "exWYAMWaKjY8"
      },
      "execution_count": null,
      "outputs": []
    },
    {
      "cell_type": "code",
      "source": [
        "#10 CTE for Date Calculations:\n",
        "#Write a query using a CTE to find the total number of rentals made each month, considering the rental_date from the rental table.\n",
        "%%sql\n",
        "WITH MonthlyRentals AS (\n",
        "    SELECT\n",
        "        DATE_FORMAT(r.rental_date, '%Y-%m') AS rental_month,\n",
        "        COUNT(r.rental_id) AS total_rentals\n",
        "    FROM\n",
        "        rental r\n",
        "    GROUP BY\n",
        "        rental_month\n",
        ")\n",
        "SELECT\n",
        "    rental_month,\n",
        "    total_rentals\n",
        "FROM\n",
        "    MonthlyRentals\n",
        "ORDER BY\n",
        "    rental_month;"
      ],
      "metadata": {
        "id": "Wn7SCUQ5KjWO"
      },
      "execution_count": null,
      "outputs": []
    },
    {
      "cell_type": "code",
      "source": [
        "#11 CTE and Self-Join:\n",
        "# Create a CTE to generate a report showing pairs of actors who have appeared in the same film together, using the film_actor table.\n",
        "%%sql\n",
        "WITH ActorPairs AS (\n",
        "    SELECT\n",
        "        fa1.actor_id AS actor1_id,\n",
        "        fa2.actor_id AS actor2_id,\n",
        "        fa1.film_id\n",
        "    FROM\n",
        "        film_actor fa1\n",
        "    JOIN\n",
        "        film_actor fa2 ON fa1.film_id = fa2.film_id\n",
        "    WHERE\n",
        "        fa1.actor_id < fa2.actor_id  -- Avoid duplicate pairs\n",
        ")\n",
        "SELECT\n",
        "    a1.actor_id AS actor1_id,\n",
        "    a2.actor_id AS actor2_id,\n",
        "    f.title AS film_title\n",
        "FROM\n",
        "    ActorPairs ap\n",
        "JOIN\n",
        "    actor a1 ON ap.actor1_id = a1.actor_id\n",
        "JOIN\n",
        "    actor a2 ON ap.actor2_id = a2.actor_id\n",
        "JOIN\n",
        "    film f ON ap.film_id = f.film_id\n",
        "ORDER BY\n",
        "    film_title;"
      ],
      "metadata": {
        "id": "bJi2mmmxKjTq"
      },
      "execution_count": null,
      "outputs": []
    },
    {
      "cell_type": "code",
      "source": [
        "#12. CTE for Recursive Search:\n",
        "#Implement a recursive CTE to find all employees in the staff table who report to a specific manager,considering the reports_to column\n",
        "%%sql\n",
        "WITH RECURSIVE EmployeeHierarchy AS (\n",
        "    -- Base case: Start with the specific manager\n",
        "    SELECT\n",
        "        staff_id,\n",
        "        first_name,\n",
        "        last_name,\n",
        "        reports_to\n",
        "    FROM\n",
        "        staff\n",
        "    WHERE\n",
        "        staff_id = <specific_manager_id>  -- Replace with the manager's staff_id\n",
        "\n",
        "    UNION ALL\n",
        "\n",
        "    -- Recursive case: Get employees who report to those already selected\n",
        "    SELECT\n",
        "        s.staff_id,\n",
        "        s.first_name,\n",
        "        s.last_name,\n",
        "        s.reports_to\n",
        "    FROM\n",
        "        staff s\n",
        "    JOIN\n",
        "        EmployeeHierarchy eh ON s.reports_to = eh.staff_id\n",
        ")\n",
        "SELECT\n",
        "    staff_id,\n",
        "    first_name,\n",
        "    last_name,\n",
        "    reports_to\n",
        "FROM\n",
        "    EmployeeHierarchy\n",
        "ORDER BY\n",
        "    first_name, last_name;"
      ],
      "metadata": {
        "id": "VPwyi9HJKjQo"
      },
      "execution_count": null,
      "outputs": []
    },
    {
      "cell_type": "code",
      "source": [],
      "metadata": {
        "id": "nCAzNSIyKjOC"
      },
      "execution_count": null,
      "outputs": []
    }
  ]
}