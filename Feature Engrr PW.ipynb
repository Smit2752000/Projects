{
 "cells": [
  {
   "cell_type": "code",
   "execution_count": null,
   "id": "863b7906-8118-421b-b173-6cb55eab3e20",
   "metadata": {},
   "outputs": [],
   "source": [
    "Feature \n",
    "Engineering"
   ]
  },
  {
   "cell_type": "code",
   "execution_count": null,
   "id": "c26a7cb2-ff37-4923-9be4-1546836769f5",
   "metadata": {},
   "outputs": [],
   "source": [
    "1.What is a parameter?\n",
    "Ans=A parameter is a value or variable that defines a particular characteristic or sets the conditions of a system or function.\n",
    "It acts as an input or factor that influences how the system behaves or produces output."
   ]
  },
  {
   "cell_type": "code",
   "execution_count": null,
   "id": "bee92ea3-8b55-46e7-b660-1e3453d83f5e",
   "metadata": {},
   "outputs": [],
   "source": [
    "2.What is correlation and What does negative correlation mean?\n",
    "Ans=Correlation measures the strength and direction of the relationship between two variables, ranging from -1 to 1. and\n",
    "Negative correlation means that as one variable increases, the other decreases. "
   ]
  },
  {
   "cell_type": "code",
   "execution_count": null,
   "id": "60979202-1769-4726-84df-66afd87122c8",
   "metadata": {},
   "outputs": [],
   "source": [
    "3.Define Machine Learning. What are the main components in Machine Learning?\n",
    "Ans=Machine Learning is a field of artificial intelligence that enables systems to learn and improve from data without being explicitly programmed.and \n",
    "main components of Machine Learning is\n",
    "Data: The raw information used for training the model.\n",
    "Model: The mathematical or computational structure that learns patterns from the data.\n",
    "Features: The input variables or attributes used to train the model.\n",
    "Training: The process of teaching the model using labeled or unlabeled data.\n",
    "Evaluation: Assessing the model's performance using metrics like accuracy or precision.\n",
    "Prediction: Making decisions or outputs based on the trained model."
   ]
  },
  {
   "cell_type": "code",
   "execution_count": null,
   "id": "99f603ce-350f-45c9-90c8-b714e6202b97",
   "metadata": {},
   "outputs": [],
   "source": [
    "4.How does loss value help in determining whether the model is good or not?\n",
    "Ans=Low Loss Value: Indicates that the model's predictions are close to the actual outcomes, suggesting a good model.\n",
    "High Loss Value: Indicates poor predictions, suggesting the model needs improvement."
   ]
  },
  {
   "cell_type": "code",
   "execution_count": null,
   "id": "20ea6f76-bf71-4317-99c9-8a9c6f34da57",
   "metadata": {},
   "outputs": [],
   "source": [
    "5.What are continuous and categorical variables?\n",
    "Ans= Values like salary,house price,stock price there are the numeric values so it is called as continuous variables and values like\n",
    "sex,skin color,hair type,features of any products this are the categorical variables"
   ]
  },
  {
   "cell_type": "code",
   "execution_count": null,
   "id": "c96f1b4a-6296-4aaa-b9a2-42fbd9ded345",
   "metadata": {},
   "outputs": [],
   "source": [
    "6.How do we handle categorical variables in Machine Learning? What are the common techniques?\n",
    "Ans=We can do labbel encoding and one-hot encoding to manage the categorical variable in ml for better interpritability"
   ]
  },
  {
   "cell_type": "code",
   "execution_count": null,
   "id": "68de3890-b86e-4dcc-b7f9-2161c131ad58",
   "metadata": {},
   "outputs": [],
   "source": [
    "7.What do you mean by training and testing a dataset?\n",
    "Ans= In dataset training is perform to train the model on data so that model can learn and understand the patters with some amount of data\n",
    "then we perform testing of the trained model so got to know that how our model is trained."
   ]
  },
  {
   "cell_type": "code",
   "execution_count": null,
   "id": "c358776f-33f8-44d5-9e41-28c7b7aa0fb7",
   "metadata": {},
   "outputs": [],
   "source": [
    "8.What is sklearn.preprocessing?\n",
    "Ans= sklearn.preprocessing is a module in scikit-learn library that provide tool for preparing the data in machine learning."
   ]
  },
  {
   "cell_type": "code",
   "execution_count": null,
   "id": "c8b0900c-8243-4609-a338-abff811d7fa1",
   "metadata": {},
   "outputs": [],
   "source": [
    "9.What is a Test set?\n",
    "Ans=test set is the subset of the trained dataset so that using this test set we can evaluate the performance of model"
   ]
  },
  {
   "cell_type": "code",
   "execution_count": null,
   "id": "eef8a25f-9427-439e-b367-5cf90d798a4e",
   "metadata": {},
   "outputs": [],
   "source": [
    "10.How do we split data for model fitting (training and testing) in Python and How do you approach a Machine Learning problem?\n",
    "Ans= With dataset we import the traintestplit module to split the data into two parts for training and testing and for testing we chose 20% of data \n",
    "and first we understand the ml problem then do EDA part then split the data and do training and testing then approch for prediction."
   ]
  },
  {
   "cell_type": "code",
   "execution_count": null,
   "id": "706acc64-57b8-4b55-8b14-d48e5494404f",
   "metadata": {},
   "outputs": [],
   "source": [
    "11.Why do we have to perform EDA before fitting a model to the data?\n",
    "Ans=EDA is must to understand the data distribution and patterns also it is importance for feature selection ,removing outliers and filling nan\n",
    "values.for selection of train and test dataset EDA is must ."
   ]
  },
  {
   "cell_type": "code",
   "execution_count": null,
   "id": "0e50de9b-bc2f-4ec5-89a2-58e83c972fd7",
   "metadata": {},
   "outputs": [],
   "source": [
    "12.What is correlation?\n",
    "Ans=Correlation measures the strength and direction of the relationship between two variables, ranging from -1 to 1."
   ]
  },
  {
   "cell_type": "code",
   "execution_count": null,
   "id": "848a46da-941e-4e2f-b6b2-6c4d23478b7e",
   "metadata": {},
   "outputs": [],
   "source": [
    "13.What does negative correlation mean?\n",
    "Ans=Negative correlation means that as one variable increases, the other decreases."
   ]
  },
  {
   "cell_type": "code",
   "execution_count": null,
   "id": "0afe899b-a746-4b6c-889c-c9db174bb7a8",
   "metadata": {},
   "outputs": [],
   "source": [
    "14.How can you find correlation between variables in Python?\n",
    "Ans=Using pandas corr() method we can find correlation bettween variables in python and using numpy we can find using corrcoef()."
   ]
  },
  {
   "cell_type": "code",
   "execution_count": null,
   "id": "6168c37d-05d6-4baf-9404-fcdc949f2c48",
   "metadata": {},
   "outputs": [],
   "source": [
    "15.What is causation? Explain difference between correlation and causation with an example?\n",
    "Ans=Causation means that a change in one variable directly causes a change in another.\n",
    "orrelation: More umbrellas are sold on rainy days, but umbrellas don't cause rain.\n",
    "Causation: Increased exercise leads to improved cardiovascular health."
   ]
  },
  {
   "cell_type": "code",
   "execution_count": null,
   "id": "822f24c8-00d4-4826-a499-2e6cd7112ddb",
   "metadata": {},
   "outputs": [],
   "source": [
    "16.What is an Optimizer? What are different types of optimizers? Explain each with an example?\n",
    "Ans=An optimizer is an algorithm used in machine learning and deep learning to minimize the loss function and \n",
    "adjust model parameters (weights and biases) to improve performance.\n",
    "types:\n",
    "Gradient Descent,SGD with Momentum,Adaptive Optimizers,Adam\n",
    "Choosing an Optimizer in ML\n",
    "Simple problems: Use basic SGD or batch gradient descent.\n",
    "Sparse or large datasets: Use adaptive optimizers like Adagrad or Adam.\n",
    "Tree-based models: Use built-in optimization methods in frameworks like XGBoost or LightGBM."
   ]
  },
  {
   "cell_type": "code",
   "execution_count": null,
   "id": "031227c1-684d-47de-a99f-ea2d5a938a3d",
   "metadata": {},
   "outputs": [],
   "source": [
    "17.What is sklearn.linear_model ?\n",
    "Ans=sklearn.linear_model is a module in the scikit-learn library that provides a collection of linear models for regression and classification tasks. \n",
    "These models are based on linear equations,which predict the output as a linear combination of the input features."
   ]
  },
  {
   "cell_type": "code",
   "execution_count": null,
   "id": "3a7a4b59-2b0c-4b3d-a004-51c516f3eded",
   "metadata": {},
   "outputs": [],
   "source": [
    "18.What does model.fit() do? What arguments must be given?\n",
    "Ans=The model.fit() method is used to train a machine learning model on a given dataset. \n",
    "It learns the relationship between the input data (features) and the target labels (outputs) by adjusting the model's parameters.\n",
    "model.fit() required train data features and label for model fitting."
   ]
  },
  {
   "cell_type": "code",
   "execution_count": null,
   "id": "7deccecc-e76c-40bf-8f8b-828a7bdcfb48",
   "metadata": {},
   "outputs": [],
   "source": [
    "19.What does model.predict() do? What arguments must be given?\n",
    "Ans=model.predict() is used to predict the output that train model will give .and it takes train features and labels to predict."
   ]
  },
  {
   "cell_type": "code",
   "execution_count": null,
   "id": "ed77d6cb-4603-47c2-a162-d0bae38bc030",
   "metadata": {},
   "outputs": [],
   "source": [
    "20.What are continuous and categorical variables?\n",
    "Ans=Values like salary,house price,stock price there are the numeric values so it is called as continuous variables and values like\n",
    "sex,skin color,hair type,features of any products this are the categorical variables."
   ]
  },
  {
   "cell_type": "code",
   "execution_count": null,
   "id": "4451d442-dded-4de8-8bb5-cea6706230c3",
   "metadata": {},
   "outputs": [],
   "source": [
    "21.What is feature scaling? How does it help in Machine Learning?\n",
    "Ans=Feature scaling is the process of normalizing or standardizing the range of independent variables (features) \n",
    "in a dataset so that they fall within a similar scale or range."
   ]
  },
  {
   "cell_type": "code",
   "execution_count": null,
   "id": "19f0dddc-09b8-435e-9e98-e9ab0a78e46a",
   "metadata": {},
   "outputs": [],
   "source": [
    "22.How do we perform scaling in Python?\n",
    "Ans=Python provides several libraries like scikit-learn and numpy for performing feature scaling. Below are common scaling techniques and their implementation using Python."
   ]
  },
  {
   "cell_type": "code",
   "execution_count": null,
   "id": "3ab6f875-9909-4c2d-ac4e-be0c46d9c73b",
   "metadata": {},
   "outputs": [],
   "source": [
    "23.What is sklearn.preprocessing?\n",
    "Ans= sklearn.preprocessing is a module in scikit-learn library that provide tool for preparing the data in machine learning."
   ]
  },
  {
   "cell_type": "code",
   "execution_count": null,
   "id": "bcef24e5-4b32-4ff6-9685-73f96ad990a0",
   "metadata": {},
   "outputs": [],
   "source": [
    "24.How do we split data for model fitting (training and testing) in Python?\n",
    "Ans=With dataset we import the traintestplit module to split the data into two parts for training and testing and for testing we chose 20% of data."
   ]
  },
  {
   "cell_type": "code",
   "execution_count": null,
   "id": "0f63bb11-ff01-4599-b0d8-cb915ec481a9",
   "metadata": {},
   "outputs": [],
   "source": [
    "25.Explain data encoding?\n",
    "Ans=Data encoding refers to the process of converting categorical data into numerical format so that machine learning algorithms can process it.\n",
    "Many machine learning algorithms work with numerical data, and encoding is used to transform non-numeric categories into a numeric form."
   ]
  }
 ],
 "metadata": {
  "kernelspec": {
   "display_name": "Python 3 (ipykernel)",
   "language": "python",
   "name": "python3"
  },
  "language_info": {
   "codemirror_mode": {
    "name": "ipython",
    "version": 3
   },
   "file_extension": ".py",
   "mimetype": "text/x-python",
   "name": "python",
   "nbconvert_exporter": "python",
   "pygments_lexer": "ipython3",
   "version": "3.12.0"
  }
 },
 "nbformat": 4,
 "nbformat_minor": 5
}
